{
 "cells": [
  {
   "cell_type": "code",
   "execution_count": 0,
   "metadata": {
    "application/vnd.databricks.v1+cell": {
     "cellMetadata": {
      "byteLimit": 2048000,
      "rowLimit": 10000
     },
     "inputWidgets": {},
     "nuid": "826f9157-4588-43bb-8eb1-6da360ab9b88",
     "showTitle": true,
     "tableResultSettingsMap": {},
     "title": "Import required libraries"
    }
   },
   "outputs": [],
   "source": [
    "from pyspark.sql.functions import *\n",
    "import urllib"
   ]
  },
  {
   "cell_type": "markdown",
   "metadata": {
    "application/vnd.databricks.v1+cell": {
     "cellMetadata": {},
     "inputWidgets": {},
     "nuid": "690d07ba-96a9-4435-8712-757d89a486ed",
     "showTitle": false,
     "tableResultSettingsMap": {},
     "title": ""
    }
   },
   "source": [
    "## Defining the data cleaning methods:"
   ]
  },
  {
   "cell_type": "markdown",
   "metadata": {
    "application/vnd.databricks.v1+cell": {
     "cellMetadata": {},
     "inputWidgets": {},
     "nuid": "2282c9e7-7a17-4c09-85a6-74410c80308a",
     "showTitle": false,
     "tableResultSettingsMap": {},
     "title": ""
    }
   },
   "source": [
    "The following transformations are required to process the data effectively:\n",
    "#### Pin data:\n",
    "- Replace missing or non-applicable values with None\n",
    "- Adjust the numerical series so they only contain numbers\n",
    "\n",
    "  _e.g. in follower_count '100k' should read '100000'_\n",
    "- Update data types where they are inaccurate\n",
    "- Remove the unnecessary \"Local save in\" prefix from values in the save_location series\n",
    "- Rename 'index' series to match other two dataframes"
   ]
  },
  {
   "cell_type": "code",
   "execution_count": 0,
   "metadata": {
    "application/vnd.databricks.v1+cell": {
     "cellMetadata": {
      "byteLimit": 2048000,
      "rowLimit": 10000
     },
     "inputWidgets": {},
     "nuid": "b52f59a1-2dc7-48c5-802a-3bbd07db7c21",
     "showTitle": true,
     "tableResultSettingsMap": {},
     "title": "Define the clean_pin_df method"
    }
   },
   "outputs": [],
   "source": [
    "def clean_pin_df(df):\n",
    "  \"\"\"\n",
    "  Cleans the pin dataframe by performing the following transformations:\n",
    "  - Replaces the values in the description series with None if they match the values in the to_replace_with_none dictionary\n",
    "  - Converts k, M and B suffixes with 000, 000000 and 000000000 respectively in the follower_count series\n",
    "  - Converts all data types to numeric where applicable\n",
    "  - Removes the unnecessary \"Local save in \" prefix from the save_location series\n",
    "  - Renames the index series to 'ind' to match geo and user dataframes\n",
    "  - Restructures columns in more logical order\n",
    "  \"\"\"\n",
    "  to_replace_with_none = {\n",
    "    'description': ['No description available Story format', 'Untitled', 'No description available Story format'],\n",
    "    'image_src': 'Image src error.',\n",
    "    'poster_name': 'User Info Error',\n",
    "    'tag_list': 'N,o, ,T,a,g,s, ,A,v,a,i,l,a,b,l,e',\n",
    "    'title': 'No Title Data Available'\n",
    "    }\n",
    "\n",
    "  for column, values in to_replace_with_none.items():\n",
    "    if isinstance(values, list):\n",
    "        for value in values:\n",
    "          cleaned_df = df.replace(value, None, subset=[column])\n",
    "    else:\n",
    "        cleaned_df = cleaned_df.replace(values, None, subset=[column])                    \n",
    "\n",
    "  cleaned_df = cleaned_df.replace({'User Info Error':'0'}, subset=['follower_count'])\n",
    "\n",
    "  cleaned_df = cleaned_df.withColumn(\"follower_count\", regexp_replace(\"follower_count\", \"k\", \"000\"))\n",
    "  cleaned_df = cleaned_df.withColumn(\"follower_count\", regexp_replace(\"follower_count\", \"M\", \"000000\"))\n",
    "  cleaned_df = cleaned_df.withColumn(\"follower_count\", regexp_replace(\"follower_count\", \"B\", \"000000000\"))\n",
    "\n",
    "  cleaned_df = cleaned_df.withColumn(\"follower_count\", cleaned_df[\"follower_count\"].cast(\"int\"))\n",
    "\n",
    "  cleaned_df = cleaned_df.withColumn(\"save_location\", regexp_replace(\"save_location\", \"Local save in \", \"\"))\n",
    "\n",
    "  cleaned_df = cleaned_df.withColumnRenamed(\"index\", \"ind\")\n",
    "\n",
    "  cleaned_df = cleaned_df.select(\"ind\", \"unique_id\", \"title\", \"description\", \"follower_count\", \"poster_name\", \"tag_list\", \"is_image_or_video\", \"image_src\", \"save_location\", \"category\")\n",
    "  return cleaned_df\n",
    "  "
   ]
  },
  {
   "cell_type": "markdown",
   "metadata": {
    "application/vnd.databricks.v1+cell": {
     "cellMetadata": {},
     "inputWidgets": {},
     "nuid": "5035626b-68d4-4123-b640-6bc58b38d983",
     "showTitle": false,
     "tableResultSettingsMap": {},
     "title": ""
    }
   },
   "source": [
    "#### Geo data:\n",
    "- Create a series named 'coordinates' by joining the both the 'latitude' and 'longitude' columns, seperating the values with a comma\n",
    "- Convert the 'timestamp' column to timestamp type"
   ]
  },
  {
   "cell_type": "code",
   "execution_count": 0,
   "metadata": {
    "application/vnd.databricks.v1+cell": {
     "cellMetadata": {},
     "inputWidgets": {},
     "nuid": "5c178825-bb24-45a5-8bc9-55db097e35b9",
     "showTitle": true,
     "tableResultSettingsMap": {},
     "title": "Define the clean_geo_df method"
    }
   },
   "outputs": [],
   "source": [
    "def clean_geo_df(df):\n",
    "    \"\"\"\n",
    "  Cleans the geo dataframe by performing the following transformations:\n",
    "  - New series 'coordinates' created from latitude and longitude series\n",
    "  - Timestamp series converted to timestamp type\n",
    "  - Restructures columns in more logical order\n",
    "  \"\"\"\n",
    "  cleaned_df = df.withColumn(\"coordinates\", array(\"latitude\", \"longitude\"))\n",
    "  cleaned_df = cleaned_df.drop(\"latitude\", \"longitude\")\n",
    "  cleaned_df = cleaned_df.withColumn(\"timestamp\", to_timestamp(\"timestamp\"))\n",
    "  cleaned_df = cleaned_df.select(\"ind\", \"country\", \"coordinates\", \"timestamp\")\n",
    "  return cleaned_df"
   ]
  },
  {
   "cell_type": "markdown",
   "metadata": {
    "application/vnd.databricks.v1+cell": {
     "cellMetadata": {},
     "inputWidgets": {},
     "nuid": "41c5b94e-3d1a-4836-b8ba-357157d1761a",
     "showTitle": false,
     "tableResultSettingsMap": {},
     "title": ""
    }
   },
   "source": [
    "#### User data\n",
    "- Create a series 'user_name' by joining the 'first_name' and 'last_name' series and then dropping them\n",
    "- Convert 'date_joined' series to timestamp type"
   ]
  },
  {
   "cell_type": "code",
   "execution_count": 0,
   "metadata": {
    "application/vnd.databricks.v1+cell": {
     "cellMetadata": {},
     "inputWidgets": {},
     "nuid": "41267f9c-4840-49cc-bb59-f98f7dfe87f5",
     "showTitle": true,
     "tableResultSettingsMap": {},
     "title": "Define the clean_user_df method"
    }
   },
   "outputs": [],
   "source": [
    "def clean_user_df(df):\n",
    "    \"\"\"\n",
    "    Cleans the geo dataframe by performing the following transformations:\n",
    "    - Creates new series 'user_name' created from 'first_name' and 'last_name'\n",
    "    -  Drops 'first_name' and 'last_name' series\n",
    "    - 'date_joined' series converted to timestamp type\n",
    "    - Restructures columns in more logical order\n",
    "    \"\"\"\n",
    "  cleaned_df = df.withColumn(\"user_name\", concat(\"first_name\", lit(\" \"), \"last_name\"))\n",
    "  cleaned_df = cleaned_df.drop(\"first_name\", \"last_name\")\n",
    "  cleaned_df = cleaned_df.withColumn(\"date_joined\", to_timestamp(\"date_joined\"))\n",
    "  cleaned_df = cleaned_df.select(\"ind\", \"user_name\", \"age\", \"date_joined\")\n",
    "  return cleaned_df"
   ]
  },
  {
   "cell_type": "code",
   "execution_count": 0,
   "metadata": {
    "application/vnd.databricks.v1+cell": {
     "cellMetadata": {
      "byteLimit": 2048000,
      "rowLimit": 10000
     },
     "inputWidgets": {},
     "nuid": "92bc6be5-d886-4f34-bbf7-76f336c66e75",
     "showTitle": true,
     "tableResultSettingsMap": {},
     "title": "Read in the pin dataframe"
    }
   },
   "outputs": [
    {
     "output_type": "display_data",
     "data": {
      "text/plain": [
       "\u001B[0;31m---------------------------------------------------------------------------\u001B[0m\n",
       "\u001B[0;31mAnalysisException\u001B[0m                         Traceback (most recent call last)\n",
       "File \u001B[0;32m<command-346009869943836>, line 9\u001B[0m\n",
       "\u001B[1;32m      5\u001B[0m infer_schema \u001B[38;5;241m=\u001B[39m \u001B[38;5;124m\"\u001B[39m\u001B[38;5;124mtrue\u001B[39m\u001B[38;5;124m\"\u001B[39m\n",
       "\u001B[1;32m      6\u001B[0m \u001B[38;5;66;03m# Read in JSONs from S3 bucket\u001B[39;00m\n",
       "\u001B[1;32m      7\u001B[0m pin_df \u001B[38;5;241m=\u001B[39m spark\u001B[38;5;241m.\u001B[39mread\u001B[38;5;241m.\u001B[39mformat(file_type) \\\n",
       "\u001B[1;32m      8\u001B[0m \u001B[38;5;241m.\u001B[39moption(\u001B[38;5;124m\"\u001B[39m\u001B[38;5;124minferSchema\u001B[39m\u001B[38;5;124m\"\u001B[39m, infer_schema) \\\n",
       "\u001B[0;32m----> 9\u001B[0m \u001B[38;5;241m.\u001B[39mload(file_location)\n",
       "\u001B[1;32m     10\u001B[0m \u001B[38;5;66;03m# Display Spark dataframe to check its content\u001B[39;00m\n",
       "\u001B[1;32m     11\u001B[0m cleaned_pin_df \u001B[38;5;241m=\u001B[39m clean_pin_df(pin_df)\n",
       "\n",
       "File \u001B[0;32m/databricks/spark/python/pyspark/instrumentation_utils.py:47\u001B[0m, in \u001B[0;36m_wrap_function.<locals>.wrapper\u001B[0;34m(*args, **kwargs)\u001B[0m\n",
       "\u001B[1;32m     45\u001B[0m start \u001B[38;5;241m=\u001B[39m time\u001B[38;5;241m.\u001B[39mperf_counter()\n",
       "\u001B[1;32m     46\u001B[0m \u001B[38;5;28;01mtry\u001B[39;00m:\n",
       "\u001B[0;32m---> 47\u001B[0m     res \u001B[38;5;241m=\u001B[39m \u001B[43mfunc\u001B[49m\u001B[43m(\u001B[49m\u001B[38;5;241;43m*\u001B[39;49m\u001B[43margs\u001B[49m\u001B[43m,\u001B[49m\u001B[43m \u001B[49m\u001B[38;5;241;43m*\u001B[39;49m\u001B[38;5;241;43m*\u001B[39;49m\u001B[43mkwargs\u001B[49m\u001B[43m)\u001B[49m\n",
       "\u001B[1;32m     48\u001B[0m     logger\u001B[38;5;241m.\u001B[39mlog_success(\n",
       "\u001B[1;32m     49\u001B[0m         module_name, class_name, function_name, time\u001B[38;5;241m.\u001B[39mperf_counter() \u001B[38;5;241m-\u001B[39m start, signature\n",
       "\u001B[1;32m     50\u001B[0m     )\n",
       "\u001B[1;32m     51\u001B[0m     \u001B[38;5;28;01mreturn\u001B[39;00m res\n",
       "\n",
       "File \u001B[0;32m/databricks/spark/python/pyspark/sql/readwriter.py:312\u001B[0m, in \u001B[0;36mDataFrameReader.load\u001B[0;34m(self, path, format, schema, **options)\u001B[0m\n",
       "\u001B[1;32m    310\u001B[0m \u001B[38;5;28mself\u001B[39m\u001B[38;5;241m.\u001B[39moptions(\u001B[38;5;241m*\u001B[39m\u001B[38;5;241m*\u001B[39moptions)\n",
       "\u001B[1;32m    311\u001B[0m \u001B[38;5;28;01mif\u001B[39;00m \u001B[38;5;28misinstance\u001B[39m(path, \u001B[38;5;28mstr\u001B[39m):\n",
       "\u001B[0;32m--> 312\u001B[0m     \u001B[38;5;28;01mreturn\u001B[39;00m \u001B[38;5;28mself\u001B[39m\u001B[38;5;241m.\u001B[39m_df(\u001B[38;5;28;43mself\u001B[39;49m\u001B[38;5;241;43m.\u001B[39;49m\u001B[43m_jreader\u001B[49m\u001B[38;5;241;43m.\u001B[39;49m\u001B[43mload\u001B[49m\u001B[43m(\u001B[49m\u001B[43mpath\u001B[49m\u001B[43m)\u001B[49m)\n",
       "\u001B[1;32m    313\u001B[0m \u001B[38;5;28;01melif\u001B[39;00m path \u001B[38;5;129;01mis\u001B[39;00m \u001B[38;5;129;01mnot\u001B[39;00m \u001B[38;5;28;01mNone\u001B[39;00m:\n",
       "\u001B[1;32m    314\u001B[0m     \u001B[38;5;28;01mif\u001B[39;00m \u001B[38;5;28mtype\u001B[39m(path) \u001B[38;5;241m!=\u001B[39m \u001B[38;5;28mlist\u001B[39m:\n",
       "\n",
       "File \u001B[0;32m/databricks/spark/python/lib/py4j-0.10.9.7-src.zip/py4j/java_gateway.py:1355\u001B[0m, in \u001B[0;36mJavaMember.__call__\u001B[0;34m(self, *args)\u001B[0m\n",
       "\u001B[1;32m   1349\u001B[0m command \u001B[38;5;241m=\u001B[39m proto\u001B[38;5;241m.\u001B[39mCALL_COMMAND_NAME \u001B[38;5;241m+\u001B[39m\\\n",
       "\u001B[1;32m   1350\u001B[0m     \u001B[38;5;28mself\u001B[39m\u001B[38;5;241m.\u001B[39mcommand_header \u001B[38;5;241m+\u001B[39m\\\n",
       "\u001B[1;32m   1351\u001B[0m     args_command \u001B[38;5;241m+\u001B[39m\\\n",
       "\u001B[1;32m   1352\u001B[0m     proto\u001B[38;5;241m.\u001B[39mEND_COMMAND_PART\n",
       "\u001B[1;32m   1354\u001B[0m answer \u001B[38;5;241m=\u001B[39m \u001B[38;5;28mself\u001B[39m\u001B[38;5;241m.\u001B[39mgateway_client\u001B[38;5;241m.\u001B[39msend_command(command)\n",
       "\u001B[0;32m-> 1355\u001B[0m return_value \u001B[38;5;241m=\u001B[39m \u001B[43mget_return_value\u001B[49m\u001B[43m(\u001B[49m\n",
       "\u001B[1;32m   1356\u001B[0m \u001B[43m    \u001B[49m\u001B[43manswer\u001B[49m\u001B[43m,\u001B[49m\u001B[43m \u001B[49m\u001B[38;5;28;43mself\u001B[39;49m\u001B[38;5;241;43m.\u001B[39;49m\u001B[43mgateway_client\u001B[49m\u001B[43m,\u001B[49m\u001B[43m \u001B[49m\u001B[38;5;28;43mself\u001B[39;49m\u001B[38;5;241;43m.\u001B[39;49m\u001B[43mtarget_id\u001B[49m\u001B[43m,\u001B[49m\u001B[43m \u001B[49m\u001B[38;5;28;43mself\u001B[39;49m\u001B[38;5;241;43m.\u001B[39;49m\u001B[43mname\u001B[49m\u001B[43m)\u001B[49m\n",
       "\u001B[1;32m   1358\u001B[0m \u001B[38;5;28;01mfor\u001B[39;00m temp_arg \u001B[38;5;129;01min\u001B[39;00m temp_args:\n",
       "\u001B[1;32m   1359\u001B[0m     \u001B[38;5;28;01mif\u001B[39;00m \u001B[38;5;28mhasattr\u001B[39m(temp_arg, \u001B[38;5;124m\"\u001B[39m\u001B[38;5;124m_detach\u001B[39m\u001B[38;5;124m\"\u001B[39m):\n",
       "\n",
       "File \u001B[0;32m/databricks/spark/python/pyspark/errors/exceptions/captured.py:230\u001B[0m, in \u001B[0;36mcapture_sql_exception.<locals>.deco\u001B[0;34m(*a, **kw)\u001B[0m\n",
       "\u001B[1;32m    226\u001B[0m converted \u001B[38;5;241m=\u001B[39m convert_exception(e\u001B[38;5;241m.\u001B[39mjava_exception)\n",
       "\u001B[1;32m    227\u001B[0m \u001B[38;5;28;01mif\u001B[39;00m \u001B[38;5;129;01mnot\u001B[39;00m \u001B[38;5;28misinstance\u001B[39m(converted, UnknownException):\n",
       "\u001B[1;32m    228\u001B[0m     \u001B[38;5;66;03m# Hide where the exception came from that shows a non-Pythonic\u001B[39;00m\n",
       "\u001B[1;32m    229\u001B[0m     \u001B[38;5;66;03m# JVM exception message.\u001B[39;00m\n",
       "\u001B[0;32m--> 230\u001B[0m     \u001B[38;5;28;01mraise\u001B[39;00m converted \u001B[38;5;28;01mfrom\u001B[39;00m \u001B[38;5;28mNone\u001B[39m\n",
       "\u001B[1;32m    231\u001B[0m \u001B[38;5;28;01melse\u001B[39;00m:\n",
       "\u001B[1;32m    232\u001B[0m     \u001B[38;5;28;01mraise\u001B[39;00m\n",
       "\n",
       "\u001B[0;31mAnalysisException\u001B[0m: [PATH_NOT_FOUND] Path does not exist: s3a://user-12885f560a0b-bucket/topics/12885f560a0b.pin/partition=0/*.json. SQLSTATE: 42K03"
      ]
     },
     "metadata": {
      "application/vnd.databricks.v1+output": {
       "addedWidgets": {},
       "arguments": {},
       "datasetInfos": [],
       "jupyterProps": {
        "ename": "AnalysisException",
        "evalue": "[PATH_NOT_FOUND] Path does not exist: s3a://user-12885f560a0b-bucket/topics/12885f560a0b.pin/partition=0/*.json. SQLSTATE: 42K03"
       },
       "metadata": {
        "errorSummary": "[PATH_NOT_FOUND] Path does not exist: s3a://user-12885f560a0b-bucket/topics/12885f560a0b.pin/partition=0/*.json. SQLSTATE: 42K03"
       },
       "removedWidgets": [],
       "sqlProps": {
        "errorClass": "PATH_NOT_FOUND",
        "pysparkCallSite": null,
        "pysparkFragment": null,
        "sqlState": "42K03",
        "stackTrace": null,
        "startIndex": null,
        "stopIndex": null
       },
       "stackFrames": [
        "\u001B[0;31m---------------------------------------------------------------------------\u001B[0m",
        "\u001B[0;31mAnalysisException\u001B[0m                         Traceback (most recent call last)",
        "File \u001B[0;32m<command-346009869943836>, line 9\u001B[0m\n\u001B[1;32m      5\u001B[0m infer_schema \u001B[38;5;241m=\u001B[39m \u001B[38;5;124m\"\u001B[39m\u001B[38;5;124mtrue\u001B[39m\u001B[38;5;124m\"\u001B[39m\n\u001B[1;32m      6\u001B[0m \u001B[38;5;66;03m# Read in JSONs from S3 bucket\u001B[39;00m\n\u001B[1;32m      7\u001B[0m pin_df \u001B[38;5;241m=\u001B[39m spark\u001B[38;5;241m.\u001B[39mread\u001B[38;5;241m.\u001B[39mformat(file_type) \\\n\u001B[1;32m      8\u001B[0m \u001B[38;5;241m.\u001B[39moption(\u001B[38;5;124m\"\u001B[39m\u001B[38;5;124minferSchema\u001B[39m\u001B[38;5;124m\"\u001B[39m, infer_schema) \\\n\u001B[0;32m----> 9\u001B[0m \u001B[38;5;241m.\u001B[39mload(file_location)\n\u001B[1;32m     10\u001B[0m \u001B[38;5;66;03m# Display Spark dataframe to check its content\u001B[39;00m\n\u001B[1;32m     11\u001B[0m cleaned_pin_df \u001B[38;5;241m=\u001B[39m clean_pin_df(pin_df)\n",
        "File \u001B[0;32m/databricks/spark/python/pyspark/instrumentation_utils.py:47\u001B[0m, in \u001B[0;36m_wrap_function.<locals>.wrapper\u001B[0;34m(*args, **kwargs)\u001B[0m\n\u001B[1;32m     45\u001B[0m start \u001B[38;5;241m=\u001B[39m time\u001B[38;5;241m.\u001B[39mperf_counter()\n\u001B[1;32m     46\u001B[0m \u001B[38;5;28;01mtry\u001B[39;00m:\n\u001B[0;32m---> 47\u001B[0m     res \u001B[38;5;241m=\u001B[39m \u001B[43mfunc\u001B[49m\u001B[43m(\u001B[49m\u001B[38;5;241;43m*\u001B[39;49m\u001B[43margs\u001B[49m\u001B[43m,\u001B[49m\u001B[43m \u001B[49m\u001B[38;5;241;43m*\u001B[39;49m\u001B[38;5;241;43m*\u001B[39;49m\u001B[43mkwargs\u001B[49m\u001B[43m)\u001B[49m\n\u001B[1;32m     48\u001B[0m     logger\u001B[38;5;241m.\u001B[39mlog_success(\n\u001B[1;32m     49\u001B[0m         module_name, class_name, function_name, time\u001B[38;5;241m.\u001B[39mperf_counter() \u001B[38;5;241m-\u001B[39m start, signature\n\u001B[1;32m     50\u001B[0m     )\n\u001B[1;32m     51\u001B[0m     \u001B[38;5;28;01mreturn\u001B[39;00m res\n",
        "File \u001B[0;32m/databricks/spark/python/pyspark/sql/readwriter.py:312\u001B[0m, in \u001B[0;36mDataFrameReader.load\u001B[0;34m(self, path, format, schema, **options)\u001B[0m\n\u001B[1;32m    310\u001B[0m \u001B[38;5;28mself\u001B[39m\u001B[38;5;241m.\u001B[39moptions(\u001B[38;5;241m*\u001B[39m\u001B[38;5;241m*\u001B[39moptions)\n\u001B[1;32m    311\u001B[0m \u001B[38;5;28;01mif\u001B[39;00m \u001B[38;5;28misinstance\u001B[39m(path, \u001B[38;5;28mstr\u001B[39m):\n\u001B[0;32m--> 312\u001B[0m     \u001B[38;5;28;01mreturn\u001B[39;00m \u001B[38;5;28mself\u001B[39m\u001B[38;5;241m.\u001B[39m_df(\u001B[38;5;28;43mself\u001B[39;49m\u001B[38;5;241;43m.\u001B[39;49m\u001B[43m_jreader\u001B[49m\u001B[38;5;241;43m.\u001B[39;49m\u001B[43mload\u001B[49m\u001B[43m(\u001B[49m\u001B[43mpath\u001B[49m\u001B[43m)\u001B[49m)\n\u001B[1;32m    313\u001B[0m \u001B[38;5;28;01melif\u001B[39;00m path \u001B[38;5;129;01mis\u001B[39;00m \u001B[38;5;129;01mnot\u001B[39;00m \u001B[38;5;28;01mNone\u001B[39;00m:\n\u001B[1;32m    314\u001B[0m     \u001B[38;5;28;01mif\u001B[39;00m \u001B[38;5;28mtype\u001B[39m(path) \u001B[38;5;241m!=\u001B[39m \u001B[38;5;28mlist\u001B[39m:\n",
        "File \u001B[0;32m/databricks/spark/python/lib/py4j-0.10.9.7-src.zip/py4j/java_gateway.py:1355\u001B[0m, in \u001B[0;36mJavaMember.__call__\u001B[0;34m(self, *args)\u001B[0m\n\u001B[1;32m   1349\u001B[0m command \u001B[38;5;241m=\u001B[39m proto\u001B[38;5;241m.\u001B[39mCALL_COMMAND_NAME \u001B[38;5;241m+\u001B[39m\\\n\u001B[1;32m   1350\u001B[0m     \u001B[38;5;28mself\u001B[39m\u001B[38;5;241m.\u001B[39mcommand_header \u001B[38;5;241m+\u001B[39m\\\n\u001B[1;32m   1351\u001B[0m     args_command \u001B[38;5;241m+\u001B[39m\\\n\u001B[1;32m   1352\u001B[0m     proto\u001B[38;5;241m.\u001B[39mEND_COMMAND_PART\n\u001B[1;32m   1354\u001B[0m answer \u001B[38;5;241m=\u001B[39m \u001B[38;5;28mself\u001B[39m\u001B[38;5;241m.\u001B[39mgateway_client\u001B[38;5;241m.\u001B[39msend_command(command)\n\u001B[0;32m-> 1355\u001B[0m return_value \u001B[38;5;241m=\u001B[39m \u001B[43mget_return_value\u001B[49m\u001B[43m(\u001B[49m\n\u001B[1;32m   1356\u001B[0m \u001B[43m    \u001B[49m\u001B[43manswer\u001B[49m\u001B[43m,\u001B[49m\u001B[43m \u001B[49m\u001B[38;5;28;43mself\u001B[39;49m\u001B[38;5;241;43m.\u001B[39;49m\u001B[43mgateway_client\u001B[49m\u001B[43m,\u001B[49m\u001B[43m \u001B[49m\u001B[38;5;28;43mself\u001B[39;49m\u001B[38;5;241;43m.\u001B[39;49m\u001B[43mtarget_id\u001B[49m\u001B[43m,\u001B[49m\u001B[43m \u001B[49m\u001B[38;5;28;43mself\u001B[39;49m\u001B[38;5;241;43m.\u001B[39;49m\u001B[43mname\u001B[49m\u001B[43m)\u001B[49m\n\u001B[1;32m   1358\u001B[0m \u001B[38;5;28;01mfor\u001B[39;00m temp_arg \u001B[38;5;129;01min\u001B[39;00m temp_args:\n\u001B[1;32m   1359\u001B[0m     \u001B[38;5;28;01mif\u001B[39;00m \u001B[38;5;28mhasattr\u001B[39m(temp_arg, \u001B[38;5;124m\"\u001B[39m\u001B[38;5;124m_detach\u001B[39m\u001B[38;5;124m\"\u001B[39m):\n",
        "File \u001B[0;32m/databricks/spark/python/pyspark/errors/exceptions/captured.py:230\u001B[0m, in \u001B[0;36mcapture_sql_exception.<locals>.deco\u001B[0;34m(*a, **kw)\u001B[0m\n\u001B[1;32m    226\u001B[0m converted \u001B[38;5;241m=\u001B[39m convert_exception(e\u001B[38;5;241m.\u001B[39mjava_exception)\n\u001B[1;32m    227\u001B[0m \u001B[38;5;28;01mif\u001B[39;00m \u001B[38;5;129;01mnot\u001B[39;00m \u001B[38;5;28misinstance\u001B[39m(converted, UnknownException):\n\u001B[1;32m    228\u001B[0m     \u001B[38;5;66;03m# Hide where the exception came from that shows a non-Pythonic\u001B[39;00m\n\u001B[1;32m    229\u001B[0m     \u001B[38;5;66;03m# JVM exception message.\u001B[39;00m\n\u001B[0;32m--> 230\u001B[0m     \u001B[38;5;28;01mraise\u001B[39;00m converted \u001B[38;5;28;01mfrom\u001B[39;00m \u001B[38;5;28mNone\u001B[39m\n\u001B[1;32m    231\u001B[0m \u001B[38;5;28;01melse\u001B[39;00m:\n\u001B[1;32m    232\u001B[0m     \u001B[38;5;28;01mraise\u001B[39;00m\n",
        "\u001B[0;31mAnalysisException\u001B[0m: [PATH_NOT_FOUND] Path does not exist: s3a://user-12885f560a0b-bucket/topics/12885f560a0b.pin/partition=0/*.json. SQLSTATE: 42K03"
       ],
       "type": "baseError"
      }
     },
     "output_type": "display_data"
    }
   ],
   "source": [
    "# File location and type\n",
    "file_location = \"s3a://user-12885f560a0b-bucket/topics/12885f560a0b.pin/partition=0/*.json\" \n",
    "file_type = \"json\"  # Corrected file type to match the files being read\n",
    "# Ask Spark to infer the schema\n",
    "infer_schema = \"true\"\n",
    "# Read in JSONs from S3 bucket\n",
    "pin_df = spark.read.format(file_type) \\\n",
    ".option(\"inferSchema\", infer_schema) \\\n",
    ".load(file_location)\n",
    "# Display Spark dataframe to check its content\n",
    "cleaned_pin_df = clean_pin_df(pin_df)\n",
    "\n",
    "display(cleaned_pin_df)"
   ]
  },
  {
   "cell_type": "code",
   "execution_count": 0,
   "metadata": {
    "application/vnd.databricks.v1+cell": {
     "cellMetadata": {
      "byteLimit": 2048000,
      "rowLimit": 10000
     },
     "inputWidgets": {},
     "nuid": "0a5c7936-65df-414a-88ea-93dd7cb31737",
     "showTitle": true,
     "tableResultSettingsMap": {},
     "title": "Read in the geo dataframe"
    }
   },
   "outputs": [
    {
     "output_type": "display_data",
     "data": {
      "text/html": [
       "<style scoped>\n",
       "  .table-result-container {\n",
       "    max-height: 300px;\n",
       "    overflow: auto;\n",
       "  }\n",
       "  table, th, td {\n",
       "    border: 1px solid black;\n",
       "    border-collapse: collapse;\n",
       "  }\n",
       "  th, td {\n",
       "    padding: 5px;\n",
       "  }\n",
       "  th {\n",
       "    text-align: left;\n",
       "  }\n",
       "</style><div class='table-result-container'><table class='table-result'><thead style='background-color: white'><tr><th>ind</th><th>country</th><th>coordinates</th><th>timestamp</th></tr></thead><tbody><tr><td>2418</td><td>Antarctica (the territory South of 60 deg S)</td><td>List(-88.4642, -171.061)</td><td>2022-05-27T11:30:59Z</td></tr><tr><td>10794</td><td>Cocos (Keeling) Islands</td><td>List(-89.5236, -154.567)</td><td>2022-01-01T02:26:50Z</td></tr><tr><td>2074</td><td>Central African Republic</td><td>List(-52.3213, -50.11)</td><td>2019-11-03T05:41:59Z</td></tr><tr><td>2293</td><td>British Virgin Islands</td><td>List(-87.7946, -159.647)</td><td>2022-03-21T10:46:53Z</td></tr><tr><td>10663</td><td>Saint Kitts and Nevis</td><td>List(-27.3474, -162.83)</td><td>2019-07-25T18:53:51Z</td></tr><tr><td>7922</td><td>Antigua and Barbuda</td><td>List(-88.0974, -172.052)</td><td>2021-01-27T09:14:19Z</td></tr><tr><td>8606</td><td>Antigua and Barbuda</td><td>List(-88.0974, -172.052)</td><td>2021-03-28T14:54:07Z</td></tr><tr><td>2604</td><td>Antigua and Barbuda</td><td>List(-80.8933, -104.972)</td><td>2018-12-01T09:23:35Z</td></tr><tr><td>603</td><td>Netherlands Antilles</td><td>List(14.0083, -141.603)</td><td>2019-06-25T05:13:01Z</td></tr><tr><td>9979</td><td>Dominican Republic</td><td>List(14.9967, -120.682)</td><td>2018-07-18T19:01:46Z</td></tr><tr><td>10119</td><td>Christmas Island</td><td>List(-74.5431, -162.795)</td><td>2020-10-22T01:59:58Z</td></tr><tr><td>2060</td><td>Trinidad and Tobago</td><td>List(52.4584, 68.6527)</td><td>2020-01-25T13:54:17Z</td></tr><tr><td>1704</td><td>Christmas Island</td><td>List(-56.8702, -93.6232)</td><td>2018-11-29T04:46:39Z</td></tr><tr><td>6261</td><td>Marshall Islands</td><td>List(-10.3101, -109.763)</td><td>2021-11-11T16:18:45Z</td></tr><tr><td>3201</td><td>Pitcairn Islands</td><td>List(34.0532, -68.4946)</td><td>2019-06-25T08:31:37Z</td></tr><tr><td>7790</td><td>Papua New Guinea</td><td>List(-43.692, 64.9839)</td><td>2018-07-31T08:19:15Z</td></tr><tr><td>9759</td><td>American Samoa</td><td>List(-77.9744, -106.258)</td><td>2017-12-30T13:05:49Z</td></tr><tr><td>1422</td><td>American Samoa</td><td>List(-88.5252, -172.436)</td><td>2018-04-30T08:27:21Z</td></tr><tr><td>8312</td><td>American Samoa</td><td>List(-77.9744, -106.258)</td><td>2021-04-25T15:56:29Z</td></tr><tr><td>2923</td><td>Cote d'Ivoire</td><td>List(-84.6302, -164.507)</td><td>2019-09-08T22:53:09Z</td></tr><tr><td>8304</td><td>French Guiana</td><td>List(-28.8852, -164.87)</td><td>2019-09-13T04:50:29Z</td></tr><tr><td>4315</td><td>Cote d'Ivoire</td><td>List(-45.8508, 66.1003)</td><td>2019-12-15T03:51:28Z</td></tr><tr><td>8578</td><td>Guinea-Bissau</td><td>List(34.6427, -161.397)</td><td>2018-01-26T19:27:11Z</td></tr><tr><td>6844</td><td>New Caledonia</td><td>List(-22.6915, 5.69245)</td><td>2021-06-06T21:53:11Z</td></tr><tr><td>3599</td><td>Afghanistan</td><td>List(-88.5478, -174.971)</td><td>2019-03-03T06:13:41Z</td></tr><tr><td>5069</td><td>Azerbaijan</td><td>List(-63.0063, -157.474)</td><td>2021-03-20T09:32:44Z</td></tr><tr><td>6145</td><td>Mozambique</td><td>List(-65.9079, -143.845)</td><td>2019-12-05T02:09:44Z</td></tr><tr><td>4508</td><td>Philippines</td><td>List(69.1858, -76.0761)</td><td>2019-01-04T11:15:27Z</td></tr><tr><td>4988</td><td>Madagascar</td><td>List(-32.1879, -35.2784)</td><td>2020-07-11T11:01:12Z</td></tr><tr><td>427</td><td>Isle of Man</td><td>List(-66.9418, -30.0087)</td><td>2020-04-22T03:08:50Z</td></tr><tr><td>5758</td><td>Azerbaijan</td><td>List(-79.3714, -145.242)</td><td>2018-09-12T15:08:34Z</td></tr><tr><td>428</td><td>Bangladesh</td><td>List(-83.4105, -150.788)</td><td>2020-09-27T18:46:41Z</td></tr><tr><td>7343</td><td>Australia</td><td>List(-65.4428, -161.684)</td><td>2018-08-06T12:17:07Z</td></tr><tr><td>8653</td><td>Seychelles</td><td>List(48.4569, -139.658)</td><td>2022-04-11T18:30:19Z</td></tr><tr><td>5468</td><td>Isle of Man</td><td>List(-83.544, 33.9473)</td><td>2020-05-16T23:17:50Z</td></tr><tr><td>8930</td><td>Argentina</td><td>List(-89.4739, -176.154)</td><td>2021-09-29T13:25:49Z</td></tr><tr><td>7294</td><td>Australia</td><td>List(-76.2967, -136.501)</td><td>2018-02-12T08:06:28Z</td></tr><tr><td>771</td><td>Montserrat</td><td>List(-29.1712, -107.111)</td><td>2018-06-21T08:42:57Z</td></tr><tr><td>4076</td><td>Mauritania</td><td>List(-67.2157, 27.8139)</td><td>2019-06-07T20:13:50Z</td></tr><tr><td>10509</td><td>Gibraltar</td><td>List(-67.187, -24.2977)</td><td>2019-03-06T12:21:56Z</td></tr><tr><td>9936</td><td>Australia</td><td>List(-82.1715, -147.691)</td><td>2018-06-30T22:07:13Z</td></tr><tr><td>6566</td><td>Cape Verde</td><td>List(-39.225, -71.6593)</td><td>2020-11-19T10:06:13Z</td></tr><tr><td>223</td><td>Isle of Man</td><td>List(1.15509, -118.397)</td><td>2018-12-07T07:30:40Z</td></tr><tr><td>2858</td><td>Argentina</td><td>List(-65.1565, -166.807)</td><td>2018-05-03T13:27:09Z</td></tr><tr><td>10673</td><td>Nicaragua</td><td>List(37.1991, -32.1713)</td><td>2021-06-30T08:47:01Z</td></tr><tr><td>5494</td><td>Bulgaria</td><td>List(-82.6768, -129.202)</td><td>2021-07-21T02:02:35Z</td></tr><tr><td>6063</td><td>Anguilla</td><td>List(-89.1797, -174.015)</td><td>2021-07-20T09:02:47Z</td></tr><tr><td>3454</td><td>Cambodia</td><td>List(-0.375174, 49.8106)</td><td>2021-07-25T02:20:29Z</td></tr><tr><td>10625</td><td>Jamaica</td><td>List(-84.4944, -81.0613)</td><td>2018-07-13T11:51:15Z</td></tr><tr><td>9875</td><td>Barbados</td><td>List(-74.3382, -110.484)</td><td>2020-03-20T13:03:18Z</td></tr><tr><td>8887</td><td>Botswana</td><td>List(-28.0137, -160.708)</td><td>2021-09-19T05:27:43Z</td></tr><tr><td>4137</td><td>Australia</td><td>List(-55.3079, 108.918)</td><td>2019-06-23T22:16:34Z</td></tr><tr><td>1268</td><td>Argentina</td><td>List(-41.7803, -177.23)</td><td>2019-07-06T04:10:29Z</td></tr><tr><td>5309</td><td>Maldives</td><td>List(-89.4194, -84.2493)</td><td>2020-05-04T22:00:32Z</td></tr><tr><td>1137</td><td>Seychelles</td><td>List(12.2544, 10.7361)</td><td>2020-12-26T00:56:04Z</td></tr><tr><td>7528</td><td>Albania</td><td>List(-89.9787, -173.293)</td><td>2020-08-28T03:52:47Z</td></tr><tr><td>2863</td><td>Armenia</td><td>List(-5.34445, -177.924)</td><td>2020-04-27T13:34:16Z</td></tr><tr><td>5730</td><td>Colombia</td><td>List(-77.015, -101.437)</td><td>2021-04-19T17:37:03Z</td></tr><tr><td>3089</td><td>Albania</td><td>List(-89.9787, -173.293)</td><td>2018-02-28T05:31:29Z</td></tr><tr><td>10138</td><td>Austria</td><td>List(-72.142, -74.3545)</td><td>2019-08-03T00:59:29Z</td></tr><tr><td>9546</td><td>Austria</td><td>List(-70.0295, -155.428)</td><td>2018-02-10T06:16:40Z</td></tr><tr><td>2411</td><td>Albania</td><td>List(-71.6856, -179.126)</td><td>2020-11-15T17:10:07Z</td></tr><tr><td>9590</td><td>Algeria</td><td>List(-64.3876, -174.281)</td><td>2019-05-20T19:48:48Z</td></tr><tr><td>5076</td><td>Germany</td><td>List(-70.7195, -91.1935)</td><td>2019-05-05T16:22:23Z</td></tr><tr><td>205</td><td>Barbados</td><td>List(-75.8378, -163.945)</td><td>2020-07-08T14:10:38Z</td></tr><tr><td>1094</td><td>Armenia</td><td>List(-46.7328, -124.445)</td><td>2018-08-19T00:34:20Z</td></tr><tr><td>5630</td><td>Bahrain</td><td>List(-19.1403, -164.987)</td><td>2019-05-12T14:43:19Z</td></tr><tr><td>6398</td><td>Albania</td><td>List(-3.29267, -179.726)</td><td>2020-01-19T01:49:05Z</td></tr><tr><td>46</td><td>Afghanistan</td><td>List(4.21689, -145.82)</td><td>2018-09-15T09:16:57Z</td></tr><tr><td>10552</td><td>Grenada</td><td>List(32.7568, -179.812)</td><td>2020-08-24T11:39:32Z</td></tr><tr><td>1371</td><td>Andorra</td><td>List(-89.4584, -134.271)</td><td>2018-08-08T04:41:17Z</td></tr><tr><td>9074</td><td>Andorra</td><td>List(-84.7363, -179.087)</td><td>2022-04-10T17:06:13Z</td></tr><tr><td>10370</td><td>Finland</td><td>List(-81.9798, -71.932)</td><td>2018-07-29T15:53:40Z</td></tr><tr><td>7234</td><td>Algeria</td><td>List(-86.4791, -169.547)</td><td>2017-10-21T14:31:02Z</td></tr><tr><td>2863</td><td>Armenia</td><td>List(-5.34445, -177.924)</td><td>2020-04-27T13:34:16Z</td></tr><tr><td>7528</td><td>Albania</td><td>List(-89.9787, -173.293)</td><td>2020-08-28T03:52:47Z</td></tr><tr><td>2863</td><td>Armenia</td><td>List(-5.34445, -177.924)</td><td>2020-04-27T13:34:16Z</td></tr><tr><td>5730</td><td>Colombia</td><td>List(-77.015, -101.437)</td><td>2021-04-19T17:37:03Z</td></tr><tr><td>1313</td><td>Maldives</td><td>List(77.0447, 61.9119)</td><td>2018-06-26T02:39:25Z</td></tr><tr><td>2959</td><td>Angola</td><td>List(-68.0095, -157.227)</td><td>2019-08-19T08:22:02Z</td></tr><tr><td>3156</td><td>Armenia</td><td>List(-84.738, -160.795)</td><td>2018-01-13T19:33:49Z</td></tr><tr><td>719</td><td>Armenia</td><td>List(-38.4062, -154.323)</td><td>2018-10-29T04:05:12Z</td></tr><tr><td>2482</td><td>Bermuda</td><td>List(63.4563, -164.709)</td><td>2019-09-13T08:20:13Z</td></tr><tr><td>808</td><td>Albania</td><td>List(-71.6856, -179.126)</td><td>2019-01-03T15:43:12Z</td></tr><tr><td>1545</td><td>Anguilla</td><td>List(-30.18, -72.3784)</td><td>2022-06-17T05:47:12Z</td></tr><tr><td>2015</td><td>Armenia</td><td>List(-17.629, -177.685)</td><td>2018-09-22T13:52:19Z</td></tr><tr><td>7768</td><td>Algeria</td><td>List(-88.355, -96.0131)</td><td>2018-05-25T21:34:19Z</td></tr><tr><td>3729</td><td>Turkey</td><td>List(-24.4793, -150.145)</td><td>2018-01-17T03:43:38Z</td></tr><tr><td>159</td><td>Andorra</td><td>List(-88.0812, -166.603)</td><td>2017-11-20T21:14:56Z</td></tr><tr><td>7167</td><td>Ecuador</td><td>List(-55.757, -157.572)</td><td>2019-12-27T20:45:04Z</td></tr><tr><td>9487</td><td>Canada</td><td>List(-76.9532, -113.641)</td><td>2018-12-18T11:16:52Z</td></tr><tr><td>327</td><td>Gibraltar</td><td>List(62.3674, 100.972)</td><td>2022-02-09T03:03:58Z</td></tr><tr><td>7554</td><td>Sudan</td><td>List(-51.2172, -77.9768)</td><td>2019-03-20T03:15:07Z</td></tr><tr><td>4913</td><td>Aruba</td><td>List(-84.3768, -157.544)</td><td>2019-03-08T06:45:39Z</td></tr><tr><td>7166</td><td>Aruba</td><td>List(-86.4063, -136.657)</td><td>2022-07-25T03:07:37Z</td></tr><tr><td>3419</td><td>Bhutan</td><td>List(7.60293, -108.979)</td><td>2021-12-20T05:01:54Z</td></tr><tr><td>1555</td><td>Algeria</td><td>List(-1.7046, -55.332)</td><td>2017-12-24T18:41:23Z</td></tr><tr><td>552</td><td>Lesotho</td><td>List(-80.6043, 31.9601)</td><td>2022-03-14T05:12:07Z</td></tr><tr><td>2637</td><td>Tunisia</td><td>List(3.0033, -96.4904)</td><td>2022-10-15T13:25:51Z</td></tr><tr><td>1198</td><td>Finland</td><td>List(6.37207, -150.73)</td><td>2020-01-24T23:42:18Z</td></tr><tr><td>7510</td><td>Aruba</td><td>List(-79.9828, -172.235)</td><td>2021-12-21T01:37:25Z</td></tr><tr><td>8731</td><td>Aruba</td><td>List(-83.104, -171.302)</td><td>2020-07-17T04:39:09Z</td></tr><tr><td>9672</td><td>India</td><td>List(79.4658, -69.4133)</td><td>2019-11-03T13:15:52Z</td></tr><tr><td>831</td><td>Congo</td><td>List(-43.7816, -66.1592)</td><td>2021-06-23T23:16:10Z</td></tr><tr><td>3800</td><td>Aruba</td><td>List(-61.471, -154.912)</td><td>2018-01-27T16:49:07Z</td></tr><tr><td>772</td><td>Monaco</td><td>List(25.0708, -97.1964)</td><td>2022-09-22T05:59:55Z</td></tr><tr><td>1014</td><td>Tonga</td><td>List(81.1477, 69.3538)</td><td>2022-02-03T22:05:34Z</td></tr><tr><td>2698</td><td>Egypt</td><td>List(-72.7174, 24.169)</td><td>2021-11-24T08:33:51Z</td></tr></tbody></table></div>"
      ]
     },
     "metadata": {
      "application/vnd.databricks.v1+output": {
       "addedWidgets": {},
       "aggData": [],
       "aggError": "",
       "aggOverflow": false,
       "aggSchema": [],
       "aggSeriesLimitReached": false,
       "aggType": "",
       "arguments": {},
       "columnCustomDisplayInfos": {},
       "data": [
        [
         2418,
         "Antarctica (the territory South of 60 deg S)",
         [
          -88.4642,
          -171.061
         ],
         "2022-05-27T11:30:59Z"
        ],
        [
         10794,
         "Cocos (Keeling) Islands",
         [
          -89.5236,
          -154.567
         ],
         "2022-01-01T02:26:50Z"
        ],
        [
         2074,
         "Central African Republic",
         [
          -52.3213,
          -50.11
         ],
         "2019-11-03T05:41:59Z"
        ],
        [
         2293,
         "British Virgin Islands",
         [
          -87.7946,
          -159.647
         ],
         "2022-03-21T10:46:53Z"
        ],
        [
         10663,
         "Saint Kitts and Nevis",
         [
          -27.3474,
          -162.83
         ],
         "2019-07-25T18:53:51Z"
        ],
        [
         7922,
         "Antigua and Barbuda",
         [
          -88.0974,
          -172.052
         ],
         "2021-01-27T09:14:19Z"
        ],
        [
         8606,
         "Antigua and Barbuda",
         [
          -88.0974,
          -172.052
         ],
         "2021-03-28T14:54:07Z"
        ],
        [
         2604,
         "Antigua and Barbuda",
         [
          -80.8933,
          -104.972
         ],
         "2018-12-01T09:23:35Z"
        ],
        [
         603,
         "Netherlands Antilles",
         [
          14.0083,
          -141.603
         ],
         "2019-06-25T05:13:01Z"
        ],
        [
         9979,
         "Dominican Republic",
         [
          14.9967,
          -120.682
         ],
         "2018-07-18T19:01:46Z"
        ],
        [
         10119,
         "Christmas Island",
         [
          -74.5431,
          -162.795
         ],
         "2020-10-22T01:59:58Z"
        ],
        [
         2060,
         "Trinidad and Tobago",
         [
          52.4584,
          68.6527
         ],
         "2020-01-25T13:54:17Z"
        ],
        [
         1704,
         "Christmas Island",
         [
          -56.8702,
          -93.6232
         ],
         "2018-11-29T04:46:39Z"
        ],
        [
         6261,
         "Marshall Islands",
         [
          -10.3101,
          -109.763
         ],
         "2021-11-11T16:18:45Z"
        ],
        [
         3201,
         "Pitcairn Islands",
         [
          34.0532,
          -68.4946
         ],
         "2019-06-25T08:31:37Z"
        ],
        [
         7790,
         "Papua New Guinea",
         [
          -43.692,
          64.9839
         ],
         "2018-07-31T08:19:15Z"
        ],
        [
         9759,
         "American Samoa",
         [
          -77.9744,
          -106.258
         ],
         "2017-12-30T13:05:49Z"
        ],
        [
         1422,
         "American Samoa",
         [
          -88.5252,
          -172.436
         ],
         "2018-04-30T08:27:21Z"
        ],
        [
         8312,
         "American Samoa",
         [
          -77.9744,
          -106.258
         ],
         "2021-04-25T15:56:29Z"
        ],
        [
         2923,
         "Cote d'Ivoire",
         [
          -84.6302,
          -164.507
         ],
         "2019-09-08T22:53:09Z"
        ],
        [
         8304,
         "French Guiana",
         [
          -28.8852,
          -164.87
         ],
         "2019-09-13T04:50:29Z"
        ],
        [
         4315,
         "Cote d'Ivoire",
         [
          -45.8508,
          66.1003
         ],
         "2019-12-15T03:51:28Z"
        ],
        [
         8578,
         "Guinea-Bissau",
         [
          34.6427,
          -161.397
         ],
         "2018-01-26T19:27:11Z"
        ],
        [
         6844,
         "New Caledonia",
         [
          -22.6915,
          5.69245
         ],
         "2021-06-06T21:53:11Z"
        ],
        [
         3599,
         "Afghanistan",
         [
          -88.5478,
          -174.971
         ],
         "2019-03-03T06:13:41Z"
        ],
        [
         5069,
         "Azerbaijan",
         [
          -63.0063,
          -157.474
         ],
         "2021-03-20T09:32:44Z"
        ],
        [
         6145,
         "Mozambique",
         [
          -65.9079,
          -143.845
         ],
         "2019-12-05T02:09:44Z"
        ],
        [
         4508,
         "Philippines",
         [
          69.1858,
          -76.0761
         ],
         "2019-01-04T11:15:27Z"
        ],
        [
         4988,
         "Madagascar",
         [
          -32.1879,
          -35.2784
         ],
         "2020-07-11T11:01:12Z"
        ],
        [
         427,
         "Isle of Man",
         [
          -66.9418,
          -30.0087
         ],
         "2020-04-22T03:08:50Z"
        ],
        [
         5758,
         "Azerbaijan",
         [
          -79.3714,
          -145.242
         ],
         "2018-09-12T15:08:34Z"
        ],
        [
         428,
         "Bangladesh",
         [
          -83.4105,
          -150.788
         ],
         "2020-09-27T18:46:41Z"
        ],
        [
         7343,
         "Australia",
         [
          -65.4428,
          -161.684
         ],
         "2018-08-06T12:17:07Z"
        ],
        [
         8653,
         "Seychelles",
         [
          48.4569,
          -139.658
         ],
         "2022-04-11T18:30:19Z"
        ],
        [
         5468,
         "Isle of Man",
         [
          -83.544,
          33.9473
         ],
         "2020-05-16T23:17:50Z"
        ],
        [
         8930,
         "Argentina",
         [
          -89.4739,
          -176.154
         ],
         "2021-09-29T13:25:49Z"
        ],
        [
         7294,
         "Australia",
         [
          -76.2967,
          -136.501
         ],
         "2018-02-12T08:06:28Z"
        ],
        [
         771,
         "Montserrat",
         [
          -29.1712,
          -107.111
         ],
         "2018-06-21T08:42:57Z"
        ],
        [
         4076,
         "Mauritania",
         [
          -67.2157,
          27.8139
         ],
         "2019-06-07T20:13:50Z"
        ],
        [
         10509,
         "Gibraltar",
         [
          -67.187,
          -24.2977
         ],
         "2019-03-06T12:21:56Z"
        ],
        [
         9936,
         "Australia",
         [
          -82.1715,
          -147.691
         ],
         "2018-06-30T22:07:13Z"
        ],
        [
         6566,
         "Cape Verde",
         [
          -39.225,
          -71.6593
         ],
         "2020-11-19T10:06:13Z"
        ],
        [
         223,
         "Isle of Man",
         [
          1.15509,
          -118.397
         ],
         "2018-12-07T07:30:40Z"
        ],
        [
         2858,
         "Argentina",
         [
          -65.1565,
          -166.807
         ],
         "2018-05-03T13:27:09Z"
        ],
        [
         10673,
         "Nicaragua",
         [
          37.1991,
          -32.1713
         ],
         "2021-06-30T08:47:01Z"
        ],
        [
         5494,
         "Bulgaria",
         [
          -82.6768,
          -129.202
         ],
         "2021-07-21T02:02:35Z"
        ],
        [
         6063,
         "Anguilla",
         [
          -89.1797,
          -174.015
         ],
         "2021-07-20T09:02:47Z"
        ],
        [
         3454,
         "Cambodia",
         [
          -0.375174,
          49.8106
         ],
         "2021-07-25T02:20:29Z"
        ],
        [
         10625,
         "Jamaica",
         [
          -84.4944,
          -81.0613
         ],
         "2018-07-13T11:51:15Z"
        ],
        [
         9875,
         "Barbados",
         [
          -74.3382,
          -110.484
         ],
         "2020-03-20T13:03:18Z"
        ],
        [
         8887,
         "Botswana",
         [
          -28.0137,
          -160.708
         ],
         "2021-09-19T05:27:43Z"
        ],
        [
         4137,
         "Australia",
         [
          -55.3079,
          108.918
         ],
         "2019-06-23T22:16:34Z"
        ],
        [
         1268,
         "Argentina",
         [
          -41.7803,
          -177.23
         ],
         "2019-07-06T04:10:29Z"
        ],
        [
         5309,
         "Maldives",
         [
          -89.4194,
          -84.2493
         ],
         "2020-05-04T22:00:32Z"
        ],
        [
         1137,
         "Seychelles",
         [
          12.2544,
          10.7361
         ],
         "2020-12-26T00:56:04Z"
        ],
        [
         7528,
         "Albania",
         [
          -89.9787,
          -173.293
         ],
         "2020-08-28T03:52:47Z"
        ],
        [
         2863,
         "Armenia",
         [
          -5.34445,
          -177.924
         ],
         "2020-04-27T13:34:16Z"
        ],
        [
         5730,
         "Colombia",
         [
          -77.015,
          -101.437
         ],
         "2021-04-19T17:37:03Z"
        ],
        [
         3089,
         "Albania",
         [
          -89.9787,
          -173.293
         ],
         "2018-02-28T05:31:29Z"
        ],
        [
         10138,
         "Austria",
         [
          -72.142,
          -74.3545
         ],
         "2019-08-03T00:59:29Z"
        ],
        [
         9546,
         "Austria",
         [
          -70.0295,
          -155.428
         ],
         "2018-02-10T06:16:40Z"
        ],
        [
         2411,
         "Albania",
         [
          -71.6856,
          -179.126
         ],
         "2020-11-15T17:10:07Z"
        ],
        [
         9590,
         "Algeria",
         [
          -64.3876,
          -174.281
         ],
         "2019-05-20T19:48:48Z"
        ],
        [
         5076,
         "Germany",
         [
          -70.7195,
          -91.1935
         ],
         "2019-05-05T16:22:23Z"
        ],
        [
         205,
         "Barbados",
         [
          -75.8378,
          -163.945
         ],
         "2020-07-08T14:10:38Z"
        ],
        [
         1094,
         "Armenia",
         [
          -46.7328,
          -124.445
         ],
         "2018-08-19T00:34:20Z"
        ],
        [
         5630,
         "Bahrain",
         [
          -19.1403,
          -164.987
         ],
         "2019-05-12T14:43:19Z"
        ],
        [
         6398,
         "Albania",
         [
          -3.29267,
          -179.726
         ],
         "2020-01-19T01:49:05Z"
        ],
        [
         46,
         "Afghanistan",
         [
          4.21689,
          -145.82
         ],
         "2018-09-15T09:16:57Z"
        ],
        [
         10552,
         "Grenada",
         [
          32.7568,
          -179.812
         ],
         "2020-08-24T11:39:32Z"
        ],
        [
         1371,
         "Andorra",
         [
          -89.4584,
          -134.271
         ],
         "2018-08-08T04:41:17Z"
        ],
        [
         9074,
         "Andorra",
         [
          -84.7363,
          -179.087
         ],
         "2022-04-10T17:06:13Z"
        ],
        [
         10370,
         "Finland",
         [
          -81.9798,
          -71.932
         ],
         "2018-07-29T15:53:40Z"
        ],
        [
         7234,
         "Algeria",
         [
          -86.4791,
          -169.547
         ],
         "2017-10-21T14:31:02Z"
        ],
        [
         2863,
         "Armenia",
         [
          -5.34445,
          -177.924
         ],
         "2020-04-27T13:34:16Z"
        ],
        [
         7528,
         "Albania",
         [
          -89.9787,
          -173.293
         ],
         "2020-08-28T03:52:47Z"
        ],
        [
         2863,
         "Armenia",
         [
          -5.34445,
          -177.924
         ],
         "2020-04-27T13:34:16Z"
        ],
        [
         5730,
         "Colombia",
         [
          -77.015,
          -101.437
         ],
         "2021-04-19T17:37:03Z"
        ],
        [
         1313,
         "Maldives",
         [
          77.0447,
          61.9119
         ],
         "2018-06-26T02:39:25Z"
        ],
        [
         2959,
         "Angola",
         [
          -68.0095,
          -157.227
         ],
         "2019-08-19T08:22:02Z"
        ],
        [
         3156,
         "Armenia",
         [
          -84.738,
          -160.795
         ],
         "2018-01-13T19:33:49Z"
        ],
        [
         719,
         "Armenia",
         [
          -38.4062,
          -154.323
         ],
         "2018-10-29T04:05:12Z"
        ],
        [
         2482,
         "Bermuda",
         [
          63.4563,
          -164.709
         ],
         "2019-09-13T08:20:13Z"
        ],
        [
         808,
         "Albania",
         [
          -71.6856,
          -179.126
         ],
         "2019-01-03T15:43:12Z"
        ],
        [
         1545,
         "Anguilla",
         [
          -30.18,
          -72.3784
         ],
         "2022-06-17T05:47:12Z"
        ],
        [
         2015,
         "Armenia",
         [
          -17.629,
          -177.685
         ],
         "2018-09-22T13:52:19Z"
        ],
        [
         7768,
         "Algeria",
         [
          -88.355,
          -96.0131
         ],
         "2018-05-25T21:34:19Z"
        ],
        [
         3729,
         "Turkey",
         [
          -24.4793,
          -150.145
         ],
         "2018-01-17T03:43:38Z"
        ],
        [
         159,
         "Andorra",
         [
          -88.0812,
          -166.603
         ],
         "2017-11-20T21:14:56Z"
        ],
        [
         7167,
         "Ecuador",
         [
          -55.757,
          -157.572
         ],
         "2019-12-27T20:45:04Z"
        ],
        [
         9487,
         "Canada",
         [
          -76.9532,
          -113.641
         ],
         "2018-12-18T11:16:52Z"
        ],
        [
         327,
         "Gibraltar",
         [
          62.3674,
          100.972
         ],
         "2022-02-09T03:03:58Z"
        ],
        [
         7554,
         "Sudan",
         [
          -51.2172,
          -77.9768
         ],
         "2019-03-20T03:15:07Z"
        ],
        [
         4913,
         "Aruba",
         [
          -84.3768,
          -157.544
         ],
         "2019-03-08T06:45:39Z"
        ],
        [
         7166,
         "Aruba",
         [
          -86.4063,
          -136.657
         ],
         "2022-07-25T03:07:37Z"
        ],
        [
         3419,
         "Bhutan",
         [
          7.60293,
          -108.979
         ],
         "2021-12-20T05:01:54Z"
        ],
        [
         1555,
         "Algeria",
         [
          -1.7046,
          -55.332
         ],
         "2017-12-24T18:41:23Z"
        ],
        [
         552,
         "Lesotho",
         [
          -80.6043,
          31.9601
         ],
         "2022-03-14T05:12:07Z"
        ],
        [
         2637,
         "Tunisia",
         [
          3.0033,
          -96.4904
         ],
         "2022-10-15T13:25:51Z"
        ],
        [
         1198,
         "Finland",
         [
          6.37207,
          -150.73
         ],
         "2020-01-24T23:42:18Z"
        ],
        [
         7510,
         "Aruba",
         [
          -79.9828,
          -172.235
         ],
         "2021-12-21T01:37:25Z"
        ],
        [
         8731,
         "Aruba",
         [
          -83.104,
          -171.302
         ],
         "2020-07-17T04:39:09Z"
        ],
        [
         9672,
         "India",
         [
          79.4658,
          -69.4133
         ],
         "2019-11-03T13:15:52Z"
        ],
        [
         831,
         "Congo",
         [
          -43.7816,
          -66.1592
         ],
         "2021-06-23T23:16:10Z"
        ],
        [
         3800,
         "Aruba",
         [
          -61.471,
          -154.912
         ],
         "2018-01-27T16:49:07Z"
        ],
        [
         772,
         "Monaco",
         [
          25.0708,
          -97.1964
         ],
         "2022-09-22T05:59:55Z"
        ],
        [
         1014,
         "Tonga",
         [
          81.1477,
          69.3538
         ],
         "2022-02-03T22:05:34Z"
        ],
        [
         2698,
         "Egypt",
         [
          -72.7174,
          24.169
         ],
         "2021-11-24T08:33:51Z"
        ]
       ],
       "datasetInfos": [],
       "dbfsResultPath": null,
       "isJsonSchema": true,
       "metadata": {},
       "overflow": false,
       "plotOptions": {
        "customPlotOptions": {},
        "displayType": "table",
        "pivotAggregation": null,
        "pivotColumns": null,
        "xColumns": null,
        "yColumns": null
       },
       "removedWidgets": [],
       "schema": [
        {
         "metadata": "{}",
         "name": "ind",
         "type": "\"long\""
        },
        {
         "metadata": "{}",
         "name": "country",
         "type": "\"string\""
        },
        {
         "metadata": "{}",
         "name": "coordinates",
         "type": "{\"type\":\"array\",\"elementType\":\"double\",\"containsNull\":true}"
        },
        {
         "metadata": "{}",
         "name": "timestamp",
         "type": "\"timestamp\""
        }
       ],
       "type": "table"
      }
     },
     "output_type": "display_data"
    }
   ],
   "source": [
    "# File location and type\n",
    "file_location = \"s3a://user-12885f560a0b-bucket/topics/12885f560a0b.geo/partition=0/*.json\" \n",
    "file_type = \"json\"  # Corrected file type to match the files being read\n",
    "# Ask Spark to infer the schema\n",
    "infer_schema = \"true\"\n",
    "# Read in JSONs from mounted S3 bucket\n",
    "geo_df = spark.read.format(file_type) \\\n",
    ".option(\"inferSchema\", infer_schema) \\\n",
    ".load(file_location)\n",
    "\n",
    "cleaned_geo_df = clean_geo_df(geo_df)\n",
    "\n",
    "display(cleaned_geo_df)"
   ]
  },
  {
   "cell_type": "code",
   "execution_count": 0,
   "metadata": {
    "application/vnd.databricks.v1+cell": {
     "cellMetadata": {
      "byteLimit": 2048000,
      "rowLimit": 10000
     },
     "inputWidgets": {},
     "nuid": "e4ebcf09-3116-4b36-8252-c8c540607ebf",
     "showTitle": true,
     "tableResultSettingsMap": {},
     "title": "Examine data types"
    }
   },
   "outputs": [
    {
     "output_type": "execute_result",
     "data": {
      "text/plain": [
       "[('country', 'string'),\n",
       " ('ind', 'bigint'),\n",
       " ('latitude', 'double'),\n",
       " ('longitude', 'double'),\n",
       " ('timestamp', 'string')]"
      ]
     },
     "execution_count": 7,
     "metadata": {},
     "output_type": "execute_result"
    }
   ],
   "source": [
    "geo_df.dtypes"
   ]
  },
  {
   "cell_type": "markdown",
   "metadata": {
    "application/vnd.databricks.v1+cell": {
     "cellMetadata": {},
     "inputWidgets": {},
     "nuid": "fffce6b8-16ac-458c-91c3-716d60408385",
     "showTitle": false,
     "tableResultSettingsMap": {},
     "title": ""
    }
   },
   "source": [
    "#### Load the data from S3 into Databricks and apply relevant cleaning methods:"
   ]
  },
  {
   "cell_type": "code",
   "execution_count": 0,
   "metadata": {
    "application/vnd.databricks.v1+cell": {
     "cellMetadata": {
      "byteLimit": 2048000,
      "rowLimit": 10000
     },
     "inputWidgets": {},
     "nuid": "5645ed86-5024-4430-8ac3-8af21d8e6fa2",
     "showTitle": true,
     "tableResultSettingsMap": {},
     "title": "Load the user dataframe"
    }
   },
   "outputs": [
    {
     "output_type": "display_data",
     "data": {
      "text/html": [
       "<style scoped>\n",
       "  .table-result-container {\n",
       "    max-height: 300px;\n",
       "    overflow: auto;\n",
       "  }\n",
       "  table, th, td {\n",
       "    border: 1px solid black;\n",
       "    border-collapse: collapse;\n",
       "  }\n",
       "  th, td {\n",
       "    padding: 5px;\n",
       "  }\n",
       "  th {\n",
       "    text-align: left;\n",
       "  }\n",
       "</style><div class='table-result-container'><table class='table-result'><thead style='background-color: white'><tr><th>ind</th><th>user_name</th><th>age</th><th>date_joined</th></tr></thead><tbody><tr><td>2015</td><td>Christopher Bradshaw</td><td>27</td><td>2016-03-08T13:38:37Z</td></tr><tr><td>10673</td><td>Alexander Cervantes</td><td>59</td><td>2017-05-12T21:22:17Z</td></tr><tr><td>6398</td><td>Christina Davenport</td><td>39</td><td>2016-06-29T20:43:59Z</td></tr><tr><td>3599</td><td>Alexandria Alvarado</td><td>20</td><td>2015-10-23T04:13:23Z</td></tr><tr><td>5076</td><td>Christopher Butler</td><td>20</td><td>2015-12-01T15:08:31Z</td></tr><tr><td>7790</td><td>Michelle Gutierrez</td><td>39</td><td>2017-07-19T07:12:04Z</td></tr><tr><td>10509</td><td>Brittany Thompson</td><td>49</td><td>2016-04-22T20:36:02Z</td></tr><tr><td>10119</td><td>Chelsea Gonzalez</td><td>43</td><td>2016-07-21T15:25:08Z</td></tr><tr><td>8731</td><td>Andrea Alexander</td><td>21</td><td>2015-11-10T09:27:42Z</td></tr><tr><td>8887</td><td>Austin Rodriguez</td><td>24</td><td>2016-03-31T20:56:39Z</td></tr><tr><td>7768</td><td>Christine Cortez</td><td>23</td><td>2015-12-01T18:15:02Z</td></tr><tr><td>4315</td><td>Michelle Prince</td><td>36</td><td>2015-12-20T16:38:13Z</td></tr><tr><td>10625</td><td>Christian Lang</td><td>32</td><td>2017-10-10T20:09:33Z</td></tr><tr><td>9672</td><td>Jennifer Hudson</td><td>22</td><td>2016-02-11T20:46:04Z</td></tr><tr><td>8930</td><td>Andrew Anderson</td><td>23</td><td>2015-11-28T11:52:37Z</td></tr><tr><td>6566</td><td>Alexander Perez</td><td>31</td><td>2017-08-04T14:30:22Z</td></tr><tr><td>3729</td><td>Richard Edwards</td><td>52</td><td>2016-02-07T20:00:25Z</td></tr><tr><td>10552</td><td>Michael Hunter</td><td>40</td><td>2017-05-16T07:09:21Z</td></tr><tr><td>9074</td><td>Aaron Alexander</td><td>21</td><td>2015-10-25T07:36:08Z</td></tr><tr><td>3201</td><td>Elizabeth Terry</td><td>28</td><td>2016-01-29T20:32:05Z</td></tr><tr><td>1313</td><td>Brittany Jones</td><td>32</td><td>2016-04-02T03:51:23Z</td></tr><tr><td>10794</td><td>Thomas Turner</td><td>34</td><td>2016-12-22T00:02:02Z</td></tr><tr><td>2959</td><td>David Griffith</td><td>20</td><td>2016-01-07T19:49:22Z</td></tr><tr><td>9875</td><td>Brendan Joseph</td><td>26</td><td>2015-12-20T10:28:00Z</td></tr><tr><td>2074</td><td>Annette Forbes</td><td>21</td><td>2016-01-03T15:42:12Z</td></tr><tr><td>1014</td><td>Gregory Ramsey</td><td>56</td><td>2016-10-15T17:21:39Z</td></tr><tr><td>4137</td><td>Michael Decker</td><td>59</td><td>2017-06-29T22:35:17Z</td></tr><tr><td>2411</td><td>Aaron Bartlett</td><td>21</td><td>2015-11-24T02:15:36Z</td></tr><tr><td>4508</td><td>Michael Carter</td><td>58</td><td>2016-06-03T23:35:30Z</td></tr><tr><td>771</td><td>Brittany Butler</td><td>32</td><td>2016-03-10T04:11:31Z</td></tr><tr><td>1545</td><td>Jonathan Avila</td><td>46</td><td>2015-11-27T23:11:21Z</td></tr><tr><td>603</td><td>Brandon Jackson</td><td>44</td><td>2016-10-29T02:07:21Z</td></tr><tr><td>5630</td><td>Carlos Estrada</td><td>22</td><td>2016-02-09T17:01:38Z</td></tr><tr><td>1268</td><td>Donna Campbell</td><td>32</td><td>2016-06-08T22:10:13Z</td></tr><tr><td>1555</td><td>Alexis Bennett</td><td>54</td><td>2016-05-15T04:22:01Z</td></tr><tr><td>3800</td><td>Adam Armstrong</td><td>20</td><td>2015-12-17T08:43:40Z</td></tr><tr><td>8304</td><td>Charles Berry</td><td>25</td><td>2015-12-28T04:21:39Z</td></tr><tr><td>6063</td><td>Corey Andrews</td><td>23</td><td>2015-11-25T13:36:22Z</td></tr><tr><td>3454</td><td>Robert Murphy</td><td>48</td><td>2017-09-26T16:31:56Z</td></tr><tr><td>7554</td><td>Cheryl Huerta</td><td>20</td><td>2017-04-11T16:35:33Z</td></tr><tr><td>6145</td><td>Emily Hawkins</td><td>30</td><td>2015-12-25T20:24:37Z</td></tr><tr><td>9979</td><td>Kaylee Miller</td><td>31</td><td>2016-11-09T19:50:51Z</td></tr><tr><td>4913</td><td>Angela Brooks</td><td>24</td><td>2015-11-20T05:37:11Z</td></tr><tr><td>9759</td><td>Daniel Brooks</td><td>25</td><td>2015-11-19T21:24:33Z</td></tr><tr><td>7294</td><td>Dawn Anderson</td><td>20</td><td>2016-12-31T00:06:36Z</td></tr><tr><td>808</td><td>Aaron Bartlett</td><td>21</td><td>2015-11-24T02:15:36Z</td></tr><tr><td>9936</td><td>Anthony Cantu</td><td>28</td><td>2016-11-15T10:40:03Z</td></tr><tr><td>6844</td><td>Peter Roberts</td><td>30</td><td>2016-07-03T10:59:40Z</td></tr><tr><td>3419</td><td>Aaron Jenkins</td><td>47</td><td>2017-04-26T03:26:23Z</td></tr><tr><td>4988</td><td>Rhonda Durham</td><td>25</td><td>2017-07-20T05:51:23Z</td></tr><tr><td>552</td><td>Regina Morales</td><td>20</td><td>2017-01-17T01:49:27Z</td></tr><tr><td>8312</td><td>Daniel Brooks</td><td>25</td><td>2015-11-19T21:24:33Z</td></tr><tr><td>6261</td><td>Nicholas Hart</td><td>38</td><td>2015-10-26T09:45:45Z</td></tr><tr><td>5758</td><td>Amanda Arnold</td><td>20</td><td>2015-10-26T23:04:52Z</td></tr><tr><td>1137</td><td>Virginia Vega</td><td>38</td><td>2017-05-03T03:08:33Z</td></tr><tr><td>2863</td><td>Dylan Holmes</td><td>32</td><td>2016-10-23T14:06:51Z</td></tr><tr><td>5730</td><td>Rachel Davis</td><td>36</td><td>2015-12-08T20:02:43Z</td></tr><tr><td>2923</td><td>Brian Nelson</td><td>26</td><td>2015-11-11T03:20:57Z</td></tr><tr><td>2418</td><td>Amanda Adams</td><td>20</td><td>2015-10-21T08:27:36Z</td></tr><tr><td>3156</td><td>Andrew Baker</td><td>22</td><td>2015-12-21T08:06:54Z</td></tr><tr><td>428</td><td>Claudia Adams</td><td>20</td><td>2015-11-28T02:20:29Z</td></tr><tr><td>7343</td><td>Anne Clayton</td><td>24</td><td>2016-01-11T12:03:48Z</td></tr><tr><td>10138</td><td>Carol Silva</td><td>22</td><td>2015-12-31T14:57:02Z</td></tr><tr><td>7922</td><td>Denise Adams</td><td>21</td><td>2015-11-12T06:21:36Z</td></tr><tr><td>9590</td><td>Amanda Allen</td><td>22</td><td>2015-10-24T18:56:30Z</td></tr><tr><td>2698</td><td>Kayla Burton</td><td>44</td><td>2017-06-21T19:53:27Z</td></tr><tr><td>831</td><td>Aimee Collins</td><td>28</td><td>2016-06-16T02:06:38Z</td></tr><tr><td>8606</td><td>Denise Adams</td><td>21</td><td>2015-11-12T06:21:36Z</td></tr><tr><td>4076</td><td>Larry Pineda</td><td>20</td><td>2015-10-23T22:47:39Z</td></tr><tr><td>1422</td><td>Aaron Abbott</td><td>20</td><td>2015-10-31T18:51:07Z</td></tr><tr><td>1371</td><td>Amanda Brown</td><td>20</td><td>2015-11-12T03:23:49Z</td></tr><tr><td>2604</td><td>Ashley Evans</td><td>30</td><td>2016-02-21T12:54:01Z</td></tr><tr><td>1198</td><td>Ariana Gross</td><td>59</td><td>2016-12-17T11:10:48Z</td></tr><tr><td>10370</td><td>Derrick Kim</td><td>30</td><td>2016-12-21T13:39:14Z</td></tr><tr><td>7167</td><td>Dawn Bradley</td><td>20</td><td>2016-08-26T16:09:52Z</td></tr><tr><td>772</td><td>Glenn Hammond</td><td>25</td><td>2016-04-27T02:59:27Z</td></tr><tr><td>7510</td><td>Debra Becker</td><td>20</td><td>2016-07-27T06:20:48Z</td></tr><tr><td>7234</td><td>Angela Allen</td><td>20</td><td>2015-10-26T04:12:32Z</td></tr><tr><td>2863</td><td>Dylan Holmes</td><td>32</td><td>2016-10-23T14:06:51Z</td></tr><tr><td>5730</td><td>Rachel Davis</td><td>36</td><td>2015-12-08T20:02:43Z</td></tr><tr><td>7528</td><td>Abigail Ali</td><td>20</td><td>2015-10-24T11:23:51Z</td></tr><tr><td>5069</td><td>Amanda Ball</td><td>25</td><td>2016-01-13T17:36:30Z</td></tr><tr><td>3089</td><td>Abigail Ali</td><td>20</td><td>2015-10-24T11:23:51Z</td></tr><tr><td>8653</td><td>Tammy Davis</td><td>24</td><td>2016-03-09T10:48:14Z</td></tr><tr><td>7166</td><td>Alvin Adams</td><td>20</td><td>2016-01-01T13:50:40Z</td></tr><tr><td>9546</td><td>Alex Barnes</td><td>20</td><td>2016-02-27T21:13:44Z</td></tr><tr><td>5468</td><td>Lisa Gamble</td><td>20</td><td>2016-07-23T20:51:06Z</td></tr><tr><td>205</td><td>Brett Bryant</td><td>20</td><td>2015-10-23T12:40:19Z</td></tr><tr><td>719</td><td>Alicia Avila</td><td>20</td><td>2016-01-26T01:49:23Z</td></tr><tr><td>1094</td><td>Ann Elliott</td><td>20</td><td>2016-07-02T02:32:30Z</td></tr><tr><td>223</td><td>Melanie Hill</td><td>51</td><td>2016-10-09T14:47:51Z</td></tr><tr><td>2637</td><td>Shawn Jones</td><td>32</td><td>2016-08-23T20:36:12Z</td></tr><tr><td>2060</td><td>Joshua Long</td><td>27</td><td>2016-12-18T10:11:23Z</td></tr><tr><td>9487</td><td>Jose Bailey</td><td>21</td><td>2016-01-10T09:41:14Z</td></tr><tr><td>7528</td><td>Abigail Ali</td><td>20</td><td>2015-10-24T11:23:51Z</td></tr><tr><td>5494</td><td>Anne Allen</td><td>27</td><td>2015-12-16T15:20:05Z</td></tr><tr><td>10663</td><td>Julie Cox</td><td>23</td><td>2016-06-23T14:38:00Z</td></tr><tr><td>1704</td><td>Barry Lynn</td><td>20</td><td>2015-10-28T05:00:33Z</td></tr><tr><td>2482</td><td>David Moss</td><td>22</td><td>2016-03-01T07:11:48Z</td></tr><tr><td>159</td><td>Alison Bell</td><td>21</td><td>2016-01-07T08:11:35Z</td></tr><tr><td>5309</td><td>Daniel Roy</td><td>31</td><td>2016-03-07T01:01:24Z</td></tr><tr><td>327</td><td>Jill Taylor</td><td>39</td><td>2015-12-04T03:15:28Z</td></tr><tr><td>2293</td><td>Alex Bean</td><td>24</td><td>2016-01-11T23:08:27Z</td></tr><tr><td>46</td><td>Erik Kelley</td><td>30</td><td>2016-01-06T09:58:56Z</td></tr><tr><td>2858</td><td>Anne Bond</td><td>21</td><td>2015-12-27T23:43:42Z</td></tr><tr><td>8578</td><td>Joe Pham</td><td>48</td><td>2017-06-01T23:13:27Z</td></tr><tr><td>427</td><td>Jon Burke</td><td>25</td><td>2015-11-26T17:42:37Z</td></tr></tbody></table></div>"
      ]
     },
     "metadata": {
      "application/vnd.databricks.v1+output": {
       "addedWidgets": {},
       "aggData": [],
       "aggError": "",
       "aggOverflow": false,
       "aggSchema": [],
       "aggSeriesLimitReached": false,
       "aggType": "",
       "arguments": {},
       "columnCustomDisplayInfos": {},
       "data": [
        [
         2015,
         "Christopher Bradshaw",
         27,
         "2016-03-08T13:38:37Z"
        ],
        [
         10673,
         "Alexander Cervantes",
         59,
         "2017-05-12T21:22:17Z"
        ],
        [
         6398,
         "Christina Davenport",
         39,
         "2016-06-29T20:43:59Z"
        ],
        [
         3599,
         "Alexandria Alvarado",
         20,
         "2015-10-23T04:13:23Z"
        ],
        [
         5076,
         "Christopher Butler",
         20,
         "2015-12-01T15:08:31Z"
        ],
        [
         7790,
         "Michelle Gutierrez",
         39,
         "2017-07-19T07:12:04Z"
        ],
        [
         10509,
         "Brittany Thompson",
         49,
         "2016-04-22T20:36:02Z"
        ],
        [
         10119,
         "Chelsea Gonzalez",
         43,
         "2016-07-21T15:25:08Z"
        ],
        [
         8731,
         "Andrea Alexander",
         21,
         "2015-11-10T09:27:42Z"
        ],
        [
         8887,
         "Austin Rodriguez",
         24,
         "2016-03-31T20:56:39Z"
        ],
        [
         7768,
         "Christine Cortez",
         23,
         "2015-12-01T18:15:02Z"
        ],
        [
         4315,
         "Michelle Prince",
         36,
         "2015-12-20T16:38:13Z"
        ],
        [
         10625,
         "Christian Lang",
         32,
         "2017-10-10T20:09:33Z"
        ],
        [
         9672,
         "Jennifer Hudson",
         22,
         "2016-02-11T20:46:04Z"
        ],
        [
         8930,
         "Andrew Anderson",
         23,
         "2015-11-28T11:52:37Z"
        ],
        [
         6566,
         "Alexander Perez",
         31,
         "2017-08-04T14:30:22Z"
        ],
        [
         3729,
         "Richard Edwards",
         52,
         "2016-02-07T20:00:25Z"
        ],
        [
         10552,
         "Michael Hunter",
         40,
         "2017-05-16T07:09:21Z"
        ],
        [
         9074,
         "Aaron Alexander",
         21,
         "2015-10-25T07:36:08Z"
        ],
        [
         3201,
         "Elizabeth Terry",
         28,
         "2016-01-29T20:32:05Z"
        ],
        [
         1313,
         "Brittany Jones",
         32,
         "2016-04-02T03:51:23Z"
        ],
        [
         10794,
         "Thomas Turner",
         34,
         "2016-12-22T00:02:02Z"
        ],
        [
         2959,
         "David Griffith",
         20,
         "2016-01-07T19:49:22Z"
        ],
        [
         9875,
         "Brendan Joseph",
         26,
         "2015-12-20T10:28:00Z"
        ],
        [
         2074,
         "Annette Forbes",
         21,
         "2016-01-03T15:42:12Z"
        ],
        [
         1014,
         "Gregory Ramsey",
         56,
         "2016-10-15T17:21:39Z"
        ],
        [
         4137,
         "Michael Decker",
         59,
         "2017-06-29T22:35:17Z"
        ],
        [
         2411,
         "Aaron Bartlett",
         21,
         "2015-11-24T02:15:36Z"
        ],
        [
         4508,
         "Michael Carter",
         58,
         "2016-06-03T23:35:30Z"
        ],
        [
         771,
         "Brittany Butler",
         32,
         "2016-03-10T04:11:31Z"
        ],
        [
         1545,
         "Jonathan Avila",
         46,
         "2015-11-27T23:11:21Z"
        ],
        [
         603,
         "Brandon Jackson",
         44,
         "2016-10-29T02:07:21Z"
        ],
        [
         5630,
         "Carlos Estrada",
         22,
         "2016-02-09T17:01:38Z"
        ],
        [
         1268,
         "Donna Campbell",
         32,
         "2016-06-08T22:10:13Z"
        ],
        [
         1555,
         "Alexis Bennett",
         54,
         "2016-05-15T04:22:01Z"
        ],
        [
         3800,
         "Adam Armstrong",
         20,
         "2015-12-17T08:43:40Z"
        ],
        [
         8304,
         "Charles Berry",
         25,
         "2015-12-28T04:21:39Z"
        ],
        [
         6063,
         "Corey Andrews",
         23,
         "2015-11-25T13:36:22Z"
        ],
        [
         3454,
         "Robert Murphy",
         48,
         "2017-09-26T16:31:56Z"
        ],
        [
         7554,
         "Cheryl Huerta",
         20,
         "2017-04-11T16:35:33Z"
        ],
        [
         6145,
         "Emily Hawkins",
         30,
         "2015-12-25T20:24:37Z"
        ],
        [
         9979,
         "Kaylee Miller",
         31,
         "2016-11-09T19:50:51Z"
        ],
        [
         4913,
         "Angela Brooks",
         24,
         "2015-11-20T05:37:11Z"
        ],
        [
         9759,
         "Daniel Brooks",
         25,
         "2015-11-19T21:24:33Z"
        ],
        [
         7294,
         "Dawn Anderson",
         20,
         "2016-12-31T00:06:36Z"
        ],
        [
         808,
         "Aaron Bartlett",
         21,
         "2015-11-24T02:15:36Z"
        ],
        [
         9936,
         "Anthony Cantu",
         28,
         "2016-11-15T10:40:03Z"
        ],
        [
         6844,
         "Peter Roberts",
         30,
         "2016-07-03T10:59:40Z"
        ],
        [
         3419,
         "Aaron Jenkins",
         47,
         "2017-04-26T03:26:23Z"
        ],
        [
         4988,
         "Rhonda Durham",
         25,
         "2017-07-20T05:51:23Z"
        ],
        [
         552,
         "Regina Morales",
         20,
         "2017-01-17T01:49:27Z"
        ],
        [
         8312,
         "Daniel Brooks",
         25,
         "2015-11-19T21:24:33Z"
        ],
        [
         6261,
         "Nicholas Hart",
         38,
         "2015-10-26T09:45:45Z"
        ],
        [
         5758,
         "Amanda Arnold",
         20,
         "2015-10-26T23:04:52Z"
        ],
        [
         1137,
         "Virginia Vega",
         38,
         "2017-05-03T03:08:33Z"
        ],
        [
         2863,
         "Dylan Holmes",
         32,
         "2016-10-23T14:06:51Z"
        ],
        [
         5730,
         "Rachel Davis",
         36,
         "2015-12-08T20:02:43Z"
        ],
        [
         2923,
         "Brian Nelson",
         26,
         "2015-11-11T03:20:57Z"
        ],
        [
         2418,
         "Amanda Adams",
         20,
         "2015-10-21T08:27:36Z"
        ],
        [
         3156,
         "Andrew Baker",
         22,
         "2015-12-21T08:06:54Z"
        ],
        [
         428,
         "Claudia Adams",
         20,
         "2015-11-28T02:20:29Z"
        ],
        [
         7343,
         "Anne Clayton",
         24,
         "2016-01-11T12:03:48Z"
        ],
        [
         10138,
         "Carol Silva",
         22,
         "2015-12-31T14:57:02Z"
        ],
        [
         7922,
         "Denise Adams",
         21,
         "2015-11-12T06:21:36Z"
        ],
        [
         9590,
         "Amanda Allen",
         22,
         "2015-10-24T18:56:30Z"
        ],
        [
         2698,
         "Kayla Burton",
         44,
         "2017-06-21T19:53:27Z"
        ],
        [
         831,
         "Aimee Collins",
         28,
         "2016-06-16T02:06:38Z"
        ],
        [
         8606,
         "Denise Adams",
         21,
         "2015-11-12T06:21:36Z"
        ],
        [
         4076,
         "Larry Pineda",
         20,
         "2015-10-23T22:47:39Z"
        ],
        [
         1422,
         "Aaron Abbott",
         20,
         "2015-10-31T18:51:07Z"
        ],
        [
         1371,
         "Amanda Brown",
         20,
         "2015-11-12T03:23:49Z"
        ],
        [
         2604,
         "Ashley Evans",
         30,
         "2016-02-21T12:54:01Z"
        ],
        [
         1198,
         "Ariana Gross",
         59,
         "2016-12-17T11:10:48Z"
        ],
        [
         10370,
         "Derrick Kim",
         30,
         "2016-12-21T13:39:14Z"
        ],
        [
         7167,
         "Dawn Bradley",
         20,
         "2016-08-26T16:09:52Z"
        ],
        [
         772,
         "Glenn Hammond",
         25,
         "2016-04-27T02:59:27Z"
        ],
        [
         7510,
         "Debra Becker",
         20,
         "2016-07-27T06:20:48Z"
        ],
        [
         7234,
         "Angela Allen",
         20,
         "2015-10-26T04:12:32Z"
        ],
        [
         2863,
         "Dylan Holmes",
         32,
         "2016-10-23T14:06:51Z"
        ],
        [
         5730,
         "Rachel Davis",
         36,
         "2015-12-08T20:02:43Z"
        ],
        [
         7528,
         "Abigail Ali",
         20,
         "2015-10-24T11:23:51Z"
        ],
        [
         5069,
         "Amanda Ball",
         25,
         "2016-01-13T17:36:30Z"
        ],
        [
         3089,
         "Abigail Ali",
         20,
         "2015-10-24T11:23:51Z"
        ],
        [
         8653,
         "Tammy Davis",
         24,
         "2016-03-09T10:48:14Z"
        ],
        [
         7166,
         "Alvin Adams",
         20,
         "2016-01-01T13:50:40Z"
        ],
        [
         9546,
         "Alex Barnes",
         20,
         "2016-02-27T21:13:44Z"
        ],
        [
         5468,
         "Lisa Gamble",
         20,
         "2016-07-23T20:51:06Z"
        ],
        [
         205,
         "Brett Bryant",
         20,
         "2015-10-23T12:40:19Z"
        ],
        [
         719,
         "Alicia Avila",
         20,
         "2016-01-26T01:49:23Z"
        ],
        [
         1094,
         "Ann Elliott",
         20,
         "2016-07-02T02:32:30Z"
        ],
        [
         223,
         "Melanie Hill",
         51,
         "2016-10-09T14:47:51Z"
        ],
        [
         2637,
         "Shawn Jones",
         32,
         "2016-08-23T20:36:12Z"
        ],
        [
         2060,
         "Joshua Long",
         27,
         "2016-12-18T10:11:23Z"
        ],
        [
         9487,
         "Jose Bailey",
         21,
         "2016-01-10T09:41:14Z"
        ],
        [
         7528,
         "Abigail Ali",
         20,
         "2015-10-24T11:23:51Z"
        ],
        [
         5494,
         "Anne Allen",
         27,
         "2015-12-16T15:20:05Z"
        ],
        [
         10663,
         "Julie Cox",
         23,
         "2016-06-23T14:38:00Z"
        ],
        [
         1704,
         "Barry Lynn",
         20,
         "2015-10-28T05:00:33Z"
        ],
        [
         2482,
         "David Moss",
         22,
         "2016-03-01T07:11:48Z"
        ],
        [
         159,
         "Alison Bell",
         21,
         "2016-01-07T08:11:35Z"
        ],
        [
         5309,
         "Daniel Roy",
         31,
         "2016-03-07T01:01:24Z"
        ],
        [
         327,
         "Jill Taylor",
         39,
         "2015-12-04T03:15:28Z"
        ],
        [
         2293,
         "Alex Bean",
         24,
         "2016-01-11T23:08:27Z"
        ],
        [
         46,
         "Erik Kelley",
         30,
         "2016-01-06T09:58:56Z"
        ],
        [
         2858,
         "Anne Bond",
         21,
         "2015-12-27T23:43:42Z"
        ],
        [
         8578,
         "Joe Pham",
         48,
         "2017-06-01T23:13:27Z"
        ],
        [
         427,
         "Jon Burke",
         25,
         "2015-11-26T17:42:37Z"
        ]
       ],
       "datasetInfos": [],
       "dbfsResultPath": null,
       "isJsonSchema": true,
       "metadata": {},
       "overflow": false,
       "plotOptions": {
        "customPlotOptions": {},
        "displayType": "table",
        "pivotAggregation": null,
        "pivotColumns": null,
        "xColumns": null,
        "yColumns": null
       },
       "removedWidgets": [],
       "schema": [
        {
         "metadata": "{}",
         "name": "ind",
         "type": "\"long\""
        },
        {
         "metadata": "{}",
         "name": "user_name",
         "type": "\"string\""
        },
        {
         "metadata": "{}",
         "name": "age",
         "type": "\"long\""
        },
        {
         "metadata": "{}",
         "name": "date_joined",
         "type": "\"timestamp\""
        }
       ],
       "type": "table"
      }
     },
     "output_type": "display_data"
    }
   ],
   "source": [
    "file_location = \"s3a://user-12885f560a0b-bucket/topics/12885f560a0b.user/partition=0/*.json\" \n",
    "file_type = \"json\" \n",
    "infer_schema = \"true\"\n",
    "user_df = spark.read.format(file_type) \\\n",
    ".option(\"inferSchema\", infer_schema) \\\n",
    ".load(file_location)\n",
    "\n",
    "cleaned_user_df = clean_user_df(user_df)\n",
    "\n",
    "display(cleaned_user_df)"
   ]
  },
  {
   "cell_type": "markdown",
   "metadata": {
    "application/vnd.databricks.v1+cell": {
     "cellMetadata": {},
     "inputWidgets": {},
     "nuid": "fb208325-b690-4693-8e8d-32bbc378158f",
     "showTitle": false,
     "tableResultSettingsMap": {},
     "title": ""
    }
   },
   "source": [
    "#### Query to find the most popular post category by country\n",
    "This is done by joining the geo_df with the pin_df(using 'ind' as the common series), then grouping by both the category and country columns and applying the `count` aggregation function:"
   ]
  },
  {
   "cell_type": "code",
   "execution_count": 0,
   "metadata": {
    "application/vnd.databricks.v1+cell": {
     "cellMetadata": {
      "byteLimit": 2048000,
      "rowLimit": 10000
     },
     "inputWidgets": {},
     "nuid": "25a27d32-4914-40d6-bd70-7365152208e1",
     "showTitle": true,
     "tableResultSettingsMap": {},
     "title": "Most popular post category by country"
    }
   },
   "outputs": [
    {
     "output_type": "display_data",
     "data": {
      "text/html": [
       "<style scoped>\n",
       "  .table-result-container {\n",
       "    max-height: 300px;\n",
       "    overflow: auto;\n",
       "  }\n",
       "  table, th, td {\n",
       "    border: 1px solid black;\n",
       "    border-collapse: collapse;\n",
       "  }\n",
       "  th, td {\n",
       "    padding: 5px;\n",
       "  }\n",
       "  th {\n",
       "    text-align: left;\n",
       "  }\n",
       "</style><div class='table-result-container'><table class='table-result'><thead style='background-color: white'><tr><th>country</th><th>category</th><th>category_count</th></tr></thead><tbody><tr><td>Armenia</td><td>diy-and-crafts</td><td>7</td></tr><tr><td>Colombia</td><td>finance</td><td>4</td></tr><tr><td>Albania</td><td>mens-fashion</td><td>4</td></tr><tr><td>Australia</td><td>mens-fashion</td><td>2</td></tr><tr><td>Isle of Man</td><td>art</td><td>2</td></tr><tr><td>Austria</td><td>travel</td><td>2</td></tr><tr><td>Aruba</td><td>mens-fashion</td><td>2</td></tr><tr><td>Ecuador</td><td>mens-fashion</td><td>1</td></tr><tr><td>Mozambique</td><td>home-decor</td><td>1</td></tr><tr><td>Dominican Republic</td><td>travel</td><td>1</td></tr><tr><td>American Samoa</td><td>travel</td><td>1</td></tr><tr><td>Bhutan</td><td>diy-and-crafts</td><td>1</td></tr><tr><td>Argentina</td><td>diy-and-crafts</td><td>1</td></tr><tr><td>Bermuda</td><td>christmas</td><td>1</td></tr><tr><td>Christmas Island</td><td>travel</td><td>1</td></tr><tr><td>Antigua and Barbuda</td><td>christmas</td><td>1</td></tr><tr><td>British Virgin Islands</td><td>christmas</td><td>1</td></tr><tr><td>Montserrat</td><td>art</td><td>1</td></tr><tr><td>Cote d'Ivoire</td><td>education</td><td>1</td></tr><tr><td>Antigua and Barbuda</td><td>quotes</td><td>1</td></tr><tr><td>Afghanistan</td><td>education</td><td>1</td></tr><tr><td>Andorra</td><td>tattoos</td><td>1</td></tr><tr><td>Germany</td><td>event-planning</td><td>1</td></tr><tr><td>Mauritania</td><td>education</td><td>1</td></tr><tr><td>American Samoa</td><td>quotes</td><td>1</td></tr><tr><td>Philippines</td><td>event-planning</td><td>1</td></tr><tr><td>Christmas Island</td><td>christmas</td><td>1</td></tr><tr><td>Egypt</td><td>diy-and-crafts</td><td>1</td></tr><tr><td>Azerbaijan</td><td>event-planning</td><td>1</td></tr><tr><td>Andorra</td><td>art</td><td>1</td></tr><tr><td>Antigua and Barbuda</td><td>tattoos</td><td>1</td></tr><tr><td>Anguilla</td><td>home-decor</td><td>1</td></tr><tr><td>Antarctica (the territory South of 60 deg S)</td><td>christmas</td><td>1</td></tr><tr><td>Bulgaria</td><td>finance</td><td>1</td></tr><tr><td>India</td><td>travel</td><td>1</td></tr><tr><td>Central African Republic</td><td>christmas</td><td>1</td></tr><tr><td>Cambodia</td><td>diy-and-crafts</td><td>1</td></tr><tr><td>Grenada</td><td>vehicles</td><td>1</td></tr><tr><td>Armenia</td><td>christmas</td><td>1</td></tr><tr><td>Finland</td><td>vehicles</td><td>1</td></tr><tr><td>Canada</td><td>travel</td><td>1</td></tr><tr><td>Angola</td><td>diy-and-crafts</td><td>1</td></tr><tr><td>Bangladesh</td><td>art</td><td>1</td></tr><tr><td>Netherlands Antilles</td><td>art</td><td>1</td></tr><tr><td>Monaco</td><td>art</td><td>1</td></tr><tr><td>Congo</td><td>art</td><td>1</td></tr><tr><td>Australia</td><td>education</td><td>1</td></tr><tr><td>Armenia</td><td>art</td><td>1</td></tr><tr><td>Albania</td><td>home-decor</td><td>1</td></tr><tr><td>Anguilla</td><td>beauty</td><td>1</td></tr><tr><td>Seychelles</td><td>beauty</td><td>1</td></tr><tr><td>Albania</td><td>christmas</td><td>1</td></tr><tr><td>Aruba</td><td>education</td><td>1</td></tr><tr><td>Aruba</td><td>event-planning</td><td>1</td></tr><tr><td>Andorra</td><td>beauty</td><td>1</td></tr><tr><td>Guinea-Bissau</td><td>tattoos</td><td>1</td></tr><tr><td>Barbados</td><td>travel</td><td>1</td></tr><tr><td>Cape Verde</td><td>home-decor</td><td>1</td></tr><tr><td>Gibraltar</td><td>art</td><td>1</td></tr><tr><td>Lesotho</td><td>art</td><td>1</td></tr><tr><td>Turkey</td><td>education</td><td>1</td></tr><tr><td>Argentina</td><td>tattoos</td><td>1</td></tr><tr><td>French Guiana</td><td>quotes</td><td>1</td></tr><tr><td>Finland</td><td>beauty</td><td>1</td></tr><tr><td>Azerbaijan</td><td>finance</td><td>1</td></tr><tr><td>Isle of Man</td><td>finance</td><td>1</td></tr><tr><td>American Samoa</td><td>beauty</td><td>1</td></tr><tr><td>Seychelles</td><td>tattoos</td><td>1</td></tr><tr><td>Aruba</td><td>tattoos</td><td>1</td></tr><tr><td>Botswana</td><td>tattoos</td><td>1</td></tr><tr><td>Papua New Guinea</td><td>quotes</td><td>1</td></tr><tr><td>Saint Kitts and Nevis</td><td>vehicles</td><td>1</td></tr><tr><td>Barbados</td><td>art</td><td>1</td></tr><tr><td>Tunisia</td><td>diy-and-crafts</td><td>1</td></tr><tr><td>Gibraltar</td><td>vehicles</td><td>1</td></tr><tr><td>Marshall Islands</td><td>home-decor</td><td>1</td></tr><tr><td>Algeria</td><td>beauty</td><td>1</td></tr><tr><td>Maldives</td><td>beauty</td><td>1</td></tr><tr><td>Algeria</td><td>mens-fashion</td><td>1</td></tr><tr><td>Australia</td><td>travel</td><td>1</td></tr><tr><td>Trinidad and Tobago</td><td>christmas</td><td>1</td></tr><tr><td>Bahrain</td><td>finance</td><td>1</td></tr><tr><td>Maldives</td><td>finance</td><td>1</td></tr><tr><td>Albania</td><td>art</td><td>1</td></tr><tr><td>Cote d'Ivoire</td><td>diy-and-crafts</td><td>1</td></tr><tr><td>Algeria</td><td>quotes</td><td>1</td></tr><tr><td>Sudan</td><td>mens-fashion</td><td>1</td></tr><tr><td>Afghanistan</td><td>art</td><td>1</td></tr><tr><td>Argentina</td><td>beauty</td><td>1</td></tr><tr><td>Cocos (Keeling) Islands</td><td>vehicles</td><td>1</td></tr><tr><td>Madagascar</td><td>event-planning</td><td>1</td></tr><tr><td>Tonga</td><td>beauty</td><td>1</td></tr><tr><td>Jamaica</td><td>vehicles</td><td>1</td></tr><tr><td>New Caledonia</td><td>mens-fashion</td><td>1</td></tr><tr><td>Armenia</td><td>beauty</td><td>1</td></tr><tr><td>Pitcairn Islands</td><td>diy-and-crafts</td><td>1</td></tr><tr><td>Nicaragua</td><td>vehicles</td><td>1</td></tr><tr><td>Albania</td><td>diy-and-crafts</td><td>1</td></tr><tr><td>Algeria</td><td>travel</td><td>1</td></tr></tbody></table></div>"
      ]
     },
     "metadata": {
      "application/vnd.databricks.v1+output": {
       "addedWidgets": {},
       "aggData": [],
       "aggError": "",
       "aggOverflow": false,
       "aggSchema": [],
       "aggSeriesLimitReached": false,
       "aggType": "",
       "arguments": {},
       "columnCustomDisplayInfos": {},
       "data": [
        [
         "Armenia",
         "diy-and-crafts",
         7
        ],
        [
         "Colombia",
         "finance",
         4
        ],
        [
         "Albania",
         "mens-fashion",
         4
        ],
        [
         "Australia",
         "mens-fashion",
         2
        ],
        [
         "Isle of Man",
         "art",
         2
        ],
        [
         "Austria",
         "travel",
         2
        ],
        [
         "Aruba",
         "mens-fashion",
         2
        ],
        [
         "Ecuador",
         "mens-fashion",
         1
        ],
        [
         "Mozambique",
         "home-decor",
         1
        ],
        [
         "Dominican Republic",
         "travel",
         1
        ],
        [
         "American Samoa",
         "travel",
         1
        ],
        [
         "Bhutan",
         "diy-and-crafts",
         1
        ],
        [
         "Argentina",
         "diy-and-crafts",
         1
        ],
        [
         "Bermuda",
         "christmas",
         1
        ],
        [
         "Christmas Island",
         "travel",
         1
        ],
        [
         "Antigua and Barbuda",
         "christmas",
         1
        ],
        [
         "British Virgin Islands",
         "christmas",
         1
        ],
        [
         "Montserrat",
         "art",
         1
        ],
        [
         "Cote d'Ivoire",
         "education",
         1
        ],
        [
         "Antigua and Barbuda",
         "quotes",
         1
        ],
        [
         "Afghanistan",
         "education",
         1
        ],
        [
         "Andorra",
         "tattoos",
         1
        ],
        [
         "Germany",
         "event-planning",
         1
        ],
        [
         "Mauritania",
         "education",
         1
        ],
        [
         "American Samoa",
         "quotes",
         1
        ],
        [
         "Philippines",
         "event-planning",
         1
        ],
        [
         "Christmas Island",
         "christmas",
         1
        ],
        [
         "Egypt",
         "diy-and-crafts",
         1
        ],
        [
         "Azerbaijan",
         "event-planning",
         1
        ],
        [
         "Andorra",
         "art",
         1
        ],
        [
         "Antigua and Barbuda",
         "tattoos",
         1
        ],
        [
         "Anguilla",
         "home-decor",
         1
        ],
        [
         "Antarctica (the territory South of 60 deg S)",
         "christmas",
         1
        ],
        [
         "Bulgaria",
         "finance",
         1
        ],
        [
         "India",
         "travel",
         1
        ],
        [
         "Central African Republic",
         "christmas",
         1
        ],
        [
         "Cambodia",
         "diy-and-crafts",
         1
        ],
        [
         "Grenada",
         "vehicles",
         1
        ],
        [
         "Armenia",
         "christmas",
         1
        ],
        [
         "Finland",
         "vehicles",
         1
        ],
        [
         "Canada",
         "travel",
         1
        ],
        [
         "Angola",
         "diy-and-crafts",
         1
        ],
        [
         "Bangladesh",
         "art",
         1
        ],
        [
         "Netherlands Antilles",
         "art",
         1
        ],
        [
         "Monaco",
         "art",
         1
        ],
        [
         "Congo",
         "art",
         1
        ],
        [
         "Australia",
         "education",
         1
        ],
        [
         "Armenia",
         "art",
         1
        ],
        [
         "Albania",
         "home-decor",
         1
        ],
        [
         "Anguilla",
         "beauty",
         1
        ],
        [
         "Seychelles",
         "beauty",
         1
        ],
        [
         "Albania",
         "christmas",
         1
        ],
        [
         "Aruba",
         "education",
         1
        ],
        [
         "Aruba",
         "event-planning",
         1
        ],
        [
         "Andorra",
         "beauty",
         1
        ],
        [
         "Guinea-Bissau",
         "tattoos",
         1
        ],
        [
         "Barbados",
         "travel",
         1
        ],
        [
         "Cape Verde",
         "home-decor",
         1
        ],
        [
         "Gibraltar",
         "art",
         1
        ],
        [
         "Lesotho",
         "art",
         1
        ],
        [
         "Turkey",
         "education",
         1
        ],
        [
         "Argentina",
         "tattoos",
         1
        ],
        [
         "French Guiana",
         "quotes",
         1
        ],
        [
         "Finland",
         "beauty",
         1
        ],
        [
         "Azerbaijan",
         "finance",
         1
        ],
        [
         "Isle of Man",
         "finance",
         1
        ],
        [
         "American Samoa",
         "beauty",
         1
        ],
        [
         "Seychelles",
         "tattoos",
         1
        ],
        [
         "Aruba",
         "tattoos",
         1
        ],
        [
         "Botswana",
         "tattoos",
         1
        ],
        [
         "Papua New Guinea",
         "quotes",
         1
        ],
        [
         "Saint Kitts and Nevis",
         "vehicles",
         1
        ],
        [
         "Barbados",
         "art",
         1
        ],
        [
         "Tunisia",
         "diy-and-crafts",
         1
        ],
        [
         "Gibraltar",
         "vehicles",
         1
        ],
        [
         "Marshall Islands",
         "home-decor",
         1
        ],
        [
         "Algeria",
         "beauty",
         1
        ],
        [
         "Maldives",
         "beauty",
         1
        ],
        [
         "Algeria",
         "mens-fashion",
         1
        ],
        [
         "Australia",
         "travel",
         1
        ],
        [
         "Trinidad and Tobago",
         "christmas",
         1
        ],
        [
         "Bahrain",
         "finance",
         1
        ],
        [
         "Maldives",
         "finance",
         1
        ],
        [
         "Albania",
         "art",
         1
        ],
        [
         "Cote d'Ivoire",
         "diy-and-crafts",
         1
        ],
        [
         "Algeria",
         "quotes",
         1
        ],
        [
         "Sudan",
         "mens-fashion",
         1
        ],
        [
         "Afghanistan",
         "art",
         1
        ],
        [
         "Argentina",
         "beauty",
         1
        ],
        [
         "Cocos (Keeling) Islands",
         "vehicles",
         1
        ],
        [
         "Madagascar",
         "event-planning",
         1
        ],
        [
         "Tonga",
         "beauty",
         1
        ],
        [
         "Jamaica",
         "vehicles",
         1
        ],
        [
         "New Caledonia",
         "mens-fashion",
         1
        ],
        [
         "Armenia",
         "beauty",
         1
        ],
        [
         "Pitcairn Islands",
         "diy-and-crafts",
         1
        ],
        [
         "Nicaragua",
         "vehicles",
         1
        ],
        [
         "Albania",
         "diy-and-crafts",
         1
        ],
        [
         "Algeria",
         "travel",
         1
        ]
       ],
       "datasetInfos": [],
       "dbfsResultPath": null,
       "isJsonSchema": true,
       "metadata": {},
       "overflow": false,
       "plotOptions": {
        "customPlotOptions": {},
        "displayType": "table",
        "pivotAggregation": null,
        "pivotColumns": null,
        "xColumns": null,
        "yColumns": null
       },
       "removedWidgets": [],
       "schema": [
        {
         "metadata": "{}",
         "name": "country",
         "type": "\"string\""
        },
        {
         "metadata": "{}",
         "name": "category",
         "type": "\"string\""
        },
        {
         "metadata": "{}",
         "name": "category_count",
         "type": "\"long\""
        }
       ],
       "type": "table"
      }
     },
     "output_type": "display_data"
    }
   ],
   "source": [
    "joined_df = cleaned_geo_df.join(cleaned_pin_df, cleaned_geo_df.ind == cleaned_pin_df.ind, \"inner\").select(\"country\", \"category\")\n",
    "\n",
    "popular_category_df = joined_df.groupBy(\"country\", \"category\").agg({\"category\": \"count\"}).withColumnRenamed(\"count(category)\", \"category_count\").orderBy(\"category_count\", ascending=False)\n",
    "\n",
    "display(popular_category_df)"
   ]
  },
  {
   "cell_type": "markdown",
   "metadata": {
    "application/vnd.databricks.v1+cell": {
     "cellMetadata": {},
     "inputWidgets": {},
     "nuid": "6ac8e287-8d8b-4986-8121-5aaf2cf39d68",
     "showTitle": false,
     "tableResultSettingsMap": {},
     "title": ""
    }
   },
   "source": [
    "#### Query to find the most popular post category by year\n",
    "To do this, the 'post_year' is first extracted from the timestamp into a new series. The dataframe is then grouped with respect to this series and the count aggregator applied like before.\n",
    "##### Sub query: How many posts did each category have between 2018 and 2022?\n",
    "With the 'post_year' series created, this is simply a matter of grouping the dataframe by year, then category and sorting the resulting series from highest to lowest. The result must also be filtered to only include records from 2018-2022."
   ]
  },
  {
   "cell_type": "code",
   "execution_count": 0,
   "metadata": {
    "application/vnd.databricks.v1+cell": {
     "cellMetadata": {
      "byteLimit": 2048000,
      "rowLimit": 10000
     },
     "inputWidgets": {},
     "nuid": "21f4c1d2-07eb-4b89-b410-44b03cad3127",
     "showTitle": true,
     "tableResultSettingsMap": {},
     "title": "Most popular post category by year"
    }
   },
   "outputs": [
    {
     "output_type": "display_data",
     "data": {
      "text/html": [
       "<style scoped>\n",
       "  .table-result-container {\n",
       "    max-height: 300px;\n",
       "    overflow: auto;\n",
       "  }\n",
       "  table, th, td {\n",
       "    border: 1px solid black;\n",
       "    border-collapse: collapse;\n",
       "  }\n",
       "  th, td {\n",
       "    padding: 5px;\n",
       "  }\n",
       "  th {\n",
       "    text-align: left;\n",
       "  }\n",
       "</style><div class='table-result-container'><table class='table-result'><thead style='background-color: white'><tr><th>post_year</th><th>category</th><th>category_count</th></tr></thead><tbody><tr><td>2018</td><td>beauty</td><td>4</td></tr><tr><td>2019</td><td>education</td><td>4</td></tr><tr><td>2018</td><td>travel</td><td>4</td></tr><tr><td>2018</td><td>art</td><td>4</td></tr><tr><td>2022</td><td>art</td><td>3</td></tr><tr><td>2019</td><td>travel</td><td>3</td></tr><tr><td>2018</td><td>christmas</td><td>3</td></tr><tr><td>2021</td><td>tattoos</td><td>3</td></tr><tr><td>2021</td><td>diy-and-crafts</td><td>3</td></tr><tr><td>2019</td><td>event-planning</td><td>3</td></tr><tr><td>2020</td><td>art</td><td>3</td></tr><tr><td>2018</td><td>diy-and-crafts</td><td>3</td></tr><tr><td>2019</td><td>diy-and-crafts</td><td>3</td></tr><tr><td>2018</td><td>vehicles</td><td>2</td></tr><tr><td>2022</td><td>tattoos</td><td>2</td></tr><tr><td>2020</td><td>christmas</td><td>2</td></tr><tr><td>2018</td><td>education</td><td>2</td></tr><tr><td>2019</td><td>vehicles</td><td>2</td></tr><tr><td>2020</td><td>finance</td><td>2</td></tr><tr><td>2021</td><td>quotes</td><td>2</td></tr><tr><td>2019</td><td>christmas</td><td>2</td></tr><tr><td>2021</td><td>finance</td><td>2</td></tr><tr><td>2020</td><td>beauty</td><td>2</td></tr><tr><td>2018</td><td>mens-fashion</td><td>2</td></tr><tr><td>2020</td><td>home-decor</td><td>2</td></tr><tr><td>2018</td><td>quotes</td><td>2</td></tr><tr><td>2021</td><td>mens-fashion</td><td>2</td></tr><tr><td>2021</td><td>home-decor</td><td>2</td></tr><tr><td>2022</td><td>christmas</td><td>2</td></tr><tr><td>2019</td><td>mens-fashion</td><td>2</td></tr><tr><td>2020</td><td>travel</td><td>2</td></tr><tr><td>2022</td><td>beauty</td><td>2</td></tr><tr><td>2019</td><td>art</td><td>2</td></tr><tr><td>2021</td><td>event-planning</td><td>1</td></tr><tr><td>2019</td><td>home-decor</td><td>1</td></tr><tr><td>2020</td><td>mens-fashion</td><td>1</td></tr><tr><td>2018</td><td>tattoos</td><td>1</td></tr><tr><td>2020</td><td>diy-and-crafts</td><td>1</td></tr><tr><td>2020</td><td>event-planning</td><td>1</td></tr><tr><td>2022</td><td>mens-fashion</td><td>1</td></tr><tr><td>2019</td><td>finance</td><td>1</td></tr><tr><td>2018</td><td>finance</td><td>1</td></tr><tr><td>2022</td><td>vehicles</td><td>1</td></tr><tr><td>2021</td><td>art</td><td>1</td></tr><tr><td>2019</td><td>quotes</td><td>1</td></tr><tr><td>2021</td><td>vehicles</td><td>1</td></tr><tr><td>2022</td><td>diy-and-crafts</td><td>1</td></tr><tr><td>2020</td><td>vehicles</td><td>1</td></tr><tr><td>2019</td><td>beauty</td><td>1</td></tr><tr><td>2020</td><td>tattoos</td><td>1</td></tr></tbody></table></div>"
      ]
     },
     "metadata": {
      "application/vnd.databricks.v1+output": {
       "addedWidgets": {},
       "aggData": [],
       "aggError": "",
       "aggOverflow": false,
       "aggSchema": [],
       "aggSeriesLimitReached": false,
       "aggType": "",
       "arguments": {},
       "columnCustomDisplayInfos": {},
       "data": [
        [
         2018,
         "beauty",
         4
        ],
        [
         2019,
         "education",
         4
        ],
        [
         2018,
         "travel",
         4
        ],
        [
         2018,
         "art",
         4
        ],
        [
         2022,
         "art",
         3
        ],
        [
         2019,
         "travel",
         3
        ],
        [
         2018,
         "christmas",
         3
        ],
        [
         2021,
         "tattoos",
         3
        ],
        [
         2021,
         "diy-and-crafts",
         3
        ],
        [
         2019,
         "event-planning",
         3
        ],
        [
         2020,
         "art",
         3
        ],
        [
         2018,
         "diy-and-crafts",
         3
        ],
        [
         2019,
         "diy-and-crafts",
         3
        ],
        [
         2018,
         "vehicles",
         2
        ],
        [
         2022,
         "tattoos",
         2
        ],
        [
         2020,
         "christmas",
         2
        ],
        [
         2018,
         "education",
         2
        ],
        [
         2019,
         "vehicles",
         2
        ],
        [
         2020,
         "finance",
         2
        ],
        [
         2021,
         "quotes",
         2
        ],
        [
         2019,
         "christmas",
         2
        ],
        [
         2021,
         "finance",
         2
        ],
        [
         2020,
         "beauty",
         2
        ],
        [
         2018,
         "mens-fashion",
         2
        ],
        [
         2020,
         "home-decor",
         2
        ],
        [
         2018,
         "quotes",
         2
        ],
        [
         2021,
         "mens-fashion",
         2
        ],
        [
         2021,
         "home-decor",
         2
        ],
        [
         2022,
         "christmas",
         2
        ],
        [
         2019,
         "mens-fashion",
         2
        ],
        [
         2020,
         "travel",
         2
        ],
        [
         2022,
         "beauty",
         2
        ],
        [
         2019,
         "art",
         2
        ],
        [
         2021,
         "event-planning",
         1
        ],
        [
         2019,
         "home-decor",
         1
        ],
        [
         2020,
         "mens-fashion",
         1
        ],
        [
         2018,
         "tattoos",
         1
        ],
        [
         2020,
         "diy-and-crafts",
         1
        ],
        [
         2020,
         "event-planning",
         1
        ],
        [
         2022,
         "mens-fashion",
         1
        ],
        [
         2019,
         "finance",
         1
        ],
        [
         2018,
         "finance",
         1
        ],
        [
         2022,
         "vehicles",
         1
        ],
        [
         2021,
         "art",
         1
        ],
        [
         2019,
         "quotes",
         1
        ],
        [
         2021,
         "vehicles",
         1
        ],
        [
         2022,
         "diy-and-crafts",
         1
        ],
        [
         2020,
         "vehicles",
         1
        ],
        [
         2019,
         "beauty",
         1
        ],
        [
         2020,
         "tattoos",
         1
        ]
       ],
       "datasetInfos": [],
       "dbfsResultPath": null,
       "isJsonSchema": true,
       "metadata": {},
       "overflow": false,
       "plotOptions": {
        "customPlotOptions": {},
        "displayType": "table",
        "pivotAggregation": null,
        "pivotColumns": null,
        "xColumns": null,
        "yColumns": null
       },
       "removedWidgets": [],
       "schema": [
        {
         "metadata": "{}",
         "name": "post_year",
         "type": "\"integer\""
        },
        {
         "metadata": "{}",
         "name": "category",
         "type": "\"string\""
        },
        {
         "metadata": "{}",
         "name": "category_count",
         "type": "\"long\""
        }
       ],
       "type": "table"
      }
     },
     "output_type": "display_data"
    }
   ],
   "source": [
    "joined_df = cleaned_geo_df.join(cleaned_pin_df, cleaned_geo_df.ind == cleaned_pin_df.ind, \"inner\").withColumn(\"post_year\", year(\"timestamp\")).select(\"timestamp\", \"category\")\n",
    "\n",
    "popular_category_by_year_df = joined_df.withColumn(\"post_year\", year(\"timestamp\")).select(\"post_year\", \"category\").groupBy(\"post_year\", \"category\").agg({\"category\": \"count\"}).withColumnRenamed(\"count(category)\", \"category_count\").filter((col(\"post_year\") >= 2018) & (col(\"post_year\") <= 2022)).orderBy(\"category_count\", ascending=False)\n",
    "\n",
    "display(popular_category_by_year_df)"
   ]
  },
  {
   "cell_type": "markdown",
   "metadata": {
    "application/vnd.databricks.v1+cell": {
     "cellMetadata": {},
     "inputWidgets": {},
     "nuid": "96453560-737f-448b-8d85-0a1d22771af2",
     "showTitle": false,
     "tableResultSettingsMap": {},
     "title": ""
    }
   },
   "source": [
    "#### Query to find the user with the most followers in each country\n",
    "This is a matter of joining the 'geo' and 'pin' dataframes and sorting them by 'follower_count' in descending order.\n",
    "\n",
    "This information can then be used to easily identify the user with the most followers."
   ]
  },
  {
   "cell_type": "code",
   "execution_count": 0,
   "metadata": {
    "application/vnd.databricks.v1+cell": {
     "cellMetadata": {
      "byteLimit": 2048000,
      "rowLimit": 10000
     },
     "inputWidgets": {},
     "nuid": "f48fc47a-0a7f-4c32-88e5-a9404f91bd76",
     "showTitle": true,
     "tableResultSettingsMap": {},
     "title": "User with the most followers in each country"
    }
   },
   "outputs": [
    {
     "output_type": "display_data",
     "data": {
      "text/html": [
       "<style scoped>\n",
       "  .table-result-container {\n",
       "    max-height: 300px;\n",
       "    overflow: auto;\n",
       "  }\n",
       "  table, th, td {\n",
       "    border: 1px solid black;\n",
       "    border-collapse: collapse;\n",
       "  }\n",
       "  th, td {\n",
       "    padding: 5px;\n",
       "  }\n",
       "  th {\n",
       "    text-align: left;\n",
       "  }\n",
       "</style><div class='table-result-container'><table class='table-result'><thead style='background-color: white'><tr><th>country</th><th>poster_name</th><th>follower_count</th></tr></thead><tbody><tr><td>Azerbaijan</td><td>Style Me Pretty</td><td>6000000</td></tr><tr><td>American Samoa</td><td>BuzzFeed</td><td>5000000</td></tr><tr><td>Christmas Island</td><td>Instructables</td><td>3000000</td></tr><tr><td>Bangladesh</td><td>Architectural Digest</td><td>3000000</td></tr><tr><td>Afghanistan</td><td>Walmart</td><td>2000000</td></tr><tr><td>Andorra</td><td>Teachers Pay Teachers</td><td>1000000</td></tr><tr><td>Australia</td><td>Cultura Colectiva</td><td>1000000</td></tr><tr><td>Lesotho</td><td>The Guardian</td><td>908000</td></tr><tr><td>Armenia</td><td>Michelle {CraftyMorning.com}</td><td>892000</td></tr><tr><td>Aruba</td><td>GQ Magazine</td><td>874000</td></tr><tr><td>Central African Republic</td><td>PureWow</td><td>868000</td></tr><tr><td>Argentina</td><td>Next Luxury</td><td>800000</td></tr><tr><td>Andorra</td><td>Glaminati</td><td>799000</td></tr><tr><td>Pitcairn Islands</td><td>Marla Meridith</td><td>671000</td></tr><tr><td>Armenia</td><td>ArchitectureArtDesigns</td><td>616000</td></tr><tr><td>Algeria</td><td>Mens Fashion - LIFESTYLE BY PS </td><td>613000</td></tr><tr><td>Angola</td><td>CraftGossip.com</td><td>502000</td></tr><tr><td>Antarctica (the territory South of 60 deg S)</td><td>HikenDip</td><td>500000</td></tr><tr><td>Barbados</td><td>The Creativity Exchange</td><td>410000</td></tr><tr><td>Maldives</td><td>Passion For Savings</td><td>330000</td></tr><tr><td>Algeria</td><td>ELLE Germany</td><td>326000</td></tr><tr><td>Antigua and Barbuda</td><td>Sumcoco | Decor Ideas, Hairstyles, Nails Fashion Advice</td><td>306000</td></tr><tr><td>Antigua and Barbuda</td><td>Sumcoco | Decor Ideas, Hairstyles, Nails Fashion Advice</td><td>306000</td></tr><tr><td>British Virgin Islands</td><td>Kitchen Fun With My 3 Sons</td><td>245000</td></tr><tr><td>Monaco</td><td>Artists Network</td><td>227000</td></tr><tr><td>Aruba</td><td>TheTrendSpotter</td><td>211000</td></tr><tr><td>Cote d'Ivoire</td><td>The Crafting Chicks</td><td>192000</td></tr><tr><td>Andorra</td><td>Our Mindful Life</td><td>190000</td></tr><tr><td>Cape Verde</td><td>Sand and Sisal</td><td>178000</td></tr><tr><td>Saint Kitts and Nevis</td><td>vintagetopia</td><td>171000</td></tr><tr><td>Algeria</td><td>Fun Life Crisis</td><td>130000</td></tr><tr><td>Armenia</td><td>Of Life & Lisa | Lifestyle Blog</td><td>124000</td></tr><tr><td>Albania</td><td>MojisStyle</td><td>117000</td></tr><tr><td>Madagascar</td><td>MomAdvice</td><td>112000</td></tr><tr><td>Aruba</td><td>The Work at Home Woman</td><td>110000</td></tr><tr><td>Argentina</td><td>This Tiny  Blue House</td><td>108000</td></tr><tr><td>Anguilla</td><td>Kristen | Lifestyle, Mom Tips & Teacher Stuff Blog</td><td>92000</td></tr><tr><td>Gibraltar</td><td>TheSuperBOO!</td><td>89000</td></tr><tr><td>Austria</td><td>The World Pursuit Travel Website</td><td>89000</td></tr><tr><td>Anguilla</td><td>Thank Your Body</td><td>85000</td></tr><tr><td>Mozambique</td><td>Stylin by Aylin</td><td>83000</td></tr><tr><td>Tunisia</td><td>El blog amarillo</td><td>66000</td></tr><tr><td>Isle of Man</td><td>Abbotts At Home</td><td>52000</td></tr><tr><td>French Guiana</td><td>Commitment Connection</td><td>51000</td></tr><tr><td>Bermuda</td><td>Life on Summerhill | Home, Holiday Decor & DIY Website</td><td>46000</td></tr><tr><td>Bahrain</td><td>R.J. Weiss at The Ways To Wealth | Personal Finance | Debt Payoff</td><td>46000</td></tr><tr><td>Algeria</td><td>Boss Babe Chronicles | Personal Development, Finances, Self Care</td><td>45000</td></tr><tr><td>Maldives</td><td>Thrive Causemetics</td><td>43000</td></tr><tr><td>American Samoa</td><td>TheFab20s | Travel+Food+DIY+Listicles</td><td>42000</td></tr><tr><td>American Samoa</td><td>TheFab20s | Travel+Food+DIY+Listicles</td><td>42000</td></tr><tr><td>Antigua and Barbuda</td><td>Everyday Wholesome</td><td>31000</td></tr><tr><td>Isle of Man</td><td>Jasminxg</td><td>29000</td></tr><tr><td>Barbados</td><td>Nicki </td><td>28000</td></tr><tr><td>Australia</td><td>LLEGANCE | Workwear Fashion Woman Advice For Driven Professionals</td><td>28000</td></tr><tr><td>Afghanistan</td><td>It's me, JD | DIY, Crafts, Home & Organization</td><td>27000</td></tr><tr><td>Congo</td><td>Shawn Petite</td><td>27000</td></tr><tr><td>Bulgaria</td><td>Living Low Key | Save Money, Make Money, & Frugal Living</td><td>26000</td></tr><tr><td>Armenia</td><td>The Arty Teacher</td><td>25000</td></tr><tr><td>Cote d'Ivoire</td><td>Math Giraffe</td><td>25000</td></tr><tr><td>Mauritania</td><td>The Literacy Nest</td><td>22000</td></tr><tr><td>Australia</td><td>Jess Wandering</td><td>22000</td></tr><tr><td>Seychelles</td><td>ALL FOR WOMAN</td><td>21000</td></tr><tr><td>Albania</td><td>Projects with Kids</td><td>20000</td></tr><tr><td>Albania</td><td>Projects with Kids</td><td>20000</td></tr><tr><td>Azerbaijan</td><td>Esavingsblog</td><td>14000</td></tr><tr><td>Marshall Islands</td><td>Dashing Darlin' </td><td>13000</td></tr><tr><td>Aruba</td><td>Traci Bender - The Bender Bunch</td><td>11000</td></tr><tr><td>Austria</td><td>Wanderlust Chloe ✈️ Travel guides, inspo and adventure travel ✈️</td><td>10000</td></tr><tr><td>Egypt</td><td>South Lumina Style</td><td>9000</td></tr><tr><td>Nicaragua</td><td>Land Rover USA</td><td>9000</td></tr><tr><td>Turkey</td><td>My Little Poppies (Cait Curley, MA/CAGS)</td><td>9000</td></tr><tr><td>Christmas Island</td><td>OUR NEXT ADVENTURE | family travel blog</td><td>9000</td></tr><tr><td>Armenia</td><td>Jiew82633</td><td>8000</td></tr><tr><td>Jamaica</td><td>hobbyDB</td><td>8000</td></tr><tr><td>Netherlands Antilles</td><td>Kim Cook-Thirteen Chairs-Slates Mugs And Tees</td><td>7000</td></tr><tr><td>Canada</td><td>Diana's Healthy Living | Luxury Adventure Travel Blog</td><td>7000</td></tr><tr><td>India</td><td>Travel Mad Mum</td><td>7000</td></tr><tr><td>Cambodia</td><td>Mixed Media Crafts</td><td>6000</td></tr><tr><td>Germany</td><td>QC Career School</td><td>5000</td></tr><tr><td>Australia</td><td>Write Your Story | Budgeting, Healthy Lifestyle, Faith</td><td>5000</td></tr><tr><td>Botswana</td><td>RapidLeaks</td><td>4000</td></tr><tr><td>Montserrat</td><td>Taming Little Monsters - Fun Activities for Kids</td><td>4000</td></tr><tr><td>Argentina</td><td>Tony</td><td>3000</td></tr><tr><td>Dominican Republic</td><td>Petite in Paris</td><td>3000</td></tr><tr><td>Bhutan</td><td>Kids Crafts & Free Preschool Printables- Sharing Our Experiences</td><td>3000</td></tr><tr><td>Gibraltar</td><td>Learn Play Read</td><td>2000</td></tr><tr><td>Finland</td><td>Maggie Panning</td><td>1000</td></tr><tr><td>Sudan</td><td>iElylike ..✿◕‿◕✿ஐ✿◕‿◕✿</td><td>940</td></tr><tr><td>Cocos (Keeling) Islands</td><td>Ray Uyemura</td><td>437</td></tr><tr><td>New Caledonia</td><td>Au'vey Smith</td><td>377</td></tr><tr><td>Grenada</td><td>p hump</td><td>314</td></tr><tr><td>Isle of Man</td><td>Annamarie Hilton</td><td>313</td></tr><tr><td>Ecuador</td><td>Midwest Jewelers & Estate Buyers</td><td>265</td></tr><tr><td>Trinidad and Tobago</td><td>Syndi Mulcahy</td><td>254</td></tr><tr><td>Papua New Guinea</td><td>AnnaLee Kick</td><td>112</td></tr><tr><td>Philippines</td><td>Life of Neon | Custom Neon Light Signs | Home Decor Wall Art</td><td>111</td></tr><tr><td>Aruba</td><td>Mala Rock | Rock T-shirts</td><td>27</td></tr><tr><td>Finland</td><td>Mccready-romero</td><td>20</td></tr><tr><td>Seychelles</td><td>Awesthetics by Amy Wong</td><td>18</td></tr><tr><td>Guinea-Bissau</td><td>Livitrevisani</td><td>0</td></tr><tr><td>Colombia</td><td>Consuelo Aguirre</td><td>0</td></tr><tr><td>Tonga</td><td>Grecia Perales</td><td>0</td></tr><tr><td>Albania</td><td>null</td><td>0</td></tr><tr><td>Albania</td><td>null</td><td>0</td></tr></tbody></table></div>"
      ]
     },
     "metadata": {
      "application/vnd.databricks.v1+output": {
       "addedWidgets": {},
       "aggData": [],
       "aggError": "",
       "aggOverflow": false,
       "aggSchema": [],
       "aggSeriesLimitReached": false,
       "aggType": "",
       "arguments": {},
       "columnCustomDisplayInfos": {},
       "data": [
        [
         "Azerbaijan",
         "Style Me Pretty",
         6000000
        ],
        [
         "American Samoa",
         "BuzzFeed",
         5000000
        ],
        [
         "Christmas Island",
         "Instructables",
         3000000
        ],
        [
         "Bangladesh",
         "Architectural Digest",
         3000000
        ],
        [
         "Afghanistan",
         "Walmart",
         2000000
        ],
        [
         "Andorra",
         "Teachers Pay Teachers",
         1000000
        ],
        [
         "Australia",
         "Cultura Colectiva",
         1000000
        ],
        [
         "Lesotho",
         "The Guardian",
         908000
        ],
        [
         "Armenia",
         "Michelle {CraftyMorning.com}",
         892000
        ],
        [
         "Aruba",
         "GQ Magazine",
         874000
        ],
        [
         "Central African Republic",
         "PureWow",
         868000
        ],
        [
         "Argentina",
         "Next Luxury",
         800000
        ],
        [
         "Andorra",
         "Glaminati",
         799000
        ],
        [
         "Pitcairn Islands",
         "Marla Meridith",
         671000
        ],
        [
         "Armenia",
         "ArchitectureArtDesigns",
         616000
        ],
        [
         "Algeria",
         "Mens Fashion - LIFESTYLE BY PS ",
         613000
        ],
        [
         "Angola",
         "CraftGossip.com",
         502000
        ],
        [
         "Antarctica (the territory South of 60 deg S)",
         "HikenDip",
         500000
        ],
        [
         "Barbados",
         "The Creativity Exchange",
         410000
        ],
        [
         "Maldives",
         "Passion For Savings",
         330000
        ],
        [
         "Algeria",
         "ELLE Germany",
         326000
        ],
        [
         "Antigua and Barbuda",
         "Sumcoco | Decor Ideas, Hairstyles, Nails Fashion Advice",
         306000
        ],
        [
         "Antigua and Barbuda",
         "Sumcoco | Decor Ideas, Hairstyles, Nails Fashion Advice",
         306000
        ],
        [
         "British Virgin Islands",
         "Kitchen Fun With My 3 Sons",
         245000
        ],
        [
         "Monaco",
         "Artists Network",
         227000
        ],
        [
         "Aruba",
         "TheTrendSpotter",
         211000
        ],
        [
         "Cote d'Ivoire",
         "The Crafting Chicks",
         192000
        ],
        [
         "Andorra",
         "Our Mindful Life",
         190000
        ],
        [
         "Cape Verde",
         "Sand and Sisal",
         178000
        ],
        [
         "Saint Kitts and Nevis",
         "vintagetopia",
         171000
        ],
        [
         "Algeria",
         "Fun Life Crisis",
         130000
        ],
        [
         "Armenia",
         "Of Life & Lisa | Lifestyle Blog",
         124000
        ],
        [
         "Albania",
         "MojisStyle",
         117000
        ],
        [
         "Madagascar",
         "MomAdvice",
         112000
        ],
        [
         "Aruba",
         "The Work at Home Woman",
         110000
        ],
        [
         "Argentina",
         "This Tiny  Blue House",
         108000
        ],
        [
         "Anguilla",
         "Kristen | Lifestyle, Mom Tips & Teacher Stuff Blog",
         92000
        ],
        [
         "Gibraltar",
         "TheSuperBOO!",
         89000
        ],
        [
         "Austria",
         "The World Pursuit Travel Website",
         89000
        ],
        [
         "Anguilla",
         "Thank Your Body",
         85000
        ],
        [
         "Mozambique",
         "Stylin by Aylin",
         83000
        ],
        [
         "Tunisia",
         "El blog amarillo",
         66000
        ],
        [
         "Isle of Man",
         "Abbotts At Home",
         52000
        ],
        [
         "French Guiana",
         "Commitment Connection",
         51000
        ],
        [
         "Bermuda",
         "Life on Summerhill | Home, Holiday Decor & DIY Website",
         46000
        ],
        [
         "Bahrain",
         "R.J. Weiss at The Ways To Wealth | Personal Finance | Debt Payoff",
         46000
        ],
        [
         "Algeria",
         "Boss Babe Chronicles | Personal Development, Finances, Self Care",
         45000
        ],
        [
         "Maldives",
         "Thrive Causemetics",
         43000
        ],
        [
         "American Samoa",
         "TheFab20s | Travel+Food+DIY+Listicles",
         42000
        ],
        [
         "American Samoa",
         "TheFab20s | Travel+Food+DIY+Listicles",
         42000
        ],
        [
         "Antigua and Barbuda",
         "Everyday Wholesome",
         31000
        ],
        [
         "Isle of Man",
         "Jasminxg",
         29000
        ],
        [
         "Barbados",
         "Nicki ",
         28000
        ],
        [
         "Australia",
         "LLEGANCE | Workwear Fashion Woman Advice For Driven Professionals",
         28000
        ],
        [
         "Afghanistan",
         "It's me, JD | DIY, Crafts, Home & Organization",
         27000
        ],
        [
         "Congo",
         "Shawn Petite",
         27000
        ],
        [
         "Bulgaria",
         "Living Low Key | Save Money, Make Money, & Frugal Living",
         26000
        ],
        [
         "Armenia",
         "The Arty Teacher",
         25000
        ],
        [
         "Cote d'Ivoire",
         "Math Giraffe",
         25000
        ],
        [
         "Mauritania",
         "The Literacy Nest",
         22000
        ],
        [
         "Australia",
         "Jess Wandering",
         22000
        ],
        [
         "Seychelles",
         "ALL FOR WOMAN",
         21000
        ],
        [
         "Albania",
         "Projects with Kids",
         20000
        ],
        [
         "Albania",
         "Projects with Kids",
         20000
        ],
        [
         "Azerbaijan",
         "Esavingsblog",
         14000
        ],
        [
         "Marshall Islands",
         "Dashing Darlin' ",
         13000
        ],
        [
         "Aruba",
         "Traci Bender - The Bender Bunch",
         11000
        ],
        [
         "Austria",
         "Wanderlust Chloe ✈️ Travel guides, inspo and adventure travel ✈️",
         10000
        ],
        [
         "Egypt",
         "South Lumina Style",
         9000
        ],
        [
         "Nicaragua",
         "Land Rover USA",
         9000
        ],
        [
         "Turkey",
         "My Little Poppies (Cait Curley, MA/CAGS)",
         9000
        ],
        [
         "Christmas Island",
         "OUR NEXT ADVENTURE | family travel blog",
         9000
        ],
        [
         "Armenia",
         "Jiew82633",
         8000
        ],
        [
         "Jamaica",
         "hobbyDB",
         8000
        ],
        [
         "Netherlands Antilles",
         "Kim Cook-Thirteen Chairs-Slates Mugs And Tees",
         7000
        ],
        [
         "Canada",
         "Diana's Healthy Living | Luxury Adventure Travel Blog",
         7000
        ],
        [
         "India",
         "Travel Mad Mum",
         7000
        ],
        [
         "Cambodia",
         "Mixed Media Crafts",
         6000
        ],
        [
         "Germany",
         "QC Career School",
         5000
        ],
        [
         "Australia",
         "Write Your Story | Budgeting, Healthy Lifestyle, Faith",
         5000
        ],
        [
         "Botswana",
         "RapidLeaks",
         4000
        ],
        [
         "Montserrat",
         "Taming Little Monsters - Fun Activities for Kids",
         4000
        ],
        [
         "Argentina",
         "Tony",
         3000
        ],
        [
         "Dominican Republic",
         "Petite in Paris",
         3000
        ],
        [
         "Bhutan",
         "Kids Crafts & Free Preschool Printables- Sharing Our Experiences",
         3000
        ],
        [
         "Gibraltar",
         "Learn Play Read",
         2000
        ],
        [
         "Finland",
         "Maggie Panning",
         1000
        ],
        [
         "Sudan",
         "iElylike ..✿◕‿◕✿ஐ✿◕‿◕✿",
         940
        ],
        [
         "Cocos (Keeling) Islands",
         "Ray Uyemura",
         437
        ],
        [
         "New Caledonia",
         "Au'vey Smith",
         377
        ],
        [
         "Grenada",
         "p hump",
         314
        ],
        [
         "Isle of Man",
         "Annamarie Hilton",
         313
        ],
        [
         "Ecuador",
         "Midwest Jewelers & Estate Buyers",
         265
        ],
        [
         "Trinidad and Tobago",
         "Syndi Mulcahy",
         254
        ],
        [
         "Papua New Guinea",
         "AnnaLee Kick",
         112
        ],
        [
         "Philippines",
         "Life of Neon | Custom Neon Light Signs | Home Decor Wall Art",
         111
        ],
        [
         "Aruba",
         "Mala Rock | Rock T-shirts",
         27
        ],
        [
         "Finland",
         "Mccready-romero",
         20
        ],
        [
         "Seychelles",
         "Awesthetics by Amy Wong",
         18
        ],
        [
         "Guinea-Bissau",
         "Livitrevisani",
         0
        ],
        [
         "Colombia",
         "Consuelo Aguirre",
         0
        ],
        [
         "Tonga",
         "Grecia Perales",
         0
        ],
        [
         "Albania",
         null,
         0
        ],
        [
         "Albania",
         null,
         0
        ]
       ],
       "datasetInfos": [],
       "dbfsResultPath": null,
       "isJsonSchema": true,
       "metadata": {},
       "overflow": false,
       "plotOptions": {
        "customPlotOptions": {},
        "displayType": "table",
        "pivotAggregation": null,
        "pivotColumns": null,
        "xColumns": null,
        "yColumns": null
       },
       "removedWidgets": [],
       "schema": [
        {
         "metadata": "{}",
         "name": "country",
         "type": "\"string\""
        },
        {
         "metadata": "{}",
         "name": "poster_name",
         "type": "\"string\""
        },
        {
         "metadata": "{}",
         "name": "follower_count",
         "type": "\"integer\""
        }
       ],
       "type": "table"
      }
     },
     "output_type": "display_data"
    }
   ],
   "source": [
    "joined_df = cleaned_geo_df.join(cleaned_pin_df, cleaned_geo_df.ind == cleaned_pin_df.ind, \"inner\").select(\"country\", \"poster_name\", \"follower_count\").orderBy(\"follower_count\", ascending=False)\n",
    "\n",
    "display(joined_df)"
   ]
  },
  {
   "cell_type": "code",
   "execution_count": 0,
   "metadata": {
    "application/vnd.databricks.v1+cell": {
     "cellMetadata": {
      "byteLimit": 2048000,
      "rowLimit": 10000
     },
     "inputWidgets": {},
     "nuid": "bba09b47-554a-4a17-ac5f-bf82fd31f93c",
     "showTitle": true,
     "tableResultSettingsMap": {},
     "title": "Country containing user with the most followers"
    }
   },
   "outputs": [
    {
     "output_type": "display_data",
     "data": {
      "text/html": [
       "<style scoped>\n",
       "  .table-result-container {\n",
       "    max-height: 300px;\n",
       "    overflow: auto;\n",
       "  }\n",
       "  table, th, td {\n",
       "    border: 1px solid black;\n",
       "    border-collapse: collapse;\n",
       "  }\n",
       "  th, td {\n",
       "    padding: 5px;\n",
       "  }\n",
       "  th {\n",
       "    text-align: left;\n",
       "  }\n",
       "</style><div class='table-result-container'><table class='table-result'><thead style='background-color: white'><tr><th>country</th><th>follower_count</th></tr></thead><tbody><tr><td>Azerbaijan</td><td>6000000</td></tr></tbody></table></div>"
      ]
     },
     "metadata": {
      "application/vnd.databricks.v1+output": {
       "addedWidgets": {},
       "aggData": [],
       "aggError": "",
       "aggOverflow": false,
       "aggSchema": [],
       "aggSeriesLimitReached": false,
       "aggType": "",
       "arguments": {},
       "columnCustomDisplayInfos": {},
       "data": [
        [
         "Azerbaijan",
         6000000
        ]
       ],
       "datasetInfos": [],
       "dbfsResultPath": null,
       "isJsonSchema": true,
       "metadata": {},
       "overflow": false,
       "plotOptions": {
        "customPlotOptions": {},
        "displayType": "table",
        "pivotAggregation": null,
        "pivotColumns": null,
        "xColumns": null,
        "yColumns": null
       },
       "removedWidgets": [],
       "schema": [
        {
         "metadata": "{}",
         "name": "country",
         "type": "\"string\""
        },
        {
         "metadata": "{}",
         "name": "follower_count",
         "type": "\"integer\""
        }
       ],
       "type": "table"
      }
     },
     "output_type": "display_data"
    }
   ],
   "source": [
    "highest_user = joined_df.agg(max(\"follower_count\").alias(\"highest_user\")).collect()[0][\"highest_user\"]\n",
    "\n",
    "result = joined_df.filter(col(\"follower_count\") == highest_user).select(\"country\", \"follower_count\")\n",
    "\n",
    "display(result)"
   ]
  },
  {
   "cell_type": "markdown",
   "metadata": {
    "application/vnd.databricks.v1+cell": {
     "cellMetadata": {},
     "inputWidgets": {},
     "nuid": "3aa06e1e-7116-4945-bfc0-8debaebe3721",
     "showTitle": false,
     "tableResultSettingsMap": {},
     "title": ""
    }
   },
   "source": [
    "#### Query to find the most popular category for different age groups\n",
    "This is achieved by joining the 'user' and 'pin' dataframes, sorting them by some common age groups, counting the number of records per group for each category, and then sorting the results from highest to lowest."
   ]
  },
  {
   "cell_type": "code",
   "execution_count": 0,
   "metadata": {
    "application/vnd.databricks.v1+cell": {
     "cellMetadata": {
      "byteLimit": 2048000,
      "rowLimit": 10000
     },
     "inputWidgets": {},
     "nuid": "934a3930-d9c2-418c-b47e-a16ae44f5961",
     "showTitle": true,
     "tableResultSettingsMap": {},
     "title": "Most popular category for different age groups"
    }
   },
   "outputs": [
    {
     "output_type": "display_data",
     "data": {
      "text/html": [
       "<style scoped>\n",
       "  .table-result-container {\n",
       "    max-height: 300px;\n",
       "    overflow: auto;\n",
       "  }\n",
       "  table, th, td {\n",
       "    border: 1px solid black;\n",
       "    border-collapse: collapse;\n",
       "  }\n",
       "  th, td {\n",
       "    padding: 5px;\n",
       "  }\n",
       "  th {\n",
       "    text-align: left;\n",
       "  }\n",
       "</style><div class='table-result-container'><table class='table-result'><thead style='background-color: white'><tr><th>age_group</th><th>category</th><th>category_count</th></tr></thead><tbody><tr><td>18-24</td><td>mens-fashion</td><td>8</td></tr><tr><td>18-24</td><td>art</td><td>6</td></tr><tr><td>18-24</td><td>christmas</td><td>6</td></tr><tr><td>18-24</td><td>tattoos</td><td>6</td></tr><tr><td>18-24</td><td>travel</td><td>5</td></tr><tr><td>25-35</td><td>art</td><td>5</td></tr><tr><td>18-24</td><td>diy-and-crafts</td><td>4</td></tr><tr><td>25-35</td><td>travel</td><td>4</td></tr><tr><td>25-35</td><td>diy-and-crafts</td><td>4</td></tr><tr><td>25-35</td><td>christmas</td><td>3</td></tr><tr><td>25-35</td><td>vehicles</td><td>3</td></tr><tr><td>18-24</td><td>beauty</td><td>3</td></tr><tr><td>+50</td><td>beauty</td><td>3</td></tr><tr><td>18-24</td><td>finance</td><td>3</td></tr><tr><td>18-24</td><td>education</td><td>3</td></tr><tr><td>36-50</td><td>diy-and-crafts</td><td>3</td></tr><tr><td>18-24</td><td>event-planning</td><td>2</td></tr><tr><td>36-50</td><td>vehicles</td><td>2</td></tr><tr><td>18-24</td><td>quotes</td><td>2</td></tr><tr><td>25-35</td><td>home-decor</td><td>2</td></tr><tr><td>36-50</td><td>home-decor</td><td>2</td></tr><tr><td>25-35</td><td>beauty</td><td>2</td></tr><tr><td>25-35</td><td>quotes</td><td>2</td></tr><tr><td>25-35</td><td>finance</td><td>2</td></tr><tr><td>+50</td><td>education</td><td>2</td></tr><tr><td>36-50</td><td>beauty</td><td>2</td></tr><tr><td>36-50</td><td>art</td><td>2</td></tr><tr><td>25-35</td><td>event-planning</td><td>2</td></tr><tr><td>36-50</td><td>travel</td><td>1</td></tr><tr><td>18-24</td><td>home-decor</td><td>1</td></tr><tr><td>36-50</td><td>education</td><td>1</td></tr><tr><td>36-50</td><td>tattoos</td><td>1</td></tr><tr><td>+50</td><td>event-planning</td><td>1</td></tr><tr><td>36-50</td><td>finance</td><td>1</td></tr><tr><td>36-50</td><td>quotes</td><td>1</td></tr><tr><td>+50</td><td>vehicles</td><td>1</td></tr><tr><td>+50</td><td>art</td><td>1</td></tr><tr><td>18-24</td><td>vehicles</td><td>1</td></tr><tr><td>25-35</td><td>mens-fashion</td><td>1</td></tr></tbody></table></div>"
      ]
     },
     "metadata": {
      "application/vnd.databricks.v1+output": {
       "addedWidgets": {},
       "aggData": [],
       "aggError": "",
       "aggOverflow": false,
       "aggSchema": [],
       "aggSeriesLimitReached": false,
       "aggType": "",
       "arguments": {},
       "columnCustomDisplayInfos": {},
       "data": [
        [
         "18-24",
         "mens-fashion",
         8
        ],
        [
         "18-24",
         "art",
         6
        ],
        [
         "18-24",
         "christmas",
         6
        ],
        [
         "18-24",
         "tattoos",
         6
        ],
        [
         "18-24",
         "travel",
         5
        ],
        [
         "25-35",
         "art",
         5
        ],
        [
         "18-24",
         "diy-and-crafts",
         4
        ],
        [
         "25-35",
         "travel",
         4
        ],
        [
         "25-35",
         "diy-and-crafts",
         4
        ],
        [
         "25-35",
         "christmas",
         3
        ],
        [
         "25-35",
         "vehicles",
         3
        ],
        [
         "18-24",
         "beauty",
         3
        ],
        [
         "+50",
         "beauty",
         3
        ],
        [
         "18-24",
         "finance",
         3
        ],
        [
         "18-24",
         "education",
         3
        ],
        [
         "36-50",
         "diy-and-crafts",
         3
        ],
        [
         "18-24",
         "event-planning",
         2
        ],
        [
         "36-50",
         "vehicles",
         2
        ],
        [
         "18-24",
         "quotes",
         2
        ],
        [
         "25-35",
         "home-decor",
         2
        ],
        [
         "36-50",
         "home-decor",
         2
        ],
        [
         "25-35",
         "beauty",
         2
        ],
        [
         "25-35",
         "quotes",
         2
        ],
        [
         "25-35",
         "finance",
         2
        ],
        [
         "+50",
         "education",
         2
        ],
        [
         "36-50",
         "beauty",
         2
        ],
        [
         "36-50",
         "art",
         2
        ],
        [
         "25-35",
         "event-planning",
         2
        ],
        [
         "36-50",
         "travel",
         1
        ],
        [
         "18-24",
         "home-decor",
         1
        ],
        [
         "36-50",
         "education",
         1
        ],
        [
         "36-50",
         "tattoos",
         1
        ],
        [
         "+50",
         "event-planning",
         1
        ],
        [
         "36-50",
         "finance",
         1
        ],
        [
         "36-50",
         "quotes",
         1
        ],
        [
         "+50",
         "vehicles",
         1
        ],
        [
         "+50",
         "art",
         1
        ],
        [
         "18-24",
         "vehicles",
         1
        ],
        [
         "25-35",
         "mens-fashion",
         1
        ]
       ],
       "datasetInfos": [],
       "dbfsResultPath": null,
       "isJsonSchema": true,
       "metadata": {},
       "overflow": false,
       "plotOptions": {
        "customPlotOptions": {},
        "displayType": "table",
        "pivotAggregation": null,
        "pivotColumns": null,
        "xColumns": null,
        "yColumns": null
       },
       "removedWidgets": [],
       "schema": [
        {
         "metadata": "{}",
         "name": "age_group",
         "type": "\"string\""
        },
        {
         "metadata": "{}",
         "name": "category",
         "type": "\"string\""
        },
        {
         "metadata": "{}",
         "name": "category_count",
         "type": "\"long\""
        }
       ],
       "type": "table"
      }
     },
     "output_type": "display_data"
    }
   ],
   "source": [
    "joined_df = cleaned_user_df.join(cleaned_pin_df, cleaned_user_df.ind == cleaned_pin_df.ind, \"inner\").select(\"age\", \"category\")\n",
    "\n",
    "temp_df = joined_df.withColumn(\n",
    "    \"age_group\",\n",
    "    when(col(\"age\") < 18, \"Unspecified\")\n",
    "    .when((col(\"age\") >= 18) & (col(\"age\") < 25), \"18-24\")\n",
    "    .when((col(\"age\") >= 25) & (col(\"age\") < 36), \"25-35\")\n",
    "    .when((col(\"age\") >= 36) & (col(\"age\") < 50), \"36-50\")\n",
    "    .otherwise(\"+50\")\n",
    ")\n",
    "\n",
    "result = temp_df.select(\"age_group\", \"category\").groupBy(\"age_group\", \"category\").agg({\"category\": \"count\"}).withColumnRenamed(\"count(category)\", \"category_count\").orderBy(\"category_count\", ascending=False)\n",
    "\n",
    "\n",
    "display(result)"
   ]
  },
  {
   "cell_type": "markdown",
   "metadata": {
    "application/vnd.databricks.v1+cell": {
     "cellMetadata": {},
     "inputWidgets": {},
     "nuid": "efea4718-38e1-41b0-afb9-174478c7e227",
     "showTitle": false,
     "tableResultSettingsMap": {},
     "title": ""
    }
   },
   "source": [
    "#### Query to find the median follower count over different age groups\n",
    "Thankfully, spark has a function for calculating median available in the `functions` library.\n",
    "The syntax is as follows:\n",
    "\n",
    "`\n",
    "df.agg(functions.expr(\"percentile_approx(follower_count, 0.5)\"))\n",
    "`\n",
    "\n",
    "Where the `0.5` refers to the 50th percentile.\n",
    "\n",
    "The dataframe is then grouped by the common age ranges and a new series is created to display the median follower count by age group.\n"
   ]
  },
  {
   "cell_type": "code",
   "execution_count": 0,
   "metadata": {
    "application/vnd.databricks.v1+cell": {
     "cellMetadata": {
      "byteLimit": 2048000,
      "rowLimit": 10000
     },
     "inputWidgets": {},
     "nuid": "06a4bf5f-dfcd-40d5-b9ab-da92e34e4597",
     "showTitle": true,
     "tableResultSettingsMap": {},
     "title": "Median follower count over different age groups"
    }
   },
   "outputs": [
    {
     "output_type": "display_data",
     "data": {
      "text/html": [
       "<style scoped>\n",
       "  .table-result-container {\n",
       "    max-height: 300px;\n",
       "    overflow: auto;\n",
       "  }\n",
       "  table, th, td {\n",
       "    border: 1px solid black;\n",
       "    border-collapse: collapse;\n",
       "  }\n",
       "  th, td {\n",
       "    padding: 5px;\n",
       "  }\n",
       "  th {\n",
       "    text-align: left;\n",
       "  }\n",
       "</style><div class='table-result-container'><table class='table-result'><thead style='background-color: white'><tr><th>age_group</th><th>median_follower_count</th></tr></thead><tbody><tr><td>18-24</td><td>92000</td></tr><tr><td>25-35</td><td>42000</td></tr><tr><td>36-50</td><td>6000</td></tr><tr><td>+50</td><td>5000</td></tr></tbody></table></div>"
      ]
     },
     "metadata": {
      "application/vnd.databricks.v1+output": {
       "addedWidgets": {},
       "aggData": [],
       "aggError": "",
       "aggOverflow": false,
       "aggSchema": [],
       "aggSeriesLimitReached": false,
       "aggType": "",
       "arguments": {},
       "columnCustomDisplayInfos": {},
       "data": [
        [
         "18-24",
         92000
        ],
        [
         "25-35",
         42000
        ],
        [
         "36-50",
         6000
        ],
        [
         "+50",
         5000
        ]
       ],
       "datasetInfos": [],
       "dbfsResultPath": null,
       "isJsonSchema": true,
       "metadata": {},
       "overflow": false,
       "plotOptions": {
        "customPlotOptions": {},
        "displayType": "table",
        "pivotAggregation": null,
        "pivotColumns": null,
        "xColumns": null,
        "yColumns": null
       },
       "removedWidgets": [],
       "schema": [
        {
         "metadata": "{}",
         "name": "age_group",
         "type": "\"string\""
        },
        {
         "metadata": "{}",
         "name": "median_follower_count",
         "type": "\"integer\""
        }
       ],
       "type": "table"
      }
     },
     "output_type": "display_data"
    }
   ],
   "source": [
    "from pyspark.sql import functions as F\n",
    "\n",
    "joined_df = cleaned_user_df.join(cleaned_pin_df, cleaned_user_df.ind == cleaned_pin_df.ind, \"inner\").select(\"age\", \"follower_count\").withColumn(\n",
    "    \"age_group\",\n",
    "    when(col(\"age\") < 18, \"Unspecified\")\n",
    "    .when((col(\"age\") >= 18) & (col(\"age\") < 25), \"18-24\")\n",
    "    .when((col(\"age\") >= 25) & (col(\"age\") < 36), \"25-35\")\n",
    "    .when((col(\"age\") >= 36) & (col(\"age\") < 50), \"36-50\")\n",
    "    .otherwise(\"+50\")\n",
    ")\n",
    "temp_df = joined_df.select(\"age_group\", \"follower_count\")\n",
    "agg_df = joined_df.groupBy(\"age_group\") \\\n",
    "    .agg(\n",
    "        F.expr(\"percentile_approx(follower_count, 0.5)\").alias(\"median_follower_count\")\n",
    "    ).orderBy(\"median_follower_count\", ascending=False)\n",
    "\n",
    "display(agg_df)"
   ]
  },
  {
   "cell_type": "markdown",
   "metadata": {
    "application/vnd.databricks.v1+cell": {
     "cellMetadata": {},
     "inputWidgets": {},
     "nuid": "77f17c21-6ec5-4ffd-8e50-8e167698b908",
     "showTitle": false,
     "tableResultSettingsMap": {},
     "title": ""
    }
   },
   "source": [
    "#### Query to check how many users joined in each year between 2015 & 2020\n",
    "Achieved by joining the geo and user dataframes, extracting the year from the 'date_joined' series and counting the users by year. Finally the result is filtered to only include records where the 'join_year' is between 2015 and 2020."
   ]
  },
  {
   "cell_type": "code",
   "execution_count": 0,
   "metadata": {
    "application/vnd.databricks.v1+cell": {
     "cellMetadata": {
      "byteLimit": 2048000,
      "rowLimit": 10000
     },
     "inputWidgets": {},
     "nuid": "43488595-5567-4202-bf6c-16ccf6ee14ee",
     "showTitle": true,
     "tableResultSettingsMap": {},
     "title": "How many users joined in each year between 2015 and 2020?"
    }
   },
   "outputs": [
    {
     "output_type": "display_data",
     "data": {
      "text/html": [
       "<style scoped>\n",
       "  .table-result-container {\n",
       "    max-height: 300px;\n",
       "    overflow: auto;\n",
       "  }\n",
       "  table, th, td {\n",
       "    border: 1px solid black;\n",
       "    border-collapse: collapse;\n",
       "  }\n",
       "  th, td {\n",
       "    padding: 5px;\n",
       "  }\n",
       "  th {\n",
       "    text-align: left;\n",
       "  }\n",
       "</style><div class='table-result-container'><table class='table-result'><thead style='background-color: white'><tr><th>join_year</th><th>number_users_joined</th></tr></thead><tbody><tr><td>2015</td><td>41</td></tr><tr><td>2016</td><td>49</td></tr><tr><td>2017</td><td>14</td></tr></tbody></table></div>"
      ]
     },
     "metadata": {
      "application/vnd.databricks.v1+output": {
       "addedWidgets": {},
       "aggData": [],
       "aggError": "",
       "aggOverflow": false,
       "aggSchema": [],
       "aggSeriesLimitReached": false,
       "aggType": "",
       "arguments": {},
       "columnCustomDisplayInfos": {},
       "data": [
        [
         2015,
         41
        ],
        [
         2016,
         49
        ],
        [
         2017,
         14
        ]
       ],
       "datasetInfos": [],
       "dbfsResultPath": null,
       "isJsonSchema": true,
       "metadata": {},
       "overflow": false,
       "plotOptions": {
        "customPlotOptions": {},
        "displayType": "table",
        "pivotAggregation": null,
        "pivotColumns": null,
        "xColumns": null,
        "yColumns": null
       },
       "removedWidgets": [],
       "schema": [
        {
         "metadata": "{}",
         "name": "join_year",
         "type": "\"integer\""
        },
        {
         "metadata": "{}",
         "name": "number_users_joined",
         "type": "\"long\""
        }
       ],
       "type": "table"
      }
     },
     "output_type": "display_data"
    }
   ],
   "source": [
    "\n",
    "joined_df = cleaned_user_df.join(cleaned_geo_df, cleaned_user_df.ind == cleaned_geo_df.ind, \"inner\").select(\"timestamp\", \"date_joined\").withColumn(\"post_year\", year(\"timestamp\")).withColumn(\"join_year\",year(\"date_joined\"))\n",
    "\n",
    "grouped_df = joined_df.groupBy(\"join_year\").agg(count(\"join_year\").alias(\"number_users_joined\")).filter((col(\"join_year\") >= 2015) & (col(\"join_year\") <= 2020)).orderBy(\"join_year\", ascending=True)\n",
    "display(grouped_df)"
   ]
  },
  {
   "cell_type": "markdown",
   "metadata": {
    "application/vnd.databricks.v1+cell": {
     "cellMetadata": {},
     "inputWidgets": {},
     "nuid": "77900603-130a-4d2b-9865-35ba858d1d62",
     "showTitle": false,
     "tableResultSettingsMap": {},
     "title": ""
    }
   },
   "source": [
    "#### Query to find the median follower count of users that have joined between 2015 and 2020\n",
    "\n",
    "Again, this makes use of `functions.expr(\"percentile_approx(follower_count, 0.5)\")`, creating a dataframe of median follower counts grouped by join year, once again filtered to exclude records before 2015 or after 2020."
   ]
  },
  {
   "cell_type": "code",
   "execution_count": 0,
   "metadata": {
    "application/vnd.databricks.v1+cell": {
     "cellMetadata": {
      "byteLimit": 2048000,
      "rowLimit": 10000
     },
     "inputWidgets": {},
     "nuid": "1f39a1e0-c9b6-45a7-9cef-ec132d30e09c",
     "showTitle": true,
     "tableResultSettingsMap": {},
     "title": "Median follower count of users that have joined between 2015 and 2020"
    }
   },
   "outputs": [
    {
     "output_type": "display_data",
     "data": {
      "text/html": [
       "<style scoped>\n",
       "  .table-result-container {\n",
       "    max-height: 300px;\n",
       "    overflow: auto;\n",
       "  }\n",
       "  table, th, td {\n",
       "    border: 1px solid black;\n",
       "    border-collapse: collapse;\n",
       "  }\n",
       "  th, td {\n",
       "    padding: 5px;\n",
       "  }\n",
       "  th {\n",
       "    text-align: left;\n",
       "  }\n",
       "</style><div class='table-result-container'><table class='table-result'><thead style='background-color: white'><tr><th>join_year</th><th>median_follower_count</th></tr></thead><tbody><tr><td>2015</td><td>83000</td></tr><tr><td>2016</td><td>27000</td></tr><tr><td>2017</td><td>5000</td></tr></tbody></table></div>"
      ]
     },
     "metadata": {
      "application/vnd.databricks.v1+output": {
       "addedWidgets": {},
       "aggData": [],
       "aggError": "",
       "aggOverflow": false,
       "aggSchema": [],
       "aggSeriesLimitReached": false,
       "aggType": "",
       "arguments": {},
       "columnCustomDisplayInfos": {},
       "data": [
        [
         2015,
         83000
        ],
        [
         2016,
         27000
        ],
        [
         2017,
         5000
        ]
       ],
       "datasetInfos": [],
       "dbfsResultPath": null,
       "isJsonSchema": true,
       "metadata": {},
       "overflow": false,
       "plotOptions": {
        "customPlotOptions": {},
        "displayType": "table",
        "pivotAggregation": null,
        "pivotColumns": null,
        "xColumns": null,
        "yColumns": null
       },
       "removedWidgets": [],
       "schema": [
        {
         "metadata": "{}",
         "name": "join_year",
         "type": "\"integer\""
        },
        {
         "metadata": "{}",
         "name": "median_follower_count",
         "type": "\"integer\""
        }
       ],
       "type": "table"
      }
     },
     "output_type": "display_data"
    }
   ],
   "source": [
    "joined_df = cleaned_user_df.join(cleaned_pin_df, cleaned_user_df.ind == cleaned_pin_df.ind, \"inner\").select(\"date_joined\",\"follower_count\").withColumn(\"join_year\",year(\"date_joined\"))\n",
    "temp_df = joined_df.select(\"join_year\", \"follower_count\")\n",
    "result = temp_df.groupBy(\"join_year\").agg(F.expr(\"percentile_approx(follower_count, 0.5)\").alias(\"median_follower_count\")).filter((col(\"join_year\") >= 2015) & (col(\"join_year\") <= 2020)).orderBy(\"join_year\", ascending=True)\n",
    "\n",
    "display(result)"
   ]
  },
  {
   "cell_type": "markdown",
   "metadata": {
    "application/vnd.databricks.v1+cell": {
     "cellMetadata": {},
     "inputWidgets": {},
     "nuid": "d7a939a1-e292-4a39-b9ed-946365b9e6d2",
     "showTitle": false,
     "tableResultSettingsMap": {},
     "title": ""
    }
   },
   "source": [
    "#### Query to find the median follower count of users based on their joining year and age group\n",
    "Similar to the previous query, except now the \"age_group\" series has been reintroduced. By grouping by age range and _then_ by join year, we are able to split the data in the previous dataframe and look at more specific insights."
   ]
  },
  {
   "cell_type": "code",
   "execution_count": 0,
   "metadata": {
    "application/vnd.databricks.v1+cell": {
     "cellMetadata": {
      "byteLimit": 2048000,
      "rowLimit": 10000
     },
     "inputWidgets": {},
     "nuid": "3b255ef1-3f55-4baf-a2ea-8b9e5defa05a",
     "showTitle": true,
     "tableResultSettingsMap": {},
     "title": "Median follower count of users based on their joining year and age group"
    }
   },
   "outputs": [
    {
     "output_type": "display_data",
     "data": {
      "text/html": [
       "<style scoped>\n",
       "  .table-result-container {\n",
       "    max-height: 300px;\n",
       "    overflow: auto;\n",
       "  }\n",
       "  table, th, td {\n",
       "    border: 1px solid black;\n",
       "    border-collapse: collapse;\n",
       "  }\n",
       "  th, td {\n",
       "    padding: 5px;\n",
       "  }\n",
       "  th {\n",
       "    text-align: left;\n",
       "  }\n",
       "</style><div class='table-result-container'><table class='table-result'><thead style='background-color: white'><tr><th>age_group</th><th>join_year</th><th>median_follower_count</th></tr></thead><tbody><tr><td>+50</td><td>2016</td><td>111</td></tr><tr><td>18-24</td><td>2016</td><td>28000</td></tr><tr><td>18-24</td><td>2015</td><td>130000</td></tr><tr><td>25-35</td><td>2016</td><td>27000</td></tr><tr><td>36-50</td><td>2017</td><td>314</td></tr><tr><td>36-50</td><td>2016</td><td>9000</td></tr><tr><td>36-50</td><td>2015</td><td>13000</td></tr><tr><td>25-35</td><td>2015</td><td>42000</td></tr><tr><td>25-35</td><td>2017</td><td>112000</td></tr><tr><td>+50</td><td>2017</td><td>5000</td></tr><tr><td>18-24</td><td>2017</td><td>940</td></tr></tbody></table></div>"
      ]
     },
     "metadata": {
      "application/vnd.databricks.v1+output": {
       "addedWidgets": {},
       "aggData": [],
       "aggError": "",
       "aggOverflow": false,
       "aggSchema": [],
       "aggSeriesLimitReached": false,
       "aggType": "",
       "arguments": {},
       "columnCustomDisplayInfos": {},
       "data": [
        [
         "+50",
         2016,
         111
        ],
        [
         "18-24",
         2016,
         28000
        ],
        [
         "18-24",
         2015,
         130000
        ],
        [
         "25-35",
         2016,
         27000
        ],
        [
         "36-50",
         2017,
         314
        ],
        [
         "36-50",
         2016,
         9000
        ],
        [
         "36-50",
         2015,
         13000
        ],
        [
         "25-35",
         2015,
         42000
        ],
        [
         "25-35",
         2017,
         112000
        ],
        [
         "+50",
         2017,
         5000
        ],
        [
         "18-24",
         2017,
         940
        ]
       ],
       "datasetInfos": [],
       "dbfsResultPath": null,
       "isJsonSchema": true,
       "metadata": {},
       "overflow": false,
       "plotOptions": {
        "customPlotOptions": {},
        "displayType": "table",
        "pivotAggregation": null,
        "pivotColumns": null,
        "xColumns": null,
        "yColumns": null
       },
       "removedWidgets": [],
       "schema": [
        {
         "metadata": "{}",
         "name": "age_group",
         "type": "\"string\""
        },
        {
         "metadata": "{}",
         "name": "join_year",
         "type": "\"integer\""
        },
        {
         "metadata": "{}",
         "name": "median_follower_count",
         "type": "\"integer\""
        }
       ],
       "type": "table"
      }
     },
     "output_type": "display_data"
    }
   ],
   "source": [
    "joined_df = cleaned_user_df.join(cleaned_pin_df, cleaned_user_df.ind == cleaned_pin_df.ind, \"inner\").select(\"age\", \"follower_count\", \"date_joined\")\n",
    "\n",
    "temp_df = joined_df.withColumn(\n",
    "    \"age_group\",\n",
    "    when(col(\"age\") < 18, \"Unspecified\")\n",
    "    .when((col(\"age\") >= 18) & (col(\"age\") < 25), \"18-24\")\n",
    "    .when((col(\"age\") >= 25) & (col(\"age\") < 36), \"25-35\")\n",
    "    .when((col(\"age\") >= 36) & (col(\"age\") < 50), \"36-50\")\n",
    "    .otherwise(\"+50\")\n",
    ").withColumn(\"join_year\",year(\"date_joined\")).select(\"age_group\", \"join_year\", \"follower_count\").filter(\"join_year >= 2015 and join_year <= 2020\")\n",
    "result = temp_df.groupBy(\"age_group\", \"join_year\").agg(F.expr(\"percentile_approx(follower_count, 0.5)\").alias(\"median_follower_count\"))\n",
    "display(result)"
   ]
  }
 ],
 "metadata": {
  "application/vnd.databricks.v1+notebook": {
   "dashboards": [],
   "environmentMetadata": null,
   "language": "python",
   "notebookMetadata": {
    "pythonIndentUnit": 4
   },
   "notebookName": "Pinterest Batch Data Notebook",
   "widgets": {}
  },
  "language_info": {
   "name": "python"
  }
 },
 "nbformat": 4,
 "nbformat_minor": 0
}
