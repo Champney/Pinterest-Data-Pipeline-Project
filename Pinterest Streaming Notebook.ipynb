{
 "cells": [
  {
   "cell_type": "markdown",
   "metadata": {
    "application/vnd.databricks.v1+cell": {
     "cellMetadata": {},
     "inputWidgets": {},
     "nuid": "b26691da-1253-4357-be9a-9017010e24d6",
     "showTitle": false,
     "tableResultSettingsMap": {},
     "title": ""
    }
   },
   "source": [
    "#### Once the stream is running on the client machine:\n",
    "Input AWS username in the `username` field below and run the notebook"
   ]
  },
  {
   "cell_type": "code",
   "execution_count": 0,
   "metadata": {
    "application/vnd.databricks.v1+cell": {
     "cellMetadata": {
      "byteLimit": 2048000,
      "rowLimit": 10000
     },
     "inputWidgets": {},
     "nuid": "4acde6da-0e40-4d94-9609-7f550a3a0ad0",
     "showTitle": true,
     "tableResultSettingsMap": {},
     "title": "Set username variable, remove any existing data and reset checkpoint location"
    }
   },
   "outputs": [
    {
     "output_type": "execute_result",
     "data": {
      "text/plain": [
       "DataFrame[]"
      ]
     },
     "execution_count": 424,
     "metadata": {},
     "output_type": "execute_result"
    }
   ],
   "source": [
    "username = \"<enter_user_string>\"\n",
    "spark.sql(f\"DROP TABLE IF EXISTS {username}_pin_table\")\n",
    "spark.sql(f\"DROP TABLE IF EXISTS {username}_geo_table\")\n",
    "spark.sql(f\"DROP TABLE IF EXISTS {username}_user_table\")\n",
    "dbutils.fs.rm(f\"/tmp/kinesis/_checkpoints/\", True)"
   ]
  },
  {
   "cell_type": "markdown",
   "metadata": {
    "application/vnd.databricks.v1+cell": {
     "cellMetadata": {},
     "inputWidgets": {},
     "nuid": "d2e9555e-0294-482e-9bb1-d6665db63382",
     "showTitle": false,
     "tableResultSettingsMap": {},
     "title": ""
    }
   },
   "source": [
    "The following transformations are required to process the data effectively:\n",
    "#### Pin data:\n",
    "- Replace missing or non-applicable values with None\n",
    "- Adjust the numerical series so they only contain numbers\n",
    "\n",
    "  _e.g. in follower_count '100k' should read '100000'_\n",
    "- Update data types where they are inaccurate\n",
    "- Remove the unnecessary \"Local save in\" prefix from values in the save_location series\n",
    "- Rename 'index' series to match other two dataframes"
   ]
  },
  {
   "cell_type": "code",
   "execution_count": 0,
   "metadata": {
    "application/vnd.databricks.v1+cell": {
     "cellMetadata": {
      "byteLimit": 2048000,
      "rowLimit": 10000
     },
     "inputWidgets": {},
     "nuid": "914eb9a4-7f04-4616-b7aa-cea655c3602e",
     "showTitle": true,
     "tableResultSettingsMap": {},
     "title": "Define methods for data transformation"
    }
   },
   "outputs": [],
   "source": [
    "def clean_pin_df(df):\n",
    "  \"\"\"\n",
    "  Cleans the pin dataframe by performing the following transformations:\n",
    "  - Replaces the values in the description series with None if they match the values in the to_replace_with_none dictionary\n",
    "  - Converts k, M and B suffixes with 000, 000000 and 000000000 respectively in the follower_count series\n",
    "  - Converts all data types to numeric where applicable\n",
    "  - Removes the unnecessary \"Local save in \" prefix from the save_location series\n",
    "  - Renames the index series to 'ind' to match geo and user dataframes\n",
    "  - Restructures columns in more logical order\n",
    "  \"\"\"\n",
    "  to_replace_with_none = {\n",
    "    'description': ['No description available Story format', 'Untitled', 'No description available Story format'],\n",
    "    'image_src': 'Image src error.',\n",
    "    'poster_name': 'User Info Error',\n",
    "    'tag_list': 'N,o, ,T,a,g,s, ,A,v,a,i,l,a,b,l,e',\n",
    "    'title': 'No Title Data Available'\n",
    "    }\n",
    "\n",
    "  for column, values in to_replace_with_none.items():\n",
    "    if isinstance(values, list):\n",
    "        for value in values:\n",
    "          cleaned_df = df.replace(value, None, subset=[column])\n",
    "    else:\n",
    "        cleaned_df = cleaned_df.replace(values, None, subset=[column])                    \n",
    "  cleaned_df = cleaned_df.replace({'User Info Error':'0'}, subset=['follower_count'])\n",
    "  cleaned_df = cleaned_df.withColumn(\"follower_count\", regexp_replace(\"follower_count\", \"k\", \"000\"))\n",
    "  cleaned_df = cleaned_df.withColumn(\"follower_count\", regexp_replace(\"follower_count\", \"M\", \"000000\"))\n",
    "  cleaned_df = cleaned_df.withColumn(\"follower_count\", regexp_replace(\"follower_count\", \"B\", \"000000000\"))\n",
    "  cleaned_df = cleaned_df.withColumn(\"follower_count\", cleaned_df[\"follower_count\"].cast(\"int\"))\n",
    "  cleaned_df = cleaned_df.withColumn(\"save_location\", regexp_replace(\"save_location\", \"Local save in \", \"\"))\n",
    "  cleaned_df = cleaned_df.withColumnRenamed(\"index\", \"ind\")\n",
    "  cleaned_df = cleaned_df.select(\"ind\", \"unique_id\", \"title\", \"description\", \"follower_count\", \"poster_name\", \"tag_list\", \"is_image_or_video\", \"image_src\", \"save_location\", \"category\")\n",
    "  return cleaned_df"
   ]
  },
  {
   "cell_type": "markdown",
   "metadata": {
    "application/vnd.databricks.v1+cell": {
     "cellMetadata": {},
     "inputWidgets": {},
     "nuid": "ec9696d8-ec75-49d7-a9c5-4d280eff1582",
     "showTitle": false,
     "tableResultSettingsMap": {},
     "title": ""
    }
   },
   "source": [
    "#### Geo data:\n",
    "- Create a series named 'coordinates' by joining the both the 'latitude' and 'longitude' columns, seperating the values with a comma\n",
    "- Convert the 'timestamp' column to timestamp type"
   ]
  },
  {
   "cell_type": "code",
   "execution_count": 0,
   "metadata": {
    "application/vnd.databricks.v1+cell": {
     "cellMetadata": {},
     "inputWidgets": {},
     "nuid": "42e20aaf-fbe3-482b-b6f6-6c646112c6c3",
     "showTitle": false,
     "tableResultSettingsMap": {},
     "title": ""
    }
   },
   "outputs": [],
   "source": [
    "def clean_geo_df(df):\n",
    "  \"\"\"\n",
    "  Cleans the geo dataframe by performing the following transformations:\n",
    "  - New series 'coordinates' created from latitude and longitude series\n",
    "  - Timestamp series converted to timestamp type\n",
    "  - Restructures columns in more logical order\n",
    "  \"\"\"\n",
    "  cleaned_df = df.withColumn(\"coordinates\", array(\"latitude\", \"longitude\"))\n",
    "  cleaned_df = cleaned_df.drop(\"latitude\", \"longitude\")\n",
    "  cleaned_df = cleaned_df.withColumn(\"timestamp\", to_timestamp(\"timestamp\"))\n",
    "  cleaned_df = cleaned_df.select(\"ind\", \"country\", \"coordinates\", \"timestamp\")\n",
    "  return cleaned_df"
   ]
  },
  {
   "cell_type": "markdown",
   "metadata": {
    "application/vnd.databricks.v1+cell": {
     "cellMetadata": {},
     "inputWidgets": {},
     "nuid": "434f73e7-c6bd-4134-bde9-d8b2140470a5",
     "showTitle": false,
     "tableResultSettingsMap": {},
     "title": ""
    }
   },
   "source": [
    "#### User data\n",
    "- Create a series 'user_name' by joining the 'first_name' and 'last_name' series and then dropping them\n",
    "- Convert 'date_joined' series to timestamp type"
   ]
  },
  {
   "cell_type": "code",
   "execution_count": 0,
   "metadata": {
    "application/vnd.databricks.v1+cell": {
     "cellMetadata": {},
     "inputWidgets": {},
     "nuid": "1c28e52b-f907-4d4c-8a83-68c0ea89bfe5",
     "showTitle": false,
     "tableResultSettingsMap": {},
     "title": ""
    }
   },
   "outputs": [],
   "source": [
    "def clean_user_df(df):\n",
    "  \"\"\"\n",
    "  Cleans the geo dataframe by performing the following transformations:\n",
    "  - Creates new series 'user_name' created from 'first_name' and 'last_name'\n",
    "  -  Drops 'first_name' and 'last_name' series\n",
    "  - 'date_joined' series converted to timestamp type\n",
    "  - Restructures columns in more logical order\n",
    "  \"\"\"\n",
    "  cleaned_df = df.withColumn(\"user_name\", concat(\"first_name\", lit(\" \"), \"last_name\"))\n",
    "  cleaned_df = cleaned_df.drop(\"first_name\", \"last_name\")\n",
    "  cleaned_df = cleaned_df.withColumn(\"date_joined\", to_timestamp(\"date_joined\"))\n",
    "  cleaned_df = cleaned_df.select(\"ind\", \"user_name\", \"age\", \"date_joined\")\n",
    "  return cleaned_df"
   ]
  },
  {
   "cell_type": "markdown",
   "metadata": {
    "application/vnd.databricks.v1+cell": {
     "cellMetadata": {},
     "inputWidgets": {},
     "nuid": "f59d965e-c658-42a5-800e-374aa5c68a8e",
     "showTitle": false,
     "tableResultSettingsMap": {},
     "title": ""
    }
   },
   "source": [
    "The following is used to bypass format-related errors."
   ]
  },
  {
   "cell_type": "code",
   "execution_count": 0,
   "metadata": {
    "application/vnd.databricks.v1+cell": {
     "cellMetadata": {
      "byteLimit": 2048000,
      "implicitDf": true,
      "rowLimit": 10000
     },
     "inputWidgets": {},
     "nuid": "76442e3c-b088-48a1-a37f-5d7eef2346ad",
     "showTitle": false,
     "tableResultSettingsMap": {},
     "title": ""
    }
   },
   "outputs": [
    {
     "output_type": "display_data",
     "data": {
      "text/html": [
       "<style scoped>\n",
       "  .table-result-container {\n",
       "    max-height: 300px;\n",
       "    overflow: auto;\n",
       "  }\n",
       "  table, th, td {\n",
       "    border: 1px solid black;\n",
       "    border-collapse: collapse;\n",
       "  }\n",
       "  th, td {\n",
       "    padding: 5px;\n",
       "  }\n",
       "  th {\n",
       "    text-align: left;\n",
       "  }\n",
       "</style><div class='table-result-container'><table class='table-result'><thead style='background-color: white'><tr><th>key</th><th>value</th></tr></thead><tbody><tr><td>spark.databricks.delta.formatCheck.enabled</td><td>false</td></tr></tbody></table></div>"
      ]
     },
     "metadata": {
      "application/vnd.databricks.v1+output": {
       "addedWidgets": {},
       "aggData": [],
       "aggError": "",
       "aggOverflow": false,
       "aggSchema": [],
       "aggSeriesLimitReached": false,
       "aggType": "",
       "arguments": {},
       "columnCustomDisplayInfos": {},
       "data": [
        [
         "spark.databricks.delta.formatCheck.enabled",
         "false"
        ]
       ],
       "datasetInfos": [],
       "dbfsResultPath": null,
       "isJsonSchema": true,
       "metadata": {
        "dataframeName": "_sqldf",
        "executionCount": 426
       },
       "overflow": false,
       "plotOptions": {
        "customPlotOptions": {},
        "displayType": "table",
        "pivotAggregation": null,
        "pivotColumns": null,
        "xColumns": null,
        "yColumns": null
       },
       "removedWidgets": [],
       "schema": [
        {
         "metadata": "{}",
         "name": "key",
         "type": "\"string\""
        },
        {
         "metadata": "{}",
         "name": "value",
         "type": "\"string\""
        }
       ],
       "type": "table"
      }
     },
     "output_type": "display_data"
    }
   ],
   "source": [
    "%sql\n",
    "SET spark.databricks.delta.formatCheck.enabled=false"
   ]
  },
  {
   "cell_type": "markdown",
   "metadata": {
    "application/vnd.databricks.v1+cell": {
     "cellMetadata": {},
     "inputWidgets": {},
     "nuid": "3de706e4-1beb-412c-ba6d-28aaaa138f45",
     "showTitle": false,
     "tableResultSettingsMap": {},
     "title": ""
    }
   },
   "source": [
    "First, this notebook needs access to the stream. This is done by reading a _separate_ delta table containing the credentials:\n",
    "\n",
    "`delta_table_path = \"dbfs:/user/hive/warehouse/authentication_credentials\"`\n",
    "\n",
    "The `Access key ID` and `Secret access key` are assigned to  variables, and the encoded secret key is created.\n",
    "\n",
    "Since ELT is a schema-on-read approach, the schema is defined in the `readStream` function by first assigning it to a python object, and assigning the object as the `schema` parameter.\n",
    "\n",
    "At this stage, it should be possible to read the stream in using the standard syntax. Note that for this particular example, the format is `kinesis` and the `initialPosition` parameter is set to `earliest` to maximise the amount of data that is captured.\n",
    "As soon as the data has been read in, it is immediately written into its corresponding delta table with the `writeStream` method.\n",
    "\n",
    "Once the data has been extracted, it is necessary to run the following to ensure it is in the correct format:\n",
    "```\n",
    "df = df.selectExpr(\"CAST(data as STRING)\")\n",
    "df = df.withColumn(\"data\", from_json(col(\"data\"), schema=<custom_defined_schema>))\n",
    "df = df.select(\"data.*\")\n",
    "```\n",
    "This is repeated for `pin` `geo` and `user` dataframes."
   ]
  },
  {
   "cell_type": "code",
   "execution_count": 0,
   "metadata": {
    "application/vnd.databricks.v1+cell": {
     "cellMetadata": {
      "byteLimit": 2048000,
      "rowLimit": 10000
     },
     "inputWidgets": {},
     "nuid": "4c9f8070-69b6-43ff-81f5-8cbf9375343d",
     "showTitle": true,
     "tableResultSettingsMap": {},
     "title": "Define pin schema, execute clean_pin_df, readStream and writeStream methods for pin_df"
    }
   },
   "outputs": [
    {
     "output_type": "execute_result",
     "data": {
      "text/plain": [
       "<pyspark.sql.streaming.query.StreamingQuery at 0x7f6954e73e80>"
      ]
     },
     "execution_count": 427,
     "metadata": {},
     "output_type": "execute_result"
    },
    {
     "output_type": "display_data",
     "data": {
      "text/plain": [
       "com.databricks.backend.common.rpc.CommandCancelledException\n",
       "\tat com.databricks.spark.chauffeur.SequenceExecutionState.$anonfun$cancel$5(SequenceExecutionState.scala:136)\n",
       "\tat scala.Option.getOrElse(Option.scala:189)\n",
       "\tat com.databricks.spark.chauffeur.SequenceExecutionState.$anonfun$cancel$3(SequenceExecutionState.scala:136)\n",
       "\tat com.databricks.spark.chauffeur.SequenceExecutionState.$anonfun$cancel$3$adapted(SequenceExecutionState.scala:133)\n",
       "\tat scala.collection.immutable.Range.foreach(Range.scala:158)\n",
       "\tat com.databricks.spark.chauffeur.SequenceExecutionState.cancel(SequenceExecutionState.scala:133)\n",
       "\tat com.databricks.spark.chauffeur.ExecContextState.cancelRunningSequence(ExecContextState.scala:730)\n",
       "\tat com.databricks.spark.chauffeur.ExecContextState.$anonfun$cancel$1(ExecContextState.scala:448)\n",
       "\tat scala.Option.getOrElse(Option.scala:189)\n",
       "\tat com.databricks.spark.chauffeur.ExecContextState.cancel(ExecContextState.scala:448)\n",
       "\tat com.databricks.spark.chauffeur.ChauffeurState.cancelExecution(ChauffeurState.scala:1311)\n",
       "\tat com.databricks.spark.chauffeur.ChauffeurState.$anonfun$process$1(ChauffeurState.scala:1028)\n",
       "\tat com.databricks.logging.UsageLogging.$anonfun$recordOperation$1(UsageLogging.scala:573)\n",
       "\tat com.databricks.logging.UsageLogging.executeThunkAndCaptureResultTags$1(UsageLogging.scala:669)\n",
       "\tat com.databricks.logging.UsageLogging.$anonfun$recordOperationWithResultTags$4(UsageLogging.scala:687)\n",
       "\tat com.databricks.logging.UsageLogging.$anonfun$withAttributionContext$1(UsageLogging.scala:426)\n",
       "\tat scala.util.DynamicVariable.withValue(DynamicVariable.scala:62)\n",
       "\tat com.databricks.logging.AttributionContext$.withValue(AttributionContext.scala:216)\n",
       "\tat com.databricks.logging.UsageLogging.withAttributionContext(UsageLogging.scala:424)\n",
       "\tat com.databricks.logging.UsageLogging.withAttributionContext$(UsageLogging.scala:418)\n",
       "\tat com.databricks.spark.chauffeur.ChauffeurState.withAttributionContext(ChauffeurState.scala:74)\n",
       "\tat com.databricks.logging.UsageLogging.withAttributionTags(UsageLogging.scala:472)\n",
       "\tat com.databricks.logging.UsageLogging.withAttributionTags$(UsageLogging.scala:455)\n",
       "\tat com.databricks.spark.chauffeur.ChauffeurState.withAttributionTags(ChauffeurState.scala:74)\n",
       "\tat com.databricks.logging.UsageLogging.recordOperationWithResultTags(UsageLogging.scala:664)\n",
       "\tat com.databricks.logging.UsageLogging.recordOperationWithResultTags$(UsageLogging.scala:582)\n",
       "\tat com.databricks.spark.chauffeur.ChauffeurState.recordOperationWithResultTags(ChauffeurState.scala:74)\n",
       "\tat com.databricks.logging.UsageLogging.recordOperation(UsageLogging.scala:573)\n",
       "\tat com.databricks.logging.UsageLogging.recordOperation$(UsageLogging.scala:542)\n",
       "\tat com.databricks.spark.chauffeur.ChauffeurState.recordOperation(ChauffeurState.scala:74)\n",
       "\tat com.databricks.spark.chauffeur.ChauffeurState.process(ChauffeurState.scala:989)\n",
       "\tat com.databricks.spark.chauffeur.Chauffeur$$anon$1$$anonfun$receive$1.handleDriverRequest$1(Chauffeur.scala:789)\n",
       "\tat com.databricks.spark.chauffeur.Chauffeur$$anon$1$$anonfun$receive$1.$anonfun$applyOrElse$5(Chauffeur.scala:815)\n",
       "\tat com.databricks.logging.UsageLogging.executeThunkAndCaptureResultTags$1(UsageLogging.scala:669)\n",
       "\tat com.databricks.logging.UsageLogging.$anonfun$recordOperationWithResultTags$4(UsageLogging.scala:687)\n",
       "\tat com.databricks.logging.UsageLogging.$anonfun$withAttributionContext$1(UsageLogging.scala:426)\n",
       "\tat scala.util.DynamicVariable.withValue(DynamicVariable.scala:62)\n",
       "\tat com.databricks.logging.AttributionContext$.withValue(AttributionContext.scala:216)\n",
       "\tat com.databricks.logging.UsageLogging.withAttributionContext(UsageLogging.scala:424)\n",
       "\tat com.databricks.logging.UsageLogging.withAttributionContext$(UsageLogging.scala:418)\n",
       "\tat com.databricks.rpc.ServerBackend.withAttributionContext(ServerBackend.scala:22)\n",
       "\tat com.databricks.logging.UsageLogging.withAttributionTags(UsageLogging.scala:472)\n",
       "\tat com.databricks.logging.UsageLogging.withAttributionTags$(UsageLogging.scala:455)\n",
       "\tat com.databricks.rpc.ServerBackend.withAttributionTags(ServerBackend.scala:22)\n",
       "\tat com.databricks.logging.UsageLogging.recordOperationWithResultTags(UsageLogging.scala:664)\n",
       "\tat com.databricks.logging.UsageLogging.recordOperationWithResultTags$(UsageLogging.scala:582)\n",
       "\tat com.databricks.rpc.ServerBackend.recordOperationWithResultTags(ServerBackend.scala:22)\n",
       "\tat com.databricks.spark.chauffeur.Chauffeur$$anon$1$$anonfun$receive$1.handleDriverRequestWithUsageLogging$1(Chauffeur.scala:814)\n",
       "\tat com.databricks.spark.chauffeur.Chauffeur$$anon$1$$anonfun$receive$1.applyOrElse(Chauffeur.scala:869)\n",
       "\tat com.databricks.spark.chauffeur.Chauffeur$$anon$1$$anonfun$receive$1.applyOrElse(Chauffeur.scala:662)\n",
       "\tat com.databricks.rpc.ServerBackend.$anonfun$internalReceive0$2(ServerBackend.scala:174)\n",
       "\tat com.databricks.rpc.ServerBackend$$anonfun$commonReceive$1.applyOrElse(ServerBackend.scala:200)\n",
       "\tat com.databricks.rpc.ServerBackend$$anonfun$commonReceive$1.applyOrElse(ServerBackend.scala:200)\n",
       "\tat com.databricks.rpc.ServerBackend.internalReceive0(ServerBackend.scala:171)\n",
       "\tat com.databricks.rpc.ServerBackend.$anonfun$internalReceive$1(ServerBackend.scala:147)\n",
       "\tat com.databricks.logging.UsageLogging.$anonfun$recordOperation$1(UsageLogging.scala:573)\n",
       "\tat com.databricks.logging.UsageLogging.executeThunkAndCaptureResultTags$1(UsageLogging.scala:669)\n",
       "\tat com.databricks.logging.UsageLogging.$anonfun$recordOperationWithResultTags$4(UsageLogging.scala:687)\n",
       "\tat com.databricks.logging.UsageLogging.$anonfun$withAttributionContext$1(UsageLogging.scala:426)\n",
       "\tat scala.util.DynamicVariable.withValue(DynamicVariable.scala:62)\n",
       "\tat com.databricks.logging.AttributionContext$.withValue(AttributionContext.scala:216)\n",
       "\tat com.databricks.logging.UsageLogging.withAttributionContext(UsageLogging.scala:424)\n",
       "\tat com.databricks.logging.UsageLogging.withAttributionContext$(UsageLogging.scala:418)\n",
       "\tat com.databricks.rpc.ServerBackend.withAttributionContext(ServerBackend.scala:22)\n",
       "\tat com.databricks.logging.UsageLogging.withAttributionTags(UsageLogging.scala:472)\n",
       "\tat com.databricks.logging.UsageLogging.withAttributionTags$(UsageLogging.scala:455)\n",
       "\tat com.databricks.rpc.ServerBackend.withAttributionTags(ServerBackend.scala:22)\n",
       "\tat com.databricks.logging.UsageLogging.recordOperationWithResultTags(UsageLogging.scala:664)\n",
       "\tat com.databricks.logging.UsageLogging.recordOperationWithResultTags$(UsageLogging.scala:582)\n",
       "\tat com.databricks.rpc.ServerBackend.recordOperationWithResultTags(ServerBackend.scala:22)\n",
       "\tat com.databricks.logging.UsageLogging.recordOperation(UsageLogging.scala:573)\n",
       "\tat com.databricks.logging.UsageLogging.recordOperation$(UsageLogging.scala:542)\n",
       "\tat com.databricks.rpc.ServerBackend.recordOperation(ServerBackend.scala:22)\n",
       "\tat com.databricks.rpc.ServerBackend.internalReceive(ServerBackend.scala:147)\n",
       "\tat com.databricks.rpc.JettyServer$RequestManager.handleRPC(JettyServer.scala:1020)\n",
       "\tat com.databricks.rpc.JettyServer$RequestManager.handleRequestAndRespond(JettyServer.scala:941)\n",
       "\tat com.databricks.rpc.JettyServer$RequestManager.$anonfun$handleHttp$6(JettyServer.scala:545)\n",
       "\tat com.databricks.rpc.JettyServer$RequestManager.$anonfun$handleHttp$6$adapted(JettyServer.scala:514)\n",
       "\tat com.databricks.logging.activity.ActivityContextFactory$.$anonfun$withActivityInternal$4(ActivityContextFactory.scala:405)\n",
       "\tat com.databricks.logging.UsageLogging.$anonfun$withAttributionContext$1(UsageLogging.scala:426)\n",
       "\tat scala.util.DynamicVariable.withValue(DynamicVariable.scala:62)\n",
       "\tat com.databricks.logging.AttributionContext$.withValue(AttributionContext.scala:216)\n",
       "\tat com.databricks.logging.UsageLogging.withAttributionContext(UsageLogging.scala:424)\n",
       "\tat com.databricks.logging.UsageLogging.withAttributionContext$(UsageLogging.scala:418)\n",
       "\tat com.databricks.logging.activity.ActivityContextFactory$.withAttributionContext(ActivityContextFactory.scala:58)\n",
       "\tat com.databricks.logging.activity.ActivityContextFactory$.$anonfun$withActivityInternal$1(ActivityContextFactory.scala:405)\n",
       "\tat com.databricks.context.integrity.IntegrityCheckContext$ThreadLocalStorage$.withValue(IntegrityCheckContext.scala:44)\n",
       "\tat com.databricks.logging.activity.ActivityContextFactory$.withActivityInternal(ActivityContextFactory.scala:380)\n",
       "\tat com.databricks.logging.activity.ActivityContextFactory$.withServiceRequestActivity(ActivityContextFactory.scala:159)\n",
       "\tat com.databricks.rpc.JettyServer$RequestManager.handleHttp(JettyServer.scala:514)\n",
       "\tat com.databricks.rpc.JettyServer$RequestManager.doPost(JettyServer.scala:404)\n",
       "\tat javax.servlet.http.HttpServlet.service(HttpServlet.java:665)\n",
       "\tat com.databricks.rpc.HttpServletWithPatch.service(HttpServletWithPatch.scala:33)\n",
       "\tat javax.servlet.http.HttpServlet.service(HttpServlet.java:750)\n",
       "\tat org.eclipse.jetty.servlet.ServletHolder.handle(ServletHolder.java:799)\n",
       "\tat org.eclipse.jetty.servlet.ServletHandler.doHandle(ServletHandler.java:554)\n",
       "\tat org.eclipse.jetty.server.handler.ScopedHandler.nextScope(ScopedHandler.java:190)\n",
       "\tat org.eclipse.jetty.servlet.ServletHandler.doScope(ServletHandler.java:505)\n",
       "\tat org.eclipse.jetty.server.handler.ScopedHandler.handle(ScopedHandler.java:141)\n",
       "\tat org.eclipse.jetty.server.handler.HandlerWrapper.handle(HandlerWrapper.java:127)\n",
       "\tat org.eclipse.jetty.server.Server.handle(Server.java:516)\n",
       "\tat org.eclipse.jetty.server.HttpChannel.lambda$handle$1(HttpChannel.java:487)\n",
       "\tat org.eclipse.jetty.server.HttpChannel.dispatch(HttpChannel.java:732)\n",
       "\tat org.eclipse.jetty.server.HttpChannel.handle(HttpChannel.java:479)\n",
       "\tat org.eclipse.jetty.server.HttpConnection.onFillable(HttpConnection.java:277)\n",
       "\tat org.eclipse.jetty.io.AbstractConnection$ReadCallback.succeeded(AbstractConnection.java:311)\n",
       "\tat org.eclipse.jetty.io.FillInterest.fillable(FillInterest.java:105)\n",
       "\tat org.eclipse.jetty.io.ssl.SslConnection$DecryptedEndPoint.onFillable(SslConnection.java:555)\n",
       "\tat org.eclipse.jetty.io.ssl.SslConnection.onFillable(SslConnection.java:410)\n",
       "\tat org.eclipse.jetty.io.ssl.SslConnection$2.succeeded(SslConnection.java:164)\n",
       "\tat org.eclipse.jetty.io.FillInterest.fillable(FillInterest.java:105)\n",
       "\tat org.eclipse.jetty.io.ChannelEndPoint$1.run(ChannelEndPoint.java:104)\n",
       "\tat org.eclipse.jetty.util.thread.strategy.EatWhatYouKill.runTask(EatWhatYouKill.java:338)\n",
       "\tat org.eclipse.jetty.util.thread.strategy.EatWhatYouKill.doProduce(EatWhatYouKill.java:315)\n",
       "\tat org.eclipse.jetty.util.thread.strategy.EatWhatYouKill.tryProduce(EatWhatYouKill.java:173)\n",
       "\tat org.eclipse.jetty.util.thread.strategy.EatWhatYouKill.run(EatWhatYouKill.java:131)\n",
       "\tat org.eclipse.jetty.util.thread.ReservedThreadExecutor$ReservedThread.run(ReservedThreadExecutor.java:409)\n",
       "\tat com.databricks.rpc.InstrumentedQueuedThreadPool$$anon$1.$anonfun$run$4(InstrumentedQueuedThreadPool.scala:104)\n",
       "\tat scala.runtime.java8.JFunction0$mcV$sp.apply(JFunction0$mcV$sp.java:23)\n",
       "\tat com.databricks.logging.UsageLogging.withAttributionContext(UsageLogging.scala:420)\n",
       "\tat com.databricks.logging.UsageLogging.withAttributionContext$(UsageLogging.scala:418)\n",
       "\tat com.databricks.rpc.InstrumentedQueuedThreadPool.withAttributionContext(InstrumentedQueuedThreadPool.scala:47)\n",
       "\tat com.databricks.rpc.InstrumentedQueuedThreadPool$$anon$1.$anonfun$run$1(InstrumentedQueuedThreadPool.scala:104)\n",
       "\tat scala.runtime.java8.JFunction0$mcV$sp.apply(JFunction0$mcV$sp.java:23)\n",
       "\tat com.databricks.instrumentation.QueuedThreadPoolInstrumenter.trackActiveThreads(QueuedThreadPoolInstrumenter.scala:66)\n",
       "\tat com.databricks.instrumentation.QueuedThreadPoolInstrumenter.trackActiveThreads$(QueuedThreadPoolInstrumenter.scala:63)\n",
       "\tat com.databricks.rpc.InstrumentedQueuedThreadPool.trackActiveThreads(InstrumentedQueuedThreadPool.scala:47)\n",
       "\tat com.databricks.rpc.InstrumentedQueuedThreadPool$$anon$1.run(InstrumentedQueuedThreadPool.scala:86)\n",
       "\tat org.eclipse.jetty.util.thread.QueuedThreadPool.runJob(QueuedThreadPool.java:883)\n",
       "\tat org.eclipse.jetty.util.thread.QueuedThreadPool$Runner.run(QueuedThreadPool.java:1034)\n",
       "\tat java.lang.Thread.run(Thread.java:750)"
      ]
     },
     "metadata": {
      "application/vnd.databricks.v1+output": {
       "addedWidgets": {},
       "arguments": {},
       "datasetInfos": [],
       "jupyterProps": null,
       "metadata": {
        "errorSummary": ""
       },
       "removedWidgets": [],
       "sqlProps": null,
       "stackFrames": [
        "com.databricks.backend.common.rpc.CommandCancelledException",
        "\tat com.databricks.spark.chauffeur.SequenceExecutionState.$anonfun$cancel$5(SequenceExecutionState.scala:136)",
        "\tat scala.Option.getOrElse(Option.scala:189)",
        "\tat com.databricks.spark.chauffeur.SequenceExecutionState.$anonfun$cancel$3(SequenceExecutionState.scala:136)",
        "\tat com.databricks.spark.chauffeur.SequenceExecutionState.$anonfun$cancel$3$adapted(SequenceExecutionState.scala:133)",
        "\tat scala.collection.immutable.Range.foreach(Range.scala:158)",
        "\tat com.databricks.spark.chauffeur.SequenceExecutionState.cancel(SequenceExecutionState.scala:133)",
        "\tat com.databricks.spark.chauffeur.ExecContextState.cancelRunningSequence(ExecContextState.scala:730)",
        "\tat com.databricks.spark.chauffeur.ExecContextState.$anonfun$cancel$1(ExecContextState.scala:448)",
        "\tat scala.Option.getOrElse(Option.scala:189)",
        "\tat com.databricks.spark.chauffeur.ExecContextState.cancel(ExecContextState.scala:448)",
        "\tat com.databricks.spark.chauffeur.ChauffeurState.cancelExecution(ChauffeurState.scala:1311)",
        "\tat com.databricks.spark.chauffeur.ChauffeurState.$anonfun$process$1(ChauffeurState.scala:1028)",
        "\tat com.databricks.logging.UsageLogging.$anonfun$recordOperation$1(UsageLogging.scala:573)",
        "\tat com.databricks.logging.UsageLogging.executeThunkAndCaptureResultTags$1(UsageLogging.scala:669)",
        "\tat com.databricks.logging.UsageLogging.$anonfun$recordOperationWithResultTags$4(UsageLogging.scala:687)",
        "\tat com.databricks.logging.UsageLogging.$anonfun$withAttributionContext$1(UsageLogging.scala:426)",
        "\tat scala.util.DynamicVariable.withValue(DynamicVariable.scala:62)",
        "\tat com.databricks.logging.AttributionContext$.withValue(AttributionContext.scala:216)",
        "\tat com.databricks.logging.UsageLogging.withAttributionContext(UsageLogging.scala:424)",
        "\tat com.databricks.logging.UsageLogging.withAttributionContext$(UsageLogging.scala:418)",
        "\tat com.databricks.spark.chauffeur.ChauffeurState.withAttributionContext(ChauffeurState.scala:74)",
        "\tat com.databricks.logging.UsageLogging.withAttributionTags(UsageLogging.scala:472)",
        "\tat com.databricks.logging.UsageLogging.withAttributionTags$(UsageLogging.scala:455)",
        "\tat com.databricks.spark.chauffeur.ChauffeurState.withAttributionTags(ChauffeurState.scala:74)",
        "\tat com.databricks.logging.UsageLogging.recordOperationWithResultTags(UsageLogging.scala:664)",
        "\tat com.databricks.logging.UsageLogging.recordOperationWithResultTags$(UsageLogging.scala:582)",
        "\tat com.databricks.spark.chauffeur.ChauffeurState.recordOperationWithResultTags(ChauffeurState.scala:74)",
        "\tat com.databricks.logging.UsageLogging.recordOperation(UsageLogging.scala:573)",
        "\tat com.databricks.logging.UsageLogging.recordOperation$(UsageLogging.scala:542)",
        "\tat com.databricks.spark.chauffeur.ChauffeurState.recordOperation(ChauffeurState.scala:74)",
        "\tat com.databricks.spark.chauffeur.ChauffeurState.process(ChauffeurState.scala:989)",
        "\tat com.databricks.spark.chauffeur.Chauffeur$$anon$1$$anonfun$receive$1.handleDriverRequest$1(Chauffeur.scala:789)",
        "\tat com.databricks.spark.chauffeur.Chauffeur$$anon$1$$anonfun$receive$1.$anonfun$applyOrElse$5(Chauffeur.scala:815)",
        "\tat com.databricks.logging.UsageLogging.executeThunkAndCaptureResultTags$1(UsageLogging.scala:669)",
        "\tat com.databricks.logging.UsageLogging.$anonfun$recordOperationWithResultTags$4(UsageLogging.scala:687)",
        "\tat com.databricks.logging.UsageLogging.$anonfun$withAttributionContext$1(UsageLogging.scala:426)",
        "\tat scala.util.DynamicVariable.withValue(DynamicVariable.scala:62)",
        "\tat com.databricks.logging.AttributionContext$.withValue(AttributionContext.scala:216)",
        "\tat com.databricks.logging.UsageLogging.withAttributionContext(UsageLogging.scala:424)",
        "\tat com.databricks.logging.UsageLogging.withAttributionContext$(UsageLogging.scala:418)",
        "\tat com.databricks.rpc.ServerBackend.withAttributionContext(ServerBackend.scala:22)",
        "\tat com.databricks.logging.UsageLogging.withAttributionTags(UsageLogging.scala:472)",
        "\tat com.databricks.logging.UsageLogging.withAttributionTags$(UsageLogging.scala:455)",
        "\tat com.databricks.rpc.ServerBackend.withAttributionTags(ServerBackend.scala:22)",
        "\tat com.databricks.logging.UsageLogging.recordOperationWithResultTags(UsageLogging.scala:664)",
        "\tat com.databricks.logging.UsageLogging.recordOperationWithResultTags$(UsageLogging.scala:582)",
        "\tat com.databricks.rpc.ServerBackend.recordOperationWithResultTags(ServerBackend.scala:22)",
        "\tat com.databricks.spark.chauffeur.Chauffeur$$anon$1$$anonfun$receive$1.handleDriverRequestWithUsageLogging$1(Chauffeur.scala:814)",
        "\tat com.databricks.spark.chauffeur.Chauffeur$$anon$1$$anonfun$receive$1.applyOrElse(Chauffeur.scala:869)",
        "\tat com.databricks.spark.chauffeur.Chauffeur$$anon$1$$anonfun$receive$1.applyOrElse(Chauffeur.scala:662)",
        "\tat com.databricks.rpc.ServerBackend.$anonfun$internalReceive0$2(ServerBackend.scala:174)",
        "\tat com.databricks.rpc.ServerBackend$$anonfun$commonReceive$1.applyOrElse(ServerBackend.scala:200)",
        "\tat com.databricks.rpc.ServerBackend$$anonfun$commonReceive$1.applyOrElse(ServerBackend.scala:200)",
        "\tat com.databricks.rpc.ServerBackend.internalReceive0(ServerBackend.scala:171)",
        "\tat com.databricks.rpc.ServerBackend.$anonfun$internalReceive$1(ServerBackend.scala:147)",
        "\tat com.databricks.logging.UsageLogging.$anonfun$recordOperation$1(UsageLogging.scala:573)",
        "\tat com.databricks.logging.UsageLogging.executeThunkAndCaptureResultTags$1(UsageLogging.scala:669)",
        "\tat com.databricks.logging.UsageLogging.$anonfun$recordOperationWithResultTags$4(UsageLogging.scala:687)",
        "\tat com.databricks.logging.UsageLogging.$anonfun$withAttributionContext$1(UsageLogging.scala:426)",
        "\tat scala.util.DynamicVariable.withValue(DynamicVariable.scala:62)",
        "\tat com.databricks.logging.AttributionContext$.withValue(AttributionContext.scala:216)",
        "\tat com.databricks.logging.UsageLogging.withAttributionContext(UsageLogging.scala:424)",
        "\tat com.databricks.logging.UsageLogging.withAttributionContext$(UsageLogging.scala:418)",
        "\tat com.databricks.rpc.ServerBackend.withAttributionContext(ServerBackend.scala:22)",
        "\tat com.databricks.logging.UsageLogging.withAttributionTags(UsageLogging.scala:472)",
        "\tat com.databricks.logging.UsageLogging.withAttributionTags$(UsageLogging.scala:455)",
        "\tat com.databricks.rpc.ServerBackend.withAttributionTags(ServerBackend.scala:22)",
        "\tat com.databricks.logging.UsageLogging.recordOperationWithResultTags(UsageLogging.scala:664)",
        "\tat com.databricks.logging.UsageLogging.recordOperationWithResultTags$(UsageLogging.scala:582)",
        "\tat com.databricks.rpc.ServerBackend.recordOperationWithResultTags(ServerBackend.scala:22)",
        "\tat com.databricks.logging.UsageLogging.recordOperation(UsageLogging.scala:573)",
        "\tat com.databricks.logging.UsageLogging.recordOperation$(UsageLogging.scala:542)",
        "\tat com.databricks.rpc.ServerBackend.recordOperation(ServerBackend.scala:22)",
        "\tat com.databricks.rpc.ServerBackend.internalReceive(ServerBackend.scala:147)",
        "\tat com.databricks.rpc.JettyServer$RequestManager.handleRPC(JettyServer.scala:1020)",
        "\tat com.databricks.rpc.JettyServer$RequestManager.handleRequestAndRespond(JettyServer.scala:941)",
        "\tat com.databricks.rpc.JettyServer$RequestManager.$anonfun$handleHttp$6(JettyServer.scala:545)",
        "\tat com.databricks.rpc.JettyServer$RequestManager.$anonfun$handleHttp$6$adapted(JettyServer.scala:514)",
        "\tat com.databricks.logging.activity.ActivityContextFactory$.$anonfun$withActivityInternal$4(ActivityContextFactory.scala:405)",
        "\tat com.databricks.logging.UsageLogging.$anonfun$withAttributionContext$1(UsageLogging.scala:426)",
        "\tat scala.util.DynamicVariable.withValue(DynamicVariable.scala:62)",
        "\tat com.databricks.logging.AttributionContext$.withValue(AttributionContext.scala:216)",
        "\tat com.databricks.logging.UsageLogging.withAttributionContext(UsageLogging.scala:424)",
        "\tat com.databricks.logging.UsageLogging.withAttributionContext$(UsageLogging.scala:418)",
        "\tat com.databricks.logging.activity.ActivityContextFactory$.withAttributionContext(ActivityContextFactory.scala:58)",
        "\tat com.databricks.logging.activity.ActivityContextFactory$.$anonfun$withActivityInternal$1(ActivityContextFactory.scala:405)",
        "\tat com.databricks.context.integrity.IntegrityCheckContext$ThreadLocalStorage$.withValue(IntegrityCheckContext.scala:44)",
        "\tat com.databricks.logging.activity.ActivityContextFactory$.withActivityInternal(ActivityContextFactory.scala:380)",
        "\tat com.databricks.logging.activity.ActivityContextFactory$.withServiceRequestActivity(ActivityContextFactory.scala:159)",
        "\tat com.databricks.rpc.JettyServer$RequestManager.handleHttp(JettyServer.scala:514)",
        "\tat com.databricks.rpc.JettyServer$RequestManager.doPost(JettyServer.scala:404)",
        "\tat javax.servlet.http.HttpServlet.service(HttpServlet.java:665)",
        "\tat com.databricks.rpc.HttpServletWithPatch.service(HttpServletWithPatch.scala:33)",
        "\tat javax.servlet.http.HttpServlet.service(HttpServlet.java:750)",
        "\tat org.eclipse.jetty.servlet.ServletHolder.handle(ServletHolder.java:799)",
        "\tat org.eclipse.jetty.servlet.ServletHandler.doHandle(ServletHandler.java:554)",
        "\tat org.eclipse.jetty.server.handler.ScopedHandler.nextScope(ScopedHandler.java:190)",
        "\tat org.eclipse.jetty.servlet.ServletHandler.doScope(ServletHandler.java:505)",
        "\tat org.eclipse.jetty.server.handler.ScopedHandler.handle(ScopedHandler.java:141)",
        "\tat org.eclipse.jetty.server.handler.HandlerWrapper.handle(HandlerWrapper.java:127)",
        "\tat org.eclipse.jetty.server.Server.handle(Server.java:516)",
        "\tat org.eclipse.jetty.server.HttpChannel.lambda$handle$1(HttpChannel.java:487)",
        "\tat org.eclipse.jetty.server.HttpChannel.dispatch(HttpChannel.java:732)",
        "\tat org.eclipse.jetty.server.HttpChannel.handle(HttpChannel.java:479)",
        "\tat org.eclipse.jetty.server.HttpConnection.onFillable(HttpConnection.java:277)",
        "\tat org.eclipse.jetty.io.AbstractConnection$ReadCallback.succeeded(AbstractConnection.java:311)",
        "\tat org.eclipse.jetty.io.FillInterest.fillable(FillInterest.java:105)",
        "\tat org.eclipse.jetty.io.ssl.SslConnection$DecryptedEndPoint.onFillable(SslConnection.java:555)",
        "\tat org.eclipse.jetty.io.ssl.SslConnection.onFillable(SslConnection.java:410)",
        "\tat org.eclipse.jetty.io.ssl.SslConnection$2.succeeded(SslConnection.java:164)",
        "\tat org.eclipse.jetty.io.FillInterest.fillable(FillInterest.java:105)",
        "\tat org.eclipse.jetty.io.ChannelEndPoint$1.run(ChannelEndPoint.java:104)",
        "\tat org.eclipse.jetty.util.thread.strategy.EatWhatYouKill.runTask(EatWhatYouKill.java:338)",
        "\tat org.eclipse.jetty.util.thread.strategy.EatWhatYouKill.doProduce(EatWhatYouKill.java:315)",
        "\tat org.eclipse.jetty.util.thread.strategy.EatWhatYouKill.tryProduce(EatWhatYouKill.java:173)",
        "\tat org.eclipse.jetty.util.thread.strategy.EatWhatYouKill.run(EatWhatYouKill.java:131)",
        "\tat org.eclipse.jetty.util.thread.ReservedThreadExecutor$ReservedThread.run(ReservedThreadExecutor.java:409)",
        "\tat com.databricks.rpc.InstrumentedQueuedThreadPool$$anon$1.$anonfun$run$4(InstrumentedQueuedThreadPool.scala:104)",
        "\tat scala.runtime.java8.JFunction0$mcV$sp.apply(JFunction0$mcV$sp.java:23)",
        "\tat com.databricks.logging.UsageLogging.withAttributionContext(UsageLogging.scala:420)",
        "\tat com.databricks.logging.UsageLogging.withAttributionContext$(UsageLogging.scala:418)",
        "\tat com.databricks.rpc.InstrumentedQueuedThreadPool.withAttributionContext(InstrumentedQueuedThreadPool.scala:47)",
        "\tat com.databricks.rpc.InstrumentedQueuedThreadPool$$anon$1.$anonfun$run$1(InstrumentedQueuedThreadPool.scala:104)",
        "\tat scala.runtime.java8.JFunction0$mcV$sp.apply(JFunction0$mcV$sp.java:23)",
        "\tat com.databricks.instrumentation.QueuedThreadPoolInstrumenter.trackActiveThreads(QueuedThreadPoolInstrumenter.scala:66)",
        "\tat com.databricks.instrumentation.QueuedThreadPoolInstrumenter.trackActiveThreads$(QueuedThreadPoolInstrumenter.scala:63)",
        "\tat com.databricks.rpc.InstrumentedQueuedThreadPool.trackActiveThreads(InstrumentedQueuedThreadPool.scala:47)",
        "\tat com.databricks.rpc.InstrumentedQueuedThreadPool$$anon$1.run(InstrumentedQueuedThreadPool.scala:86)",
        "\tat org.eclipse.jetty.util.thread.QueuedThreadPool.runJob(QueuedThreadPool.java:883)",
        "\tat org.eclipse.jetty.util.thread.QueuedThreadPool$Runner.run(QueuedThreadPool.java:1034)",
        "\tat java.lang.Thread.run(Thread.java:750)"
       ],
       "type": "baseError"
      }
     },
     "output_type": "display_data"
    }
   ],
   "source": [
    "from pyspark.sql.types import *\n",
    "from pyspark.sql.functions import *\n",
    "import urllib\n",
    "delta_table_path = \"dbfs:/user/hive/warehouse/authentication_credentials\"\n",
    "aws_keys_df = spark.read.format(\"delta\").load(delta_table_path)\n",
    "\n",
    "ACCESS_KEY = aws_keys_df.select('Access key ID').collect()[0]['Access key ID']\n",
    "SECRET_KEY = aws_keys_df.select('Secret access key').collect()[0]['Secret access key']\n",
    "\n",
    "ENCODED_SECRET_KEY = urllib.parse.quote(string=SECRET_KEY, safe=\"\")\n",
    "\n",
    "pin_streaming_schema = StructType([\n",
    "    StructField(\"category\", StringType(), True),\n",
    "    StructField(\"description\", StringType(), True),\n",
    "    StructField(\"downloaded\", IntegerType(), True),\n",
    "    StructField(\"follower_count\", StringType(), True),\n",
    "    StructField(\"image_src\", StringType(), True),\n",
    "    StructField(\"index\", IntegerType(), True),\n",
    "    StructField(\"is_image_or_video\", StringType(), True),\n",
    "    StructField(\"poster_name\", StringType(), True),\n",
    "    StructField(\"save_location\", StringType(), True),\n",
    "    StructField(\"tag_list\", StringType(), True),\n",
    "    StructField(\"title\", StringType(), True),\n",
    "    StructField(\"unique_id\", StringType(), True)]\n",
    "  )\n",
    "\n",
    "pin_df = (\n",
    "    spark\n",
    "    .readStream\n",
    "    .format(\"kinesis\") \\\n",
    "    .option(\"streamName\", \"streaming-12885f560a0b-pin\") \\\n",
    "    .option(\"region\", \"us-east-1\") \\\n",
    "    .option(\"initialPosition\", \"earliest\") \\\n",
    "    .option('awsAccessKey', ACCESS_KEY) \\\n",
    "    .option('awsSecretKey', SECRET_KEY) \\\n",
    "    .load()\n",
    "    )\n",
    "pin_df = pin_df.selectExpr(\"CAST(data as STRING)\")\n",
    "pin_df = pin_df.withColumn(\"data\", from_json(col(\"data\"), schema=pin_streaming_schema))\n",
    "pin_df = pin_df.select(\"data.*\")\n",
    "\n",
    "cleaned_pin_df = clean_pin_df(pin_df)\n",
    "\n",
    "cleaned_pin_df.writeStream \\\n",
    "  .format(\"delta\") \\\n",
    "  .outputMode(\"append\") \\\n",
    "  .option(\"checkpointLocation\", \"/tmp/kinesis/_checkpoints/pin\") \\\n",
    "  .table(\"12885f560a0b_pin_table\")\n"
   ]
  },
  {
   "cell_type": "code",
   "execution_count": 0,
   "metadata": {
    "application/vnd.databricks.v1+cell": {
     "cellMetadata": {
      "byteLimit": 2048000,
      "rowLimit": 10000
     },
     "inputWidgets": {},
     "nuid": "a7944b61-13c3-4712-a5bf-850dfbd64f27",
     "showTitle": true,
     "tableResultSettingsMap": {},
     "title": "Define geo schema, execute clean_geo_df, readStream and writeStream methods for geo_df"
    }
   },
   "outputs": [
    {
     "output_type": "execute_result",
     "data": {
      "text/plain": [
       "<pyspark.sql.streaming.query.StreamingQuery at 0x7f696449a3b0>"
      ]
     },
     "execution_count": 428,
     "metadata": {},
     "output_type": "execute_result"
    },
    {
     "output_type": "display_data",
     "data": {
      "text/plain": [
       "\u001B[0;31m---------------------------------------------------------------------------\u001B[0m\n",
       "\u001B[0;31mPy4JJavaError\u001B[0m                             Traceback (most recent call last)\n",
       "File \u001B[0;32m<command-1721684535882719>, line 32\u001B[0m\n",
       "\u001B[1;32m     25\u001B[0m cleaned_geo_df \u001B[38;5;241m=\u001B[39m clean_geo_df(geo_df)\n",
       "\u001B[1;32m     27\u001B[0m display(cleaned_geo_df)\n",
       "\u001B[1;32m     28\u001B[0m cleaned_geo_df\u001B[38;5;241m.\u001B[39mwriteStream \\\n",
       "\u001B[1;32m     29\u001B[0m   \u001B[38;5;241m.\u001B[39mformat(\u001B[38;5;124m\"\u001B[39m\u001B[38;5;124mdelta\u001B[39m\u001B[38;5;124m\"\u001B[39m) \\\n",
       "\u001B[1;32m     30\u001B[0m   \u001B[38;5;241m.\u001B[39moutputMode(\u001B[38;5;124m\"\u001B[39m\u001B[38;5;124mappend\u001B[39m\u001B[38;5;124m\"\u001B[39m) \\\n",
       "\u001B[1;32m     31\u001B[0m   \u001B[38;5;241m.\u001B[39moption(\u001B[38;5;124m\"\u001B[39m\u001B[38;5;124mcheckpointLocation\u001B[39m\u001B[38;5;124m\"\u001B[39m, \u001B[38;5;124m\"\u001B[39m\u001B[38;5;124m/tmp/kinesis/_checkpoints/\u001B[39m\u001B[38;5;124m\"\u001B[39m) \\\n",
       "\u001B[0;32m---> 32\u001B[0m   \u001B[38;5;241m.\u001B[39mtable(\u001B[38;5;124m\"\u001B[39m\u001B[38;5;124m12885f560a0b_geo_table\u001B[39m\u001B[38;5;124m\"\u001B[39m)\n",
       "\n",
       "File \u001B[0;32m/databricks/spark/python/pyspark/sql/streaming/readwriter.py:1643\u001B[0m, in \u001B[0;36mDataStreamWriter.table\u001B[0;34m(self, tableName)\u001B[0m\n",
       "\u001B[1;32m   1641\u001B[0m \u001B[38;5;28;01mdef\u001B[39;00m \u001B[38;5;21mtable\u001B[39m(\u001B[38;5;28mself\u001B[39m, tableName: \u001B[38;5;28mstr\u001B[39m) \u001B[38;5;241m-\u001B[39m\u001B[38;5;241m>\u001B[39m StreamingQuery:\n",
       "\u001B[1;32m   1642\u001B[0m     \u001B[38;5;124;03m\"\"\"Alias for the toTable API\"\"\"\u001B[39;00m\n",
       "\u001B[0;32m-> 1643\u001B[0m     \u001B[38;5;28;01mreturn\u001B[39;00m \u001B[38;5;28;43mself\u001B[39;49m\u001B[38;5;241;43m.\u001B[39;49m\u001B[43mtoTable\u001B[49m\u001B[43m(\u001B[49m\u001B[43mtableName\u001B[49m\u001B[43m)\u001B[49m\n",
       "\n",
       "File \u001B[0;32m/databricks/spark/python/pyspark/sql/streaming/readwriter.py:1736\u001B[0m, in \u001B[0;36mDataStreamWriter.toTable\u001B[0;34m(self, tableName, format, outputMode, partitionBy, queryName, **options)\u001B[0m\n",
       "\u001B[1;32m   1734\u001B[0m \u001B[38;5;28;01mif\u001B[39;00m queryName \u001B[38;5;129;01mis\u001B[39;00m \u001B[38;5;129;01mnot\u001B[39;00m \u001B[38;5;28;01mNone\u001B[39;00m:\n",
       "\u001B[1;32m   1735\u001B[0m     \u001B[38;5;28mself\u001B[39m\u001B[38;5;241m.\u001B[39mqueryName(queryName)\n",
       "\u001B[0;32m-> 1736\u001B[0m \u001B[38;5;28;01mreturn\u001B[39;00m \u001B[38;5;28mself\u001B[39m\u001B[38;5;241m.\u001B[39m_sq(\u001B[38;5;28;43mself\u001B[39;49m\u001B[38;5;241;43m.\u001B[39;49m\u001B[43m_jwrite\u001B[49m\u001B[38;5;241;43m.\u001B[39;49m\u001B[43mtoTable\u001B[49m\u001B[43m(\u001B[49m\u001B[43mtableName\u001B[49m\u001B[43m)\u001B[49m)\n",
       "\n",
       "File \u001B[0;32m/databricks/spark/python/lib/py4j-0.10.9.7-src.zip/py4j/java_gateway.py:1355\u001B[0m, in \u001B[0;36mJavaMember.__call__\u001B[0;34m(self, *args)\u001B[0m\n",
       "\u001B[1;32m   1349\u001B[0m command \u001B[38;5;241m=\u001B[39m proto\u001B[38;5;241m.\u001B[39mCALL_COMMAND_NAME \u001B[38;5;241m+\u001B[39m\\\n",
       "\u001B[1;32m   1350\u001B[0m     \u001B[38;5;28mself\u001B[39m\u001B[38;5;241m.\u001B[39mcommand_header \u001B[38;5;241m+\u001B[39m\\\n",
       "\u001B[1;32m   1351\u001B[0m     args_command \u001B[38;5;241m+\u001B[39m\\\n",
       "\u001B[1;32m   1352\u001B[0m     proto\u001B[38;5;241m.\u001B[39mEND_COMMAND_PART\n",
       "\u001B[1;32m   1354\u001B[0m answer \u001B[38;5;241m=\u001B[39m \u001B[38;5;28mself\u001B[39m\u001B[38;5;241m.\u001B[39mgateway_client\u001B[38;5;241m.\u001B[39msend_command(command)\n",
       "\u001B[0;32m-> 1355\u001B[0m return_value \u001B[38;5;241m=\u001B[39m \u001B[43mget_return_value\u001B[49m\u001B[43m(\u001B[49m\n",
       "\u001B[1;32m   1356\u001B[0m \u001B[43m    \u001B[49m\u001B[43manswer\u001B[49m\u001B[43m,\u001B[49m\u001B[43m \u001B[49m\u001B[38;5;28;43mself\u001B[39;49m\u001B[38;5;241;43m.\u001B[39;49m\u001B[43mgateway_client\u001B[49m\u001B[43m,\u001B[49m\u001B[43m \u001B[49m\u001B[38;5;28;43mself\u001B[39;49m\u001B[38;5;241;43m.\u001B[39;49m\u001B[43mtarget_id\u001B[49m\u001B[43m,\u001B[49m\u001B[43m \u001B[49m\u001B[38;5;28;43mself\u001B[39;49m\u001B[38;5;241;43m.\u001B[39;49m\u001B[43mname\u001B[49m\u001B[43m)\u001B[49m\n",
       "\u001B[1;32m   1358\u001B[0m \u001B[38;5;28;01mfor\u001B[39;00m temp_arg \u001B[38;5;129;01min\u001B[39;00m temp_args:\n",
       "\u001B[1;32m   1359\u001B[0m     \u001B[38;5;28;01mif\u001B[39;00m \u001B[38;5;28mhasattr\u001B[39m(temp_arg, \u001B[38;5;124m\"\u001B[39m\u001B[38;5;124m_detach\u001B[39m\u001B[38;5;124m\"\u001B[39m):\n",
       "\n",
       "File \u001B[0;32m/databricks/spark/python/pyspark/errors/exceptions/captured.py:224\u001B[0m, in \u001B[0;36mcapture_sql_exception.<locals>.deco\u001B[0;34m(*a, **kw)\u001B[0m\n",
       "\u001B[1;32m    222\u001B[0m \u001B[38;5;28;01mdef\u001B[39;00m \u001B[38;5;21mdeco\u001B[39m(\u001B[38;5;241m*\u001B[39ma: Any, \u001B[38;5;241m*\u001B[39m\u001B[38;5;241m*\u001B[39mkw: Any) \u001B[38;5;241m-\u001B[39m\u001B[38;5;241m>\u001B[39m Any:\n",
       "\u001B[1;32m    223\u001B[0m     \u001B[38;5;28;01mtry\u001B[39;00m:\n",
       "\u001B[0;32m--> 224\u001B[0m         \u001B[38;5;28;01mreturn\u001B[39;00m \u001B[43mf\u001B[49m\u001B[43m(\u001B[49m\u001B[38;5;241;43m*\u001B[39;49m\u001B[43ma\u001B[49m\u001B[43m,\u001B[49m\u001B[43m \u001B[49m\u001B[38;5;241;43m*\u001B[39;49m\u001B[38;5;241;43m*\u001B[39;49m\u001B[43mkw\u001B[49m\u001B[43m)\u001B[49m\n",
       "\u001B[1;32m    225\u001B[0m     \u001B[38;5;28;01mexcept\u001B[39;00m Py4JJavaError \u001B[38;5;28;01mas\u001B[39;00m e:\n",
       "\u001B[1;32m    226\u001B[0m         converted \u001B[38;5;241m=\u001B[39m convert_exception(e\u001B[38;5;241m.\u001B[39mjava_exception)\n",
       "\n",
       "File \u001B[0;32m/databricks/spark/python/lib/py4j-0.10.9.7-src.zip/py4j/protocol.py:326\u001B[0m, in \u001B[0;36mget_return_value\u001B[0;34m(answer, gateway_client, target_id, name)\u001B[0m\n",
       "\u001B[1;32m    324\u001B[0m value \u001B[38;5;241m=\u001B[39m OUTPUT_CONVERTER[\u001B[38;5;28mtype\u001B[39m](answer[\u001B[38;5;241m2\u001B[39m:], gateway_client)\n",
       "\u001B[1;32m    325\u001B[0m \u001B[38;5;28;01mif\u001B[39;00m answer[\u001B[38;5;241m1\u001B[39m] \u001B[38;5;241m==\u001B[39m REFERENCE_TYPE:\n",
       "\u001B[0;32m--> 326\u001B[0m     \u001B[38;5;28;01mraise\u001B[39;00m Py4JJavaError(\n",
       "\u001B[1;32m    327\u001B[0m         \u001B[38;5;124m\"\u001B[39m\u001B[38;5;124mAn error occurred while calling \u001B[39m\u001B[38;5;132;01m{0}\u001B[39;00m\u001B[38;5;132;01m{1}\u001B[39;00m\u001B[38;5;132;01m{2}\u001B[39;00m\u001B[38;5;124m.\u001B[39m\u001B[38;5;130;01m\\n\u001B[39;00m\u001B[38;5;124m\"\u001B[39m\u001B[38;5;241m.\u001B[39m\n",
       "\u001B[1;32m    328\u001B[0m         \u001B[38;5;28mformat\u001B[39m(target_id, \u001B[38;5;124m\"\u001B[39m\u001B[38;5;124m.\u001B[39m\u001B[38;5;124m\"\u001B[39m, name), value)\n",
       "\u001B[1;32m    329\u001B[0m \u001B[38;5;28;01melse\u001B[39;00m:\n",
       "\u001B[1;32m    330\u001B[0m     \u001B[38;5;28;01mraise\u001B[39;00m Py4JError(\n",
       "\u001B[1;32m    331\u001B[0m         \u001B[38;5;124m\"\u001B[39m\u001B[38;5;124mAn error occurred while calling \u001B[39m\u001B[38;5;132;01m{0}\u001B[39;00m\u001B[38;5;132;01m{1}\u001B[39;00m\u001B[38;5;132;01m{2}\u001B[39;00m\u001B[38;5;124m. Trace:\u001B[39m\u001B[38;5;130;01m\\n\u001B[39;00m\u001B[38;5;132;01m{3}\u001B[39;00m\u001B[38;5;130;01m\\n\u001B[39;00m\u001B[38;5;124m\"\u001B[39m\u001B[38;5;241m.\u001B[39m\n",
       "\u001B[1;32m    332\u001B[0m         \u001B[38;5;28mformat\u001B[39m(target_id, \u001B[38;5;124m\"\u001B[39m\u001B[38;5;124m.\u001B[39m\u001B[38;5;124m\"\u001B[39m, name, value))\n",
       "\n",
       "\u001B[0;31mPy4JJavaError\u001B[0m: An error occurred while calling o15845.toTable.\n",
       ": java.util.concurrent.TimeoutException: Stream Execution thread for stream [id = 1521d0cb-b687-4e93-b7b0-aef47b0cd8c1, runId = ea6726ca-0d86-4182-887f-c774753e4c8b] failed to stop within 15000 milliseconds (specified by spark.sql.streaming.stopTimeout). See the cause on what was being executed in the streaming query thread.\n",
       "\tat org.apache.spark.sql.execution.streaming.StreamExecution.interruptAndAwaitExecutionThreadTermination(StreamExecution.scala:712)\n",
       "\tat org.apache.spark.sql.execution.streaming.MicroBatchExecution.stop(MicroBatchExecution.scala:409)\n",
       "\tat org.apache.spark.sql.streaming.StreamingQueryManager.$anonfun$startQuery$7(StreamingQueryManager.scala:486)\n",
       "\tat org.apache.spark.sql.streaming.StreamingQueryManager.$anonfun$startQuery$7$adapted(StreamingQueryManager.scala:484)\n",
       "\tat scala.Option.foreach(Option.scala:407)\n",
       "\tat org.apache.spark.sql.streaming.StreamingQueryManager.startQuery(StreamingQueryManager.scala:484)\n",
       "\tat org.apache.spark.sql.streaming.DataStreamWriter.startQuery(DataStreamWriter.scala:530)\n",
       "\tat org.apache.spark.sql.streaming.DataStreamWriter.startInternal(DataStreamWriter.scala:507)\n",
       "\tat org.apache.spark.sql.streaming.DataStreamWriter.writeToV1Table$1(DataStreamWriter.scala:386)\n",
       "\tat org.apache.spark.sql.streaming.DataStreamWriter.toTable(DataStreamWriter.scala:399)\n",
       "\tat sun.reflect.GeneratedMethodAccessor2823.invoke(Unknown Source)\n",
       "\tat sun.reflect.DelegatingMethodAccessorImpl.invoke(DelegatingMethodAccessorImpl.java:43)\n",
       "\tat java.lang.reflect.Method.invoke(Method.java:498)\n",
       "\tat py4j.reflection.MethodInvoker.invoke(MethodInvoker.java:244)\n",
       "\tat py4j.reflection.ReflectionEngine.invoke(ReflectionEngine.java:397)\n",
       "\tat py4j.Gateway.invoke(Gateway.java:306)\n",
       "\tat py4j.commands.AbstractCommand.invokeMethod(AbstractCommand.java:132)\n",
       "\tat py4j.commands.CallCommand.execute(CallCommand.java:79)\n",
       "\tat py4j.ClientServerConnection.waitForCommands(ClientServerConnection.java:199)\n",
       "\tat py4j.ClientServerConnection.run(ClientServerConnection.java:119)\n",
       "\tat java.lang.Thread.run(Thread.java:750)\n",
       "Caused by: org.apache.spark.SparkException: The stream thread was last executing:\n",
       "\tat java.lang.Object.wait(Native Method)\n",
       "\tat java.lang.Thread.join(Thread.java:1257)\n",
       "\tat java.lang.Thread.join(Thread.java:1331)\n",
       "\tat com.databricks.sql.kinesis.KinesisMicroBatchStream.stop(KinesisMicroBatchStream.scala:390)\n",
       "\tat org.apache.spark.sql.execution.streaming.StreamExecution.$anonfun$stopSources$1(StreamExecution.scala:627)\n",
       "\tat org.apache.spark.sql.execution.streaming.StreamExecution.$anonfun$stopSources$1$adapted(StreamExecution.scala:625)\n",
       "\tat org.apache.spark.sql.execution.streaming.StreamExecution$$Lambda$14214/1913354007.apply(Unknown Source)\n",
       "\tat scala.collection.immutable.Map$Map1.foreach(Map.scala:193)\n",
       "\tat org.apache.spark.sql.execution.streaming.StreamExecution.stopSources(StreamExecution.scala:625)\n",
       "\tat org.apache.spark.sql.execution.streaming.StreamExecution.$anonfun$runStream$5(StreamExecution.scala:521)\n",
       "\tat org.apache.spark.sql.execution.streaming.StreamExecution$$Lambda$14213/813574694.apply$mcV$sp(Unknown Source)\n",
       "\tat scala.runtime.java8.JFunction0$mcV$sp.apply(JFunction0$mcV$sp.java:23)\n",
       "\tat org.apache.spark.util.UninterruptibleThread.runUninterruptibly(UninterruptibleThread.scala:77)\n",
       "\tat org.apache.spark.sql.execution.streaming.StreamExecution.$anonfun$runStream$1(StreamExecution.scala:510)\n",
       "\tat org.apache.spark.sql.execution.streaming.StreamExecution$$Lambda$12815/1754065877.apply$mcV$sp(Unknown Source)\n",
       "\tat scala.runtime.java8.JFunction0$mcV$sp.apply(JFunction0$mcV$sp.java:23)\n",
       "\tat com.databricks.logging.UsageLogging.$anonfun$withAttributionContext$1(UsageLogging.scala:426)\n",
       "\tat com.databricks.logging.UsageLogging$$Lambda$465/132338135.apply(Unknown Source)\n",
       "\tat scala.util.DynamicVariable.withValue(DynamicVariable.scala:62)\n",
       "\tat com.databricks.logging.AttributionContext$.withValue(AttributionContext.scala:216)\n",
       "\tat com.databricks.logging.UsageLogging.withAttributionContext(UsageLogging.scala:424)\n",
       "\tat com.databricks.logging.UsageLogging.withAttributionContext$(UsageLogging.scala:418)\n",
       "\tat com.databricks.spark.util.PublicDBLogging.withAttributionContext(DatabricksSparkUsageLogger.scala:27)\n",
       "\tat com.databricks.logging.UsageLogging.withAttributionTags(UsageLogging.scala:472)\n",
       "\tat com.databricks.logging.UsageLogging.withAttributionTags$(UsageLogging.scala:455)\n",
       "\tat com.databricks.spark.util.PublicDBLogging.withAttributionTags(DatabricksSparkUsageLogger.scala:27)\n",
       "\tat com.databricks.spark.util.PublicDBLogging.withAttributionTags0(DatabricksSparkUsageLogger.scala:72)\n",
       "\tat com.databricks.spark.util.DatabricksSparkUsageLogger.withAttributionTags(DatabricksSparkUsageLogger.scala:172)\n",
       "\tat com.databricks.spark.util.UsageLogging.$anonfun$withAttributionTags$1(UsageLogger.scala:491)\n",
       "\tat com.databricks.spark.util.UsageLogging$$Lambda$12816/2142650431.apply(Unknown Source)\n",
       "\tat com.databricks.spark.util.UsageLogging$.withAttributionTags(UsageLogger.scala:603)\n",
       "\tat com.databricks.spark.util.UsageLogging$.withAttributionTags(UsageLogger.scala:612)\n",
       "\tat com.databricks.spark.util.UsageLogging.withAttributionTags(UsageLogger.scala:491)\n",
       "\tat com.databricks.spark.util.UsageLogging.withAttributionTags$(UsageLogger.scala:489)\n",
       "\tat org.apache.spark.sql.execution.streaming.StreamExecution.withAttributionTags(StreamExecution.scala:84)\n",
       "\tat org.apache.spark.sql.execution.streaming.StreamExecution.org$apache$spark$sql$execution$streaming$StreamExecution$$runStream(StreamExecution.scala:378)\n",
       "\tat org.apache.spark.sql.execution.streaming.StreamExecution$$anon$1.$anonfun$run$3(StreamExecution.scala:282)\n",
       "\tat org.apache.spark.sql.execution.streaming.StreamExecution$$anon$1$$Lambda$12814/764305408.apply$mcV$sp(Unknown Source)\n",
       "\tat scala.runtime.java8.JFunction0$mcV$sp.apply(JFunction0$mcV$sp.java:23)\n",
       "\tat org.apache.spark.JobArtifactSet$.withActiveJobArtifactState(JobArtifactSet.scala:97)\n",
       "\tat org.apache.spark.sql.execution.streaming.StreamExecution$$anon$1.$anonfun$run$2(StreamExecution.scala:282)\n",
       "\tat org.apache.spark.sql.execution.streaming.StreamExecution$$anon$1$$Lambda$12813/699523566.apply$mcV$sp(Unknown Source)\n",
       "\tat scala.runtime.java8.JFunction0$mcV$sp.apply(JFunction0$mcV$sp.java:23)\n",
       "\tat com.databricks.unity.EmptyHandle$.runWithAndClose(UCSHandle.scala:134)\n",
       "\tat org.apache.spark.sql.execution.streaming.StreamExecution$$anon$1.run(StreamExecution.scala:281)\n"
      ]
     },
     "metadata": {
      "application/vnd.databricks.v1+output": {
       "addedWidgets": {},
       "arguments": {},
       "datasetInfos": [],
       "jupyterProps": {
        "ename": "Py4JJavaError",
        "evalue": "An error occurred while calling o15845.toTable.\n: java.util.concurrent.TimeoutException: Stream Execution thread for stream [id = 1521d0cb-b687-4e93-b7b0-aef47b0cd8c1, runId = ea6726ca-0d86-4182-887f-c774753e4c8b] failed to stop within 15000 milliseconds (specified by spark.sql.streaming.stopTimeout). See the cause on what was being executed in the streaming query thread.\n\tat org.apache.spark.sql.execution.streaming.StreamExecution.interruptAndAwaitExecutionThreadTermination(StreamExecution.scala:712)\n\tat org.apache.spark.sql.execution.streaming.MicroBatchExecution.stop(MicroBatchExecution.scala:409)\n\tat org.apache.spark.sql.streaming.StreamingQueryManager.$anonfun$startQuery$7(StreamingQueryManager.scala:486)\n\tat org.apache.spark.sql.streaming.StreamingQueryManager.$anonfun$startQuery$7$adapted(StreamingQueryManager.scala:484)\n\tat scala.Option.foreach(Option.scala:407)\n\tat org.apache.spark.sql.streaming.StreamingQueryManager.startQuery(StreamingQueryManager.scala:484)\n\tat org.apache.spark.sql.streaming.DataStreamWriter.startQuery(DataStreamWriter.scala:530)\n\tat org.apache.spark.sql.streaming.DataStreamWriter.startInternal(DataStreamWriter.scala:507)\n\tat org.apache.spark.sql.streaming.DataStreamWriter.writeToV1Table$1(DataStreamWriter.scala:386)\n\tat org.apache.spark.sql.streaming.DataStreamWriter.toTable(DataStreamWriter.scala:399)\n\tat sun.reflect.GeneratedMethodAccessor2823.invoke(Unknown Source)\n\tat sun.reflect.DelegatingMethodAccessorImpl.invoke(DelegatingMethodAccessorImpl.java:43)\n\tat java.lang.reflect.Method.invoke(Method.java:498)\n\tat py4j.reflection.MethodInvoker.invoke(MethodInvoker.java:244)\n\tat py4j.reflection.ReflectionEngine.invoke(ReflectionEngine.java:397)\n\tat py4j.Gateway.invoke(Gateway.java:306)\n\tat py4j.commands.AbstractCommand.invokeMethod(AbstractCommand.java:132)\n\tat py4j.commands.CallCommand.execute(CallCommand.java:79)\n\tat py4j.ClientServerConnection.waitForCommands(ClientServerConnection.java:199)\n\tat py4j.ClientServerConnection.run(ClientServerConnection.java:119)\n\tat java.lang.Thread.run(Thread.java:750)\nCaused by: org.apache.spark.SparkException: The stream thread was last executing:\n\tat java.lang.Object.wait(Native Method)\n\tat java.lang.Thread.join(Thread.java:1257)\n\tat java.lang.Thread.join(Thread.java:1331)\n\tat com.databricks.sql.kinesis.KinesisMicroBatchStream.stop(KinesisMicroBatchStream.scala:390)\n\tat org.apache.spark.sql.execution.streaming.StreamExecution.$anonfun$stopSources$1(StreamExecution.scala:627)\n\tat org.apache.spark.sql.execution.streaming.StreamExecution.$anonfun$stopSources$1$adapted(StreamExecution.scala:625)\n\tat org.apache.spark.sql.execution.streaming.StreamExecution$$Lambda$14214/1913354007.apply(Unknown Source)\n\tat scala.collection.immutable.Map$Map1.foreach(Map.scala:193)\n\tat org.apache.spark.sql.execution.streaming.StreamExecution.stopSources(StreamExecution.scala:625)\n\tat org.apache.spark.sql.execution.streaming.StreamExecution.$anonfun$runStream$5(StreamExecution.scala:521)\n\tat org.apache.spark.sql.execution.streaming.StreamExecution$$Lambda$14213/813574694.apply$mcV$sp(Unknown Source)\n\tat scala.runtime.java8.JFunction0$mcV$sp.apply(JFunction0$mcV$sp.java:23)\n\tat org.apache.spark.util.UninterruptibleThread.runUninterruptibly(UninterruptibleThread.scala:77)\n\tat org.apache.spark.sql.execution.streaming.StreamExecution.$anonfun$runStream$1(StreamExecution.scala:510)\n\tat org.apache.spark.sql.execution.streaming.StreamExecution$$Lambda$12815/1754065877.apply$mcV$sp(Unknown Source)\n\tat scala.runtime.java8.JFunction0$mcV$sp.apply(JFunction0$mcV$sp.java:23)\n\tat com.databricks.logging.UsageLogging.$anonfun$withAttributionContext$1(UsageLogging.scala:426)\n\tat com.databricks.logging.UsageLogging$$Lambda$465/132338135.apply(Unknown Source)\n\tat scala.util.DynamicVariable.withValue(DynamicVariable.scala:62)\n\tat com.databricks.logging.AttributionContext$.withValue(AttributionContext.scala:216)\n\tat com.databricks.logging.UsageLogging.withAttributionContext(UsageLogging.scala:424)\n\tat com.databricks.logging.UsageLogging.withAttributionContext$(UsageLogging.scala:418)\n\tat com.databricks.spark.util.PublicDBLogging.withAttributionContext(DatabricksSparkUsageLogger.scala:27)\n\tat com.databricks.logging.UsageLogging.withAttributionTags(UsageLogging.scala:472)\n\tat com.databricks.logging.UsageLogging.withAttributionTags$(UsageLogging.scala:455)\n\tat com.databricks.spark.util.PublicDBLogging.withAttributionTags(DatabricksSparkUsageLogger.scala:27)\n\tat com.databricks.spark.util.PublicDBLogging.withAttributionTags0(DatabricksSparkUsageLogger.scala:72)\n\tat com.databricks.spark.util.DatabricksSparkUsageLogger.withAttributionTags(DatabricksSparkUsageLogger.scala:172)\n\tat com.databricks.spark.util.UsageLogging.$anonfun$withAttributionTags$1(UsageLogger.scala:491)\n\tat com.databricks.spark.util.UsageLogging$$Lambda$12816/2142650431.apply(Unknown Source)\n\tat com.databricks.spark.util.UsageLogging$.withAttributionTags(UsageLogger.scala:603)\n\tat com.databricks.spark.util.UsageLogging$.withAttributionTags(UsageLogger.scala:612)\n\tat com.databricks.spark.util.UsageLogging.withAttributionTags(UsageLogger.scala:491)\n\tat com.databricks.spark.util.UsageLogging.withAttributionTags$(UsageLogger.scala:489)\n\tat org.apache.spark.sql.execution.streaming.StreamExecution.withAttributionTags(StreamExecution.scala:84)\n\tat org.apache.spark.sql.execution.streaming.StreamExecution.org$apache$spark$sql$execution$streaming$StreamExecution$$runStream(StreamExecution.scala:378)\n\tat org.apache.spark.sql.execution.streaming.StreamExecution$$anon$1.$anonfun$run$3(StreamExecution.scala:282)\n\tat org.apache.spark.sql.execution.streaming.StreamExecution$$anon$1$$Lambda$12814/764305408.apply$mcV$sp(Unknown Source)\n\tat scala.runtime.java8.JFunction0$mcV$sp.apply(JFunction0$mcV$sp.java:23)\n\tat org.apache.spark.JobArtifactSet$.withActiveJobArtifactState(JobArtifactSet.scala:97)\n\tat org.apache.spark.sql.execution.streaming.StreamExecution$$anon$1.$anonfun$run$2(StreamExecution.scala:282)\n\tat org.apache.spark.sql.execution.streaming.StreamExecution$$anon$1$$Lambda$12813/699523566.apply$mcV$sp(Unknown Source)\n\tat scala.runtime.java8.JFunction0$mcV$sp.apply(JFunction0$mcV$sp.java:23)\n\tat com.databricks.unity.EmptyHandle$.runWithAndClose(UCSHandle.scala:134)\n\tat org.apache.spark.sql.execution.streaming.StreamExecution$$anon$1.run(StreamExecution.scala:281)\n"
       },
       "metadata": {
        "errorSummary": ""
       },
       "removedWidgets": [],
       "sqlProps": null,
       "stackFrames": [
        "\u001B[0;31m---------------------------------------------------------------------------\u001B[0m",
        "\u001B[0;31mPy4JJavaError\u001B[0m                             Traceback (most recent call last)",
        "File \u001B[0;32m<command-1721684535882719>, line 32\u001B[0m\n\u001B[1;32m     25\u001B[0m cleaned_geo_df \u001B[38;5;241m=\u001B[39m clean_geo_df(geo_df)\n\u001B[1;32m     27\u001B[0m display(cleaned_geo_df)\n\u001B[1;32m     28\u001B[0m cleaned_geo_df\u001B[38;5;241m.\u001B[39mwriteStream \\\n\u001B[1;32m     29\u001B[0m   \u001B[38;5;241m.\u001B[39mformat(\u001B[38;5;124m\"\u001B[39m\u001B[38;5;124mdelta\u001B[39m\u001B[38;5;124m\"\u001B[39m) \\\n\u001B[1;32m     30\u001B[0m   \u001B[38;5;241m.\u001B[39moutputMode(\u001B[38;5;124m\"\u001B[39m\u001B[38;5;124mappend\u001B[39m\u001B[38;5;124m\"\u001B[39m) \\\n\u001B[1;32m     31\u001B[0m   \u001B[38;5;241m.\u001B[39moption(\u001B[38;5;124m\"\u001B[39m\u001B[38;5;124mcheckpointLocation\u001B[39m\u001B[38;5;124m\"\u001B[39m, \u001B[38;5;124m\"\u001B[39m\u001B[38;5;124m/tmp/kinesis/_checkpoints/\u001B[39m\u001B[38;5;124m\"\u001B[39m) \\\n\u001B[0;32m---> 32\u001B[0m   \u001B[38;5;241m.\u001B[39mtable(\u001B[38;5;124m\"\u001B[39m\u001B[38;5;124m12885f560a0b_geo_table\u001B[39m\u001B[38;5;124m\"\u001B[39m)\n",
        "File \u001B[0;32m/databricks/spark/python/pyspark/sql/streaming/readwriter.py:1643\u001B[0m, in \u001B[0;36mDataStreamWriter.table\u001B[0;34m(self, tableName)\u001B[0m\n\u001B[1;32m   1641\u001B[0m \u001B[38;5;28;01mdef\u001B[39;00m \u001B[38;5;21mtable\u001B[39m(\u001B[38;5;28mself\u001B[39m, tableName: \u001B[38;5;28mstr\u001B[39m) \u001B[38;5;241m-\u001B[39m\u001B[38;5;241m>\u001B[39m StreamingQuery:\n\u001B[1;32m   1642\u001B[0m     \u001B[38;5;124;03m\"\"\"Alias for the toTable API\"\"\"\u001B[39;00m\n\u001B[0;32m-> 1643\u001B[0m     \u001B[38;5;28;01mreturn\u001B[39;00m \u001B[38;5;28;43mself\u001B[39;49m\u001B[38;5;241;43m.\u001B[39;49m\u001B[43mtoTable\u001B[49m\u001B[43m(\u001B[49m\u001B[43mtableName\u001B[49m\u001B[43m)\u001B[49m\n",
        "File \u001B[0;32m/databricks/spark/python/pyspark/sql/streaming/readwriter.py:1736\u001B[0m, in \u001B[0;36mDataStreamWriter.toTable\u001B[0;34m(self, tableName, format, outputMode, partitionBy, queryName, **options)\u001B[0m\n\u001B[1;32m   1734\u001B[0m \u001B[38;5;28;01mif\u001B[39;00m queryName \u001B[38;5;129;01mis\u001B[39;00m \u001B[38;5;129;01mnot\u001B[39;00m \u001B[38;5;28;01mNone\u001B[39;00m:\n\u001B[1;32m   1735\u001B[0m     \u001B[38;5;28mself\u001B[39m\u001B[38;5;241m.\u001B[39mqueryName(queryName)\n\u001B[0;32m-> 1736\u001B[0m \u001B[38;5;28;01mreturn\u001B[39;00m \u001B[38;5;28mself\u001B[39m\u001B[38;5;241m.\u001B[39m_sq(\u001B[38;5;28;43mself\u001B[39;49m\u001B[38;5;241;43m.\u001B[39;49m\u001B[43m_jwrite\u001B[49m\u001B[38;5;241;43m.\u001B[39;49m\u001B[43mtoTable\u001B[49m\u001B[43m(\u001B[49m\u001B[43mtableName\u001B[49m\u001B[43m)\u001B[49m)\n",
        "File \u001B[0;32m/databricks/spark/python/lib/py4j-0.10.9.7-src.zip/py4j/java_gateway.py:1355\u001B[0m, in \u001B[0;36mJavaMember.__call__\u001B[0;34m(self, *args)\u001B[0m\n\u001B[1;32m   1349\u001B[0m command \u001B[38;5;241m=\u001B[39m proto\u001B[38;5;241m.\u001B[39mCALL_COMMAND_NAME \u001B[38;5;241m+\u001B[39m\\\n\u001B[1;32m   1350\u001B[0m     \u001B[38;5;28mself\u001B[39m\u001B[38;5;241m.\u001B[39mcommand_header \u001B[38;5;241m+\u001B[39m\\\n\u001B[1;32m   1351\u001B[0m     args_command \u001B[38;5;241m+\u001B[39m\\\n\u001B[1;32m   1352\u001B[0m     proto\u001B[38;5;241m.\u001B[39mEND_COMMAND_PART\n\u001B[1;32m   1354\u001B[0m answer \u001B[38;5;241m=\u001B[39m \u001B[38;5;28mself\u001B[39m\u001B[38;5;241m.\u001B[39mgateway_client\u001B[38;5;241m.\u001B[39msend_command(command)\n\u001B[0;32m-> 1355\u001B[0m return_value \u001B[38;5;241m=\u001B[39m \u001B[43mget_return_value\u001B[49m\u001B[43m(\u001B[49m\n\u001B[1;32m   1356\u001B[0m \u001B[43m    \u001B[49m\u001B[43manswer\u001B[49m\u001B[43m,\u001B[49m\u001B[43m \u001B[49m\u001B[38;5;28;43mself\u001B[39;49m\u001B[38;5;241;43m.\u001B[39;49m\u001B[43mgateway_client\u001B[49m\u001B[43m,\u001B[49m\u001B[43m \u001B[49m\u001B[38;5;28;43mself\u001B[39;49m\u001B[38;5;241;43m.\u001B[39;49m\u001B[43mtarget_id\u001B[49m\u001B[43m,\u001B[49m\u001B[43m \u001B[49m\u001B[38;5;28;43mself\u001B[39;49m\u001B[38;5;241;43m.\u001B[39;49m\u001B[43mname\u001B[49m\u001B[43m)\u001B[49m\n\u001B[1;32m   1358\u001B[0m \u001B[38;5;28;01mfor\u001B[39;00m temp_arg \u001B[38;5;129;01min\u001B[39;00m temp_args:\n\u001B[1;32m   1359\u001B[0m     \u001B[38;5;28;01mif\u001B[39;00m \u001B[38;5;28mhasattr\u001B[39m(temp_arg, \u001B[38;5;124m\"\u001B[39m\u001B[38;5;124m_detach\u001B[39m\u001B[38;5;124m\"\u001B[39m):\n",
        "File \u001B[0;32m/databricks/spark/python/pyspark/errors/exceptions/captured.py:224\u001B[0m, in \u001B[0;36mcapture_sql_exception.<locals>.deco\u001B[0;34m(*a, **kw)\u001B[0m\n\u001B[1;32m    222\u001B[0m \u001B[38;5;28;01mdef\u001B[39;00m \u001B[38;5;21mdeco\u001B[39m(\u001B[38;5;241m*\u001B[39ma: Any, \u001B[38;5;241m*\u001B[39m\u001B[38;5;241m*\u001B[39mkw: Any) \u001B[38;5;241m-\u001B[39m\u001B[38;5;241m>\u001B[39m Any:\n\u001B[1;32m    223\u001B[0m     \u001B[38;5;28;01mtry\u001B[39;00m:\n\u001B[0;32m--> 224\u001B[0m         \u001B[38;5;28;01mreturn\u001B[39;00m \u001B[43mf\u001B[49m\u001B[43m(\u001B[49m\u001B[38;5;241;43m*\u001B[39;49m\u001B[43ma\u001B[49m\u001B[43m,\u001B[49m\u001B[43m \u001B[49m\u001B[38;5;241;43m*\u001B[39;49m\u001B[38;5;241;43m*\u001B[39;49m\u001B[43mkw\u001B[49m\u001B[43m)\u001B[49m\n\u001B[1;32m    225\u001B[0m     \u001B[38;5;28;01mexcept\u001B[39;00m Py4JJavaError \u001B[38;5;28;01mas\u001B[39;00m e:\n\u001B[1;32m    226\u001B[0m         converted \u001B[38;5;241m=\u001B[39m convert_exception(e\u001B[38;5;241m.\u001B[39mjava_exception)\n",
        "File \u001B[0;32m/databricks/spark/python/lib/py4j-0.10.9.7-src.zip/py4j/protocol.py:326\u001B[0m, in \u001B[0;36mget_return_value\u001B[0;34m(answer, gateway_client, target_id, name)\u001B[0m\n\u001B[1;32m    324\u001B[0m value \u001B[38;5;241m=\u001B[39m OUTPUT_CONVERTER[\u001B[38;5;28mtype\u001B[39m](answer[\u001B[38;5;241m2\u001B[39m:], gateway_client)\n\u001B[1;32m    325\u001B[0m \u001B[38;5;28;01mif\u001B[39;00m answer[\u001B[38;5;241m1\u001B[39m] \u001B[38;5;241m==\u001B[39m REFERENCE_TYPE:\n\u001B[0;32m--> 326\u001B[0m     \u001B[38;5;28;01mraise\u001B[39;00m Py4JJavaError(\n\u001B[1;32m    327\u001B[0m         \u001B[38;5;124m\"\u001B[39m\u001B[38;5;124mAn error occurred while calling \u001B[39m\u001B[38;5;132;01m{0}\u001B[39;00m\u001B[38;5;132;01m{1}\u001B[39;00m\u001B[38;5;132;01m{2}\u001B[39;00m\u001B[38;5;124m.\u001B[39m\u001B[38;5;130;01m\\n\u001B[39;00m\u001B[38;5;124m\"\u001B[39m\u001B[38;5;241m.\u001B[39m\n\u001B[1;32m    328\u001B[0m         \u001B[38;5;28mformat\u001B[39m(target_id, \u001B[38;5;124m\"\u001B[39m\u001B[38;5;124m.\u001B[39m\u001B[38;5;124m\"\u001B[39m, name), value)\n\u001B[1;32m    329\u001B[0m \u001B[38;5;28;01melse\u001B[39;00m:\n\u001B[1;32m    330\u001B[0m     \u001B[38;5;28;01mraise\u001B[39;00m Py4JError(\n\u001B[1;32m    331\u001B[0m         \u001B[38;5;124m\"\u001B[39m\u001B[38;5;124mAn error occurred while calling \u001B[39m\u001B[38;5;132;01m{0}\u001B[39;00m\u001B[38;5;132;01m{1}\u001B[39;00m\u001B[38;5;132;01m{2}\u001B[39;00m\u001B[38;5;124m. Trace:\u001B[39m\u001B[38;5;130;01m\\n\u001B[39;00m\u001B[38;5;132;01m{3}\u001B[39;00m\u001B[38;5;130;01m\\n\u001B[39;00m\u001B[38;5;124m\"\u001B[39m\u001B[38;5;241m.\u001B[39m\n\u001B[1;32m    332\u001B[0m         \u001B[38;5;28mformat\u001B[39m(target_id, \u001B[38;5;124m\"\u001B[39m\u001B[38;5;124m.\u001B[39m\u001B[38;5;124m\"\u001B[39m, name, value))\n",
        "\u001B[0;31mPy4JJavaError\u001B[0m: An error occurred while calling o15845.toTable.\n: java.util.concurrent.TimeoutException: Stream Execution thread for stream [id = 1521d0cb-b687-4e93-b7b0-aef47b0cd8c1, runId = ea6726ca-0d86-4182-887f-c774753e4c8b] failed to stop within 15000 milliseconds (specified by spark.sql.streaming.stopTimeout). See the cause on what was being executed in the streaming query thread.\n\tat org.apache.spark.sql.execution.streaming.StreamExecution.interruptAndAwaitExecutionThreadTermination(StreamExecution.scala:712)\n\tat org.apache.spark.sql.execution.streaming.MicroBatchExecution.stop(MicroBatchExecution.scala:409)\n\tat org.apache.spark.sql.streaming.StreamingQueryManager.$anonfun$startQuery$7(StreamingQueryManager.scala:486)\n\tat org.apache.spark.sql.streaming.StreamingQueryManager.$anonfun$startQuery$7$adapted(StreamingQueryManager.scala:484)\n\tat scala.Option.foreach(Option.scala:407)\n\tat org.apache.spark.sql.streaming.StreamingQueryManager.startQuery(StreamingQueryManager.scala:484)\n\tat org.apache.spark.sql.streaming.DataStreamWriter.startQuery(DataStreamWriter.scala:530)\n\tat org.apache.spark.sql.streaming.DataStreamWriter.startInternal(DataStreamWriter.scala:507)\n\tat org.apache.spark.sql.streaming.DataStreamWriter.writeToV1Table$1(DataStreamWriter.scala:386)\n\tat org.apache.spark.sql.streaming.DataStreamWriter.toTable(DataStreamWriter.scala:399)\n\tat sun.reflect.GeneratedMethodAccessor2823.invoke(Unknown Source)\n\tat sun.reflect.DelegatingMethodAccessorImpl.invoke(DelegatingMethodAccessorImpl.java:43)\n\tat java.lang.reflect.Method.invoke(Method.java:498)\n\tat py4j.reflection.MethodInvoker.invoke(MethodInvoker.java:244)\n\tat py4j.reflection.ReflectionEngine.invoke(ReflectionEngine.java:397)\n\tat py4j.Gateway.invoke(Gateway.java:306)\n\tat py4j.commands.AbstractCommand.invokeMethod(AbstractCommand.java:132)\n\tat py4j.commands.CallCommand.execute(CallCommand.java:79)\n\tat py4j.ClientServerConnection.waitForCommands(ClientServerConnection.java:199)\n\tat py4j.ClientServerConnection.run(ClientServerConnection.java:119)\n\tat java.lang.Thread.run(Thread.java:750)\nCaused by: org.apache.spark.SparkException: The stream thread was last executing:\n\tat java.lang.Object.wait(Native Method)\n\tat java.lang.Thread.join(Thread.java:1257)\n\tat java.lang.Thread.join(Thread.java:1331)\n\tat com.databricks.sql.kinesis.KinesisMicroBatchStream.stop(KinesisMicroBatchStream.scala:390)\n\tat org.apache.spark.sql.execution.streaming.StreamExecution.$anonfun$stopSources$1(StreamExecution.scala:627)\n\tat org.apache.spark.sql.execution.streaming.StreamExecution.$anonfun$stopSources$1$adapted(StreamExecution.scala:625)\n\tat org.apache.spark.sql.execution.streaming.StreamExecution$$Lambda$14214/1913354007.apply(Unknown Source)\n\tat scala.collection.immutable.Map$Map1.foreach(Map.scala:193)\n\tat org.apache.spark.sql.execution.streaming.StreamExecution.stopSources(StreamExecution.scala:625)\n\tat org.apache.spark.sql.execution.streaming.StreamExecution.$anonfun$runStream$5(StreamExecution.scala:521)\n\tat org.apache.spark.sql.execution.streaming.StreamExecution$$Lambda$14213/813574694.apply$mcV$sp(Unknown Source)\n\tat scala.runtime.java8.JFunction0$mcV$sp.apply(JFunction0$mcV$sp.java:23)\n\tat org.apache.spark.util.UninterruptibleThread.runUninterruptibly(UninterruptibleThread.scala:77)\n\tat org.apache.spark.sql.execution.streaming.StreamExecution.$anonfun$runStream$1(StreamExecution.scala:510)\n\tat org.apache.spark.sql.execution.streaming.StreamExecution$$Lambda$12815/1754065877.apply$mcV$sp(Unknown Source)\n\tat scala.runtime.java8.JFunction0$mcV$sp.apply(JFunction0$mcV$sp.java:23)\n\tat com.databricks.logging.UsageLogging.$anonfun$withAttributionContext$1(UsageLogging.scala:426)\n\tat com.databricks.logging.UsageLogging$$Lambda$465/132338135.apply(Unknown Source)\n\tat scala.util.DynamicVariable.withValue(DynamicVariable.scala:62)\n\tat com.databricks.logging.AttributionContext$.withValue(AttributionContext.scala:216)\n\tat com.databricks.logging.UsageLogging.withAttributionContext(UsageLogging.scala:424)\n\tat com.databricks.logging.UsageLogging.withAttributionContext$(UsageLogging.scala:418)\n\tat com.databricks.spark.util.PublicDBLogging.withAttributionContext(DatabricksSparkUsageLogger.scala:27)\n\tat com.databricks.logging.UsageLogging.withAttributionTags(UsageLogging.scala:472)\n\tat com.databricks.logging.UsageLogging.withAttributionTags$(UsageLogging.scala:455)\n\tat com.databricks.spark.util.PublicDBLogging.withAttributionTags(DatabricksSparkUsageLogger.scala:27)\n\tat com.databricks.spark.util.PublicDBLogging.withAttributionTags0(DatabricksSparkUsageLogger.scala:72)\n\tat com.databricks.spark.util.DatabricksSparkUsageLogger.withAttributionTags(DatabricksSparkUsageLogger.scala:172)\n\tat com.databricks.spark.util.UsageLogging.$anonfun$withAttributionTags$1(UsageLogger.scala:491)\n\tat com.databricks.spark.util.UsageLogging$$Lambda$12816/2142650431.apply(Unknown Source)\n\tat com.databricks.spark.util.UsageLogging$.withAttributionTags(UsageLogger.scala:603)\n\tat com.databricks.spark.util.UsageLogging$.withAttributionTags(UsageLogger.scala:612)\n\tat com.databricks.spark.util.UsageLogging.withAttributionTags(UsageLogger.scala:491)\n\tat com.databricks.spark.util.UsageLogging.withAttributionTags$(UsageLogger.scala:489)\n\tat org.apache.spark.sql.execution.streaming.StreamExecution.withAttributionTags(StreamExecution.scala:84)\n\tat org.apache.spark.sql.execution.streaming.StreamExecution.org$apache$spark$sql$execution$streaming$StreamExecution$$runStream(StreamExecution.scala:378)\n\tat org.apache.spark.sql.execution.streaming.StreamExecution$$anon$1.$anonfun$run$3(StreamExecution.scala:282)\n\tat org.apache.spark.sql.execution.streaming.StreamExecution$$anon$1$$Lambda$12814/764305408.apply$mcV$sp(Unknown Source)\n\tat scala.runtime.java8.JFunction0$mcV$sp.apply(JFunction0$mcV$sp.java:23)\n\tat org.apache.spark.JobArtifactSet$.withActiveJobArtifactState(JobArtifactSet.scala:97)\n\tat org.apache.spark.sql.execution.streaming.StreamExecution$$anon$1.$anonfun$run$2(StreamExecution.scala:282)\n\tat org.apache.spark.sql.execution.streaming.StreamExecution$$anon$1$$Lambda$12813/699523566.apply$mcV$sp(Unknown Source)\n\tat scala.runtime.java8.JFunction0$mcV$sp.apply(JFunction0$mcV$sp.java:23)\n\tat com.databricks.unity.EmptyHandle$.runWithAndClose(UCSHandle.scala:134)\n\tat org.apache.spark.sql.execution.streaming.StreamExecution$$anon$1.run(StreamExecution.scala:281)\n"
       ],
       "type": "baseError"
      }
     },
     "output_type": "display_data"
    }
   ],
   "source": [
    "\n",
    "geo_streaming_schema = StructType([\n",
    "  StructField(\"country\", StringType(), True),\n",
    "  StructField(\"ind\", LongType(), True),\n",
    "  StructField(\"latitude\", DoubleType(), True),\n",
    "  StructField(\"longitude\", DoubleType(), True),\n",
    "  StructField(\"timestamp\", StringType(), True)]\n",
    "  )\n",
    "\n",
    "geo_df = (\n",
    "    spark\n",
    "    .readStream\n",
    "    .format(\"kinesis\") \\\n",
    "    .option(\"streamName\", \"streaming-12885f560a0b-geo\") \\\n",
    "    .option(\"region\", \"us-east-1\") \\\n",
    "    .option(\"initialPosition\", \"earliest\") \\\n",
    "    .option('awsAccessKey', ACCESS_KEY) \\\n",
    "    .option('awsSecretKey', SECRET_KEY) \\\n",
    "    .load()\n",
    "    )\n",
    "geo_df = geo_df.selectExpr(\"CAST(data as STRING)\")\n",
    "geo_df = geo_df.withColumn(\"data\", from_json(col(\"data\"), schema=geo_streaming_schema))\n",
    "geo_df = geo_df.select(\"data.*\")\n",
    "\n",
    "cleaned_geo_df = clean_geo_df(geo_df)\n",
    "\n",
    "cleaned_geo_df.writeStream \\\n",
    "  .format(\"delta\") \\\n",
    "  .outputMode(\"append\") \\\n",
    "  .option(\"checkpointLocation\", \"/tmp/kinesis/_checkpoints/geo\") \\\n",
    "  .table(\"12885f560a0b_geo_table\")\n"
   ]
  },
  {
   "cell_type": "code",
   "execution_count": 0,
   "metadata": {
    "application/vnd.databricks.v1+cell": {
     "cellMetadata": {
      "byteLimit": 2048000,
      "rowLimit": 10000
     },
     "inputWidgets": {},
     "nuid": "c10d7ffd-3052-4c89-9fde-24e44d80de30",
     "showTitle": true,
     "tableResultSettingsMap": {},
     "title": "Define user schema, execute clean_user_df, readStream and writeStream methods for user_df"
    }
   },
   "outputs": [
    {
     "output_type": "display_data",
     "data": {
      "text/html": [
       "<style scoped>\n",
       "  .table-result-container {\n",
       "    max-height: 300px;\n",
       "    overflow: auto;\n",
       "  }\n",
       "  table, th, td {\n",
       "    border: 1px solid black;\n",
       "    border-collapse: collapse;\n",
       "  }\n",
       "  th, td {\n",
       "    padding: 5px;\n",
       "  }\n",
       "  th {\n",
       "    text-align: left;\n",
       "  }\n",
       "</style><div class='table-result-container'><table class='table-result'><thead style='background-color: white'><tr><th>ind</th><th>user_name</th><th>age</th><th>date_joined</th></tr></thead><tbody><tr><td>7528</td><td>Abigail Ali</td><td>20</td><td>2015-10-24T11:23:51Z</td></tr><tr><td>2863</td><td>Dylan Holmes</td><td>32</td><td>2016-10-23T14:06:51Z</td></tr><tr><td>5730</td><td>Rachel Davis</td><td>36</td><td>2015-12-08T20:02:43Z</td></tr><tr><td>8304</td><td>Charles Berry</td><td>25</td><td>2015-12-28T04:21:39Z</td></tr><tr><td>8731</td><td>Andrea Alexander</td><td>21</td><td>2015-11-10T09:27:42Z</td></tr><tr><td>1313</td><td>Brittany Jones</td><td>32</td><td>2016-04-02T03:51:23Z</td></tr><tr><td>4315</td><td>Michelle Prince</td><td>36</td><td>2015-12-20T16:38:13Z</td></tr><tr><td>10794</td><td>Thomas Turner</td><td>34</td><td>2016-12-22T00:02:02Z</td></tr><tr><td>5494</td><td>Anne Allen</td><td>27</td><td>2015-12-16T15:20:05Z</td></tr><tr><td>5069</td><td>Amanda Ball</td><td>25</td><td>2016-01-13T17:36:30Z</td></tr><tr><td>2923</td><td>Brian Nelson</td><td>26</td><td>2015-11-11T03:20:57Z</td></tr><tr><td>3089</td><td>Abigail Ali</td><td>20</td><td>2015-10-24T11:23:51Z</td></tr><tr><td>6063</td><td>Corey Andrews</td><td>23</td><td>2015-11-25T13:36:22Z</td></tr><tr><td>3454</td><td>Robert Murphy</td><td>48</td><td>2017-09-26T16:31:56Z</td></tr><tr><td>7554</td><td>Cheryl Huerta</td><td>20</td><td>2017-04-11T16:35:33Z</td></tr><tr><td>6145</td><td>Emily Hawkins</td><td>30</td><td>2015-12-25T20:24:37Z</td></tr><tr><td>10625</td><td>Christian Lang</td><td>32</td><td>2017-10-10T20:09:33Z</td></tr><tr><td>2959</td><td>David Griffith</td><td>20</td><td>2016-01-07T19:49:22Z</td></tr><tr><td>9875</td><td>Brendan Joseph</td><td>26</td><td>2015-12-20T10:28:00Z</td></tr><tr><td>2418</td><td>Amanda Adams</td><td>20</td><td>2015-10-21T08:27:36Z</td></tr><tr><td>3156</td><td>Andrew Baker</td><td>22</td><td>2015-12-21T08:06:54Z</td></tr><tr><td>428</td><td>Claudia Adams</td><td>20</td><td>2015-11-28T02:20:29Z</td></tr><tr><td>7343</td><td>Anne Clayton</td><td>24</td><td>2016-01-11T12:03:48Z</td></tr><tr><td>2074</td><td>Annette Forbes</td><td>21</td><td>2016-01-03T15:42:12Z</td></tr><tr><td>9979</td><td>Kaylee Miller</td><td>31</td><td>2016-11-09T19:50:51Z</td></tr><tr><td>10138</td><td>Carol Silva</td><td>22</td><td>2015-12-31T14:57:02Z</td></tr><tr><td>9672</td><td>Jennifer Hudson</td><td>22</td><td>2016-02-11T20:46:04Z</td></tr><tr><td>8653</td><td>Tammy Davis</td><td>24</td><td>2016-03-09T10:48:14Z</td></tr><tr><td>8887</td><td>Austin Rodriguez</td><td>24</td><td>2016-03-31T20:56:39Z</td></tr><tr><td>7922</td><td>Denise Adams</td><td>21</td><td>2015-11-12T06:21:36Z</td></tr><tr><td>1014</td><td>Gregory Ramsey</td><td>56</td><td>2016-10-15T17:21:39Z</td></tr><tr><td>4913</td><td>Angela Brooks</td><td>24</td><td>2015-11-20T05:37:11Z</td></tr><tr><td>4137</td><td>Michael Decker</td><td>59</td><td>2017-06-29T22:35:17Z</td></tr><tr><td>7166</td><td>Alvin Adams</td><td>20</td><td>2016-01-01T13:50:40Z</td></tr><tr><td>9546</td><td>Alex Barnes</td><td>20</td><td>2016-02-27T21:13:44Z</td></tr><tr><td>2411</td><td>Aaron Bartlett</td><td>21</td><td>2015-11-24T02:15:36Z</td></tr><tr><td>9590</td><td>Amanda Allen</td><td>22</td><td>2015-10-24T18:56:30Z</td></tr><tr><td>2698</td><td>Kayla Burton</td><td>44</td><td>2017-06-21T19:53:27Z</td></tr><tr><td>4508</td><td>Michael Carter</td><td>58</td><td>2016-06-03T23:35:30Z</td></tr><tr><td>831</td><td>Aimee Collins</td><td>28</td><td>2016-06-16T02:06:38Z</td></tr><tr><td>5076</td><td>Christopher Butler</td><td>20</td><td>2015-12-01T15:08:31Z</td></tr><tr><td>10663</td><td>Julie Cox</td><td>23</td><td>2016-06-23T14:38:00Z</td></tr><tr><td>5468</td><td>Lisa Gamble</td><td>20</td><td>2016-07-23T20:51:06Z</td></tr><tr><td>205</td><td>Brett Bryant</td><td>20</td><td>2015-10-23T12:40:19Z</td></tr><tr><td>7790</td><td>Michelle Gutierrez</td><td>39</td><td>2017-07-19T07:12:04Z</td></tr><tr><td>8606</td><td>Denise Adams</td><td>21</td><td>2015-11-12T06:21:36Z</td></tr><tr><td>9759</td><td>Daniel Brooks</td><td>25</td><td>2015-11-19T21:24:33Z</td></tr><tr><td>719</td><td>Alicia Avila</td><td>20</td><td>2016-01-26T01:49:23Z</td></tr><tr><td>1704</td><td>Barry Lynn</td><td>20</td><td>2015-10-28T05:00:33Z</td></tr><tr><td>2482</td><td>David Moss</td><td>22</td><td>2016-03-01T07:11:48Z</td></tr><tr><td>8930</td><td>Andrew Anderson</td><td>23</td><td>2015-11-28T11:52:37Z</td></tr><tr><td>7294</td><td>Dawn Anderson</td><td>20</td><td>2016-12-31T00:06:36Z</td></tr><tr><td>808</td><td>Aaron Bartlett</td><td>21</td><td>2015-11-24T02:15:36Z</td></tr><tr><td>771</td><td>Brittany Butler</td><td>32</td><td>2016-03-10T04:11:31Z</td></tr><tr><td>4076</td><td>Larry Pineda</td><td>20</td><td>2015-10-23T22:47:39Z</td></tr><tr><td>1545</td><td>Jonathan Avila</td><td>46</td><td>2015-11-27T23:11:21Z</td></tr><tr><td>2293</td><td>Alex Bean</td><td>24</td><td>2016-01-11T23:08:27Z</td></tr><tr><td>10509</td><td>Brittany Thompson</td><td>49</td><td>2016-04-22T20:36:02Z</td></tr><tr><td>2015</td><td>Christopher Bradshaw</td><td>27</td><td>2016-03-08T13:38:37Z</td></tr><tr><td>1094</td><td>Ann Elliott</td><td>20</td><td>2016-07-02T02:32:30Z</td></tr><tr><td>603</td><td>Brandon Jackson</td><td>44</td><td>2016-10-29T02:07:21Z</td></tr><tr><td>7768</td><td>Christine Cortez</td><td>23</td><td>2015-12-01T18:15:02Z</td></tr><tr><td>5630</td><td>Carlos Estrada</td><td>22</td><td>2016-02-09T17:01:38Z</td></tr><tr><td>8578</td><td>Joe Pham</td><td>48</td><td>2017-06-01T23:13:27Z</td></tr><tr><td>9936</td><td>Anthony Cantu</td><td>28</td><td>2016-11-15T10:40:03Z</td></tr><tr><td>6844</td><td>Peter Roberts</td><td>30</td><td>2016-07-03T10:59:40Z</td></tr><tr><td>3419</td><td>Aaron Jenkins</td><td>47</td><td>2017-04-26T03:26:23Z</td></tr><tr><td>1268</td><td>Donna Campbell</td><td>32</td><td>2016-06-08T22:10:13Z</td></tr><tr><td>6566</td><td>Alexander Perez</td><td>31</td><td>2017-08-04T14:30:22Z</td></tr><tr><td>1555</td><td>Alexis Bennett</td><td>54</td><td>2016-05-15T04:22:01Z</td></tr><tr><td>3729</td><td>Richard Edwards</td><td>52</td><td>2016-02-07T20:00:25Z</td></tr><tr><td>6398</td><td>Christina Davenport</td><td>39</td><td>2016-06-29T20:43:59Z</td></tr><tr><td>46</td><td>Erik Kelley</td><td>30</td><td>2016-01-06T09:58:56Z</td></tr><tr><td>4988</td><td>Rhonda Durham</td><td>25</td><td>2017-07-20T05:51:23Z</td></tr><tr><td>427</td><td>Jon Burke</td><td>25</td><td>2015-11-26T17:42:37Z</td></tr><tr><td>3800</td><td>Adam Armstrong</td><td>20</td><td>2015-12-17T08:43:40Z</td></tr><tr><td>159</td><td>Alison Bell</td><td>21</td><td>2016-01-07T08:11:35Z</td></tr><tr><td>3599</td><td>Alexandria Alvarado</td><td>20</td><td>2015-10-23T04:13:23Z</td></tr><tr><td>10552</td><td>Michael Hunter</td><td>40</td><td>2017-05-16T07:09:21Z</td></tr><tr><td>1422</td><td>Aaron Abbott</td><td>20</td><td>2015-10-31T18:51:07Z</td></tr><tr><td>5309</td><td>Daniel Roy</td><td>31</td><td>2016-03-07T01:01:24Z</td></tr><tr><td>552</td><td>Regina Morales</td><td>20</td><td>2017-01-17T01:49:27Z</td></tr><tr><td>1371</td><td>Amanda Brown</td><td>20</td><td>2015-11-12T03:23:49Z</td></tr><tr><td>10119</td><td>Chelsea Gonzalez</td><td>43</td><td>2016-07-21T15:25:08Z</td></tr><tr><td>9074</td><td>Aaron Alexander</td><td>21</td><td>2015-10-25T07:36:08Z</td></tr><tr><td>2604</td><td>Ashley Evans</td><td>30</td><td>2016-02-21T12:54:01Z</td></tr><tr><td>223</td><td>Melanie Hill</td><td>51</td><td>2016-10-09T14:47:51Z</td></tr><tr><td>8312</td><td>Daniel Brooks</td><td>25</td><td>2015-11-19T21:24:33Z</td></tr><tr><td>2858</td><td>Anne Bond</td><td>21</td><td>2015-12-27T23:43:42Z</td></tr><tr><td>6261</td><td>Nicholas Hart</td><td>38</td><td>2015-10-26T09:45:45Z</td></tr><tr><td>3201</td><td>Elizabeth Terry</td><td>28</td><td>2016-01-29T20:32:05Z</td></tr><tr><td>2637</td><td>Shawn Jones</td><td>32</td><td>2016-08-23T20:36:12Z</td></tr><tr><td>1198</td><td>Ariana Gross</td><td>59</td><td>2016-12-17T11:10:48Z</td></tr><tr><td>10370</td><td>Derrick Kim</td><td>30</td><td>2016-12-21T13:39:14Z</td></tr><tr><td>7167</td><td>Dawn Bradley</td><td>20</td><td>2016-08-26T16:09:52Z</td></tr><tr><td>10673</td><td>Alexander Cervantes</td><td>59</td><td>2017-05-12T21:22:17Z</td></tr><tr><td>2060</td><td>Joshua Long</td><td>27</td><td>2016-12-18T10:11:23Z</td></tr><tr><td>9487</td><td>Jose Bailey</td><td>21</td><td>2016-01-10T09:41:14Z</td></tr><tr><td>772</td><td>Glenn Hammond</td><td>25</td><td>2016-04-27T02:59:27Z</td></tr><tr><td>7510</td><td>Debra Becker</td><td>20</td><td>2016-07-27T06:20:48Z</td></tr><tr><td>5758</td><td>Amanda Arnold</td><td>20</td><td>2015-10-26T23:04:52Z</td></tr><tr><td>1137</td><td>Virginia Vega</td><td>38</td><td>2017-05-03T03:08:33Z</td></tr><tr><td>7234</td><td>Angela Allen</td><td>20</td><td>2015-10-26T04:12:32Z</td></tr><tr><td>327</td><td>Jill Taylor</td><td>39</td><td>2015-12-04T03:15:28Z</td></tr><tr><td>7874</td><td>Aaron Abbott</td><td>20</td><td>2015-10-23T16:08:41Z</td></tr><tr><td>1450</td><td>Aaron Abbott</td><td>20</td><td>2015-10-31T18:51:07Z</td></tr><tr><td>10245</td><td>Julie Cook</td><td>34</td><td>2016-05-08T16:27:01Z</td></tr><tr><td>9093</td><td>Albert Adams</td><td>21</td><td>2015-11-05T22:07:56Z</td></tr><tr><td>2301</td><td>Karina Morton</td><td>31</td><td>2016-01-21T12:53:34Z</td></tr><tr><td>2788</td><td>Jesus Arellano</td><td>43</td><td>2016-03-22T15:45:21Z</td></tr><tr><td>9268</td><td>Alexander Bailey</td><td>20</td><td>2015-10-30T11:37:32Z</td></tr><tr><td>1706</td><td>Amy Adams</td><td>20</td><td>2015-10-24T05:05:28Z</td></tr><tr><td>5293</td><td>David Taylor</td><td>36</td><td>2016-06-03T23:53:50Z</td></tr><tr><td>7733</td><td>Aaron Abbott</td><td>20</td><td>2015-10-23T16:08:41Z</td></tr><tr><td>3716</td><td>Catherine Ferrell</td><td>21</td><td>2017-01-02T03:01:09Z</td></tr><tr><td>3750</td><td>Gary Barker</td><td>28</td><td>2015-11-26T11:23:50Z</td></tr><tr><td>232</td><td>Sarah Buchanan</td><td>33</td><td>2017-04-19T08:49:40Z</td></tr><tr><td>8300</td><td>Nathan Stanton</td><td>51</td><td>2017-08-14T08:26:30Z</td></tr><tr><td>8978</td><td>Mark Jones</td><td>34</td><td>2017-08-22T00:01:29Z</td></tr><tr><td>2048</td><td>Ann Chung</td><td>22</td><td>2015-11-18T23:11:15Z</td></tr><tr><td>10337</td><td>Carrie Parker</td><td>46</td><td>2016-09-11T22:32:50Z</td></tr><tr><td>7832</td><td>Samuel Hawkins</td><td>39</td><td>2016-06-30T02:56:06Z</td></tr><tr><td>8366</td><td>Justin Ewing</td><td>56</td><td>2016-02-04T23:27:36Z</td></tr><tr><td>3334</td><td>Amber Casey</td><td>23</td><td>2016-01-06T12:22:08Z</td></tr><tr><td>778</td><td>Christine Adams</td><td>31</td><td>2016-02-06T10:22:53Z</td></tr><tr><td>480</td><td>Timothy Sullivan</td><td>40</td><td>2017-01-12T08:37:12Z</td></tr><tr><td>3011</td><td>Justin Singleton</td><td>20</td><td>2017-03-10T19:53:44Z</td></tr><tr><td>9475</td><td>Jessica Mejia</td><td>40</td><td>2016-01-03T12:03:05Z</td></tr><tr><td>7586</td><td>Aaron Alexander</td><td>21</td><td>2015-10-25T07:36:08Z</td></tr><tr><td>1864</td><td>Alexander Adams</td><td>32</td><td>2015-10-28T15:48:24Z</td></tr><tr><td>6014</td><td>Mary Luna</td><td>22</td><td>2016-01-02T01:40:52Z</td></tr><tr><td>1967</td><td>Jay Flynn</td><td>24</td><td>2016-05-12T16:28:27Z</td></tr><tr><td>1699</td><td>Brandon Cummings</td><td>22</td><td>2016-05-11T01:36:00Z</td></tr><tr><td>4996</td><td>John Anderson</td><td>27</td><td>2016-03-03T07:28:39Z</td></tr><tr><td>10168</td><td>Nicole Gray</td><td>53</td><td>2016-02-20T13:03:00Z</td></tr><tr><td>5333</td><td>Aaron Clark</td><td>35</td><td>2016-11-19T22:36:49Z</td></tr><tr><td>2565</td><td>Anthony Adkins</td><td>21</td><td>2015-10-28T03:59:42Z</td></tr><tr><td>9778</td><td>Holly Campbell</td><td>30</td><td>2016-07-08T19:10:37Z</td></tr><tr><td>3145</td><td>Crystal Schmidt</td><td>22</td><td>2017-04-14T13:57:52Z</td></tr><tr><td>1341</td><td>Abigail Ali</td><td>20</td><td>2015-10-24T11:23:51Z</td></tr><tr><td>5162</td><td>James Jacobson</td><td>28</td><td>2017-04-30T16:41:26Z</td></tr><tr><td>5151</td><td>Mary Jordan</td><td>26</td><td>2017-06-12T16:02:59Z</td></tr><tr><td>2498</td><td>Jeremy Chase</td><td>50</td><td>2017-07-31T16:56:52Z</td></tr><tr><td>7268</td><td>Alejandra Acevedo</td><td>20</td><td>2015-11-24T21:01:23Z</td></tr><tr><td>3351</td><td>Eric Taylor</td><td>39</td><td>2017-04-04T06:05:03Z</td></tr><tr><td>7738</td><td>Alexis George</td><td>34</td><td>2016-02-26T00:38:01Z</td></tr><tr><td>8886</td><td>Abigail Bates</td><td>20</td><td>2015-11-07T20:59:32Z</td></tr><tr><td>5742</td><td>Barbara Edwards</td><td>24</td><td>2016-01-09T19:37:29Z</td></tr><tr><td>1362</td><td>Nancy Case</td><td>23</td><td>2016-02-18T08:44:33Z</td></tr><tr><td>995</td><td>Jason Horne</td><td>27</td><td>2016-02-06T15:31:57Z</td></tr><tr><td>6250</td><td>Lydia Nelson</td><td>59</td><td>2016-09-06T06:21:57Z</td></tr><tr><td>3184</td><td>Allison Dawson</td><td>35</td><td>2016-02-04T14:45:39Z</td></tr><tr><td>2955</td><td>Kevin Young</td><td>58</td><td>2016-09-18T07:28:19Z</td></tr><tr><td>4357</td><td>Allison Adams</td><td>22</td><td>2015-11-30T10:51:59Z</td></tr><tr><td>3563</td><td>Gerald Davis</td><td>55</td><td>2017-08-11T14:24:41Z</td></tr><tr><td>6558</td><td>Gary Tanner</td><td>43</td><td>2016-11-29T22:22:47Z</td></tr><tr><td>4256</td><td>Alexandria Alvarado</td><td>20</td><td>2015-10-23T04:13:23Z</td></tr><tr><td>450</td><td>Amanda Benitez</td><td>21</td><td>2015-11-01T09:16:18Z</td></tr><tr><td>3945</td><td>Beth Johnson</td><td>30</td><td>2015-11-29T15:45:13Z</td></tr><tr><td>859</td><td>Scott Page</td><td>44</td><td>2015-10-31T14:35:30Z</td></tr><tr><td>1521</td><td>Mindy Garrison</td><td>29</td><td>2016-02-18T23:18:39Z</td></tr><tr><td>1961</td><td>Adrienne Barrett</td><td>22</td><td>2015-11-04T15:48:14Z</td></tr><tr><td>10099</td><td>Amanda Carlson</td><td>21</td><td>2015-11-23T09:01:37Z</td></tr><tr><td>6066</td><td>Angela Flores</td><td>28</td><td>2015-10-29T08:51:34Z</td></tr><tr><td>10837</td><td>Mark Richardson</td><td>55</td><td>2015-11-18T05:46:35Z</td></tr><tr><td>6615</td><td>Barry West</td><td>44</td><td>2016-08-13T21:13:14Z</td></tr><tr><td>7641</td><td>Aaron Anderson</td><td>21</td><td>2015-10-24T05:35:27Z</td></tr><tr><td>640</td><td>Aaron Anderson</td><td>21</td><td>2015-10-24T05:35:27Z</td></tr><tr><td>8174</td><td>Andrew Brown</td><td>25</td><td>2016-03-26T04:30:23Z</td></tr><tr><td>1216</td><td>Juan Cortez</td><td>20</td><td>2016-04-07T13:02:08Z</td></tr><tr><td>680</td><td>Diana Ballard</td><td>23</td><td>2017-01-12T11:17:31Z</td></tr><tr><td>9527</td><td>Vernon Brown</td><td>55</td><td>2017-08-04T01:04:25Z</td></tr><tr><td>9426</td><td>Nicholas Mcdaniel</td><td>45</td><td>2017-05-24T01:41:26Z</td></tr><tr><td>8745</td><td>Grant Villanueva</td><td>53</td><td>2016-02-14T19:17:10Z</td></tr><tr><td>5959</td><td>Jason Brooks</td><td>28</td><td>2015-12-21T00:33:51Z</td></tr><tr><td>2577</td><td>Amy Adams</td><td>20</td><td>2015-10-24T05:05:28Z</td></tr><tr><td>3008</td><td>Scott Houston</td><td>58</td><td>2016-10-22T16:08:50Z</td></tr><tr><td>8081</td><td>Carmen Taylor</td><td>40</td><td>2016-08-02T19:06:12Z</td></tr><tr><td>10120</td><td>Jacob Baird</td><td>24</td><td>2016-02-25T08:52:45Z</td></tr><tr><td>4045</td><td>Amanda Allen</td><td>21</td><td>2015-11-16T23:15:00Z</td></tr><tr><td>1599</td><td>Linda Rojas</td><td>42</td><td>2017-01-31T05:08:14Z</td></tr><tr><td>2893</td><td>Nancy Choi</td><td>50</td><td>2016-07-27T16:22:59Z</td></tr><tr><td>4024</td><td>Adam Armstrong</td><td>20</td><td>2015-12-17T08:43:40Z</td></tr><tr><td>310</td><td>Amanda Benitez</td><td>21</td><td>2015-11-01T09:16:18Z</td></tr><tr><td>7905</td><td>Anthony Duncan</td><td>47</td><td>2016-01-01T03:57:19Z</td></tr><tr><td>5488</td><td>Heather Edwards</td><td>33</td><td>2016-01-16T18:25:10Z</td></tr><tr><td>744</td><td>Brian Lloyd</td><td>38</td><td>2016-12-15T07:06:03Z</td></tr><tr><td>7801</td><td>Nancy Clay</td><td>36</td><td>2016-01-12T18:33:12Z</td></tr><tr><td>5620</td><td>Daniel Anderson</td><td>20</td><td>2017-02-10T13:39:15Z</td></tr><tr><td>8341</td><td>Amber Robinson</td><td>31</td><td>2016-09-05T14:41:44Z</td></tr><tr><td>10022</td><td>Alyssa Greene</td><td>50</td><td>2017-05-03T07:29:04Z</td></tr><tr><td>6134</td><td>Jacob Baker</td><td>33</td><td>2015-11-29T07:33:20Z</td></tr><tr><td>3824</td><td>Aaron Berry</td><td>28</td><td>2016-04-12T03:40:13Z</td></tr><tr><td>7116</td><td>Michael Mcconnell</td><td>59</td><td>2017-06-01T10:55:10Z</td></tr><tr><td>74</td><td>Amanda Benitez</td><td>21</td><td>2015-11-01T09:16:18Z</td></tr><tr><td>1335</td><td>Benjamin Campbell</td><td>20</td><td>2015-11-16T13:25:08Z</td></tr><tr><td>4513</td><td>Charlotte Pitts</td><td>60</td><td>2017-07-18T11:50:18Z</td></tr><tr><td>7850</td><td>Joseph Kelly</td><td>44</td><td>2017-09-28T16:41:00Z</td></tr><tr><td>10248</td><td>Elizabeth English</td><td>25</td><td>2016-08-19T02:29:26Z</td></tr><tr><td>8123</td><td>Courtney Chung</td><td>46</td><td>2016-05-11T23:09:30Z</td></tr><tr><td>2987</td><td>Charles Robinson</td><td>41</td><td>2015-12-22T01:36:15Z</td></tr><tr><td>1487</td><td>Jonathan Rodriguez</td><td>30</td><td>2016-09-05T12:31:44Z</td></tr><tr><td>7528</td><td>Abigail Ali</td><td>20</td><td>2015-10-24T11:23:51Z</td></tr><tr><td>2863</td><td>Dylan Holmes</td><td>32</td><td>2016-10-23T14:06:51Z</td></tr><tr><td>5730</td><td>Rachel Davis</td><td>36</td><td>2015-12-08T20:02:43Z</td></tr><tr><td>8304</td><td>Charles Berry</td><td>25</td><td>2015-12-28T04:21:39Z</td></tr><tr><td>8731</td><td>Andrea Alexander</td><td>21</td><td>2015-11-10T09:27:42Z</td></tr><tr><td>1313</td><td>Brittany Jones</td><td>32</td><td>2016-04-02T03:51:23Z</td></tr><tr><td>4315</td><td>Michelle Prince</td><td>36</td><td>2015-12-20T16:38:13Z</td></tr><tr><td>10794</td><td>Thomas Turner</td><td>34</td><td>2016-12-22T00:02:02Z</td></tr><tr><td>5494</td><td>Anne Allen</td><td>27</td><td>2015-12-16T15:20:05Z</td></tr><tr><td>5069</td><td>Amanda Ball</td><td>25</td><td>2016-01-13T17:36:30Z</td></tr><tr><td>2923</td><td>Brian Nelson</td><td>26</td><td>2015-11-11T03:20:57Z</td></tr><tr><td>3089</td><td>Abigail Ali</td><td>20</td><td>2015-10-24T11:23:51Z</td></tr><tr><td>6063</td><td>Corey Andrews</td><td>23</td><td>2015-11-25T13:36:22Z</td></tr><tr><td>3454</td><td>Robert Murphy</td><td>48</td><td>2017-09-26T16:31:56Z</td></tr><tr><td>7554</td><td>Cheryl Huerta</td><td>20</td><td>2017-04-11T16:35:33Z</td></tr><tr><td>6145</td><td>Emily Hawkins</td><td>30</td><td>2015-12-25T20:24:37Z</td></tr><tr><td>10625</td><td>Christian Lang</td><td>32</td><td>2017-10-10T20:09:33Z</td></tr><tr><td>2959</td><td>David Griffith</td><td>20</td><td>2016-01-07T19:49:22Z</td></tr><tr><td>9875</td><td>Brendan Joseph</td><td>26</td><td>2015-12-20T10:28:00Z</td></tr><tr><td>2418</td><td>Amanda Adams</td><td>20</td><td>2015-10-21T08:27:36Z</td></tr><tr><td>3156</td><td>Andrew Baker</td><td>22</td><td>2015-12-21T08:06:54Z</td></tr><tr><td>428</td><td>Claudia Adams</td><td>20</td><td>2015-11-28T02:20:29Z</td></tr><tr><td>7343</td><td>Anne Clayton</td><td>24</td><td>2016-01-11T12:03:48Z</td></tr><tr><td>2074</td><td>Annette Forbes</td><td>21</td><td>2016-01-03T15:42:12Z</td></tr><tr><td>9979</td><td>Kaylee Miller</td><td>31</td><td>2016-11-09T19:50:51Z</td></tr><tr><td>10138</td><td>Carol Silva</td><td>22</td><td>2015-12-31T14:57:02Z</td></tr><tr><td>9672</td><td>Jennifer Hudson</td><td>22</td><td>2016-02-11T20:46:04Z</td></tr><tr><td>8653</td><td>Tammy Davis</td><td>24</td><td>2016-03-09T10:48:14Z</td></tr><tr><td>8887</td><td>Austin Rodriguez</td><td>24</td><td>2016-03-31T20:56:39Z</td></tr><tr><td>7922</td><td>Denise Adams</td><td>21</td><td>2015-11-12T06:21:36Z</td></tr><tr><td>1014</td><td>Gregory Ramsey</td><td>56</td><td>2016-10-15T17:21:39Z</td></tr><tr><td>4913</td><td>Angela Brooks</td><td>24</td><td>2015-11-20T05:37:11Z</td></tr><tr><td>4137</td><td>Michael Decker</td><td>59</td><td>2017-06-29T22:35:17Z</td></tr><tr><td>7166</td><td>Alvin Adams</td><td>20</td><td>2016-01-01T13:50:40Z</td></tr><tr><td>9546</td><td>Alex Barnes</td><td>20</td><td>2016-02-27T21:13:44Z</td></tr><tr><td>2411</td><td>Aaron Bartlett</td><td>21</td><td>2015-11-24T02:15:36Z</td></tr><tr><td>9590</td><td>Amanda Allen</td><td>22</td><td>2015-10-24T18:56:30Z</td></tr><tr><td>2698</td><td>Kayla Burton</td><td>44</td><td>2017-06-21T19:53:27Z</td></tr><tr><td>4508</td><td>Michael Carter</td><td>58</td><td>2016-06-03T23:35:30Z</td></tr><tr><td>831</td><td>Aimee Collins</td><td>28</td><td>2016-06-16T02:06:38Z</td></tr><tr><td>5076</td><td>Christopher Butler</td><td>20</td><td>2015-12-01T15:08:31Z</td></tr><tr><td>10663</td><td>Julie Cox</td><td>23</td><td>2016-06-23T14:38:00Z</td></tr><tr><td>5468</td><td>Lisa Gamble</td><td>20</td><td>2016-07-23T20:51:06Z</td></tr><tr><td>205</td><td>Brett Bryant</td><td>20</td><td>2015-10-23T12:40:19Z</td></tr><tr><td>7790</td><td>Michelle Gutierrez</td><td>39</td><td>2017-07-19T07:12:04Z</td></tr><tr><td>8606</td><td>Denise Adams</td><td>21</td><td>2015-11-12T06:21:36Z</td></tr><tr><td>9759</td><td>Daniel Brooks</td><td>25</td><td>2015-11-19T21:24:33Z</td></tr><tr><td>719</td><td>Alicia Avila</td><td>20</td><td>2016-01-26T01:49:23Z</td></tr><tr><td>1704</td><td>Barry Lynn</td><td>20</td><td>2015-10-28T05:00:33Z</td></tr><tr><td>2482</td><td>David Moss</td><td>22</td><td>2016-03-01T07:11:48Z</td></tr><tr><td>8930</td><td>Andrew Anderson</td><td>23</td><td>2015-11-28T11:52:37Z</td></tr><tr><td>7294</td><td>Dawn Anderson</td><td>20</td><td>2016-12-31T00:06:36Z</td></tr><tr><td>808</td><td>Aaron Bartlett</td><td>21</td><td>2015-11-24T02:15:36Z</td></tr><tr><td>771</td><td>Brittany Butler</td><td>32</td><td>2016-03-10T04:11:31Z</td></tr><tr><td>4076</td><td>Larry Pineda</td><td>20</td><td>2015-10-23T22:47:39Z</td></tr><tr><td>1545</td><td>Jonathan Avila</td><td>46</td><td>2015-11-27T23:11:21Z</td></tr><tr><td>2293</td><td>Alex Bean</td><td>24</td><td>2016-01-11T23:08:27Z</td></tr><tr><td>10509</td><td>Brittany Thompson</td><td>49</td><td>2016-04-22T20:36:02Z</td></tr><tr><td>2015</td><td>Christopher Bradshaw</td><td>27</td><td>2016-03-08T13:38:37Z</td></tr><tr><td>1094</td><td>Ann Elliott</td><td>20</td><td>2016-07-02T02:32:30Z</td></tr><tr><td>603</td><td>Brandon Jackson</td><td>44</td><td>2016-10-29T02:07:21Z</td></tr><tr><td>7768</td><td>Christine Cortez</td><td>23</td><td>2015-12-01T18:15:02Z</td></tr><tr><td>5630</td><td>Carlos Estrada</td><td>22</td><td>2016-02-09T17:01:38Z</td></tr><tr><td>8578</td><td>Joe Pham</td><td>48</td><td>2017-06-01T23:13:27Z</td></tr><tr><td>9936</td><td>Anthony Cantu</td><td>28</td><td>2016-11-15T10:40:03Z</td></tr><tr><td>6844</td><td>Peter Roberts</td><td>30</td><td>2016-07-03T10:59:40Z</td></tr><tr><td>3419</td><td>Aaron Jenkins</td><td>47</td><td>2017-04-26T03:26:23Z</td></tr><tr><td>1268</td><td>Donna Campbell</td><td>32</td><td>2016-06-08T22:10:13Z</td></tr><tr><td>6566</td><td>Alexander Perez</td><td>31</td><td>2017-08-04T14:30:22Z</td></tr><tr><td>1555</td><td>Alexis Bennett</td><td>54</td><td>2016-05-15T04:22:01Z</td></tr><tr><td>3729</td><td>Richard Edwards</td><td>52</td><td>2016-02-07T20:00:25Z</td></tr><tr><td>6398</td><td>Christina Davenport</td><td>39</td><td>2016-06-29T20:43:59Z</td></tr><tr><td>46</td><td>Erik Kelley</td><td>30</td><td>2016-01-06T09:58:56Z</td></tr><tr><td>4988</td><td>Rhonda Durham</td><td>25</td><td>2017-07-20T05:51:23Z</td></tr><tr><td>427</td><td>Jon Burke</td><td>25</td><td>2015-11-26T17:42:37Z</td></tr><tr><td>3800</td><td>Adam Armstrong</td><td>20</td><td>2015-12-17T08:43:40Z</td></tr><tr><td>159</td><td>Alison Bell</td><td>21</td><td>2016-01-07T08:11:35Z</td></tr><tr><td>3599</td><td>Alexandria Alvarado</td><td>20</td><td>2015-10-23T04:13:23Z</td></tr><tr><td>10552</td><td>Michael Hunter</td><td>40</td><td>2017-05-16T07:09:21Z</td></tr><tr><td>1422</td><td>Aaron Abbott</td><td>20</td><td>2015-10-31T18:51:07Z</td></tr><tr><td>5309</td><td>Daniel Roy</td><td>31</td><td>2016-03-07T01:01:24Z</td></tr><tr><td>552</td><td>Regina Morales</td><td>20</td><td>2017-01-17T01:49:27Z</td></tr><tr><td>1371</td><td>Amanda Brown</td><td>20</td><td>2015-11-12T03:23:49Z</td></tr><tr><td>10119</td><td>Chelsea Gonzalez</td><td>43</td><td>2016-07-21T15:25:08Z</td></tr><tr><td>9074</td><td>Aaron Alexander</td><td>21</td><td>2015-10-25T07:36:08Z</td></tr><tr><td>2604</td><td>Ashley Evans</td><td>30</td><td>2016-02-21T12:54:01Z</td></tr><tr><td>223</td><td>Melanie Hill</td><td>51</td><td>2016-10-09T14:47:51Z</td></tr><tr><td>8312</td><td>Daniel Brooks</td><td>25</td><td>2015-11-19T21:24:33Z</td></tr><tr><td>2858</td><td>Anne Bond</td><td>21</td><td>2015-12-27T23:43:42Z</td></tr><tr><td>6261</td><td>Nicholas Hart</td><td>38</td><td>2015-10-26T09:45:45Z</td></tr><tr><td>3201</td><td>Elizabeth Terry</td><td>28</td><td>2016-01-29T20:32:05Z</td></tr><tr><td>2637</td><td>Shawn Jones</td><td>32</td><td>2016-08-23T20:36:12Z</td></tr><tr><td>1198</td><td>Ariana Gross</td><td>59</td><td>2016-12-17T11:10:48Z</td></tr><tr><td>10370</td><td>Derrick Kim</td><td>30</td><td>2016-12-21T13:39:14Z</td></tr><tr><td>7167</td><td>Dawn Bradley</td><td>20</td><td>2016-08-26T16:09:52Z</td></tr><tr><td>10673</td><td>Alexander Cervantes</td><td>59</td><td>2017-05-12T21:22:17Z</td></tr><tr><td>2060</td><td>Joshua Long</td><td>27</td><td>2016-12-18T10:11:23Z</td></tr><tr><td>9487</td><td>Jose Bailey</td><td>21</td><td>2016-01-10T09:41:14Z</td></tr><tr><td>772</td><td>Glenn Hammond</td><td>25</td><td>2016-04-27T02:59:27Z</td></tr><tr><td>7510</td><td>Debra Becker</td><td>20</td><td>2016-07-27T06:20:48Z</td></tr><tr><td>5758</td><td>Amanda Arnold</td><td>20</td><td>2015-10-26T23:04:52Z</td></tr><tr><td>1137</td><td>Virginia Vega</td><td>38</td><td>2017-05-03T03:08:33Z</td></tr><tr><td>7234</td><td>Angela Allen</td><td>20</td><td>2015-10-26T04:12:32Z</td></tr><tr><td>327</td><td>Jill Taylor</td><td>39</td><td>2015-12-04T03:15:28Z</td></tr><tr><td>7874</td><td>Aaron Abbott</td><td>20</td><td>2015-10-23T16:08:41Z</td></tr><tr><td>1450</td><td>Aaron Abbott</td><td>20</td><td>2015-10-31T18:51:07Z</td></tr><tr><td>10245</td><td>Julie Cook</td><td>34</td><td>2016-05-08T16:27:01Z</td></tr><tr><td>9093</td><td>Albert Adams</td><td>21</td><td>2015-11-05T22:07:56Z</td></tr><tr><td>2301</td><td>Karina Morton</td><td>31</td><td>2016-01-21T12:53:34Z</td></tr><tr><td>2788</td><td>Jesus Arellano</td><td>43</td><td>2016-03-22T15:45:21Z</td></tr><tr><td>9268</td><td>Alexander Bailey</td><td>20</td><td>2015-10-30T11:37:32Z</td></tr><tr><td>1706</td><td>Amy Adams</td><td>20</td><td>2015-10-24T05:05:28Z</td></tr><tr><td>5293</td><td>David Taylor</td><td>36</td><td>2016-06-03T23:53:50Z</td></tr><tr><td>7733</td><td>Aaron Abbott</td><td>20</td><td>2015-10-23T16:08:41Z</td></tr><tr><td>3716</td><td>Catherine Ferrell</td><td>21</td><td>2017-01-02T03:01:09Z</td></tr><tr><td>3750</td><td>Gary Barker</td><td>28</td><td>2015-11-26T11:23:50Z</td></tr><tr><td>232</td><td>Sarah Buchanan</td><td>33</td><td>2017-04-19T08:49:40Z</td></tr><tr><td>8300</td><td>Nathan Stanton</td><td>51</td><td>2017-08-14T08:26:30Z</td></tr><tr><td>8978</td><td>Mark Jones</td><td>34</td><td>2017-08-22T00:01:29Z</td></tr><tr><td>2048</td><td>Ann Chung</td><td>22</td><td>2015-11-18T23:11:15Z</td></tr><tr><td>10337</td><td>Carrie Parker</td><td>46</td><td>2016-09-11T22:32:50Z</td></tr><tr><td>7832</td><td>Samuel Hawkins</td><td>39</td><td>2016-06-30T02:56:06Z</td></tr><tr><td>8366</td><td>Justin Ewing</td><td>56</td><td>2016-02-04T23:27:36Z</td></tr><tr><td>3334</td><td>Amber Casey</td><td>23</td><td>2016-01-06T12:22:08Z</td></tr><tr><td>778</td><td>Christine Adams</td><td>31</td><td>2016-02-06T10:22:53Z</td></tr><tr><td>480</td><td>Timothy Sullivan</td><td>40</td><td>2017-01-12T08:37:12Z</td></tr><tr><td>3011</td><td>Justin Singleton</td><td>20</td><td>2017-03-10T19:53:44Z</td></tr><tr><td>9475</td><td>Jessica Mejia</td><td>40</td><td>2016-01-03T12:03:05Z</td></tr><tr><td>7528</td><td>Abigail Ali</td><td>20</td><td>2015-10-24T11:23:51Z</td></tr><tr><td>2863</td><td>Dylan Holmes</td><td>32</td><td>2016-10-23T14:06:51Z</td></tr><tr><td>5730</td><td>Rachel Davis</td><td>36</td><td>2015-12-08T20:02:43Z</td></tr><tr><td>8304</td><td>Charles Berry</td><td>25</td><td>2015-12-28T04:21:39Z</td></tr><tr><td>8731</td><td>Andrea Alexander</td><td>21</td><td>2015-11-10T09:27:42Z</td></tr><tr><td>1313</td><td>Brittany Jones</td><td>32</td><td>2016-04-02T03:51:23Z</td></tr><tr><td>4315</td><td>Michelle Prince</td><td>36</td><td>2015-12-20T16:38:13Z</td></tr><tr><td>10794</td><td>Thomas Turner</td><td>34</td><td>2016-12-22T00:02:02Z</td></tr><tr><td>5494</td><td>Anne Allen</td><td>27</td><td>2015-12-16T15:20:05Z</td></tr><tr><td>5069</td><td>Amanda Ball</td><td>25</td><td>2016-01-13T17:36:30Z</td></tr><tr><td>2923</td><td>Brian Nelson</td><td>26</td><td>2015-11-11T03:20:57Z</td></tr><tr><td>3089</td><td>Abigail Ali</td><td>20</td><td>2015-10-24T11:23:51Z</td></tr><tr><td>6063</td><td>Corey Andrews</td><td>23</td><td>2015-11-25T13:36:22Z</td></tr><tr><td>3454</td><td>Robert Murphy</td><td>48</td><td>2017-09-26T16:31:56Z</td></tr><tr><td>7554</td><td>Cheryl Huerta</td><td>20</td><td>2017-04-11T16:35:33Z</td></tr><tr><td>6145</td><td>Emily Hawkins</td><td>30</td><td>2015-12-25T20:24:37Z</td></tr><tr><td>10625</td><td>Christian Lang</td><td>32</td><td>2017-10-10T20:09:33Z</td></tr><tr><td>2959</td><td>David Griffith</td><td>20</td><td>2016-01-07T19:49:22Z</td></tr><tr><td>9875</td><td>Brendan Joseph</td><td>26</td><td>2015-12-20T10:28:00Z</td></tr><tr><td>2418</td><td>Amanda Adams</td><td>20</td><td>2015-10-21T08:27:36Z</td></tr><tr><td>3156</td><td>Andrew Baker</td><td>22</td><td>2015-12-21T08:06:54Z</td></tr><tr><td>428</td><td>Claudia Adams</td><td>20</td><td>2015-11-28T02:20:29Z</td></tr><tr><td>7343</td><td>Anne Clayton</td><td>24</td><td>2016-01-11T12:03:48Z</td></tr><tr><td>2074</td><td>Annette Forbes</td><td>21</td><td>2016-01-03T15:42:12Z</td></tr><tr><td>9979</td><td>Kaylee Miller</td><td>31</td><td>2016-11-09T19:50:51Z</td></tr><tr><td>10138</td><td>Carol Silva</td><td>22</td><td>2015-12-31T14:57:02Z</td></tr><tr><td>9672</td><td>Jennifer Hudson</td><td>22</td><td>2016-02-11T20:46:04Z</td></tr><tr><td>8653</td><td>Tammy Davis</td><td>24</td><td>2016-03-09T10:48:14Z</td></tr><tr><td>8887</td><td>Austin Rodriguez</td><td>24</td><td>2016-03-31T20:56:39Z</td></tr><tr><td>7922</td><td>Denise Adams</td><td>21</td><td>2015-11-12T06:21:36Z</td></tr><tr><td>1014</td><td>Gregory Ramsey</td><td>56</td><td>2016-10-15T17:21:39Z</td></tr><tr><td>4913</td><td>Angela Brooks</td><td>24</td><td>2015-11-20T05:37:11Z</td></tr><tr><td>4137</td><td>Michael Decker</td><td>59</td><td>2017-06-29T22:35:17Z</td></tr><tr><td>7166</td><td>Alvin Adams</td><td>20</td><td>2016-01-01T13:50:40Z</td></tr><tr><td>9546</td><td>Alex Barnes</td><td>20</td><td>2016-02-27T21:13:44Z</td></tr><tr><td>2411</td><td>Aaron Bartlett</td><td>21</td><td>2015-11-24T02:15:36Z</td></tr><tr><td>9590</td><td>Amanda Allen</td><td>22</td><td>2015-10-24T18:56:30Z</td></tr><tr><td>2698</td><td>Kayla Burton</td><td>44</td><td>2017-06-21T19:53:27Z</td></tr><tr><td>4508</td><td>Michael Carter</td><td>58</td><td>2016-06-03T23:35:30Z</td></tr><tr><td>831</td><td>Aimee Collins</td><td>28</td><td>2016-06-16T02:06:38Z</td></tr><tr><td>5076</td><td>Christopher Butler</td><td>20</td><td>2015-12-01T15:08:31Z</td></tr><tr><td>10663</td><td>Julie Cox</td><td>23</td><td>2016-06-23T14:38:00Z</td></tr><tr><td>5468</td><td>Lisa Gamble</td><td>20</td><td>2016-07-23T20:51:06Z</td></tr><tr><td>205</td><td>Brett Bryant</td><td>20</td><td>2015-10-23T12:40:19Z</td></tr><tr><td>7790</td><td>Michelle Gutierrez</td><td>39</td><td>2017-07-19T07:12:04Z</td></tr><tr><td>8606</td><td>Denise Adams</td><td>21</td><td>2015-11-12T06:21:36Z</td></tr><tr><td>9759</td><td>Daniel Brooks</td><td>25</td><td>2015-11-19T21:24:33Z</td></tr><tr><td>719</td><td>Alicia Avila</td><td>20</td><td>2016-01-26T01:49:23Z</td></tr><tr><td>1704</td><td>Barry Lynn</td><td>20</td><td>2015-10-28T05:00:33Z</td></tr><tr><td>2482</td><td>David Moss</td><td>22</td><td>2016-03-01T07:11:48Z</td></tr><tr><td>8930</td><td>Andrew Anderson</td><td>23</td><td>2015-11-28T11:52:37Z</td></tr><tr><td>7294</td><td>Dawn Anderson</td><td>20</td><td>2016-12-31T00:06:36Z</td></tr><tr><td>808</td><td>Aaron Bartlett</td><td>21</td><td>2015-11-24T02:15:36Z</td></tr><tr><td>771</td><td>Brittany Butler</td><td>32</td><td>2016-03-10T04:11:31Z</td></tr><tr><td>4076</td><td>Larry Pineda</td><td>20</td><td>2015-10-23T22:47:39Z</td></tr><tr><td>1545</td><td>Jonathan Avila</td><td>46</td><td>2015-11-27T23:11:21Z</td></tr><tr><td>2293</td><td>Alex Bean</td><td>24</td><td>2016-01-11T23:08:27Z</td></tr><tr><td>10509</td><td>Brittany Thompson</td><td>49</td><td>2016-04-22T20:36:02Z</td></tr><tr><td>2015</td><td>Christopher Bradshaw</td><td>27</td><td>2016-03-08T13:38:37Z</td></tr><tr><td>1094</td><td>Ann Elliott</td><td>20</td><td>2016-07-02T02:32:30Z</td></tr><tr><td>603</td><td>Brandon Jackson</td><td>44</td><td>2016-10-29T02:07:21Z</td></tr><tr><td>7768</td><td>Christine Cortez</td><td>23</td><td>2015-12-01T18:15:02Z</td></tr><tr><td>5630</td><td>Carlos Estrada</td><td>22</td><td>2016-02-09T17:01:38Z</td></tr><tr><td>8578</td><td>Joe Pham</td><td>48</td><td>2017-06-01T23:13:27Z</td></tr><tr><td>9936</td><td>Anthony Cantu</td><td>28</td><td>2016-11-15T10:40:03Z</td></tr><tr><td>6844</td><td>Peter Roberts</td><td>30</td><td>2016-07-03T10:59:40Z</td></tr><tr><td>3419</td><td>Aaron Jenkins</td><td>47</td><td>2017-04-26T03:26:23Z</td></tr><tr><td>1268</td><td>Donna Campbell</td><td>32</td><td>2016-06-08T22:10:13Z</td></tr><tr><td>6566</td><td>Alexander Perez</td><td>31</td><td>2017-08-04T14:30:22Z</td></tr><tr><td>1555</td><td>Alexis Bennett</td><td>54</td><td>2016-05-15T04:22:01Z</td></tr><tr><td>3729</td><td>Richard Edwards</td><td>52</td><td>2016-02-07T20:00:25Z</td></tr><tr><td>6398</td><td>Christina Davenport</td><td>39</td><td>2016-06-29T20:43:59Z</td></tr><tr><td>46</td><td>Erik Kelley</td><td>30</td><td>2016-01-06T09:58:56Z</td></tr><tr><td>4988</td><td>Rhonda Durham</td><td>25</td><td>2017-07-20T05:51:23Z</td></tr><tr><td>427</td><td>Jon Burke</td><td>25</td><td>2015-11-26T17:42:37Z</td></tr><tr><td>3800</td><td>Adam Armstrong</td><td>20</td><td>2015-12-17T08:43:40Z</td></tr><tr><td>159</td><td>Alison Bell</td><td>21</td><td>2016-01-07T08:11:35Z</td></tr><tr><td>3599</td><td>Alexandria Alvarado</td><td>20</td><td>2015-10-23T04:13:23Z</td></tr><tr><td>10552</td><td>Michael Hunter</td><td>40</td><td>2017-05-16T07:09:21Z</td></tr><tr><td>1422</td><td>Aaron Abbott</td><td>20</td><td>2015-10-31T18:51:07Z</td></tr><tr><td>5309</td><td>Daniel Roy</td><td>31</td><td>2016-03-07T01:01:24Z</td></tr><tr><td>552</td><td>Regina Morales</td><td>20</td><td>2017-01-17T01:49:27Z</td></tr><tr><td>1371</td><td>Amanda Brown</td><td>20</td><td>2015-11-12T03:23:49Z</td></tr><tr><td>10119</td><td>Chelsea Gonzalez</td><td>43</td><td>2016-07-21T15:25:08Z</td></tr><tr><td>9074</td><td>Aaron Alexander</td><td>21</td><td>2015-10-25T07:36:08Z</td></tr><tr><td>2604</td><td>Ashley Evans</td><td>30</td><td>2016-02-21T12:54:01Z</td></tr><tr><td>223</td><td>Melanie Hill</td><td>51</td><td>2016-10-09T14:47:51Z</td></tr><tr><td>8312</td><td>Daniel Brooks</td><td>25</td><td>2015-11-19T21:24:33Z</td></tr><tr><td>2858</td><td>Anne Bond</td><td>21</td><td>2015-12-27T23:43:42Z</td></tr><tr><td>6261</td><td>Nicholas Hart</td><td>38</td><td>2015-10-26T09:45:45Z</td></tr><tr><td>3201</td><td>Elizabeth Terry</td><td>28</td><td>2016-01-29T20:32:05Z</td></tr><tr><td>2637</td><td>Shawn Jones</td><td>32</td><td>2016-08-23T20:36:12Z</td></tr><tr><td>1198</td><td>Ariana Gross</td><td>59</td><td>2016-12-17T11:10:48Z</td></tr><tr><td>10370</td><td>Derrick Kim</td><td>30</td><td>2016-12-21T13:39:14Z</td></tr><tr><td>7167</td><td>Dawn Bradley</td><td>20</td><td>2016-08-26T16:09:52Z</td></tr><tr><td>10673</td><td>Alexander Cervantes</td><td>59</td><td>2017-05-12T21:22:17Z</td></tr><tr><td>7528</td><td>Abigail Ali</td><td>20</td><td>2015-10-24T11:23:51Z</td></tr><tr><td>7528</td><td>Abigail Ali</td><td>20</td><td>2015-10-24T11:23:51Z</td></tr><tr><td>2863</td><td>Dylan Holmes</td><td>32</td><td>2016-10-23T14:06:51Z</td></tr><tr><td>5730</td><td>Rachel Davis</td><td>36</td><td>2015-12-08T20:02:43Z</td></tr><tr><td>8304</td><td>Charles Berry</td><td>25</td><td>2015-12-28T04:21:39Z</td></tr><tr><td>7528</td><td>Abigail Ali</td><td>20</td><td>2015-10-24T11:23:51Z</td></tr><tr><td>2863</td><td>Dylan Holmes</td><td>32</td><td>2016-10-23T14:06:51Z</td></tr><tr><td>5730</td><td>Rachel Davis</td><td>36</td><td>2015-12-08T20:02:43Z</td></tr><tr><td>8304</td><td>Charles Berry</td><td>25</td><td>2015-12-28T04:21:39Z</td></tr><tr><td>8731</td><td>Andrea Alexander</td><td>21</td><td>2015-11-10T09:27:42Z</td></tr><tr><td>1313</td><td>Brittany Jones</td><td>32</td><td>2016-04-02T03:51:23Z</td></tr><tr><td>4315</td><td>Michelle Prince</td><td>36</td><td>2015-12-20T16:38:13Z</td></tr><tr><td>7528</td><td>Abigail Ali</td><td>20</td><td>2015-10-24T11:23:51Z</td></tr><tr><td>2863</td><td>Dylan Holmes</td><td>32</td><td>2016-10-23T14:06:51Z</td></tr><tr><td>5730</td><td>Rachel Davis</td><td>36</td><td>2015-12-08T20:02:43Z</td></tr><tr><td>8304</td><td>Charles Berry</td><td>25</td><td>2015-12-28T04:21:39Z</td></tr><tr><td>8731</td><td>Andrea Alexander</td><td>21</td><td>2015-11-10T09:27:42Z</td></tr><tr><td>1313</td><td>Brittany Jones</td><td>32</td><td>2016-04-02T03:51:23Z</td></tr><tr><td>4315</td><td>Michelle Prince</td><td>36</td><td>2015-12-20T16:38:13Z</td></tr><tr><td>10794</td><td>Thomas Turner</td><td>34</td><td>2016-12-22T00:02:02Z</td></tr><tr><td>5494</td><td>Anne Allen</td><td>27</td><td>2015-12-16T15:20:05Z</td></tr><tr><td>5069</td><td>Amanda Ball</td><td>25</td><td>2016-01-13T17:36:30Z</td></tr><tr><td>2923</td><td>Brian Nelson</td><td>26</td><td>2015-11-11T03:20:57Z</td></tr><tr><td>3089</td><td>Abigail Ali</td><td>20</td><td>2015-10-24T11:23:51Z</td></tr><tr><td>6063</td><td>Corey Andrews</td><td>23</td><td>2015-11-25T13:36:22Z</td></tr><tr><td>3454</td><td>Robert Murphy</td><td>48</td><td>2017-09-26T16:31:56Z</td></tr><tr><td>7554</td><td>Cheryl Huerta</td><td>20</td><td>2017-04-11T16:35:33Z</td></tr><tr><td>6145</td><td>Emily Hawkins</td><td>30</td><td>2015-12-25T20:24:37Z</td></tr><tr><td>10625</td><td>Christian Lang</td><td>32</td><td>2017-10-10T20:09:33Z</td></tr><tr><td>2959</td><td>David Griffith</td><td>20</td><td>2016-01-07T19:49:22Z</td></tr><tr><td>9875</td><td>Brendan Joseph</td><td>26</td><td>2015-12-20T10:28:00Z</td></tr><tr><td>2418</td><td>Amanda Adams</td><td>20</td><td>2015-10-21T08:27:36Z</td></tr><tr><td>3156</td><td>Andrew Baker</td><td>22</td><td>2015-12-21T08:06:54Z</td></tr><tr><td>428</td><td>Claudia Adams</td><td>20</td><td>2015-11-28T02:20:29Z</td></tr><tr><td>7343</td><td>Anne Clayton</td><td>24</td><td>2016-01-11T12:03:48Z</td></tr><tr><td>2074</td><td>Annette Forbes</td><td>21</td><td>2016-01-03T15:42:12Z</td></tr><tr><td>9979</td><td>Kaylee Miller</td><td>31</td><td>2016-11-09T19:50:51Z</td></tr><tr><td>10138</td><td>Carol Silva</td><td>22</td><td>2015-12-31T14:57:02Z</td></tr><tr><td>9672</td><td>Jennifer Hudson</td><td>22</td><td>2016-02-11T20:46:04Z</td></tr><tr><td>8653</td><td>Tammy Davis</td><td>24</td><td>2016-03-09T10:48:14Z</td></tr><tr><td>8887</td><td>Austin Rodriguez</td><td>24</td><td>2016-03-31T20:56:39Z</td></tr><tr><td>7922</td><td>Denise Adams</td><td>21</td><td>2015-11-12T06:21:36Z</td></tr><tr><td>1014</td><td>Gregory Ramsey</td><td>56</td><td>2016-10-15T17:21:39Z</td></tr><tr><td>4913</td><td>Angela Brooks</td><td>24</td><td>2015-11-20T05:37:11Z</td></tr><tr><td>4137</td><td>Michael Decker</td><td>59</td><td>2017-06-29T22:35:17Z</td></tr><tr><td>7166</td><td>Alvin Adams</td><td>20</td><td>2016-01-01T13:50:40Z</td></tr><tr><td>9546</td><td>Alex Barnes</td><td>20</td><td>2016-02-27T21:13:44Z</td></tr><tr><td>2411</td><td>Aaron Bartlett</td><td>21</td><td>2015-11-24T02:15:36Z</td></tr><tr><td>9590</td><td>Amanda Allen</td><td>22</td><td>2015-10-24T18:56:30Z</td></tr><tr><td>2698</td><td>Kayla Burton</td><td>44</td><td>2017-06-21T19:53:27Z</td></tr><tr><td>4508</td><td>Michael Carter</td><td>58</td><td>2016-06-03T23:35:30Z</td></tr><tr><td>831</td><td>Aimee Collins</td><td>28</td><td>2016-06-16T02:06:38Z</td></tr><tr><td>5076</td><td>Christopher Butler</td><td>20</td><td>2015-12-01T15:08:31Z</td></tr><tr><td>10663</td><td>Julie Cox</td><td>23</td><td>2016-06-23T14:38:00Z</td></tr><tr><td>5468</td><td>Lisa Gamble</td><td>20</td><td>2016-07-23T20:51:06Z</td></tr><tr><td>205</td><td>Brett Bryant</td><td>20</td><td>2015-10-23T12:40:19Z</td></tr><tr><td>7790</td><td>Michelle Gutierrez</td><td>39</td><td>2017-07-19T07:12:04Z</td></tr><tr><td>8606</td><td>Denise Adams</td><td>21</td><td>2015-11-12T06:21:36Z</td></tr><tr><td>9759</td><td>Daniel Brooks</td><td>25</td><td>2015-11-19T21:24:33Z</td></tr><tr><td>719</td><td>Alicia Avila</td><td>20</td><td>2016-01-26T01:49:23Z</td></tr><tr><td>1704</td><td>Barry Lynn</td><td>20</td><td>2015-10-28T05:00:33Z</td></tr><tr><td>2482</td><td>David Moss</td><td>22</td><td>2016-03-01T07:11:48Z</td></tr><tr><td>8930</td><td>Andrew Anderson</td><td>23</td><td>2015-11-28T11:52:37Z</td></tr><tr><td>7294</td><td>Dawn Anderson</td><td>20</td><td>2016-12-31T00:06:36Z</td></tr><tr><td>808</td><td>Aaron Bartlett</td><td>21</td><td>2015-11-24T02:15:36Z</td></tr><tr><td>771</td><td>Brittany Butler</td><td>32</td><td>2016-03-10T04:11:31Z</td></tr><tr><td>4076</td><td>Larry Pineda</td><td>20</td><td>2015-10-23T22:47:39Z</td></tr><tr><td>1545</td><td>Jonathan Avila</td><td>46</td><td>2015-11-27T23:11:21Z</td></tr><tr><td>2293</td><td>Alex Bean</td><td>24</td><td>2016-01-11T23:08:27Z</td></tr><tr><td>10509</td><td>Brittany Thompson</td><td>49</td><td>2016-04-22T20:36:02Z</td></tr><tr><td>2015</td><td>Christopher Bradshaw</td><td>27</td><td>2016-03-08T13:38:37Z</td></tr><tr><td>1094</td><td>Ann Elliott</td><td>20</td><td>2016-07-02T02:32:30Z</td></tr><tr><td>603</td><td>Brandon Jackson</td><td>44</td><td>2016-10-29T02:07:21Z</td></tr><tr><td>7768</td><td>Christine Cortez</td><td>23</td><td>2015-12-01T18:15:02Z</td></tr><tr><td>5630</td><td>Carlos Estrada</td><td>22</td><td>2016-02-09T17:01:38Z</td></tr><tr><td>8578</td><td>Joe Pham</td><td>48</td><td>2017-06-01T23:13:27Z</td></tr><tr><td>9936</td><td>Anthony Cantu</td><td>28</td><td>2016-11-15T10:40:03Z</td></tr><tr><td>6844</td><td>Peter Roberts</td><td>30</td><td>2016-07-03T10:59:40Z</td></tr><tr><td>3419</td><td>Aaron Jenkins</td><td>47</td><td>2017-04-26T03:26:23Z</td></tr><tr><td>1268</td><td>Donna Campbell</td><td>32</td><td>2016-06-08T22:10:13Z</td></tr><tr><td>6566</td><td>Alexander Perez</td><td>31</td><td>2017-08-04T14:30:22Z</td></tr><tr><td>1555</td><td>Alexis Bennett</td><td>54</td><td>2016-05-15T04:22:01Z</td></tr><tr><td>3729</td><td>Richard Edwards</td><td>52</td><td>2016-02-07T20:00:25Z</td></tr><tr><td>6398</td><td>Christina Davenport</td><td>39</td><td>2016-06-29T20:43:59Z</td></tr><tr><td>46</td><td>Erik Kelley</td><td>30</td><td>2016-01-06T09:58:56Z</td></tr><tr><td>4988</td><td>Rhonda Durham</td><td>25</td><td>2017-07-20T05:51:23Z</td></tr><tr><td>427</td><td>Jon Burke</td><td>25</td><td>2015-11-26T17:42:37Z</td></tr><tr><td>3800</td><td>Adam Armstrong</td><td>20</td><td>2015-12-17T08:43:40Z</td></tr><tr><td>159</td><td>Alison Bell</td><td>21</td><td>2016-01-07T08:11:35Z</td></tr><tr><td>3599</td><td>Alexandria Alvarado</td><td>20</td><td>2015-10-23T04:13:23Z</td></tr><tr><td>10552</td><td>Michael Hunter</td><td>40</td><td>2017-05-16T07:09:21Z</td></tr><tr><td>1422</td><td>Aaron Abbott</td><td>20</td><td>2015-10-31T18:51:07Z</td></tr><tr><td>5309</td><td>Daniel Roy</td><td>31</td><td>2016-03-07T01:01:24Z</td></tr><tr><td>552</td><td>Regina Morales</td><td>20</td><td>2017-01-17T01:49:27Z</td></tr><tr><td>1371</td><td>Amanda Brown</td><td>20</td><td>2015-11-12T03:23:49Z</td></tr><tr><td>7528</td><td>Abigail Ali</td><td>20</td><td>2015-10-24T11:23:51Z</td></tr><tr><td>2863</td><td>Dylan Holmes</td><td>32</td><td>2016-10-23T14:06:51Z</td></tr><tr><td>5730</td><td>Rachel Davis</td><td>36</td><td>2015-12-08T20:02:43Z</td></tr><tr><td>8304</td><td>Charles Berry</td><td>25</td><td>2015-12-28T04:21:39Z</td></tr><tr><td>8731</td><td>Andrea Alexander</td><td>21</td><td>2015-11-10T09:27:42Z</td></tr><tr><td>1313</td><td>Brittany Jones</td><td>32</td><td>2016-04-02T03:51:23Z</td></tr><tr><td>4315</td><td>Michelle Prince</td><td>36</td><td>2015-12-20T16:38:13Z</td></tr><tr><td>10794</td><td>Thomas Turner</td><td>34</td><td>2016-12-22T00:02:02Z</td></tr><tr><td>5494</td><td>Anne Allen</td><td>27</td><td>2015-12-16T15:20:05Z</td></tr><tr><td>5069</td><td>Amanda Ball</td><td>25</td><td>2016-01-13T17:36:30Z</td></tr><tr><td>2923</td><td>Brian Nelson</td><td>26</td><td>2015-11-11T03:20:57Z</td></tr><tr><td>3089</td><td>Abigail Ali</td><td>20</td><td>2015-10-24T11:23:51Z</td></tr><tr><td>6063</td><td>Corey Andrews</td><td>23</td><td>2015-11-25T13:36:22Z</td></tr><tr><td>3454</td><td>Robert Murphy</td><td>48</td><td>2017-09-26T16:31:56Z</td></tr><tr><td>7554</td><td>Cheryl Huerta</td><td>20</td><td>2017-04-11T16:35:33Z</td></tr><tr><td>6145</td><td>Emily Hawkins</td><td>30</td><td>2015-12-25T20:24:37Z</td></tr><tr><td>10625</td><td>Christian Lang</td><td>32</td><td>2017-10-10T20:09:33Z</td></tr><tr><td>2959</td><td>David Griffith</td><td>20</td><td>2016-01-07T19:49:22Z</td></tr><tr><td>9875</td><td>Brendan Joseph</td><td>26</td><td>2015-12-20T10:28:00Z</td></tr><tr><td>2418</td><td>Amanda Adams</td><td>20</td><td>2015-10-21T08:27:36Z</td></tr><tr><td>3156</td><td>Andrew Baker</td><td>22</td><td>2015-12-21T08:06:54Z</td></tr><tr><td>428</td><td>Claudia Adams</td><td>20</td><td>2015-11-28T02:20:29Z</td></tr><tr><td>7343</td><td>Anne Clayton</td><td>24</td><td>2016-01-11T12:03:48Z</td></tr><tr><td>2074</td><td>Annette Forbes</td><td>21</td><td>2016-01-03T15:42:12Z</td></tr><tr><td>9979</td><td>Kaylee Miller</td><td>31</td><td>2016-11-09T19:50:51Z</td></tr><tr><td>10138</td><td>Carol Silva</td><td>22</td><td>2015-12-31T14:57:02Z</td></tr><tr><td>9672</td><td>Jennifer Hudson</td><td>22</td><td>2016-02-11T20:46:04Z</td></tr><tr><td>8653</td><td>Tammy Davis</td><td>24</td><td>2016-03-09T10:48:14Z</td></tr><tr><td>8887</td><td>Austin Rodriguez</td><td>24</td><td>2016-03-31T20:56:39Z</td></tr><tr><td>7922</td><td>Denise Adams</td><td>21</td><td>2015-11-12T06:21:36Z</td></tr><tr><td>1014</td><td>Gregory Ramsey</td><td>56</td><td>2016-10-15T17:21:39Z</td></tr><tr><td>4913</td><td>Angela Brooks</td><td>24</td><td>2015-11-20T05:37:11Z</td></tr><tr><td>4137</td><td>Michael Decker</td><td>59</td><td>2017-06-29T22:35:17Z</td></tr><tr><td>7528</td><td>Abigail Ali</td><td>20</td><td>2015-10-24T11:23:51Z</td></tr><tr><td>2863</td><td>Dylan Holmes</td><td>32</td><td>2016-10-23T14:06:51Z</td></tr><tr><td>5730</td><td>Rachel Davis</td><td>36</td><td>2015-12-08T20:02:43Z</td></tr><tr><td>8304</td><td>Charles Berry</td><td>25</td><td>2015-12-28T04:21:39Z</td></tr><tr><td>8731</td><td>Andrea Alexander</td><td>21</td><td>2015-11-10T09:27:42Z</td></tr><tr><td>1313</td><td>Brittany Jones</td><td>32</td><td>2016-04-02T03:51:23Z</td></tr><tr><td>4315</td><td>Michelle Prince</td><td>36</td><td>2015-12-20T16:38:13Z</td></tr><tr><td>10794</td><td>Thomas Turner</td><td>34</td><td>2016-12-22T00:02:02Z</td></tr><tr><td>5494</td><td>Anne Allen</td><td>27</td><td>2015-12-16T15:20:05Z</td></tr><tr><td>5069</td><td>Amanda Ball</td><td>25</td><td>2016-01-13T17:36:30Z</td></tr><tr><td>2923</td><td>Brian Nelson</td><td>26</td><td>2015-11-11T03:20:57Z</td></tr><tr><td>3089</td><td>Abigail Ali</td><td>20</td><td>2015-10-24T11:23:51Z</td></tr><tr><td>6063</td><td>Corey Andrews</td><td>23</td><td>2015-11-25T13:36:22Z</td></tr><tr><td>3454</td><td>Robert Murphy</td><td>48</td><td>2017-09-26T16:31:56Z</td></tr><tr><td>7554</td><td>Cheryl Huerta</td><td>20</td><td>2017-04-11T16:35:33Z</td></tr><tr><td>6145</td><td>Emily Hawkins</td><td>30</td><td>2015-12-25T20:24:37Z</td></tr><tr><td>10625</td><td>Christian Lang</td><td>32</td><td>2017-10-10T20:09:33Z</td></tr><tr><td>2959</td><td>David Griffith</td><td>20</td><td>2016-01-07T19:49:22Z</td></tr><tr><td>9875</td><td>Brendan Joseph</td><td>26</td><td>2015-12-20T10:28:00Z</td></tr><tr><td>2418</td><td>Amanda Adams</td><td>20</td><td>2015-10-21T08:27:36Z</td></tr><tr><td>3156</td><td>Andrew Baker</td><td>22</td><td>2015-12-21T08:06:54Z</td></tr><tr><td>428</td><td>Claudia Adams</td><td>20</td><td>2015-11-28T02:20:29Z</td></tr><tr><td>7343</td><td>Anne Clayton</td><td>24</td><td>2016-01-11T12:03:48Z</td></tr><tr><td>2074</td><td>Annette Forbes</td><td>21</td><td>2016-01-03T15:42:12Z</td></tr><tr><td>9979</td><td>Kaylee Miller</td><td>31</td><td>2016-11-09T19:50:51Z</td></tr><tr><td>10138</td><td>Carol Silva</td><td>22</td><td>2015-12-31T14:57:02Z</td></tr><tr><td>9672</td><td>Jennifer Hudson</td><td>22</td><td>2016-02-11T20:46:04Z</td></tr><tr><td>8653</td><td>Tammy Davis</td><td>24</td><td>2016-03-09T10:48:14Z</td></tr><tr><td>8887</td><td>Austin Rodriguez</td><td>24</td><td>2016-03-31T20:56:39Z</td></tr><tr><td>7922</td><td>Denise Adams</td><td>21</td><td>2015-11-12T06:21:36Z</td></tr><tr><td>1014</td><td>Gregory Ramsey</td><td>56</td><td>2016-10-15T17:21:39Z</td></tr><tr><td>4913</td><td>Angela Brooks</td><td>24</td><td>2015-11-20T05:37:11Z</td></tr><tr><td>4137</td><td>Michael Decker</td><td>59</td><td>2017-06-29T22:35:17Z</td></tr><tr><td>7166</td><td>Alvin Adams</td><td>20</td><td>2016-01-01T13:50:40Z</td></tr><tr><td>9546</td><td>Alex Barnes</td><td>20</td><td>2016-02-27T21:13:44Z</td></tr><tr><td>2411</td><td>Aaron Bartlett</td><td>21</td><td>2015-11-24T02:15:36Z</td></tr><tr><td>9590</td><td>Amanda Allen</td><td>22</td><td>2015-10-24T18:56:30Z</td></tr><tr><td>2698</td><td>Kayla Burton</td><td>44</td><td>2017-06-21T19:53:27Z</td></tr><tr><td>4508</td><td>Michael Carter</td><td>58</td><td>2016-06-03T23:35:30Z</td></tr><tr><td>831</td><td>Aimee Collins</td><td>28</td><td>2016-06-16T02:06:38Z</td></tr><tr><td>5076</td><td>Christopher Butler</td><td>20</td><td>2015-12-01T15:08:31Z</td></tr><tr><td>10663</td><td>Julie Cox</td><td>23</td><td>2016-06-23T14:38:00Z</td></tr><tr><td>5468</td><td>Lisa Gamble</td><td>20</td><td>2016-07-23T20:51:06Z</td></tr><tr><td>205</td><td>Brett Bryant</td><td>20</td><td>2015-10-23T12:40:19Z</td></tr><tr><td>7790</td><td>Michelle Gutierrez</td><td>39</td><td>2017-07-19T07:12:04Z</td></tr><tr><td>8606</td><td>Denise Adams</td><td>21</td><td>2015-11-12T06:21:36Z</td></tr><tr><td>9759</td><td>Daniel Brooks</td><td>25</td><td>2015-11-19T21:24:33Z</td></tr><tr><td>719</td><td>Alicia Avila</td><td>20</td><td>2016-01-26T01:49:23Z</td></tr><tr><td>1704</td><td>Barry Lynn</td><td>20</td><td>2015-10-28T05:00:33Z</td></tr><tr><td>2482</td><td>David Moss</td><td>22</td><td>2016-03-01T07:11:48Z</td></tr><tr><td>8930</td><td>Andrew Anderson</td><td>23</td><td>2015-11-28T11:52:37Z</td></tr><tr><td>7294</td><td>Dawn Anderson</td><td>20</td><td>2016-12-31T00:06:36Z</td></tr><tr><td>808</td><td>Aaron Bartlett</td><td>21</td><td>2015-11-24T02:15:36Z</td></tr><tr><td>771</td><td>Brittany Butler</td><td>32</td><td>2016-03-10T04:11:31Z</td></tr><tr><td>4076</td><td>Larry Pineda</td><td>20</td><td>2015-10-23T22:47:39Z</td></tr><tr><td>1545</td><td>Jonathan Avila</td><td>46</td><td>2015-11-27T23:11:21Z</td></tr><tr><td>2293</td><td>Alex Bean</td><td>24</td><td>2016-01-11T23:08:27Z</td></tr><tr><td>10509</td><td>Brittany Thompson</td><td>49</td><td>2016-04-22T20:36:02Z</td></tr><tr><td>2015</td><td>Christopher Bradshaw</td><td>27</td><td>2016-03-08T13:38:37Z</td></tr><tr><td>1094</td><td>Ann Elliott</td><td>20</td><td>2016-07-02T02:32:30Z</td></tr><tr><td>603</td><td>Brandon Jackson</td><td>44</td><td>2016-10-29T02:07:21Z</td></tr><tr><td>7768</td><td>Christine Cortez</td><td>23</td><td>2015-12-01T18:15:02Z</td></tr><tr><td>5630</td><td>Carlos Estrada</td><td>22</td><td>2016-02-09T17:01:38Z</td></tr><tr><td>8578</td><td>Joe Pham</td><td>48</td><td>2017-06-01T23:13:27Z</td></tr><tr><td>9936</td><td>Anthony Cantu</td><td>28</td><td>2016-11-15T10:40:03Z</td></tr><tr><td>6844</td><td>Peter Roberts</td><td>30</td><td>2016-07-03T10:59:40Z</td></tr><tr><td>3419</td><td>Aaron Jenkins</td><td>47</td><td>2017-04-26T03:26:23Z</td></tr><tr><td>7528</td><td>Abigail Ali</td><td>20</td><td>2015-10-24T11:23:51Z</td></tr><tr><td>2863</td><td>Dylan Holmes</td><td>32</td><td>2016-10-23T14:06:51Z</td></tr><tr><td>5730</td><td>Rachel Davis</td><td>36</td><td>2015-12-08T20:02:43Z</td></tr><tr><td>8304</td><td>Charles Berry</td><td>25</td><td>2015-12-28T04:21:39Z</td></tr><tr><td>8731</td><td>Andrea Alexander</td><td>21</td><td>2015-11-10T09:27:42Z</td></tr><tr><td>1313</td><td>Brittany Jones</td><td>32</td><td>2016-04-02T03:51:23Z</td></tr><tr><td>4315</td><td>Michelle Prince</td><td>36</td><td>2015-12-20T16:38:13Z</td></tr><tr><td>10794</td><td>Thomas Turner</td><td>34</td><td>2016-12-22T00:02:02Z</td></tr><tr><td>5494</td><td>Anne Allen</td><td>27</td><td>2015-12-16T15:20:05Z</td></tr><tr><td>5069</td><td>Amanda Ball</td><td>25</td><td>2016-01-13T17:36:30Z</td></tr><tr><td>2923</td><td>Brian Nelson</td><td>26</td><td>2015-11-11T03:20:57Z</td></tr><tr><td>3089</td><td>Abigail Ali</td><td>20</td><td>2015-10-24T11:23:51Z</td></tr><tr><td>6063</td><td>Corey Andrews</td><td>23</td><td>2015-11-25T13:36:22Z</td></tr><tr><td>3454</td><td>Robert Murphy</td><td>48</td><td>2017-09-26T16:31:56Z</td></tr><tr><td>7554</td><td>Cheryl Huerta</td><td>20</td><td>2017-04-11T16:35:33Z</td></tr><tr><td>6145</td><td>Emily Hawkins</td><td>30</td><td>2015-12-25T20:24:37Z</td></tr><tr><td>10625</td><td>Christian Lang</td><td>32</td><td>2017-10-10T20:09:33Z</td></tr><tr><td>2959</td><td>David Griffith</td><td>20</td><td>2016-01-07T19:49:22Z</td></tr><tr><td>9875</td><td>Brendan Joseph</td><td>26</td><td>2015-12-20T10:28:00Z</td></tr><tr><td>2418</td><td>Amanda Adams</td><td>20</td><td>2015-10-21T08:27:36Z</td></tr><tr><td>3156</td><td>Andrew Baker</td><td>22</td><td>2015-12-21T08:06:54Z</td></tr><tr><td>428</td><td>Claudia Adams</td><td>20</td><td>2015-11-28T02:20:29Z</td></tr><tr><td>7343</td><td>Anne Clayton</td><td>24</td><td>2016-01-11T12:03:48Z</td></tr><tr><td>2074</td><td>Annette Forbes</td><td>21</td><td>2016-01-03T15:42:12Z</td></tr><tr><td>9979</td><td>Kaylee Miller</td><td>31</td><td>2016-11-09T19:50:51Z</td></tr><tr><td>10138</td><td>Carol Silva</td><td>22</td><td>2015-12-31T14:57:02Z</td></tr><tr><td>9672</td><td>Jennifer Hudson</td><td>22</td><td>2016-02-11T20:46:04Z</td></tr><tr><td>8653</td><td>Tammy Davis</td><td>24</td><td>2016-03-09T10:48:14Z</td></tr><tr><td>8887</td><td>Austin Rodriguez</td><td>24</td><td>2016-03-31T20:56:39Z</td></tr><tr><td>7922</td><td>Denise Adams</td><td>21</td><td>2015-11-12T06:21:36Z</td></tr><tr><td>1014</td><td>Gregory Ramsey</td><td>56</td><td>2016-10-15T17:21:39Z</td></tr><tr><td>4913</td><td>Angela Brooks</td><td>24</td><td>2015-11-20T05:37:11Z</td></tr><tr><td>4137</td><td>Michael Decker</td><td>59</td><td>2017-06-29T22:35:17Z</td></tr><tr><td>7166</td><td>Alvin Adams</td><td>20</td><td>2016-01-01T13:50:40Z</td></tr><tr><td>9546</td><td>Alex Barnes</td><td>20</td><td>2016-02-27T21:13:44Z</td></tr><tr><td>2411</td><td>Aaron Bartlett</td><td>21</td><td>2015-11-24T02:15:36Z</td></tr><tr><td>9590</td><td>Amanda Allen</td><td>22</td><td>2015-10-24T18:56:30Z</td></tr><tr><td>2698</td><td>Kayla Burton</td><td>44</td><td>2017-06-21T19:53:27Z</td></tr><tr><td>4508</td><td>Michael Carter</td><td>58</td><td>2016-06-03T23:35:30Z</td></tr><tr><td>831</td><td>Aimee Collins</td><td>28</td><td>2016-06-16T02:06:38Z</td></tr><tr><td>5076</td><td>Christopher Butler</td><td>20</td><td>2015-12-01T15:08:31Z</td></tr><tr><td>10663</td><td>Julie Cox</td><td>23</td><td>2016-06-23T14:38:00Z</td></tr><tr><td>5468</td><td>Lisa Gamble</td><td>20</td><td>2016-07-23T20:51:06Z</td></tr><tr><td>205</td><td>Brett Bryant</td><td>20</td><td>2015-10-23T12:40:19Z</td></tr><tr><td>7790</td><td>Michelle Gutierrez</td><td>39</td><td>2017-07-19T07:12:04Z</td></tr><tr><td>8606</td><td>Denise Adams</td><td>21</td><td>2015-11-12T06:21:36Z</td></tr><tr><td>9759</td><td>Daniel Brooks</td><td>25</td><td>2015-11-19T21:24:33Z</td></tr><tr><td>719</td><td>Alicia Avila</td><td>20</td><td>2016-01-26T01:49:23Z</td></tr><tr><td>1704</td><td>Barry Lynn</td><td>20</td><td>2015-10-28T05:00:33Z</td></tr><tr><td>2482</td><td>David Moss</td><td>22</td><td>2016-03-01T07:11:48Z</td></tr><tr><td>8930</td><td>Andrew Anderson</td><td>23</td><td>2015-11-28T11:52:37Z</td></tr><tr><td>7294</td><td>Dawn Anderson</td><td>20</td><td>2016-12-31T00:06:36Z</td></tr><tr><td>7528</td><td>Abigail Ali</td><td>20</td><td>2015-10-24T11:23:51Z</td></tr><tr><td>2863</td><td>Dylan Holmes</td><td>32</td><td>2016-10-23T14:06:51Z</td></tr><tr><td>5730</td><td>Rachel Davis</td><td>36</td><td>2015-12-08T20:02:43Z</td></tr><tr><td>8304</td><td>Charles Berry</td><td>25</td><td>2015-12-28T04:21:39Z</td></tr><tr><td>8731</td><td>Andrea Alexander</td><td>21</td><td>2015-11-10T09:27:42Z</td></tr><tr><td>1313</td><td>Brittany Jones</td><td>32</td><td>2016-04-02T03:51:23Z</td></tr><tr><td>4315</td><td>Michelle Prince</td><td>36</td><td>2015-12-20T16:38:13Z</td></tr><tr><td>10794</td><td>Thomas Turner</td><td>34</td><td>2016-12-22T00:02:02Z</td></tr><tr><td>5494</td><td>Anne Allen</td><td>27</td><td>2015-12-16T15:20:05Z</td></tr><tr><td>5069</td><td>Amanda Ball</td><td>25</td><td>2016-01-13T17:36:30Z</td></tr><tr><td>2923</td><td>Brian Nelson</td><td>26</td><td>2015-11-11T03:20:57Z</td></tr><tr><td>3089</td><td>Abigail Ali</td><td>20</td><td>2015-10-24T11:23:51Z</td></tr><tr><td>6063</td><td>Corey Andrews</td><td>23</td><td>2015-11-25T13:36:22Z</td></tr><tr><td>3454</td><td>Robert Murphy</td><td>48</td><td>2017-09-26T16:31:56Z</td></tr><tr><td>7554</td><td>Cheryl Huerta</td><td>20</td><td>2017-04-11T16:35:33Z</td></tr><tr><td>6145</td><td>Emily Hawkins</td><td>30</td><td>2015-12-25T20:24:37Z</td></tr><tr><td>10625</td><td>Christian Lang</td><td>32</td><td>2017-10-10T20:09:33Z</td></tr><tr><td>2959</td><td>David Griffith</td><td>20</td><td>2016-01-07T19:49:22Z</td></tr><tr><td>9875</td><td>Brendan Joseph</td><td>26</td><td>2015-12-20T10:28:00Z</td></tr><tr><td>2418</td><td>Amanda Adams</td><td>20</td><td>2015-10-21T08:27:36Z</td></tr><tr><td>3156</td><td>Andrew Baker</td><td>22</td><td>2015-12-21T08:06:54Z</td></tr><tr><td>428</td><td>Claudia Adams</td><td>20</td><td>2015-11-28T02:20:29Z</td></tr><tr><td>7343</td><td>Anne Clayton</td><td>24</td><td>2016-01-11T12:03:48Z</td></tr><tr><td>2074</td><td>Annette Forbes</td><td>21</td><td>2016-01-03T15:42:12Z</td></tr><tr><td>9979</td><td>Kaylee Miller</td><td>31</td><td>2016-11-09T19:50:51Z</td></tr><tr><td>10138</td><td>Carol Silva</td><td>22</td><td>2015-12-31T14:57:02Z</td></tr><tr><td>9672</td><td>Jennifer Hudson</td><td>22</td><td>2016-02-11T20:46:04Z</td></tr><tr><td>8653</td><td>Tammy Davis</td><td>24</td><td>2016-03-09T10:48:14Z</td></tr><tr><td>8887</td><td>Austin Rodriguez</td><td>24</td><td>2016-03-31T20:56:39Z</td></tr><tr><td>7922</td><td>Denise Adams</td><td>21</td><td>2015-11-12T06:21:36Z</td></tr><tr><td>1014</td><td>Gregory Ramsey</td><td>56</td><td>2016-10-15T17:21:39Z</td></tr><tr><td>4913</td><td>Angela Brooks</td><td>24</td><td>2015-11-20T05:37:11Z</td></tr><tr><td>4137</td><td>Michael Decker</td><td>59</td><td>2017-06-29T22:35:17Z</td></tr><tr><td>7166</td><td>Alvin Adams</td><td>20</td><td>2016-01-01T13:50:40Z</td></tr><tr><td>9546</td><td>Alex Barnes</td><td>20</td><td>2016-02-27T21:13:44Z</td></tr><tr><td>2411</td><td>Aaron Bartlett</td><td>21</td><td>2015-11-24T02:15:36Z</td></tr><tr><td>9590</td><td>Amanda Allen</td><td>22</td><td>2015-10-24T18:56:30Z</td></tr><tr><td>2698</td><td>Kayla Burton</td><td>44</td><td>2017-06-21T19:53:27Z</td></tr><tr><td>4508</td><td>Michael Carter</td><td>58</td><td>2016-06-03T23:35:30Z</td></tr><tr><td>831</td><td>Aimee Collins</td><td>28</td><td>2016-06-16T02:06:38Z</td></tr><tr><td>5076</td><td>Christopher Butler</td><td>20</td><td>2015-12-01T15:08:31Z</td></tr><tr><td>10663</td><td>Julie Cox</td><td>23</td><td>2016-06-23T14:38:00Z</td></tr><tr><td>5468</td><td>Lisa Gamble</td><td>20</td><td>2016-07-23T20:51:06Z</td></tr><tr><td>205</td><td>Brett Bryant</td><td>20</td><td>2015-10-23T12:40:19Z</td></tr><tr><td>7790</td><td>Michelle Gutierrez</td><td>39</td><td>2017-07-19T07:12:04Z</td></tr><tr><td>8606</td><td>Denise Adams</td><td>21</td><td>2015-11-12T06:21:36Z</td></tr><tr><td>9759</td><td>Daniel Brooks</td><td>25</td><td>2015-11-19T21:24:33Z</td></tr><tr><td>719</td><td>Alicia Avila</td><td>20</td><td>2016-01-26T01:49:23Z</td></tr><tr><td>1704</td><td>Barry Lynn</td><td>20</td><td>2015-10-28T05:00:33Z</td></tr><tr><td>2482</td><td>David Moss</td><td>22</td><td>2016-03-01T07:11:48Z</td></tr><tr><td>8930</td><td>Andrew Anderson</td><td>23</td><td>2015-11-28T11:52:37Z</td></tr><tr><td>7294</td><td>Dawn Anderson</td><td>20</td><td>2016-12-31T00:06:36Z</td></tr><tr><td>808</td><td>Aaron Bartlett</td><td>21</td><td>2015-11-24T02:15:36Z</td></tr><tr><td>771</td><td>Brittany Butler</td><td>32</td><td>2016-03-10T04:11:31Z</td></tr><tr><td>4076</td><td>Larry Pineda</td><td>20</td><td>2015-10-23T22:47:39Z</td></tr><tr><td>1545</td><td>Jonathan Avila</td><td>46</td><td>2015-11-27T23:11:21Z</td></tr><tr><td>2293</td><td>Alex Bean</td><td>24</td><td>2016-01-11T23:08:27Z</td></tr><tr><td>10509</td><td>Brittany Thompson</td><td>49</td><td>2016-04-22T20:36:02Z</td></tr><tr><td>2015</td><td>Christopher Bradshaw</td><td>27</td><td>2016-03-08T13:38:37Z</td></tr><tr><td>1094</td><td>Ann Elliott</td><td>20</td><td>2016-07-02T02:32:30Z</td></tr><tr><td>603</td><td>Brandon Jackson</td><td>44</td><td>2016-10-29T02:07:21Z</td></tr><tr><td>7768</td><td>Christine Cortez</td><td>23</td><td>2015-12-01T18:15:02Z</td></tr><tr><td>5630</td><td>Carlos Estrada</td><td>22</td><td>2016-02-09T17:01:38Z</td></tr><tr><td>8578</td><td>Joe Pham</td><td>48</td><td>2017-06-01T23:13:27Z</td></tr><tr><td>9936</td><td>Anthony Cantu</td><td>28</td><td>2016-11-15T10:40:03Z</td></tr><tr><td>6844</td><td>Peter Roberts</td><td>30</td><td>2016-07-03T10:59:40Z</td></tr><tr><td>3419</td><td>Aaron Jenkins</td><td>47</td><td>2017-04-26T03:26:23Z</td></tr><tr><td>1268</td><td>Donna Campbell</td><td>32</td><td>2016-06-08T22:10:13Z</td></tr><tr><td>6566</td><td>Alexander Perez</td><td>31</td><td>2017-08-04T14:30:22Z</td></tr><tr><td>1555</td><td>Alexis Bennett</td><td>54</td><td>2016-05-15T04:22:01Z</td></tr><tr><td>3729</td><td>Richard Edwards</td><td>52</td><td>2016-02-07T20:00:25Z</td></tr><tr><td>6398</td><td>Christina Davenport</td><td>39</td><td>2016-06-29T20:43:59Z</td></tr><tr><td>46</td><td>Erik Kelley</td><td>30</td><td>2016-01-06T09:58:56Z</td></tr><tr><td>4988</td><td>Rhonda Durham</td><td>25</td><td>2017-07-20T05:51:23Z</td></tr><tr><td>427</td><td>Jon Burke</td><td>25</td><td>2015-11-26T17:42:37Z</td></tr><tr><td>3800</td><td>Adam Armstrong</td><td>20</td><td>2015-12-17T08:43:40Z</td></tr><tr><td>159</td><td>Alison Bell</td><td>21</td><td>2016-01-07T08:11:35Z</td></tr><tr><td>3599</td><td>Alexandria Alvarado</td><td>20</td><td>2015-10-23T04:13:23Z</td></tr><tr><td>10552</td><td>Michael Hunter</td><td>40</td><td>2017-05-16T07:09:21Z</td></tr><tr><td>1422</td><td>Aaron Abbott</td><td>20</td><td>2015-10-31T18:51:07Z</td></tr><tr><td>5309</td><td>Daniel Roy</td><td>31</td><td>2016-03-07T01:01:24Z</td></tr><tr><td>552</td><td>Regina Morales</td><td>20</td><td>2017-01-17T01:49:27Z</td></tr><tr><td>1371</td><td>Amanda Brown</td><td>20</td><td>2015-11-12T03:23:49Z</td></tr><tr><td>10119</td><td>Chelsea Gonzalez</td><td>43</td><td>2016-07-21T15:25:08Z</td></tr><tr><td>9074</td><td>Aaron Alexander</td><td>21</td><td>2015-10-25T07:36:08Z</td></tr><tr><td>2604</td><td>Ashley Evans</td><td>30</td><td>2016-02-21T12:54:01Z</td></tr><tr><td>223</td><td>Melanie Hill</td><td>51</td><td>2016-10-09T14:47:51Z</td></tr><tr><td>8312</td><td>Daniel Brooks</td><td>25</td><td>2015-11-19T21:24:33Z</td></tr><tr><td>2858</td><td>Anne Bond</td><td>21</td><td>2015-12-27T23:43:42Z</td></tr><tr><td>6261</td><td>Nicholas Hart</td><td>38</td><td>2015-10-26T09:45:45Z</td></tr><tr><td>3201</td><td>Elizabeth Terry</td><td>28</td><td>2016-01-29T20:32:05Z</td></tr><tr><td>2637</td><td>Shawn Jones</td><td>32</td><td>2016-08-23T20:36:12Z</td></tr><tr><td>1198</td><td>Ariana Gross</td><td>59</td><td>2016-12-17T11:10:48Z</td></tr><tr><td>10370</td><td>Derrick Kim</td><td>30</td><td>2016-12-21T13:39:14Z</td></tr><tr><td>7167</td><td>Dawn Bradley</td><td>20</td><td>2016-08-26T16:09:52Z</td></tr><tr><td>10673</td><td>Alexander Cervantes</td><td>59</td><td>2017-05-12T21:22:17Z</td></tr><tr><td>2060</td><td>Joshua Long</td><td>27</td><td>2016-12-18T10:11:23Z</td></tr><tr><td>9487</td><td>Jose Bailey</td><td>21</td><td>2016-01-10T09:41:14Z</td></tr><tr><td>772</td><td>Glenn Hammond</td><td>25</td><td>2016-04-27T02:59:27Z</td></tr><tr><td>7510</td><td>Debra Becker</td><td>20</td><td>2016-07-27T06:20:48Z</td></tr><tr><td>5758</td><td>Amanda Arnold</td><td>20</td><td>2015-10-26T23:04:52Z</td></tr><tr><td>1137</td><td>Virginia Vega</td><td>38</td><td>2017-05-03T03:08:33Z</td></tr><tr><td>7234</td><td>Angela Allen</td><td>20</td><td>2015-10-26T04:12:32Z</td></tr><tr><td>327</td><td>Jill Taylor</td><td>39</td><td>2015-12-04T03:15:28Z</td></tr><tr><td>7874</td><td>Aaron Abbott</td><td>20</td><td>2015-10-23T16:08:41Z</td></tr><tr><td>1450</td><td>Aaron Abbott</td><td>20</td><td>2015-10-31T18:51:07Z</td></tr><tr><td>10245</td><td>Julie Cook</td><td>34</td><td>2016-05-08T16:27:01Z</td></tr><tr><td>9093</td><td>Albert Adams</td><td>21</td><td>2015-11-05T22:07:56Z</td></tr><tr><td>2301</td><td>Karina Morton</td><td>31</td><td>2016-01-21T12:53:34Z</td></tr><tr><td>2788</td><td>Jesus Arellano</td><td>43</td><td>2016-03-22T15:45:21Z</td></tr><tr><td>9268</td><td>Alexander Bailey</td><td>20</td><td>2015-10-30T11:37:32Z</td></tr><tr><td>1706</td><td>Amy Adams</td><td>20</td><td>2015-10-24T05:05:28Z</td></tr><tr><td>5293</td><td>David Taylor</td><td>36</td><td>2016-06-03T23:53:50Z</td></tr><tr><td>7733</td><td>Aaron Abbott</td><td>20</td><td>2015-10-23T16:08:41Z</td></tr><tr><td>3716</td><td>Catherine Ferrell</td><td>21</td><td>2017-01-02T03:01:09Z</td></tr><tr><td>3750</td><td>Gary Barker</td><td>28</td><td>2015-11-26T11:23:50Z</td></tr><tr><td>232</td><td>Sarah Buchanan</td><td>33</td><td>2017-04-19T08:49:40Z</td></tr><tr><td>8300</td><td>Nathan Stanton</td><td>51</td><td>2017-08-14T08:26:30Z</td></tr><tr><td>8978</td><td>Mark Jones</td><td>34</td><td>2017-08-22T00:01:29Z</td></tr><tr><td>2048</td><td>Ann Chung</td><td>22</td><td>2015-11-18T23:11:15Z</td></tr><tr><td>10337</td><td>Carrie Parker</td><td>46</td><td>2016-09-11T22:32:50Z</td></tr><tr><td>7832</td><td>Samuel Hawkins</td><td>39</td><td>2016-06-30T02:56:06Z</td></tr><tr><td>8366</td><td>Justin Ewing</td><td>56</td><td>2016-02-04T23:27:36Z</td></tr><tr><td>3334</td><td>Amber Casey</td><td>23</td><td>2016-01-06T12:22:08Z</td></tr><tr><td>778</td><td>Christine Adams</td><td>31</td><td>2016-02-06T10:22:53Z</td></tr><tr><td>480</td><td>Timothy Sullivan</td><td>40</td><td>2017-01-12T08:37:12Z</td></tr><tr><td>3011</td><td>Justin Singleton</td><td>20</td><td>2017-03-10T19:53:44Z</td></tr><tr><td>9475</td><td>Jessica Mejia</td><td>40</td><td>2016-01-03T12:03:05Z</td></tr><tr><td>7586</td><td>Aaron Alexander</td><td>21</td><td>2015-10-25T07:36:08Z</td></tr><tr><td>1864</td><td>Alexander Adams</td><td>32</td><td>2015-10-28T15:48:24Z</td></tr><tr><td>6014</td><td>Mary Luna</td><td>22</td><td>2016-01-02T01:40:52Z</td></tr><tr><td>1967</td><td>Jay Flynn</td><td>24</td><td>2016-05-12T16:28:27Z</td></tr><tr><td>1699</td><td>Brandon Cummings</td><td>22</td><td>2016-05-11T01:36:00Z</td></tr><tr><td>4996</td><td>John Anderson</td><td>27</td><td>2016-03-03T07:28:39Z</td></tr><tr><td>10168</td><td>Nicole Gray</td><td>53</td><td>2016-02-20T13:03:00Z</td></tr><tr><td>5333</td><td>Aaron Clark</td><td>35</td><td>2016-11-19T22:36:49Z</td></tr><tr><td>2565</td><td>Anthony Adkins</td><td>21</td><td>2015-10-28T03:59:42Z</td></tr><tr><td>9778</td><td>Holly Campbell</td><td>30</td><td>2016-07-08T19:10:37Z</td></tr><tr><td>3145</td><td>Crystal Schmidt</td><td>22</td><td>2017-04-14T13:57:52Z</td></tr><tr><td>1341</td><td>Abigail Ali</td><td>20</td><td>2015-10-24T11:23:51Z</td></tr><tr><td>5162</td><td>James Jacobson</td><td>28</td><td>2017-04-30T16:41:26Z</td></tr><tr><td>5151</td><td>Mary Jordan</td><td>26</td><td>2017-06-12T16:02:59Z</td></tr><tr><td>2498</td><td>Jeremy Chase</td><td>50</td><td>2017-07-31T16:56:52Z</td></tr><tr><td>7268</td><td>Alejandra Acevedo</td><td>20</td><td>2015-11-24T21:01:23Z</td></tr><tr><td>3351</td><td>Eric Taylor</td><td>39</td><td>2017-04-04T06:05:03Z</td></tr><tr><td>7738</td><td>Alexis George</td><td>34</td><td>2016-02-26T00:38:01Z</td></tr><tr><td>8886</td><td>Abigail Bates</td><td>20</td><td>2015-11-07T20:59:32Z</td></tr><tr><td>5742</td><td>Barbara Edwards</td><td>24</td><td>2016-01-09T19:37:29Z</td></tr><tr><td>1362</td><td>Nancy Case</td><td>23</td><td>2016-02-18T08:44:33Z</td></tr><tr><td>995</td><td>Jason Horne</td><td>27</td><td>2016-02-06T15:31:57Z</td></tr><tr><td>6250</td><td>Lydia Nelson</td><td>59</td><td>2016-09-06T06:21:57Z</td></tr><tr><td>3184</td><td>Allison Dawson</td><td>35</td><td>2016-02-04T14:45:39Z</td></tr><tr><td>2955</td><td>Kevin Young</td><td>58</td><td>2016-09-18T07:28:19Z</td></tr><tr><td>4357</td><td>Allison Adams</td><td>22</td><td>2015-11-30T10:51:59Z</td></tr><tr><td>3563</td><td>Gerald Davis</td><td>55</td><td>2017-08-11T14:24:41Z</td></tr><tr><td>6558</td><td>Gary Tanner</td><td>43</td><td>2016-11-29T22:22:47Z</td></tr><tr><td>4256</td><td>Alexandria Alvarado</td><td>20</td><td>2015-10-23T04:13:23Z</td></tr><tr><td>450</td><td>Amanda Benitez</td><td>21</td><td>2015-11-01T09:16:18Z</td></tr><tr><td>3945</td><td>Beth Johnson</td><td>30</td><td>2015-11-29T15:45:13Z</td></tr><tr><td>859</td><td>Scott Page</td><td>44</td><td>2015-10-31T14:35:30Z</td></tr><tr><td>1521</td><td>Mindy Garrison</td><td>29</td><td>2016-02-18T23:18:39Z</td></tr><tr><td>1961</td><td>Adrienne Barrett</td><td>22</td><td>2015-11-04T15:48:14Z</td></tr><tr><td>10099</td><td>Amanda Carlson</td><td>21</td><td>2015-11-23T09:01:37Z</td></tr><tr><td>6066</td><td>Angela Flores</td><td>28</td><td>2015-10-29T08:51:34Z</td></tr><tr><td>10837</td><td>Mark Richardson</td><td>55</td><td>2015-11-18T05:46:35Z</td></tr><tr><td>6615</td><td>Barry West</td><td>44</td><td>2016-08-13T21:13:14Z</td></tr><tr><td>7641</td><td>Aaron Anderson</td><td>21</td><td>2015-10-24T05:35:27Z</td></tr><tr><td>640</td><td>Aaron Anderson</td><td>21</td><td>2015-10-24T05:35:27Z</td></tr><tr><td>8174</td><td>Andrew Brown</td><td>25</td><td>2016-03-26T04:30:23Z</td></tr><tr><td>1216</td><td>Juan Cortez</td><td>20</td><td>2016-04-07T13:02:08Z</td></tr><tr><td>680</td><td>Diana Ballard</td><td>23</td><td>2017-01-12T11:17:31Z</td></tr><tr><td>9527</td><td>Vernon Brown</td><td>55</td><td>2017-08-04T01:04:25Z</td></tr><tr><td>9426</td><td>Nicholas Mcdaniel</td><td>45</td><td>2017-05-24T01:41:26Z</td></tr><tr><td>8745</td><td>Grant Villanueva</td><td>53</td><td>2016-02-14T19:17:10Z</td></tr><tr><td>5959</td><td>Jason Brooks</td><td>28</td><td>2015-12-21T00:33:51Z</td></tr><tr><td>2577</td><td>Amy Adams</td><td>20</td><td>2015-10-24T05:05:28Z</td></tr><tr><td>3008</td><td>Scott Houston</td><td>58</td><td>2016-10-22T16:08:50Z</td></tr><tr><td>8081</td><td>Carmen Taylor</td><td>40</td><td>2016-08-02T19:06:12Z</td></tr><tr><td>10120</td><td>Jacob Baird</td><td>24</td><td>2016-02-25T08:52:45Z</td></tr><tr><td>4045</td><td>Amanda Allen</td><td>21</td><td>2015-11-16T23:15:00Z</td></tr><tr><td>1599</td><td>Linda Rojas</td><td>42</td><td>2017-01-31T05:08:14Z</td></tr><tr><td>2893</td><td>Nancy Choi</td><td>50</td><td>2016-07-27T16:22:59Z</td></tr><tr><td>4024</td><td>Adam Armstrong</td><td>20</td><td>2015-12-17T08:43:40Z</td></tr><tr><td>310</td><td>Amanda Benitez</td><td>21</td><td>2015-11-01T09:16:18Z</td></tr><tr><td>7905</td><td>Anthony Duncan</td><td>47</td><td>2016-01-01T03:57:19Z</td></tr><tr><td>5488</td><td>Heather Edwards</td><td>33</td><td>2016-01-16T18:25:10Z</td></tr><tr><td>744</td><td>Brian Lloyd</td><td>38</td><td>2016-12-15T07:06:03Z</td></tr><tr><td>7801</td><td>Nancy Clay</td><td>36</td><td>2016-01-12T18:33:12Z</td></tr><tr><td>5620</td><td>Daniel Anderson</td><td>20</td><td>2017-02-10T13:39:15Z</td></tr><tr><td>8341</td><td>Amber Robinson</td><td>31</td><td>2016-09-05T14:41:44Z</td></tr><tr><td>10022</td><td>Alyssa Greene</td><td>50</td><td>2017-05-03T07:29:04Z</td></tr><tr><td>6134</td><td>Jacob Baker</td><td>33</td><td>2015-11-29T07:33:20Z</td></tr><tr><td>3824</td><td>Aaron Berry</td><td>28</td><td>2016-04-12T03:40:13Z</td></tr><tr><td>7116</td><td>Michael Mcconnell</td><td>59</td><td>2017-06-01T10:55:10Z</td></tr><tr><td>74</td><td>Amanda Benitez</td><td>21</td><td>2015-11-01T09:16:18Z</td></tr><tr><td>1335</td><td>Benjamin Campbell</td><td>20</td><td>2015-11-16T13:25:08Z</td></tr><tr><td>4513</td><td>Charlotte Pitts</td><td>60</td><td>2017-07-18T11:50:18Z</td></tr><tr><td>7850</td><td>Joseph Kelly</td><td>44</td><td>2017-09-28T16:41:00Z</td></tr><tr><td>10248</td><td>Elizabeth English</td><td>25</td><td>2016-08-19T02:29:26Z</td></tr><tr><td>8123</td><td>Courtney Chung</td><td>46</td><td>2016-05-11T23:09:30Z</td></tr><tr><td>2987</td><td>Charles Robinson</td><td>41</td><td>2015-12-22T01:36:15Z</td></tr><tr><td>1487</td><td>Jonathan Rodriguez</td><td>30</td><td>2016-09-05T12:31:44Z</td></tr><tr><td>10052</td><td>Jamie Bryant</td><td>20</td><td>2017-06-17T20:00:37Z</td></tr><tr><td>8677</td><td>Amy Brown</td><td>21</td><td>2015-11-08T16:14:16Z</td></tr><tr><td>5551</td><td>Christina Haas</td><td>25</td><td>2016-02-14T18:52:16Z</td></tr><tr><td>6652</td><td>Heather Arellano</td><td>23</td><td>2016-01-02T03:36:30Z</td></tr><tr><td>6479</td><td>Debra Morse</td><td>48</td><td>2016-09-12T23:54:34Z</td></tr><tr><td>6660</td><td>Maria Davidson</td><td>28</td><td>2016-04-22T05:55:48Z</td></tr><tr><td>9218</td><td>April Barr</td><td>26</td><td>2016-02-06T19:00:11Z</td></tr><tr><td>4055</td><td>Grant George</td><td>27</td><td>2015-11-11T01:45:05Z</td></tr><tr><td>7370</td><td>James Keith</td><td>42</td><td>2017-07-02T17:25:18Z</td></tr><tr><td>25</td><td>Amber Gray</td><td>24</td><td>2017-07-01T07:56:15Z</td></tr><tr><td>6939</td><td>Erin Thompson</td><td>35</td><td>2016-10-21T03:38:15Z</td></tr><tr><td>7383</td><td>Dawn Bradley</td><td>20</td><td>2016-08-26T16:09:52Z</td></tr><tr><td>3240</td><td>April Brown</td><td>20</td><td>2016-04-10T02:39:57Z</td></tr><tr><td>8015</td><td>Danielle Klein</td><td>38</td><td>2016-04-11T08:54:04Z</td></tr><tr><td>7745</td><td>Aaron Abbott</td><td>20</td><td>2015-10-23T16:08:41Z</td></tr><tr><td>3360</td><td>Amber Casey</td><td>23</td><td>2016-01-06T12:22:08Z</td></tr><tr><td>6380</td><td>Matthew Newman</td><td>41</td><td>2016-04-03T05:17:47Z</td></tr><tr><td>409</td><td>Alfred Chen</td><td>24</td><td>2016-07-01T16:11:59Z</td></tr><tr><td>1814</td><td>Brian Hansen</td><td>31</td><td>2016-01-30T13:25:52Z</td></tr><tr><td>2343</td><td>James Graves</td><td>43</td><td>2016-01-21T09:41:10Z</td></tr><tr><td>7759</td><td>Aaron Alexander</td><td>21</td><td>2015-10-25T07:36:08Z</td></tr><tr><td>6717</td><td>Elizabeth Green</td><td>20</td><td>2016-06-21T10:08:09Z</td></tr><tr><td>4862</td><td>Jacob Castro</td><td>23</td><td>2016-10-03T21:44:53Z</td></tr><tr><td>6299</td><td>Jeffrey Gordon</td><td>57</td><td>2017-01-06T20:27:48Z</td></tr><tr><td>9425</td><td>Katrina Fischer</td><td>47</td><td>2017-05-10T22:51:14Z</td></tr><tr><td>1901</td><td>Michelle Richardson</td><td>44</td><td>2016-12-18T16:05:39Z</td></tr><tr><td>527</td><td>Carlos Dixon</td><td>24</td><td>2015-11-09T03:47:45Z</td></tr><tr><td>334</td><td>Cindy Morales</td><td>43</td><td>2016-09-01T18:15:56Z</td></tr><tr><td>6348</td><td>Mark Brown</td><td>23</td><td>2016-07-24T20:27:24Z</td></tr><tr><td>3626</td><td>Amanda Allen</td><td>21</td><td>2015-11-16T23:15:00Z</td></tr><tr><td>1857</td><td>Christopher Hamilton</td><td>48</td><td>2016-02-27T16:57:44Z</td></tr><tr><td>3660</td><td>Adrian Jackson</td><td>28</td><td>2016-04-30T10:03:19Z</td></tr><tr><td>4377</td><td>Samuel Thompson</td><td>24</td><td>2017-04-08T10:18:26Z</td></tr><tr><td>8505</td><td>Sandra Humphrey</td><td>41</td><td>2017-04-16T22:40:56Z</td></tr><tr><td>10087</td><td>Danny Ramsey</td><td>22</td><td>2016-07-03T13:53:31Z</td></tr><tr><td>10050</td><td>Carla Arnold</td><td>34</td><td>2015-12-20T18:05:14Z</td></tr><tr><td>10917</td><td>Valerie Rodriguez</td><td>31</td><td>2016-07-30T01:45:47Z</td></tr><tr><td>5737</td><td>Alexis Bell</td><td>20</td><td>2015-11-23T06:34:47Z</td></tr><tr><td>4561</td><td>Madeline Brown</td><td>43</td><td>2016-11-11T15:53:15Z</td></tr><tr><td>6916</td><td>Steven Dixon</td><td>44</td><td>2016-10-17T08:09:28Z</td></tr><tr><td>6341</td><td>Barbara Duran</td><td>22</td><td>2016-11-07T11:01:26Z</td></tr><tr><td>4765</td><td>Danielle Gonzalez</td><td>36</td><td>2017-02-16T16:01:34Z</td></tr><tr><td>10425</td><td>Andrea Carroll</td><td>20</td><td>2016-01-21T03:54:20Z</td></tr><tr><td>10783</td><td>Jane Aguilar</td><td>32</td><td>2016-03-02T01:25:48Z</td></tr><tr><td>6747</td><td>Matthew Simon</td><td>58</td><td>2017-06-17T04:42:14Z</td></tr><tr><td>7180</td><td>Shannon Melton</td><td>26</td><td>2017-06-07T23:07:30Z</td></tr><tr><td>8100</td><td>Aaron Abbott</td><td>20</td><td>2015-10-23T16:08:41Z</td></tr><tr><td>4781</td><td>Cynthia Guerra</td><td>29</td><td>2016-12-25T23:51:01Z</td></tr><tr><td>1254</td><td>Patricia Harvey</td><td>41</td><td>2017-09-25T07:22:09Z</td></tr><tr><td>2011</td><td>Adam Anderson</td><td>34</td><td>2016-03-14T20:42:08Z</td></tr><tr><td>3436</td><td>Charles Johnson</td><td>25</td><td>2015-12-07T02:19:50Z</td></tr><tr><td>4424</td><td>Aaron Buchanan</td><td>23</td><td>2016-01-17T21:06:05Z</td></tr><tr><td>649</td><td>Jill Gilmore</td><td>29</td><td>2017-01-13T08:26:21Z</td></tr><tr><td>8645</td><td>Alexander Clark</td><td>21</td><td>2016-02-16T17:03:44Z</td></tr><tr><td>5647</td><td>Calvin Atkins</td><td>27</td><td>2016-08-31T20:20:25Z</td></tr><tr><td>5704</td><td>David Craig</td><td>30</td><td>2016-01-30T06:09:57Z</td></tr><tr><td>10734</td><td>Jennifer Arellano</td><td>28</td><td>2015-12-18T10:50:10Z</td></tr><tr><td>4027</td><td>Alexander Bailey</td><td>20</td><td>2015-12-05T21:04:46Z</td></tr><tr><td>8488</td><td>Andrew Anderson</td><td>23</td><td>2015-11-28T11:52:37Z</td></tr><tr><td>5166</td><td>Amy Caldwell</td><td>33</td><td>2015-11-12T14:10:39Z</td></tr><tr><td>5130</td><td>Linda Blackwell</td><td>20</td><td>2015-12-11T03:23:37Z</td></tr><tr><td>1675</td><td>Barbara Ford</td><td>50</td><td>2015-12-30T08:56:15Z</td></tr><tr><td>10931</td><td>Aaron Bailey</td><td>20</td><td>2015-11-02T04:40:42Z</td></tr><tr><td>7240</td><td>Abigail Ali</td><td>20</td><td>2015-10-24T11:23:51Z</td></tr><tr><td>3831</td><td>Alexandria Alvarado</td><td>20</td><td>2015-10-23T04:13:23Z</td></tr><tr><td>5527</td><td>Brian Herman</td><td>32</td><td>2016-02-19T01:20:00Z</td></tr><tr><td>6496</td><td>Cindy Bennett</td><td>26</td><td>2016-01-03T06:10:45Z</td></tr><tr><td>7670</td><td>Aaron Abbott</td><td>20</td><td>2015-10-23T16:08:41Z</td></tr><tr><td>6602</td><td>Alexandria Anderson</td><td>23</td><td>2015-10-31T19:20:09Z</td></tr><tr><td>10804</td><td>Stacy May</td><td>58</td><td>2016-06-21T11:33:31Z</td></tr><tr><td>10371</td><td>Lori Campos</td><td>48</td><td>2016-04-26T11:49:56Z</td></tr><tr><td>10160</td><td>Cameron Medina</td><td>20</td><td>2016-06-02T03:51:43Z</td></tr><tr><td>4654</td><td>Nathan Howard</td><td>37</td><td>2016-03-06T21:35:04Z</td></tr><tr><td>7940</td><td>Andrew Arnold</td><td>21</td><td>2015-12-02T08:29:10Z</td></tr><tr><td>9198</td><td>Amber Chen</td><td>22</td><td>2015-12-30T05:21:14Z</td></tr><tr><td>9475</td><td>Jessica Mejia</td><td>40</td><td>2016-01-03T12:03:05Z</td></tr><tr><td>501</td><td>Adam Acosta</td><td>20</td><td>2015-10-21T21:26:45Z</td></tr><tr><td>10204</td><td>Heather Gonzalez</td><td>41</td><td>2016-06-14T11:16:18Z</td></tr><tr><td>9185</td><td>Scott Copeland</td><td>25</td><td>2017-10-18T06:45:02Z</td></tr><tr><td>7896</td><td>Andrew Alvarez</td><td>21</td><td>2015-11-10T12:55:13Z</td></tr><tr><td>8448</td><td>Joseph Church</td><td>31</td><td>2017-04-29T03:22:38Z</td></tr><tr><td>456</td><td>Amber Cervantes</td><td>25</td><td>2016-05-09T16:38:08Z</td></tr><tr><td>2315</td><td>Ashley Briggs</td><td>38</td><td>2015-11-15T16:53:09Z</td></tr><tr><td>9734</td><td>Jennifer Kaiser</td><td>30</td><td>2015-11-24T03:29:52Z</td></tr><tr><td>5724</td><td>Matthew Walker</td><td>57</td><td>2015-12-07T08:51:53Z</td></tr><tr><td>6976</td><td>Andrea Beasley</td><td>23</td><td>2015-11-10T10:26:14Z</td></tr><tr><td>9502</td><td>Brian Barnes</td><td>29</td><td>2015-11-01T23:09:37Z</td></tr><tr><td>2048</td><td>Ann Chung</td><td>22</td><td>2015-11-18T23:11:15Z</td></tr><tr><td>1341</td><td>Abigail Ali</td><td>20</td><td>2015-10-24T11:23:51Z</td></tr><tr><td>2553</td><td>Bonnie Estrada</td><td>30</td><td>2015-10-21T07:31:00Z</td></tr><tr><td>2810</td><td>Brandi Cervantes</td><td>35</td><td>2016-05-31T01:40:44Z</td></tr><tr><td>9155</td><td>Aaron Alexander</td><td>21</td><td>2015-10-25T07:36:08Z</td></tr><tr><td>7448</td><td>Brenda Gonzalez</td><td>56</td><td>2015-12-07T11:53:35Z</td></tr><tr><td>1173</td><td>Dana Jackson</td><td>57</td><td>2016-06-05T21:37:09Z</td></tr><tr><td>1631</td><td>Lauren Powell</td><td>30</td><td>2016-05-22T08:40:37Z</td></tr><tr><td>8090</td><td>Aaron Abbott</td><td>20</td><td>2015-10-23T16:08:41Z</td></tr><tr><td>7511</td><td>Sarah Valenzuela</td><td>54</td><td>2016-12-08T15:53:57Z</td></tr><tr><td>8996</td><td>Aaron Alexander</td><td>21</td><td>2015-10-25T07:36:08Z</td></tr><tr><td>9335</td><td>Amanda Adams</td><td>20</td><td>2015-10-21T08:27:36Z</td></tr><tr><td>1139</td><td>Jeffrey Smith</td><td>30</td><td>2016-10-26T06:53:14Z</td></tr><tr><td>7437</td><td>Alvin Adams</td><td>20</td><td>2016-01-01T13:50:40Z</td></tr><tr><td>5198</td><td>James Sharp</td><td>23</td><td>2016-10-21T08:22:24Z</td></tr><tr><td>9407</td><td>Amy Andrews</td><td>23</td><td>2015-10-29T19:12:55Z</td></tr><tr><td>8926</td><td>Tyler Davis</td><td>27</td><td>2016-06-14T18:48:59Z</td></tr><tr><td>8592</td><td>Alicia Benjamin</td><td>27</td><td>2015-12-10T18:40:42Z</td></tr><tr><td>1503</td><td>Anthony Bryan</td><td>22</td><td>2015-10-24T15:35:59Z</td></tr><tr><td>7162</td><td>Alan Davis</td><td>34</td><td>2016-04-25T01:45:51Z</td></tr><tr><td>4780</td><td>Kristina King</td><td>34</td><td>2015-12-17T06:10:31Z</td></tr><tr><td>10020</td><td>Christopher Hawkins</td><td>45</td><td>2016-09-15T06:02:53Z</td></tr><tr><td>365</td><td>Kevin Torres</td><td>51</td><td>2016-08-07T18:45:21Z</td></tr><tr><td>2975</td><td>Debbie Crawford</td><td>23</td><td>2016-04-04T04:03:32Z</td></tr><tr><td>6865</td><td>Monica Hernandez</td><td>33</td><td>2016-04-01T13:54:42Z</td></tr><tr><td>10538</td><td>Jordan Grant</td><td>42</td><td>2016-07-29T00:56:59Z</td></tr><tr><td>4249</td><td>Alexandria Alvarado</td><td>20</td><td>2015-10-23T04:13:23Z</td></tr><tr><td>1514</td><td>Michael Perkins</td><td>40</td><td>2017-06-28T16:17:39Z</td></tr><tr><td>7467</td><td>Donna Carroll</td><td>21</td><td>2016-02-02T12:25:05Z</td></tr><tr><td>10029</td><td>Anthony Baker</td><td>20</td><td>2015-11-14T19:24:56Z</td></tr><tr><td>3813</td><td>James Green</td><td>47</td><td>2016-04-27T16:02:10Z</td></tr><tr><td>637</td><td>Alexis Carrillo</td><td>24</td><td>2016-01-03T01:10:04Z</td></tr><tr><td>9270</td><td>Amy Brown</td><td>21</td><td>2015-11-08T16:14:16Z</td></tr><tr><td>1667</td><td>Bernard Arnold</td><td>21</td><td>2015-12-12T01:39:29Z</td></tr><tr><td>3032</td><td>Anthony Chen</td><td>24</td><td>2016-06-15T12:49:30Z</td></tr><tr><td>4</td><td>Adam Acosta</td><td>20</td><td>2015-10-21T21:26:45Z</td></tr><tr><td>6809</td><td>Andrea Carroll</td><td>20</td><td>2016-01-21T03:54:20Z</td></tr><tr><td>10883</td><td>Carl Hampton</td><td>25</td><td>2015-11-26T03:43:03Z</td></tr></tbody></table>Showing the first 1000 rows.</div>"
      ]
     },
     "metadata": {
      "application/vnd.databricks.v1+output": {
       "addedWidgets": {},
       "aggData": [],
       "aggError": "",
       "aggOverflow": false,
       "aggSchema": [],
       "aggSeriesLimitReached": false,
       "aggType": "",
       "arguments": {},
       "columnCustomDisplayInfos": {},
       "data": [
        [
         7528,
         "Abigail Ali",
         20,
         "2015-10-24T11:23:51Z"
        ],
        [
         2863,
         "Dylan Holmes",
         32,
         "2016-10-23T14:06:51Z"
        ],
        [
         5730,
         "Rachel Davis",
         36,
         "2015-12-08T20:02:43Z"
        ],
        [
         8304,
         "Charles Berry",
         25,
         "2015-12-28T04:21:39Z"
        ],
        [
         8731,
         "Andrea Alexander",
         21,
         "2015-11-10T09:27:42Z"
        ],
        [
         1313,
         "Brittany Jones",
         32,
         "2016-04-02T03:51:23Z"
        ],
        [
         4315,
         "Michelle Prince",
         36,
         "2015-12-20T16:38:13Z"
        ],
        [
         10794,
         "Thomas Turner",
         34,
         "2016-12-22T00:02:02Z"
        ],
        [
         5494,
         "Anne Allen",
         27,
         "2015-12-16T15:20:05Z"
        ],
        [
         5069,
         "Amanda Ball",
         25,
         "2016-01-13T17:36:30Z"
        ],
        [
         2923,
         "Brian Nelson",
         26,
         "2015-11-11T03:20:57Z"
        ],
        [
         3089,
         "Abigail Ali",
         20,
         "2015-10-24T11:23:51Z"
        ],
        [
         6063,
         "Corey Andrews",
         23,
         "2015-11-25T13:36:22Z"
        ],
        [
         3454,
         "Robert Murphy",
         48,
         "2017-09-26T16:31:56Z"
        ],
        [
         7554,
         "Cheryl Huerta",
         20,
         "2017-04-11T16:35:33Z"
        ],
        [
         6145,
         "Emily Hawkins",
         30,
         "2015-12-25T20:24:37Z"
        ],
        [
         10625,
         "Christian Lang",
         32,
         "2017-10-10T20:09:33Z"
        ],
        [
         2959,
         "David Griffith",
         20,
         "2016-01-07T19:49:22Z"
        ],
        [
         9875,
         "Brendan Joseph",
         26,
         "2015-12-20T10:28:00Z"
        ],
        [
         2418,
         "Amanda Adams",
         20,
         "2015-10-21T08:27:36Z"
        ],
        [
         3156,
         "Andrew Baker",
         22,
         "2015-12-21T08:06:54Z"
        ],
        [
         428,
         "Claudia Adams",
         20,
         "2015-11-28T02:20:29Z"
        ],
        [
         7343,
         "Anne Clayton",
         24,
         "2016-01-11T12:03:48Z"
        ],
        [
         2074,
         "Annette Forbes",
         21,
         "2016-01-03T15:42:12Z"
        ],
        [
         9979,
         "Kaylee Miller",
         31,
         "2016-11-09T19:50:51Z"
        ],
        [
         10138,
         "Carol Silva",
         22,
         "2015-12-31T14:57:02Z"
        ],
        [
         9672,
         "Jennifer Hudson",
         22,
         "2016-02-11T20:46:04Z"
        ],
        [
         8653,
         "Tammy Davis",
         24,
         "2016-03-09T10:48:14Z"
        ],
        [
         8887,
         "Austin Rodriguez",
         24,
         "2016-03-31T20:56:39Z"
        ],
        [
         7922,
         "Denise Adams",
         21,
         "2015-11-12T06:21:36Z"
        ],
        [
         1014,
         "Gregory Ramsey",
         56,
         "2016-10-15T17:21:39Z"
        ],
        [
         4913,
         "Angela Brooks",
         24,
         "2015-11-20T05:37:11Z"
        ],
        [
         4137,
         "Michael Decker",
         59,
         "2017-06-29T22:35:17Z"
        ],
        [
         7166,
         "Alvin Adams",
         20,
         "2016-01-01T13:50:40Z"
        ],
        [
         9546,
         "Alex Barnes",
         20,
         "2016-02-27T21:13:44Z"
        ],
        [
         2411,
         "Aaron Bartlett",
         21,
         "2015-11-24T02:15:36Z"
        ],
        [
         9590,
         "Amanda Allen",
         22,
         "2015-10-24T18:56:30Z"
        ],
        [
         2698,
         "Kayla Burton",
         44,
         "2017-06-21T19:53:27Z"
        ],
        [
         4508,
         "Michael Carter",
         58,
         "2016-06-03T23:35:30Z"
        ],
        [
         831,
         "Aimee Collins",
         28,
         "2016-06-16T02:06:38Z"
        ],
        [
         5076,
         "Christopher Butler",
         20,
         "2015-12-01T15:08:31Z"
        ],
        [
         10663,
         "Julie Cox",
         23,
         "2016-06-23T14:38:00Z"
        ],
        [
         5468,
         "Lisa Gamble",
         20,
         "2016-07-23T20:51:06Z"
        ],
        [
         205,
         "Brett Bryant",
         20,
         "2015-10-23T12:40:19Z"
        ],
        [
         7790,
         "Michelle Gutierrez",
         39,
         "2017-07-19T07:12:04Z"
        ],
        [
         8606,
         "Denise Adams",
         21,
         "2015-11-12T06:21:36Z"
        ],
        [
         9759,
         "Daniel Brooks",
         25,
         "2015-11-19T21:24:33Z"
        ],
        [
         719,
         "Alicia Avila",
         20,
         "2016-01-26T01:49:23Z"
        ],
        [
         1704,
         "Barry Lynn",
         20,
         "2015-10-28T05:00:33Z"
        ],
        [
         2482,
         "David Moss",
         22,
         "2016-03-01T07:11:48Z"
        ],
        [
         8930,
         "Andrew Anderson",
         23,
         "2015-11-28T11:52:37Z"
        ],
        [
         7294,
         "Dawn Anderson",
         20,
         "2016-12-31T00:06:36Z"
        ],
        [
         808,
         "Aaron Bartlett",
         21,
         "2015-11-24T02:15:36Z"
        ],
        [
         771,
         "Brittany Butler",
         32,
         "2016-03-10T04:11:31Z"
        ],
        [
         4076,
         "Larry Pineda",
         20,
         "2015-10-23T22:47:39Z"
        ],
        [
         1545,
         "Jonathan Avila",
         46,
         "2015-11-27T23:11:21Z"
        ],
        [
         2293,
         "Alex Bean",
         24,
         "2016-01-11T23:08:27Z"
        ],
        [
         10509,
         "Brittany Thompson",
         49,
         "2016-04-22T20:36:02Z"
        ],
        [
         2015,
         "Christopher Bradshaw",
         27,
         "2016-03-08T13:38:37Z"
        ],
        [
         1094,
         "Ann Elliott",
         20,
         "2016-07-02T02:32:30Z"
        ],
        [
         603,
         "Brandon Jackson",
         44,
         "2016-10-29T02:07:21Z"
        ],
        [
         7768,
         "Christine Cortez",
         23,
         "2015-12-01T18:15:02Z"
        ],
        [
         5630,
         "Carlos Estrada",
         22,
         "2016-02-09T17:01:38Z"
        ],
        [
         8578,
         "Joe Pham",
         48,
         "2017-06-01T23:13:27Z"
        ],
        [
         9936,
         "Anthony Cantu",
         28,
         "2016-11-15T10:40:03Z"
        ],
        [
         6844,
         "Peter Roberts",
         30,
         "2016-07-03T10:59:40Z"
        ],
        [
         3419,
         "Aaron Jenkins",
         47,
         "2017-04-26T03:26:23Z"
        ],
        [
         1268,
         "Donna Campbell",
         32,
         "2016-06-08T22:10:13Z"
        ],
        [
         6566,
         "Alexander Perez",
         31,
         "2017-08-04T14:30:22Z"
        ],
        [
         1555,
         "Alexis Bennett",
         54,
         "2016-05-15T04:22:01Z"
        ],
        [
         3729,
         "Richard Edwards",
         52,
         "2016-02-07T20:00:25Z"
        ],
        [
         6398,
         "Christina Davenport",
         39,
         "2016-06-29T20:43:59Z"
        ],
        [
         46,
         "Erik Kelley",
         30,
         "2016-01-06T09:58:56Z"
        ],
        [
         4988,
         "Rhonda Durham",
         25,
         "2017-07-20T05:51:23Z"
        ],
        [
         427,
         "Jon Burke",
         25,
         "2015-11-26T17:42:37Z"
        ],
        [
         3800,
         "Adam Armstrong",
         20,
         "2015-12-17T08:43:40Z"
        ],
        [
         159,
         "Alison Bell",
         21,
         "2016-01-07T08:11:35Z"
        ],
        [
         3599,
         "Alexandria Alvarado",
         20,
         "2015-10-23T04:13:23Z"
        ],
        [
         10552,
         "Michael Hunter",
         40,
         "2017-05-16T07:09:21Z"
        ],
        [
         1422,
         "Aaron Abbott",
         20,
         "2015-10-31T18:51:07Z"
        ],
        [
         5309,
         "Daniel Roy",
         31,
         "2016-03-07T01:01:24Z"
        ],
        [
         552,
         "Regina Morales",
         20,
         "2017-01-17T01:49:27Z"
        ],
        [
         1371,
         "Amanda Brown",
         20,
         "2015-11-12T03:23:49Z"
        ],
        [
         10119,
         "Chelsea Gonzalez",
         43,
         "2016-07-21T15:25:08Z"
        ],
        [
         9074,
         "Aaron Alexander",
         21,
         "2015-10-25T07:36:08Z"
        ],
        [
         2604,
         "Ashley Evans",
         30,
         "2016-02-21T12:54:01Z"
        ],
        [
         223,
         "Melanie Hill",
         51,
         "2016-10-09T14:47:51Z"
        ],
        [
         8312,
         "Daniel Brooks",
         25,
         "2015-11-19T21:24:33Z"
        ],
        [
         2858,
         "Anne Bond",
         21,
         "2015-12-27T23:43:42Z"
        ],
        [
         6261,
         "Nicholas Hart",
         38,
         "2015-10-26T09:45:45Z"
        ],
        [
         3201,
         "Elizabeth Terry",
         28,
         "2016-01-29T20:32:05Z"
        ],
        [
         2637,
         "Shawn Jones",
         32,
         "2016-08-23T20:36:12Z"
        ],
        [
         1198,
         "Ariana Gross",
         59,
         "2016-12-17T11:10:48Z"
        ],
        [
         10370,
         "Derrick Kim",
         30,
         "2016-12-21T13:39:14Z"
        ],
        [
         7167,
         "Dawn Bradley",
         20,
         "2016-08-26T16:09:52Z"
        ],
        [
         10673,
         "Alexander Cervantes",
         59,
         "2017-05-12T21:22:17Z"
        ],
        [
         2060,
         "Joshua Long",
         27,
         "2016-12-18T10:11:23Z"
        ],
        [
         9487,
         "Jose Bailey",
         21,
         "2016-01-10T09:41:14Z"
        ],
        [
         772,
         "Glenn Hammond",
         25,
         "2016-04-27T02:59:27Z"
        ],
        [
         7510,
         "Debra Becker",
         20,
         "2016-07-27T06:20:48Z"
        ],
        [
         5758,
         "Amanda Arnold",
         20,
         "2015-10-26T23:04:52Z"
        ],
        [
         1137,
         "Virginia Vega",
         38,
         "2017-05-03T03:08:33Z"
        ],
        [
         7234,
         "Angela Allen",
         20,
         "2015-10-26T04:12:32Z"
        ],
        [
         327,
         "Jill Taylor",
         39,
         "2015-12-04T03:15:28Z"
        ],
        [
         7874,
         "Aaron Abbott",
         20,
         "2015-10-23T16:08:41Z"
        ],
        [
         1450,
         "Aaron Abbott",
         20,
         "2015-10-31T18:51:07Z"
        ],
        [
         10245,
         "Julie Cook",
         34,
         "2016-05-08T16:27:01Z"
        ],
        [
         9093,
         "Albert Adams",
         21,
         "2015-11-05T22:07:56Z"
        ],
        [
         2301,
         "Karina Morton",
         31,
         "2016-01-21T12:53:34Z"
        ],
        [
         2788,
         "Jesus Arellano",
         43,
         "2016-03-22T15:45:21Z"
        ],
        [
         9268,
         "Alexander Bailey",
         20,
         "2015-10-30T11:37:32Z"
        ],
        [
         1706,
         "Amy Adams",
         20,
         "2015-10-24T05:05:28Z"
        ],
        [
         5293,
         "David Taylor",
         36,
         "2016-06-03T23:53:50Z"
        ],
        [
         7733,
         "Aaron Abbott",
         20,
         "2015-10-23T16:08:41Z"
        ],
        [
         3716,
         "Catherine Ferrell",
         21,
         "2017-01-02T03:01:09Z"
        ],
        [
         3750,
         "Gary Barker",
         28,
         "2015-11-26T11:23:50Z"
        ],
        [
         232,
         "Sarah Buchanan",
         33,
         "2017-04-19T08:49:40Z"
        ],
        [
         8300,
         "Nathan Stanton",
         51,
         "2017-08-14T08:26:30Z"
        ],
        [
         8978,
         "Mark Jones",
         34,
         "2017-08-22T00:01:29Z"
        ],
        [
         2048,
         "Ann Chung",
         22,
         "2015-11-18T23:11:15Z"
        ],
        [
         10337,
         "Carrie Parker",
         46,
         "2016-09-11T22:32:50Z"
        ],
        [
         7832,
         "Samuel Hawkins",
         39,
         "2016-06-30T02:56:06Z"
        ],
        [
         8366,
         "Justin Ewing",
         56,
         "2016-02-04T23:27:36Z"
        ],
        [
         3334,
         "Amber Casey",
         23,
         "2016-01-06T12:22:08Z"
        ],
        [
         778,
         "Christine Adams",
         31,
         "2016-02-06T10:22:53Z"
        ],
        [
         480,
         "Timothy Sullivan",
         40,
         "2017-01-12T08:37:12Z"
        ],
        [
         3011,
         "Justin Singleton",
         20,
         "2017-03-10T19:53:44Z"
        ],
        [
         9475,
         "Jessica Mejia",
         40,
         "2016-01-03T12:03:05Z"
        ],
        [
         7586,
         "Aaron Alexander",
         21,
         "2015-10-25T07:36:08Z"
        ],
        [
         1864,
         "Alexander Adams",
         32,
         "2015-10-28T15:48:24Z"
        ],
        [
         6014,
         "Mary Luna",
         22,
         "2016-01-02T01:40:52Z"
        ],
        [
         1967,
         "Jay Flynn",
         24,
         "2016-05-12T16:28:27Z"
        ],
        [
         1699,
         "Brandon Cummings",
         22,
         "2016-05-11T01:36:00Z"
        ],
        [
         4996,
         "John Anderson",
         27,
         "2016-03-03T07:28:39Z"
        ],
        [
         10168,
         "Nicole Gray",
         53,
         "2016-02-20T13:03:00Z"
        ],
        [
         5333,
         "Aaron Clark",
         35,
         "2016-11-19T22:36:49Z"
        ],
        [
         2565,
         "Anthony Adkins",
         21,
         "2015-10-28T03:59:42Z"
        ],
        [
         9778,
         "Holly Campbell",
         30,
         "2016-07-08T19:10:37Z"
        ],
        [
         3145,
         "Crystal Schmidt",
         22,
         "2017-04-14T13:57:52Z"
        ],
        [
         1341,
         "Abigail Ali",
         20,
         "2015-10-24T11:23:51Z"
        ],
        [
         5162,
         "James Jacobson",
         28,
         "2017-04-30T16:41:26Z"
        ],
        [
         5151,
         "Mary Jordan",
         26,
         "2017-06-12T16:02:59Z"
        ],
        [
         2498,
         "Jeremy Chase",
         50,
         "2017-07-31T16:56:52Z"
        ],
        [
         7268,
         "Alejandra Acevedo",
         20,
         "2015-11-24T21:01:23Z"
        ],
        [
         3351,
         "Eric Taylor",
         39,
         "2017-04-04T06:05:03Z"
        ],
        [
         7738,
         "Alexis George",
         34,
         "2016-02-26T00:38:01Z"
        ],
        [
         8886,
         "Abigail Bates",
         20,
         "2015-11-07T20:59:32Z"
        ],
        [
         5742,
         "Barbara Edwards",
         24,
         "2016-01-09T19:37:29Z"
        ],
        [
         1362,
         "Nancy Case",
         23,
         "2016-02-18T08:44:33Z"
        ],
        [
         995,
         "Jason Horne",
         27,
         "2016-02-06T15:31:57Z"
        ],
        [
         6250,
         "Lydia Nelson",
         59,
         "2016-09-06T06:21:57Z"
        ],
        [
         3184,
         "Allison Dawson",
         35,
         "2016-02-04T14:45:39Z"
        ],
        [
         2955,
         "Kevin Young",
         58,
         "2016-09-18T07:28:19Z"
        ],
        [
         4357,
         "Allison Adams",
         22,
         "2015-11-30T10:51:59Z"
        ],
        [
         3563,
         "Gerald Davis",
         55,
         "2017-08-11T14:24:41Z"
        ],
        [
         6558,
         "Gary Tanner",
         43,
         "2016-11-29T22:22:47Z"
        ],
        [
         4256,
         "Alexandria Alvarado",
         20,
         "2015-10-23T04:13:23Z"
        ],
        [
         450,
         "Amanda Benitez",
         21,
         "2015-11-01T09:16:18Z"
        ],
        [
         3945,
         "Beth Johnson",
         30,
         "2015-11-29T15:45:13Z"
        ],
        [
         859,
         "Scott Page",
         44,
         "2015-10-31T14:35:30Z"
        ],
        [
         1521,
         "Mindy Garrison",
         29,
         "2016-02-18T23:18:39Z"
        ],
        [
         1961,
         "Adrienne Barrett",
         22,
         "2015-11-04T15:48:14Z"
        ],
        [
         10099,
         "Amanda Carlson",
         21,
         "2015-11-23T09:01:37Z"
        ],
        [
         6066,
         "Angela Flores",
         28,
         "2015-10-29T08:51:34Z"
        ],
        [
         10837,
         "Mark Richardson",
         55,
         "2015-11-18T05:46:35Z"
        ],
        [
         6615,
         "Barry West",
         44,
         "2016-08-13T21:13:14Z"
        ],
        [
         7641,
         "Aaron Anderson",
         21,
         "2015-10-24T05:35:27Z"
        ],
        [
         640,
         "Aaron Anderson",
         21,
         "2015-10-24T05:35:27Z"
        ],
        [
         8174,
         "Andrew Brown",
         25,
         "2016-03-26T04:30:23Z"
        ],
        [
         1216,
         "Juan Cortez",
         20,
         "2016-04-07T13:02:08Z"
        ],
        [
         680,
         "Diana Ballard",
         23,
         "2017-01-12T11:17:31Z"
        ],
        [
         9527,
         "Vernon Brown",
         55,
         "2017-08-04T01:04:25Z"
        ],
        [
         9426,
         "Nicholas Mcdaniel",
         45,
         "2017-05-24T01:41:26Z"
        ],
        [
         8745,
         "Grant Villanueva",
         53,
         "2016-02-14T19:17:10Z"
        ],
        [
         5959,
         "Jason Brooks",
         28,
         "2015-12-21T00:33:51Z"
        ],
        [
         2577,
         "Amy Adams",
         20,
         "2015-10-24T05:05:28Z"
        ],
        [
         3008,
         "Scott Houston",
         58,
         "2016-10-22T16:08:50Z"
        ],
        [
         8081,
         "Carmen Taylor",
         40,
         "2016-08-02T19:06:12Z"
        ],
        [
         10120,
         "Jacob Baird",
         24,
         "2016-02-25T08:52:45Z"
        ],
        [
         4045,
         "Amanda Allen",
         21,
         "2015-11-16T23:15:00Z"
        ],
        [
         1599,
         "Linda Rojas",
         42,
         "2017-01-31T05:08:14Z"
        ],
        [
         2893,
         "Nancy Choi",
         50,
         "2016-07-27T16:22:59Z"
        ],
        [
         4024,
         "Adam Armstrong",
         20,
         "2015-12-17T08:43:40Z"
        ],
        [
         310,
         "Amanda Benitez",
         21,
         "2015-11-01T09:16:18Z"
        ],
        [
         7905,
         "Anthony Duncan",
         47,
         "2016-01-01T03:57:19Z"
        ],
        [
         5488,
         "Heather Edwards",
         33,
         "2016-01-16T18:25:10Z"
        ],
        [
         744,
         "Brian Lloyd",
         38,
         "2016-12-15T07:06:03Z"
        ],
        [
         7801,
         "Nancy Clay",
         36,
         "2016-01-12T18:33:12Z"
        ],
        [
         5620,
         "Daniel Anderson",
         20,
         "2017-02-10T13:39:15Z"
        ],
        [
         8341,
         "Amber Robinson",
         31,
         "2016-09-05T14:41:44Z"
        ],
        [
         10022,
         "Alyssa Greene",
         50,
         "2017-05-03T07:29:04Z"
        ],
        [
         6134,
         "Jacob Baker",
         33,
         "2015-11-29T07:33:20Z"
        ],
        [
         3824,
         "Aaron Berry",
         28,
         "2016-04-12T03:40:13Z"
        ],
        [
         7116,
         "Michael Mcconnell",
         59,
         "2017-06-01T10:55:10Z"
        ],
        [
         74,
         "Amanda Benitez",
         21,
         "2015-11-01T09:16:18Z"
        ],
        [
         1335,
         "Benjamin Campbell",
         20,
         "2015-11-16T13:25:08Z"
        ],
        [
         4513,
         "Charlotte Pitts",
         60,
         "2017-07-18T11:50:18Z"
        ],
        [
         7850,
         "Joseph Kelly",
         44,
         "2017-09-28T16:41:00Z"
        ],
        [
         10248,
         "Elizabeth English",
         25,
         "2016-08-19T02:29:26Z"
        ],
        [
         8123,
         "Courtney Chung",
         46,
         "2016-05-11T23:09:30Z"
        ],
        [
         2987,
         "Charles Robinson",
         41,
         "2015-12-22T01:36:15Z"
        ],
        [
         1487,
         "Jonathan Rodriguez",
         30,
         "2016-09-05T12:31:44Z"
        ],
        [
         7528,
         "Abigail Ali",
         20,
         "2015-10-24T11:23:51Z"
        ],
        [
         2863,
         "Dylan Holmes",
         32,
         "2016-10-23T14:06:51Z"
        ],
        [
         5730,
         "Rachel Davis",
         36,
         "2015-12-08T20:02:43Z"
        ],
        [
         8304,
         "Charles Berry",
         25,
         "2015-12-28T04:21:39Z"
        ],
        [
         8731,
         "Andrea Alexander",
         21,
         "2015-11-10T09:27:42Z"
        ],
        [
         1313,
         "Brittany Jones",
         32,
         "2016-04-02T03:51:23Z"
        ],
        [
         4315,
         "Michelle Prince",
         36,
         "2015-12-20T16:38:13Z"
        ],
        [
         10794,
         "Thomas Turner",
         34,
         "2016-12-22T00:02:02Z"
        ],
        [
         5494,
         "Anne Allen",
         27,
         "2015-12-16T15:20:05Z"
        ],
        [
         5069,
         "Amanda Ball",
         25,
         "2016-01-13T17:36:30Z"
        ],
        [
         2923,
         "Brian Nelson",
         26,
         "2015-11-11T03:20:57Z"
        ],
        [
         3089,
         "Abigail Ali",
         20,
         "2015-10-24T11:23:51Z"
        ],
        [
         6063,
         "Corey Andrews",
         23,
         "2015-11-25T13:36:22Z"
        ],
        [
         3454,
         "Robert Murphy",
         48,
         "2017-09-26T16:31:56Z"
        ],
        [
         7554,
         "Cheryl Huerta",
         20,
         "2017-04-11T16:35:33Z"
        ],
        [
         6145,
         "Emily Hawkins",
         30,
         "2015-12-25T20:24:37Z"
        ],
        [
         10625,
         "Christian Lang",
         32,
         "2017-10-10T20:09:33Z"
        ],
        [
         2959,
         "David Griffith",
         20,
         "2016-01-07T19:49:22Z"
        ],
        [
         9875,
         "Brendan Joseph",
         26,
         "2015-12-20T10:28:00Z"
        ],
        [
         2418,
         "Amanda Adams",
         20,
         "2015-10-21T08:27:36Z"
        ],
        [
         3156,
         "Andrew Baker",
         22,
         "2015-12-21T08:06:54Z"
        ],
        [
         428,
         "Claudia Adams",
         20,
         "2015-11-28T02:20:29Z"
        ],
        [
         7343,
         "Anne Clayton",
         24,
         "2016-01-11T12:03:48Z"
        ],
        [
         2074,
         "Annette Forbes",
         21,
         "2016-01-03T15:42:12Z"
        ],
        [
         9979,
         "Kaylee Miller",
         31,
         "2016-11-09T19:50:51Z"
        ],
        [
         10138,
         "Carol Silva",
         22,
         "2015-12-31T14:57:02Z"
        ],
        [
         9672,
         "Jennifer Hudson",
         22,
         "2016-02-11T20:46:04Z"
        ],
        [
         8653,
         "Tammy Davis",
         24,
         "2016-03-09T10:48:14Z"
        ],
        [
         8887,
         "Austin Rodriguez",
         24,
         "2016-03-31T20:56:39Z"
        ],
        [
         7922,
         "Denise Adams",
         21,
         "2015-11-12T06:21:36Z"
        ],
        [
         1014,
         "Gregory Ramsey",
         56,
         "2016-10-15T17:21:39Z"
        ],
        [
         4913,
         "Angela Brooks",
         24,
         "2015-11-20T05:37:11Z"
        ],
        [
         4137,
         "Michael Decker",
         59,
         "2017-06-29T22:35:17Z"
        ],
        [
         7166,
         "Alvin Adams",
         20,
         "2016-01-01T13:50:40Z"
        ],
        [
         9546,
         "Alex Barnes",
         20,
         "2016-02-27T21:13:44Z"
        ],
        [
         2411,
         "Aaron Bartlett",
         21,
         "2015-11-24T02:15:36Z"
        ],
        [
         9590,
         "Amanda Allen",
         22,
         "2015-10-24T18:56:30Z"
        ],
        [
         2698,
         "Kayla Burton",
         44,
         "2017-06-21T19:53:27Z"
        ],
        [
         4508,
         "Michael Carter",
         58,
         "2016-06-03T23:35:30Z"
        ],
        [
         831,
         "Aimee Collins",
         28,
         "2016-06-16T02:06:38Z"
        ],
        [
         5076,
         "Christopher Butler",
         20,
         "2015-12-01T15:08:31Z"
        ],
        [
         10663,
         "Julie Cox",
         23,
         "2016-06-23T14:38:00Z"
        ],
        [
         5468,
         "Lisa Gamble",
         20,
         "2016-07-23T20:51:06Z"
        ],
        [
         205,
         "Brett Bryant",
         20,
         "2015-10-23T12:40:19Z"
        ],
        [
         7790,
         "Michelle Gutierrez",
         39,
         "2017-07-19T07:12:04Z"
        ],
        [
         8606,
         "Denise Adams",
         21,
         "2015-11-12T06:21:36Z"
        ],
        [
         9759,
         "Daniel Brooks",
         25,
         "2015-11-19T21:24:33Z"
        ],
        [
         719,
         "Alicia Avila",
         20,
         "2016-01-26T01:49:23Z"
        ],
        [
         1704,
         "Barry Lynn",
         20,
         "2015-10-28T05:00:33Z"
        ],
        [
         2482,
         "David Moss",
         22,
         "2016-03-01T07:11:48Z"
        ],
        [
         8930,
         "Andrew Anderson",
         23,
         "2015-11-28T11:52:37Z"
        ],
        [
         7294,
         "Dawn Anderson",
         20,
         "2016-12-31T00:06:36Z"
        ],
        [
         808,
         "Aaron Bartlett",
         21,
         "2015-11-24T02:15:36Z"
        ],
        [
         771,
         "Brittany Butler",
         32,
         "2016-03-10T04:11:31Z"
        ],
        [
         4076,
         "Larry Pineda",
         20,
         "2015-10-23T22:47:39Z"
        ],
        [
         1545,
         "Jonathan Avila",
         46,
         "2015-11-27T23:11:21Z"
        ],
        [
         2293,
         "Alex Bean",
         24,
         "2016-01-11T23:08:27Z"
        ],
        [
         10509,
         "Brittany Thompson",
         49,
         "2016-04-22T20:36:02Z"
        ],
        [
         2015,
         "Christopher Bradshaw",
         27,
         "2016-03-08T13:38:37Z"
        ],
        [
         1094,
         "Ann Elliott",
         20,
         "2016-07-02T02:32:30Z"
        ],
        [
         603,
         "Brandon Jackson",
         44,
         "2016-10-29T02:07:21Z"
        ],
        [
         7768,
         "Christine Cortez",
         23,
         "2015-12-01T18:15:02Z"
        ],
        [
         5630,
         "Carlos Estrada",
         22,
         "2016-02-09T17:01:38Z"
        ],
        [
         8578,
         "Joe Pham",
         48,
         "2017-06-01T23:13:27Z"
        ],
        [
         9936,
         "Anthony Cantu",
         28,
         "2016-11-15T10:40:03Z"
        ],
        [
         6844,
         "Peter Roberts",
         30,
         "2016-07-03T10:59:40Z"
        ],
        [
         3419,
         "Aaron Jenkins",
         47,
         "2017-04-26T03:26:23Z"
        ],
        [
         1268,
         "Donna Campbell",
         32,
         "2016-06-08T22:10:13Z"
        ],
        [
         6566,
         "Alexander Perez",
         31,
         "2017-08-04T14:30:22Z"
        ],
        [
         1555,
         "Alexis Bennett",
         54,
         "2016-05-15T04:22:01Z"
        ],
        [
         3729,
         "Richard Edwards",
         52,
         "2016-02-07T20:00:25Z"
        ],
        [
         6398,
         "Christina Davenport",
         39,
         "2016-06-29T20:43:59Z"
        ],
        [
         46,
         "Erik Kelley",
         30,
         "2016-01-06T09:58:56Z"
        ],
        [
         4988,
         "Rhonda Durham",
         25,
         "2017-07-20T05:51:23Z"
        ],
        [
         427,
         "Jon Burke",
         25,
         "2015-11-26T17:42:37Z"
        ],
        [
         3800,
         "Adam Armstrong",
         20,
         "2015-12-17T08:43:40Z"
        ],
        [
         159,
         "Alison Bell",
         21,
         "2016-01-07T08:11:35Z"
        ],
        [
         3599,
         "Alexandria Alvarado",
         20,
         "2015-10-23T04:13:23Z"
        ],
        [
         10552,
         "Michael Hunter",
         40,
         "2017-05-16T07:09:21Z"
        ],
        [
         1422,
         "Aaron Abbott",
         20,
         "2015-10-31T18:51:07Z"
        ],
        [
         5309,
         "Daniel Roy",
         31,
         "2016-03-07T01:01:24Z"
        ],
        [
         552,
         "Regina Morales",
         20,
         "2017-01-17T01:49:27Z"
        ],
        [
         1371,
         "Amanda Brown",
         20,
         "2015-11-12T03:23:49Z"
        ],
        [
         10119,
         "Chelsea Gonzalez",
         43,
         "2016-07-21T15:25:08Z"
        ],
        [
         9074,
         "Aaron Alexander",
         21,
         "2015-10-25T07:36:08Z"
        ],
        [
         2604,
         "Ashley Evans",
         30,
         "2016-02-21T12:54:01Z"
        ],
        [
         223,
         "Melanie Hill",
         51,
         "2016-10-09T14:47:51Z"
        ],
        [
         8312,
         "Daniel Brooks",
         25,
         "2015-11-19T21:24:33Z"
        ],
        [
         2858,
         "Anne Bond",
         21,
         "2015-12-27T23:43:42Z"
        ],
        [
         6261,
         "Nicholas Hart",
         38,
         "2015-10-26T09:45:45Z"
        ],
        [
         3201,
         "Elizabeth Terry",
         28,
         "2016-01-29T20:32:05Z"
        ],
        [
         2637,
         "Shawn Jones",
         32,
         "2016-08-23T20:36:12Z"
        ],
        [
         1198,
         "Ariana Gross",
         59,
         "2016-12-17T11:10:48Z"
        ],
        [
         10370,
         "Derrick Kim",
         30,
         "2016-12-21T13:39:14Z"
        ],
        [
         7167,
         "Dawn Bradley",
         20,
         "2016-08-26T16:09:52Z"
        ],
        [
         10673,
         "Alexander Cervantes",
         59,
         "2017-05-12T21:22:17Z"
        ],
        [
         2060,
         "Joshua Long",
         27,
         "2016-12-18T10:11:23Z"
        ],
        [
         9487,
         "Jose Bailey",
         21,
         "2016-01-10T09:41:14Z"
        ],
        [
         772,
         "Glenn Hammond",
         25,
         "2016-04-27T02:59:27Z"
        ],
        [
         7510,
         "Debra Becker",
         20,
         "2016-07-27T06:20:48Z"
        ],
        [
         5758,
         "Amanda Arnold",
         20,
         "2015-10-26T23:04:52Z"
        ],
        [
         1137,
         "Virginia Vega",
         38,
         "2017-05-03T03:08:33Z"
        ],
        [
         7234,
         "Angela Allen",
         20,
         "2015-10-26T04:12:32Z"
        ],
        [
         327,
         "Jill Taylor",
         39,
         "2015-12-04T03:15:28Z"
        ],
        [
         7874,
         "Aaron Abbott",
         20,
         "2015-10-23T16:08:41Z"
        ],
        [
         1450,
         "Aaron Abbott",
         20,
         "2015-10-31T18:51:07Z"
        ],
        [
         10245,
         "Julie Cook",
         34,
         "2016-05-08T16:27:01Z"
        ],
        [
         9093,
         "Albert Adams",
         21,
         "2015-11-05T22:07:56Z"
        ],
        [
         2301,
         "Karina Morton",
         31,
         "2016-01-21T12:53:34Z"
        ],
        [
         2788,
         "Jesus Arellano",
         43,
         "2016-03-22T15:45:21Z"
        ],
        [
         9268,
         "Alexander Bailey",
         20,
         "2015-10-30T11:37:32Z"
        ],
        [
         1706,
         "Amy Adams",
         20,
         "2015-10-24T05:05:28Z"
        ],
        [
         5293,
         "David Taylor",
         36,
         "2016-06-03T23:53:50Z"
        ],
        [
         7733,
         "Aaron Abbott",
         20,
         "2015-10-23T16:08:41Z"
        ],
        [
         3716,
         "Catherine Ferrell",
         21,
         "2017-01-02T03:01:09Z"
        ],
        [
         3750,
         "Gary Barker",
         28,
         "2015-11-26T11:23:50Z"
        ],
        [
         232,
         "Sarah Buchanan",
         33,
         "2017-04-19T08:49:40Z"
        ],
        [
         8300,
         "Nathan Stanton",
         51,
         "2017-08-14T08:26:30Z"
        ],
        [
         8978,
         "Mark Jones",
         34,
         "2017-08-22T00:01:29Z"
        ],
        [
         2048,
         "Ann Chung",
         22,
         "2015-11-18T23:11:15Z"
        ],
        [
         10337,
         "Carrie Parker",
         46,
         "2016-09-11T22:32:50Z"
        ],
        [
         7832,
         "Samuel Hawkins",
         39,
         "2016-06-30T02:56:06Z"
        ],
        [
         8366,
         "Justin Ewing",
         56,
         "2016-02-04T23:27:36Z"
        ],
        [
         3334,
         "Amber Casey",
         23,
         "2016-01-06T12:22:08Z"
        ],
        [
         778,
         "Christine Adams",
         31,
         "2016-02-06T10:22:53Z"
        ],
        [
         480,
         "Timothy Sullivan",
         40,
         "2017-01-12T08:37:12Z"
        ],
        [
         3011,
         "Justin Singleton",
         20,
         "2017-03-10T19:53:44Z"
        ],
        [
         9475,
         "Jessica Mejia",
         40,
         "2016-01-03T12:03:05Z"
        ],
        [
         7528,
         "Abigail Ali",
         20,
         "2015-10-24T11:23:51Z"
        ],
        [
         2863,
         "Dylan Holmes",
         32,
         "2016-10-23T14:06:51Z"
        ],
        [
         5730,
         "Rachel Davis",
         36,
         "2015-12-08T20:02:43Z"
        ],
        [
         8304,
         "Charles Berry",
         25,
         "2015-12-28T04:21:39Z"
        ],
        [
         8731,
         "Andrea Alexander",
         21,
         "2015-11-10T09:27:42Z"
        ],
        [
         1313,
         "Brittany Jones",
         32,
         "2016-04-02T03:51:23Z"
        ],
        [
         4315,
         "Michelle Prince",
         36,
         "2015-12-20T16:38:13Z"
        ],
        [
         10794,
         "Thomas Turner",
         34,
         "2016-12-22T00:02:02Z"
        ],
        [
         5494,
         "Anne Allen",
         27,
         "2015-12-16T15:20:05Z"
        ],
        [
         5069,
         "Amanda Ball",
         25,
         "2016-01-13T17:36:30Z"
        ],
        [
         2923,
         "Brian Nelson",
         26,
         "2015-11-11T03:20:57Z"
        ],
        [
         3089,
         "Abigail Ali",
         20,
         "2015-10-24T11:23:51Z"
        ],
        [
         6063,
         "Corey Andrews",
         23,
         "2015-11-25T13:36:22Z"
        ],
        [
         3454,
         "Robert Murphy",
         48,
         "2017-09-26T16:31:56Z"
        ],
        [
         7554,
         "Cheryl Huerta",
         20,
         "2017-04-11T16:35:33Z"
        ],
        [
         6145,
         "Emily Hawkins",
         30,
         "2015-12-25T20:24:37Z"
        ],
        [
         10625,
         "Christian Lang",
         32,
         "2017-10-10T20:09:33Z"
        ],
        [
         2959,
         "David Griffith",
         20,
         "2016-01-07T19:49:22Z"
        ],
        [
         9875,
         "Brendan Joseph",
         26,
         "2015-12-20T10:28:00Z"
        ],
        [
         2418,
         "Amanda Adams",
         20,
         "2015-10-21T08:27:36Z"
        ],
        [
         3156,
         "Andrew Baker",
         22,
         "2015-12-21T08:06:54Z"
        ],
        [
         428,
         "Claudia Adams",
         20,
         "2015-11-28T02:20:29Z"
        ],
        [
         7343,
         "Anne Clayton",
         24,
         "2016-01-11T12:03:48Z"
        ],
        [
         2074,
         "Annette Forbes",
         21,
         "2016-01-03T15:42:12Z"
        ],
        [
         9979,
         "Kaylee Miller",
         31,
         "2016-11-09T19:50:51Z"
        ],
        [
         10138,
         "Carol Silva",
         22,
         "2015-12-31T14:57:02Z"
        ],
        [
         9672,
         "Jennifer Hudson",
         22,
         "2016-02-11T20:46:04Z"
        ],
        [
         8653,
         "Tammy Davis",
         24,
         "2016-03-09T10:48:14Z"
        ],
        [
         8887,
         "Austin Rodriguez",
         24,
         "2016-03-31T20:56:39Z"
        ],
        [
         7922,
         "Denise Adams",
         21,
         "2015-11-12T06:21:36Z"
        ],
        [
         1014,
         "Gregory Ramsey",
         56,
         "2016-10-15T17:21:39Z"
        ],
        [
         4913,
         "Angela Brooks",
         24,
         "2015-11-20T05:37:11Z"
        ],
        [
         4137,
         "Michael Decker",
         59,
         "2017-06-29T22:35:17Z"
        ],
        [
         7166,
         "Alvin Adams",
         20,
         "2016-01-01T13:50:40Z"
        ],
        [
         9546,
         "Alex Barnes",
         20,
         "2016-02-27T21:13:44Z"
        ],
        [
         2411,
         "Aaron Bartlett",
         21,
         "2015-11-24T02:15:36Z"
        ],
        [
         9590,
         "Amanda Allen",
         22,
         "2015-10-24T18:56:30Z"
        ],
        [
         2698,
         "Kayla Burton",
         44,
         "2017-06-21T19:53:27Z"
        ],
        [
         4508,
         "Michael Carter",
         58,
         "2016-06-03T23:35:30Z"
        ],
        [
         831,
         "Aimee Collins",
         28,
         "2016-06-16T02:06:38Z"
        ],
        [
         5076,
         "Christopher Butler",
         20,
         "2015-12-01T15:08:31Z"
        ],
        [
         10663,
         "Julie Cox",
         23,
         "2016-06-23T14:38:00Z"
        ],
        [
         5468,
         "Lisa Gamble",
         20,
         "2016-07-23T20:51:06Z"
        ],
        [
         205,
         "Brett Bryant",
         20,
         "2015-10-23T12:40:19Z"
        ],
        [
         7790,
         "Michelle Gutierrez",
         39,
         "2017-07-19T07:12:04Z"
        ],
        [
         8606,
         "Denise Adams",
         21,
         "2015-11-12T06:21:36Z"
        ],
        [
         9759,
         "Daniel Brooks",
         25,
         "2015-11-19T21:24:33Z"
        ],
        [
         719,
         "Alicia Avila",
         20,
         "2016-01-26T01:49:23Z"
        ],
        [
         1704,
         "Barry Lynn",
         20,
         "2015-10-28T05:00:33Z"
        ],
        [
         2482,
         "David Moss",
         22,
         "2016-03-01T07:11:48Z"
        ],
        [
         8930,
         "Andrew Anderson",
         23,
         "2015-11-28T11:52:37Z"
        ],
        [
         7294,
         "Dawn Anderson",
         20,
         "2016-12-31T00:06:36Z"
        ],
        [
         808,
         "Aaron Bartlett",
         21,
         "2015-11-24T02:15:36Z"
        ],
        [
         771,
         "Brittany Butler",
         32,
         "2016-03-10T04:11:31Z"
        ],
        [
         4076,
         "Larry Pineda",
         20,
         "2015-10-23T22:47:39Z"
        ],
        [
         1545,
         "Jonathan Avila",
         46,
         "2015-11-27T23:11:21Z"
        ],
        [
         2293,
         "Alex Bean",
         24,
         "2016-01-11T23:08:27Z"
        ],
        [
         10509,
         "Brittany Thompson",
         49,
         "2016-04-22T20:36:02Z"
        ],
        [
         2015,
         "Christopher Bradshaw",
         27,
         "2016-03-08T13:38:37Z"
        ],
        [
         1094,
         "Ann Elliott",
         20,
         "2016-07-02T02:32:30Z"
        ],
        [
         603,
         "Brandon Jackson",
         44,
         "2016-10-29T02:07:21Z"
        ],
        [
         7768,
         "Christine Cortez",
         23,
         "2015-12-01T18:15:02Z"
        ],
        [
         5630,
         "Carlos Estrada",
         22,
         "2016-02-09T17:01:38Z"
        ],
        [
         8578,
         "Joe Pham",
         48,
         "2017-06-01T23:13:27Z"
        ],
        [
         9936,
         "Anthony Cantu",
         28,
         "2016-11-15T10:40:03Z"
        ],
        [
         6844,
         "Peter Roberts",
         30,
         "2016-07-03T10:59:40Z"
        ],
        [
         3419,
         "Aaron Jenkins",
         47,
         "2017-04-26T03:26:23Z"
        ],
        [
         1268,
         "Donna Campbell",
         32,
         "2016-06-08T22:10:13Z"
        ],
        [
         6566,
         "Alexander Perez",
         31,
         "2017-08-04T14:30:22Z"
        ],
        [
         1555,
         "Alexis Bennett",
         54,
         "2016-05-15T04:22:01Z"
        ],
        [
         3729,
         "Richard Edwards",
         52,
         "2016-02-07T20:00:25Z"
        ],
        [
         6398,
         "Christina Davenport",
         39,
         "2016-06-29T20:43:59Z"
        ],
        [
         46,
         "Erik Kelley",
         30,
         "2016-01-06T09:58:56Z"
        ],
        [
         4988,
         "Rhonda Durham",
         25,
         "2017-07-20T05:51:23Z"
        ],
        [
         427,
         "Jon Burke",
         25,
         "2015-11-26T17:42:37Z"
        ],
        [
         3800,
         "Adam Armstrong",
         20,
         "2015-12-17T08:43:40Z"
        ],
        [
         159,
         "Alison Bell",
         21,
         "2016-01-07T08:11:35Z"
        ],
        [
         3599,
         "Alexandria Alvarado",
         20,
         "2015-10-23T04:13:23Z"
        ],
        [
         10552,
         "Michael Hunter",
         40,
         "2017-05-16T07:09:21Z"
        ],
        [
         1422,
         "Aaron Abbott",
         20,
         "2015-10-31T18:51:07Z"
        ],
        [
         5309,
         "Daniel Roy",
         31,
         "2016-03-07T01:01:24Z"
        ],
        [
         552,
         "Regina Morales",
         20,
         "2017-01-17T01:49:27Z"
        ],
        [
         1371,
         "Amanda Brown",
         20,
         "2015-11-12T03:23:49Z"
        ],
        [
         10119,
         "Chelsea Gonzalez",
         43,
         "2016-07-21T15:25:08Z"
        ],
        [
         9074,
         "Aaron Alexander",
         21,
         "2015-10-25T07:36:08Z"
        ],
        [
         2604,
         "Ashley Evans",
         30,
         "2016-02-21T12:54:01Z"
        ],
        [
         223,
         "Melanie Hill",
         51,
         "2016-10-09T14:47:51Z"
        ],
        [
         8312,
         "Daniel Brooks",
         25,
         "2015-11-19T21:24:33Z"
        ],
        [
         2858,
         "Anne Bond",
         21,
         "2015-12-27T23:43:42Z"
        ],
        [
         6261,
         "Nicholas Hart",
         38,
         "2015-10-26T09:45:45Z"
        ],
        [
         3201,
         "Elizabeth Terry",
         28,
         "2016-01-29T20:32:05Z"
        ],
        [
         2637,
         "Shawn Jones",
         32,
         "2016-08-23T20:36:12Z"
        ],
        [
         1198,
         "Ariana Gross",
         59,
         "2016-12-17T11:10:48Z"
        ],
        [
         10370,
         "Derrick Kim",
         30,
         "2016-12-21T13:39:14Z"
        ],
        [
         7167,
         "Dawn Bradley",
         20,
         "2016-08-26T16:09:52Z"
        ],
        [
         10673,
         "Alexander Cervantes",
         59,
         "2017-05-12T21:22:17Z"
        ],
        [
         7528,
         "Abigail Ali",
         20,
         "2015-10-24T11:23:51Z"
        ],
        [
         7528,
         "Abigail Ali",
         20,
         "2015-10-24T11:23:51Z"
        ],
        [
         2863,
         "Dylan Holmes",
         32,
         "2016-10-23T14:06:51Z"
        ],
        [
         5730,
         "Rachel Davis",
         36,
         "2015-12-08T20:02:43Z"
        ],
        [
         8304,
         "Charles Berry",
         25,
         "2015-12-28T04:21:39Z"
        ],
        [
         7528,
         "Abigail Ali",
         20,
         "2015-10-24T11:23:51Z"
        ],
        [
         2863,
         "Dylan Holmes",
         32,
         "2016-10-23T14:06:51Z"
        ],
        [
         5730,
         "Rachel Davis",
         36,
         "2015-12-08T20:02:43Z"
        ],
        [
         8304,
         "Charles Berry",
         25,
         "2015-12-28T04:21:39Z"
        ],
        [
         8731,
         "Andrea Alexander",
         21,
         "2015-11-10T09:27:42Z"
        ],
        [
         1313,
         "Brittany Jones",
         32,
         "2016-04-02T03:51:23Z"
        ],
        [
         4315,
         "Michelle Prince",
         36,
         "2015-12-20T16:38:13Z"
        ],
        [
         7528,
         "Abigail Ali",
         20,
         "2015-10-24T11:23:51Z"
        ],
        [
         2863,
         "Dylan Holmes",
         32,
         "2016-10-23T14:06:51Z"
        ],
        [
         5730,
         "Rachel Davis",
         36,
         "2015-12-08T20:02:43Z"
        ],
        [
         8304,
         "Charles Berry",
         25,
         "2015-12-28T04:21:39Z"
        ],
        [
         8731,
         "Andrea Alexander",
         21,
         "2015-11-10T09:27:42Z"
        ],
        [
         1313,
         "Brittany Jones",
         32,
         "2016-04-02T03:51:23Z"
        ],
        [
         4315,
         "Michelle Prince",
         36,
         "2015-12-20T16:38:13Z"
        ],
        [
         10794,
         "Thomas Turner",
         34,
         "2016-12-22T00:02:02Z"
        ],
        [
         5494,
         "Anne Allen",
         27,
         "2015-12-16T15:20:05Z"
        ],
        [
         5069,
         "Amanda Ball",
         25,
         "2016-01-13T17:36:30Z"
        ],
        [
         2923,
         "Brian Nelson",
         26,
         "2015-11-11T03:20:57Z"
        ],
        [
         3089,
         "Abigail Ali",
         20,
         "2015-10-24T11:23:51Z"
        ],
        [
         6063,
         "Corey Andrews",
         23,
         "2015-11-25T13:36:22Z"
        ],
        [
         3454,
         "Robert Murphy",
         48,
         "2017-09-26T16:31:56Z"
        ],
        [
         7554,
         "Cheryl Huerta",
         20,
         "2017-04-11T16:35:33Z"
        ],
        [
         6145,
         "Emily Hawkins",
         30,
         "2015-12-25T20:24:37Z"
        ],
        [
         10625,
         "Christian Lang",
         32,
         "2017-10-10T20:09:33Z"
        ],
        [
         2959,
         "David Griffith",
         20,
         "2016-01-07T19:49:22Z"
        ],
        [
         9875,
         "Brendan Joseph",
         26,
         "2015-12-20T10:28:00Z"
        ],
        [
         2418,
         "Amanda Adams",
         20,
         "2015-10-21T08:27:36Z"
        ],
        [
         3156,
         "Andrew Baker",
         22,
         "2015-12-21T08:06:54Z"
        ],
        [
         428,
         "Claudia Adams",
         20,
         "2015-11-28T02:20:29Z"
        ],
        [
         7343,
         "Anne Clayton",
         24,
         "2016-01-11T12:03:48Z"
        ],
        [
         2074,
         "Annette Forbes",
         21,
         "2016-01-03T15:42:12Z"
        ],
        [
         9979,
         "Kaylee Miller",
         31,
         "2016-11-09T19:50:51Z"
        ],
        [
         10138,
         "Carol Silva",
         22,
         "2015-12-31T14:57:02Z"
        ],
        [
         9672,
         "Jennifer Hudson",
         22,
         "2016-02-11T20:46:04Z"
        ],
        [
         8653,
         "Tammy Davis",
         24,
         "2016-03-09T10:48:14Z"
        ],
        [
         8887,
         "Austin Rodriguez",
         24,
         "2016-03-31T20:56:39Z"
        ],
        [
         7922,
         "Denise Adams",
         21,
         "2015-11-12T06:21:36Z"
        ],
        [
         1014,
         "Gregory Ramsey",
         56,
         "2016-10-15T17:21:39Z"
        ],
        [
         4913,
         "Angela Brooks",
         24,
         "2015-11-20T05:37:11Z"
        ],
        [
         4137,
         "Michael Decker",
         59,
         "2017-06-29T22:35:17Z"
        ],
        [
         7166,
         "Alvin Adams",
         20,
         "2016-01-01T13:50:40Z"
        ],
        [
         9546,
         "Alex Barnes",
         20,
         "2016-02-27T21:13:44Z"
        ],
        [
         2411,
         "Aaron Bartlett",
         21,
         "2015-11-24T02:15:36Z"
        ],
        [
         9590,
         "Amanda Allen",
         22,
         "2015-10-24T18:56:30Z"
        ],
        [
         2698,
         "Kayla Burton",
         44,
         "2017-06-21T19:53:27Z"
        ],
        [
         4508,
         "Michael Carter",
         58,
         "2016-06-03T23:35:30Z"
        ],
        [
         831,
         "Aimee Collins",
         28,
         "2016-06-16T02:06:38Z"
        ],
        [
         5076,
         "Christopher Butler",
         20,
         "2015-12-01T15:08:31Z"
        ],
        [
         10663,
         "Julie Cox",
         23,
         "2016-06-23T14:38:00Z"
        ],
        [
         5468,
         "Lisa Gamble",
         20,
         "2016-07-23T20:51:06Z"
        ],
        [
         205,
         "Brett Bryant",
         20,
         "2015-10-23T12:40:19Z"
        ],
        [
         7790,
         "Michelle Gutierrez",
         39,
         "2017-07-19T07:12:04Z"
        ],
        [
         8606,
         "Denise Adams",
         21,
         "2015-11-12T06:21:36Z"
        ],
        [
         9759,
         "Daniel Brooks",
         25,
         "2015-11-19T21:24:33Z"
        ],
        [
         719,
         "Alicia Avila",
         20,
         "2016-01-26T01:49:23Z"
        ],
        [
         1704,
         "Barry Lynn",
         20,
         "2015-10-28T05:00:33Z"
        ],
        [
         2482,
         "David Moss",
         22,
         "2016-03-01T07:11:48Z"
        ],
        [
         8930,
         "Andrew Anderson",
         23,
         "2015-11-28T11:52:37Z"
        ],
        [
         7294,
         "Dawn Anderson",
         20,
         "2016-12-31T00:06:36Z"
        ],
        [
         808,
         "Aaron Bartlett",
         21,
         "2015-11-24T02:15:36Z"
        ],
        [
         771,
         "Brittany Butler",
         32,
         "2016-03-10T04:11:31Z"
        ],
        [
         4076,
         "Larry Pineda",
         20,
         "2015-10-23T22:47:39Z"
        ],
        [
         1545,
         "Jonathan Avila",
         46,
         "2015-11-27T23:11:21Z"
        ],
        [
         2293,
         "Alex Bean",
         24,
         "2016-01-11T23:08:27Z"
        ],
        [
         10509,
         "Brittany Thompson",
         49,
         "2016-04-22T20:36:02Z"
        ],
        [
         2015,
         "Christopher Bradshaw",
         27,
         "2016-03-08T13:38:37Z"
        ],
        [
         1094,
         "Ann Elliott",
         20,
         "2016-07-02T02:32:30Z"
        ],
        [
         603,
         "Brandon Jackson",
         44,
         "2016-10-29T02:07:21Z"
        ],
        [
         7768,
         "Christine Cortez",
         23,
         "2015-12-01T18:15:02Z"
        ],
        [
         5630,
         "Carlos Estrada",
         22,
         "2016-02-09T17:01:38Z"
        ],
        [
         8578,
         "Joe Pham",
         48,
         "2017-06-01T23:13:27Z"
        ],
        [
         9936,
         "Anthony Cantu",
         28,
         "2016-11-15T10:40:03Z"
        ],
        [
         6844,
         "Peter Roberts",
         30,
         "2016-07-03T10:59:40Z"
        ],
        [
         3419,
         "Aaron Jenkins",
         47,
         "2017-04-26T03:26:23Z"
        ],
        [
         1268,
         "Donna Campbell",
         32,
         "2016-06-08T22:10:13Z"
        ],
        [
         6566,
         "Alexander Perez",
         31,
         "2017-08-04T14:30:22Z"
        ],
        [
         1555,
         "Alexis Bennett",
         54,
         "2016-05-15T04:22:01Z"
        ],
        [
         3729,
         "Richard Edwards",
         52,
         "2016-02-07T20:00:25Z"
        ],
        [
         6398,
         "Christina Davenport",
         39,
         "2016-06-29T20:43:59Z"
        ],
        [
         46,
         "Erik Kelley",
         30,
         "2016-01-06T09:58:56Z"
        ],
        [
         4988,
         "Rhonda Durham",
         25,
         "2017-07-20T05:51:23Z"
        ],
        [
         427,
         "Jon Burke",
         25,
         "2015-11-26T17:42:37Z"
        ],
        [
         3800,
         "Adam Armstrong",
         20,
         "2015-12-17T08:43:40Z"
        ],
        [
         159,
         "Alison Bell",
         21,
         "2016-01-07T08:11:35Z"
        ],
        [
         3599,
         "Alexandria Alvarado",
         20,
         "2015-10-23T04:13:23Z"
        ],
        [
         10552,
         "Michael Hunter",
         40,
         "2017-05-16T07:09:21Z"
        ],
        [
         1422,
         "Aaron Abbott",
         20,
         "2015-10-31T18:51:07Z"
        ],
        [
         5309,
         "Daniel Roy",
         31,
         "2016-03-07T01:01:24Z"
        ],
        [
         552,
         "Regina Morales",
         20,
         "2017-01-17T01:49:27Z"
        ],
        [
         1371,
         "Amanda Brown",
         20,
         "2015-11-12T03:23:49Z"
        ],
        [
         7528,
         "Abigail Ali",
         20,
         "2015-10-24T11:23:51Z"
        ],
        [
         2863,
         "Dylan Holmes",
         32,
         "2016-10-23T14:06:51Z"
        ],
        [
         5730,
         "Rachel Davis",
         36,
         "2015-12-08T20:02:43Z"
        ],
        [
         8304,
         "Charles Berry",
         25,
         "2015-12-28T04:21:39Z"
        ],
        [
         8731,
         "Andrea Alexander",
         21,
         "2015-11-10T09:27:42Z"
        ],
        [
         1313,
         "Brittany Jones",
         32,
         "2016-04-02T03:51:23Z"
        ],
        [
         4315,
         "Michelle Prince",
         36,
         "2015-12-20T16:38:13Z"
        ],
        [
         10794,
         "Thomas Turner",
         34,
         "2016-12-22T00:02:02Z"
        ],
        [
         5494,
         "Anne Allen",
         27,
         "2015-12-16T15:20:05Z"
        ],
        [
         5069,
         "Amanda Ball",
         25,
         "2016-01-13T17:36:30Z"
        ],
        [
         2923,
         "Brian Nelson",
         26,
         "2015-11-11T03:20:57Z"
        ],
        [
         3089,
         "Abigail Ali",
         20,
         "2015-10-24T11:23:51Z"
        ],
        [
         6063,
         "Corey Andrews",
         23,
         "2015-11-25T13:36:22Z"
        ],
        [
         3454,
         "Robert Murphy",
         48,
         "2017-09-26T16:31:56Z"
        ],
        [
         7554,
         "Cheryl Huerta",
         20,
         "2017-04-11T16:35:33Z"
        ],
        [
         6145,
         "Emily Hawkins",
         30,
         "2015-12-25T20:24:37Z"
        ],
        [
         10625,
         "Christian Lang",
         32,
         "2017-10-10T20:09:33Z"
        ],
        [
         2959,
         "David Griffith",
         20,
         "2016-01-07T19:49:22Z"
        ],
        [
         9875,
         "Brendan Joseph",
         26,
         "2015-12-20T10:28:00Z"
        ],
        [
         2418,
         "Amanda Adams",
         20,
         "2015-10-21T08:27:36Z"
        ],
        [
         3156,
         "Andrew Baker",
         22,
         "2015-12-21T08:06:54Z"
        ],
        [
         428,
         "Claudia Adams",
         20,
         "2015-11-28T02:20:29Z"
        ],
        [
         7343,
         "Anne Clayton",
         24,
         "2016-01-11T12:03:48Z"
        ],
        [
         2074,
         "Annette Forbes",
         21,
         "2016-01-03T15:42:12Z"
        ],
        [
         9979,
         "Kaylee Miller",
         31,
         "2016-11-09T19:50:51Z"
        ],
        [
         10138,
         "Carol Silva",
         22,
         "2015-12-31T14:57:02Z"
        ],
        [
         9672,
         "Jennifer Hudson",
         22,
         "2016-02-11T20:46:04Z"
        ],
        [
         8653,
         "Tammy Davis",
         24,
         "2016-03-09T10:48:14Z"
        ],
        [
         8887,
         "Austin Rodriguez",
         24,
         "2016-03-31T20:56:39Z"
        ],
        [
         7922,
         "Denise Adams",
         21,
         "2015-11-12T06:21:36Z"
        ],
        [
         1014,
         "Gregory Ramsey",
         56,
         "2016-10-15T17:21:39Z"
        ],
        [
         4913,
         "Angela Brooks",
         24,
         "2015-11-20T05:37:11Z"
        ],
        [
         4137,
         "Michael Decker",
         59,
         "2017-06-29T22:35:17Z"
        ],
        [
         7528,
         "Abigail Ali",
         20,
         "2015-10-24T11:23:51Z"
        ],
        [
         2863,
         "Dylan Holmes",
         32,
         "2016-10-23T14:06:51Z"
        ],
        [
         5730,
         "Rachel Davis",
         36,
         "2015-12-08T20:02:43Z"
        ],
        [
         8304,
         "Charles Berry",
         25,
         "2015-12-28T04:21:39Z"
        ],
        [
         8731,
         "Andrea Alexander",
         21,
         "2015-11-10T09:27:42Z"
        ],
        [
         1313,
         "Brittany Jones",
         32,
         "2016-04-02T03:51:23Z"
        ],
        [
         4315,
         "Michelle Prince",
         36,
         "2015-12-20T16:38:13Z"
        ],
        [
         10794,
         "Thomas Turner",
         34,
         "2016-12-22T00:02:02Z"
        ],
        [
         5494,
         "Anne Allen",
         27,
         "2015-12-16T15:20:05Z"
        ],
        [
         5069,
         "Amanda Ball",
         25,
         "2016-01-13T17:36:30Z"
        ],
        [
         2923,
         "Brian Nelson",
         26,
         "2015-11-11T03:20:57Z"
        ],
        [
         3089,
         "Abigail Ali",
         20,
         "2015-10-24T11:23:51Z"
        ],
        [
         6063,
         "Corey Andrews",
         23,
         "2015-11-25T13:36:22Z"
        ],
        [
         3454,
         "Robert Murphy",
         48,
         "2017-09-26T16:31:56Z"
        ],
        [
         7554,
         "Cheryl Huerta",
         20,
         "2017-04-11T16:35:33Z"
        ],
        [
         6145,
         "Emily Hawkins",
         30,
         "2015-12-25T20:24:37Z"
        ],
        [
         10625,
         "Christian Lang",
         32,
         "2017-10-10T20:09:33Z"
        ],
        [
         2959,
         "David Griffith",
         20,
         "2016-01-07T19:49:22Z"
        ],
        [
         9875,
         "Brendan Joseph",
         26,
         "2015-12-20T10:28:00Z"
        ],
        [
         2418,
         "Amanda Adams",
         20,
         "2015-10-21T08:27:36Z"
        ],
        [
         3156,
         "Andrew Baker",
         22,
         "2015-12-21T08:06:54Z"
        ],
        [
         428,
         "Claudia Adams",
         20,
         "2015-11-28T02:20:29Z"
        ],
        [
         7343,
         "Anne Clayton",
         24,
         "2016-01-11T12:03:48Z"
        ],
        [
         2074,
         "Annette Forbes",
         21,
         "2016-01-03T15:42:12Z"
        ],
        [
         9979,
         "Kaylee Miller",
         31,
         "2016-11-09T19:50:51Z"
        ],
        [
         10138,
         "Carol Silva",
         22,
         "2015-12-31T14:57:02Z"
        ],
        [
         9672,
         "Jennifer Hudson",
         22,
         "2016-02-11T20:46:04Z"
        ],
        [
         8653,
         "Tammy Davis",
         24,
         "2016-03-09T10:48:14Z"
        ],
        [
         8887,
         "Austin Rodriguez",
         24,
         "2016-03-31T20:56:39Z"
        ],
        [
         7922,
         "Denise Adams",
         21,
         "2015-11-12T06:21:36Z"
        ],
        [
         1014,
         "Gregory Ramsey",
         56,
         "2016-10-15T17:21:39Z"
        ],
        [
         4913,
         "Angela Brooks",
         24,
         "2015-11-20T05:37:11Z"
        ],
        [
         4137,
         "Michael Decker",
         59,
         "2017-06-29T22:35:17Z"
        ],
        [
         7166,
         "Alvin Adams",
         20,
         "2016-01-01T13:50:40Z"
        ],
        [
         9546,
         "Alex Barnes",
         20,
         "2016-02-27T21:13:44Z"
        ],
        [
         2411,
         "Aaron Bartlett",
         21,
         "2015-11-24T02:15:36Z"
        ],
        [
         9590,
         "Amanda Allen",
         22,
         "2015-10-24T18:56:30Z"
        ],
        [
         2698,
         "Kayla Burton",
         44,
         "2017-06-21T19:53:27Z"
        ],
        [
         4508,
         "Michael Carter",
         58,
         "2016-06-03T23:35:30Z"
        ],
        [
         831,
         "Aimee Collins",
         28,
         "2016-06-16T02:06:38Z"
        ],
        [
         5076,
         "Christopher Butler",
         20,
         "2015-12-01T15:08:31Z"
        ],
        [
         10663,
         "Julie Cox",
         23,
         "2016-06-23T14:38:00Z"
        ],
        [
         5468,
         "Lisa Gamble",
         20,
         "2016-07-23T20:51:06Z"
        ],
        [
         205,
         "Brett Bryant",
         20,
         "2015-10-23T12:40:19Z"
        ],
        [
         7790,
         "Michelle Gutierrez",
         39,
         "2017-07-19T07:12:04Z"
        ],
        [
         8606,
         "Denise Adams",
         21,
         "2015-11-12T06:21:36Z"
        ],
        [
         9759,
         "Daniel Brooks",
         25,
         "2015-11-19T21:24:33Z"
        ],
        [
         719,
         "Alicia Avila",
         20,
         "2016-01-26T01:49:23Z"
        ],
        [
         1704,
         "Barry Lynn",
         20,
         "2015-10-28T05:00:33Z"
        ],
        [
         2482,
         "David Moss",
         22,
         "2016-03-01T07:11:48Z"
        ],
        [
         8930,
         "Andrew Anderson",
         23,
         "2015-11-28T11:52:37Z"
        ],
        [
         7294,
         "Dawn Anderson",
         20,
         "2016-12-31T00:06:36Z"
        ],
        [
         808,
         "Aaron Bartlett",
         21,
         "2015-11-24T02:15:36Z"
        ],
        [
         771,
         "Brittany Butler",
         32,
         "2016-03-10T04:11:31Z"
        ],
        [
         4076,
         "Larry Pineda",
         20,
         "2015-10-23T22:47:39Z"
        ],
        [
         1545,
         "Jonathan Avila",
         46,
         "2015-11-27T23:11:21Z"
        ],
        [
         2293,
         "Alex Bean",
         24,
         "2016-01-11T23:08:27Z"
        ],
        [
         10509,
         "Brittany Thompson",
         49,
         "2016-04-22T20:36:02Z"
        ],
        [
         2015,
         "Christopher Bradshaw",
         27,
         "2016-03-08T13:38:37Z"
        ],
        [
         1094,
         "Ann Elliott",
         20,
         "2016-07-02T02:32:30Z"
        ],
        [
         603,
         "Brandon Jackson",
         44,
         "2016-10-29T02:07:21Z"
        ],
        [
         7768,
         "Christine Cortez",
         23,
         "2015-12-01T18:15:02Z"
        ],
        [
         5630,
         "Carlos Estrada",
         22,
         "2016-02-09T17:01:38Z"
        ],
        [
         8578,
         "Joe Pham",
         48,
         "2017-06-01T23:13:27Z"
        ],
        [
         9936,
         "Anthony Cantu",
         28,
         "2016-11-15T10:40:03Z"
        ],
        [
         6844,
         "Peter Roberts",
         30,
         "2016-07-03T10:59:40Z"
        ],
        [
         3419,
         "Aaron Jenkins",
         47,
         "2017-04-26T03:26:23Z"
        ],
        [
         7528,
         "Abigail Ali",
         20,
         "2015-10-24T11:23:51Z"
        ],
        [
         2863,
         "Dylan Holmes",
         32,
         "2016-10-23T14:06:51Z"
        ],
        [
         5730,
         "Rachel Davis",
         36,
         "2015-12-08T20:02:43Z"
        ],
        [
         8304,
         "Charles Berry",
         25,
         "2015-12-28T04:21:39Z"
        ],
        [
         8731,
         "Andrea Alexander",
         21,
         "2015-11-10T09:27:42Z"
        ],
        [
         1313,
         "Brittany Jones",
         32,
         "2016-04-02T03:51:23Z"
        ],
        [
         4315,
         "Michelle Prince",
         36,
         "2015-12-20T16:38:13Z"
        ],
        [
         10794,
         "Thomas Turner",
         34,
         "2016-12-22T00:02:02Z"
        ],
        [
         5494,
         "Anne Allen",
         27,
         "2015-12-16T15:20:05Z"
        ],
        [
         5069,
         "Amanda Ball",
         25,
         "2016-01-13T17:36:30Z"
        ],
        [
         2923,
         "Brian Nelson",
         26,
         "2015-11-11T03:20:57Z"
        ],
        [
         3089,
         "Abigail Ali",
         20,
         "2015-10-24T11:23:51Z"
        ],
        [
         6063,
         "Corey Andrews",
         23,
         "2015-11-25T13:36:22Z"
        ],
        [
         3454,
         "Robert Murphy",
         48,
         "2017-09-26T16:31:56Z"
        ],
        [
         7554,
         "Cheryl Huerta",
         20,
         "2017-04-11T16:35:33Z"
        ],
        [
         6145,
         "Emily Hawkins",
         30,
         "2015-12-25T20:24:37Z"
        ],
        [
         10625,
         "Christian Lang",
         32,
         "2017-10-10T20:09:33Z"
        ],
        [
         2959,
         "David Griffith",
         20,
         "2016-01-07T19:49:22Z"
        ],
        [
         9875,
         "Brendan Joseph",
         26,
         "2015-12-20T10:28:00Z"
        ],
        [
         2418,
         "Amanda Adams",
         20,
         "2015-10-21T08:27:36Z"
        ],
        [
         3156,
         "Andrew Baker",
         22,
         "2015-12-21T08:06:54Z"
        ],
        [
         428,
         "Claudia Adams",
         20,
         "2015-11-28T02:20:29Z"
        ],
        [
         7343,
         "Anne Clayton",
         24,
         "2016-01-11T12:03:48Z"
        ],
        [
         2074,
         "Annette Forbes",
         21,
         "2016-01-03T15:42:12Z"
        ],
        [
         9979,
         "Kaylee Miller",
         31,
         "2016-11-09T19:50:51Z"
        ],
        [
         10138,
         "Carol Silva",
         22,
         "2015-12-31T14:57:02Z"
        ],
        [
         9672,
         "Jennifer Hudson",
         22,
         "2016-02-11T20:46:04Z"
        ],
        [
         8653,
         "Tammy Davis",
         24,
         "2016-03-09T10:48:14Z"
        ],
        [
         8887,
         "Austin Rodriguez",
         24,
         "2016-03-31T20:56:39Z"
        ],
        [
         7922,
         "Denise Adams",
         21,
         "2015-11-12T06:21:36Z"
        ],
        [
         1014,
         "Gregory Ramsey",
         56,
         "2016-10-15T17:21:39Z"
        ],
        [
         4913,
         "Angela Brooks",
         24,
         "2015-11-20T05:37:11Z"
        ],
        [
         4137,
         "Michael Decker",
         59,
         "2017-06-29T22:35:17Z"
        ],
        [
         7166,
         "Alvin Adams",
         20,
         "2016-01-01T13:50:40Z"
        ],
        [
         9546,
         "Alex Barnes",
         20,
         "2016-02-27T21:13:44Z"
        ],
        [
         2411,
         "Aaron Bartlett",
         21,
         "2015-11-24T02:15:36Z"
        ],
        [
         9590,
         "Amanda Allen",
         22,
         "2015-10-24T18:56:30Z"
        ],
        [
         2698,
         "Kayla Burton",
         44,
         "2017-06-21T19:53:27Z"
        ],
        [
         4508,
         "Michael Carter",
         58,
         "2016-06-03T23:35:30Z"
        ],
        [
         831,
         "Aimee Collins",
         28,
         "2016-06-16T02:06:38Z"
        ],
        [
         5076,
         "Christopher Butler",
         20,
         "2015-12-01T15:08:31Z"
        ],
        [
         10663,
         "Julie Cox",
         23,
         "2016-06-23T14:38:00Z"
        ],
        [
         5468,
         "Lisa Gamble",
         20,
         "2016-07-23T20:51:06Z"
        ],
        [
         205,
         "Brett Bryant",
         20,
         "2015-10-23T12:40:19Z"
        ],
        [
         7790,
         "Michelle Gutierrez",
         39,
         "2017-07-19T07:12:04Z"
        ],
        [
         8606,
         "Denise Adams",
         21,
         "2015-11-12T06:21:36Z"
        ],
        [
         9759,
         "Daniel Brooks",
         25,
         "2015-11-19T21:24:33Z"
        ],
        [
         719,
         "Alicia Avila",
         20,
         "2016-01-26T01:49:23Z"
        ],
        [
         1704,
         "Barry Lynn",
         20,
         "2015-10-28T05:00:33Z"
        ],
        [
         2482,
         "David Moss",
         22,
         "2016-03-01T07:11:48Z"
        ],
        [
         8930,
         "Andrew Anderson",
         23,
         "2015-11-28T11:52:37Z"
        ],
        [
         7294,
         "Dawn Anderson",
         20,
         "2016-12-31T00:06:36Z"
        ],
        [
         7528,
         "Abigail Ali",
         20,
         "2015-10-24T11:23:51Z"
        ],
        [
         2863,
         "Dylan Holmes",
         32,
         "2016-10-23T14:06:51Z"
        ],
        [
         5730,
         "Rachel Davis",
         36,
         "2015-12-08T20:02:43Z"
        ],
        [
         8304,
         "Charles Berry",
         25,
         "2015-12-28T04:21:39Z"
        ],
        [
         8731,
         "Andrea Alexander",
         21,
         "2015-11-10T09:27:42Z"
        ],
        [
         1313,
         "Brittany Jones",
         32,
         "2016-04-02T03:51:23Z"
        ],
        [
         4315,
         "Michelle Prince",
         36,
         "2015-12-20T16:38:13Z"
        ],
        [
         10794,
         "Thomas Turner",
         34,
         "2016-12-22T00:02:02Z"
        ],
        [
         5494,
         "Anne Allen",
         27,
         "2015-12-16T15:20:05Z"
        ],
        [
         5069,
         "Amanda Ball",
         25,
         "2016-01-13T17:36:30Z"
        ],
        [
         2923,
         "Brian Nelson",
         26,
         "2015-11-11T03:20:57Z"
        ],
        [
         3089,
         "Abigail Ali",
         20,
         "2015-10-24T11:23:51Z"
        ],
        [
         6063,
         "Corey Andrews",
         23,
         "2015-11-25T13:36:22Z"
        ],
        [
         3454,
         "Robert Murphy",
         48,
         "2017-09-26T16:31:56Z"
        ],
        [
         7554,
         "Cheryl Huerta",
         20,
         "2017-04-11T16:35:33Z"
        ],
        [
         6145,
         "Emily Hawkins",
         30,
         "2015-12-25T20:24:37Z"
        ],
        [
         10625,
         "Christian Lang",
         32,
         "2017-10-10T20:09:33Z"
        ],
        [
         2959,
         "David Griffith",
         20,
         "2016-01-07T19:49:22Z"
        ],
        [
         9875,
         "Brendan Joseph",
         26,
         "2015-12-20T10:28:00Z"
        ],
        [
         2418,
         "Amanda Adams",
         20,
         "2015-10-21T08:27:36Z"
        ],
        [
         3156,
         "Andrew Baker",
         22,
         "2015-12-21T08:06:54Z"
        ],
        [
         428,
         "Claudia Adams",
         20,
         "2015-11-28T02:20:29Z"
        ],
        [
         7343,
         "Anne Clayton",
         24,
         "2016-01-11T12:03:48Z"
        ],
        [
         2074,
         "Annette Forbes",
         21,
         "2016-01-03T15:42:12Z"
        ],
        [
         9979,
         "Kaylee Miller",
         31,
         "2016-11-09T19:50:51Z"
        ],
        [
         10138,
         "Carol Silva",
         22,
         "2015-12-31T14:57:02Z"
        ],
        [
         9672,
         "Jennifer Hudson",
         22,
         "2016-02-11T20:46:04Z"
        ],
        [
         8653,
         "Tammy Davis",
         24,
         "2016-03-09T10:48:14Z"
        ],
        [
         8887,
         "Austin Rodriguez",
         24,
         "2016-03-31T20:56:39Z"
        ],
        [
         7922,
         "Denise Adams",
         21,
         "2015-11-12T06:21:36Z"
        ],
        [
         1014,
         "Gregory Ramsey",
         56,
         "2016-10-15T17:21:39Z"
        ],
        [
         4913,
         "Angela Brooks",
         24,
         "2015-11-20T05:37:11Z"
        ],
        [
         4137,
         "Michael Decker",
         59,
         "2017-06-29T22:35:17Z"
        ],
        [
         7166,
         "Alvin Adams",
         20,
         "2016-01-01T13:50:40Z"
        ],
        [
         9546,
         "Alex Barnes",
         20,
         "2016-02-27T21:13:44Z"
        ],
        [
         2411,
         "Aaron Bartlett",
         21,
         "2015-11-24T02:15:36Z"
        ],
        [
         9590,
         "Amanda Allen",
         22,
         "2015-10-24T18:56:30Z"
        ],
        [
         2698,
         "Kayla Burton",
         44,
         "2017-06-21T19:53:27Z"
        ],
        [
         4508,
         "Michael Carter",
         58,
         "2016-06-03T23:35:30Z"
        ],
        [
         831,
         "Aimee Collins",
         28,
         "2016-06-16T02:06:38Z"
        ],
        [
         5076,
         "Christopher Butler",
         20,
         "2015-12-01T15:08:31Z"
        ],
        [
         10663,
         "Julie Cox",
         23,
         "2016-06-23T14:38:00Z"
        ],
        [
         5468,
         "Lisa Gamble",
         20,
         "2016-07-23T20:51:06Z"
        ],
        [
         205,
         "Brett Bryant",
         20,
         "2015-10-23T12:40:19Z"
        ],
        [
         7790,
         "Michelle Gutierrez",
         39,
         "2017-07-19T07:12:04Z"
        ],
        [
         8606,
         "Denise Adams",
         21,
         "2015-11-12T06:21:36Z"
        ],
        [
         9759,
         "Daniel Brooks",
         25,
         "2015-11-19T21:24:33Z"
        ],
        [
         719,
         "Alicia Avila",
         20,
         "2016-01-26T01:49:23Z"
        ],
        [
         1704,
         "Barry Lynn",
         20,
         "2015-10-28T05:00:33Z"
        ],
        [
         2482,
         "David Moss",
         22,
         "2016-03-01T07:11:48Z"
        ],
        [
         8930,
         "Andrew Anderson",
         23,
         "2015-11-28T11:52:37Z"
        ],
        [
         7294,
         "Dawn Anderson",
         20,
         "2016-12-31T00:06:36Z"
        ],
        [
         808,
         "Aaron Bartlett",
         21,
         "2015-11-24T02:15:36Z"
        ],
        [
         771,
         "Brittany Butler",
         32,
         "2016-03-10T04:11:31Z"
        ],
        [
         4076,
         "Larry Pineda",
         20,
         "2015-10-23T22:47:39Z"
        ],
        [
         1545,
         "Jonathan Avila",
         46,
         "2015-11-27T23:11:21Z"
        ],
        [
         2293,
         "Alex Bean",
         24,
         "2016-01-11T23:08:27Z"
        ],
        [
         10509,
         "Brittany Thompson",
         49,
         "2016-04-22T20:36:02Z"
        ],
        [
         2015,
         "Christopher Bradshaw",
         27,
         "2016-03-08T13:38:37Z"
        ],
        [
         1094,
         "Ann Elliott",
         20,
         "2016-07-02T02:32:30Z"
        ],
        [
         603,
         "Brandon Jackson",
         44,
         "2016-10-29T02:07:21Z"
        ],
        [
         7768,
         "Christine Cortez",
         23,
         "2015-12-01T18:15:02Z"
        ],
        [
         5630,
         "Carlos Estrada",
         22,
         "2016-02-09T17:01:38Z"
        ],
        [
         8578,
         "Joe Pham",
         48,
         "2017-06-01T23:13:27Z"
        ],
        [
         9936,
         "Anthony Cantu",
         28,
         "2016-11-15T10:40:03Z"
        ],
        [
         6844,
         "Peter Roberts",
         30,
         "2016-07-03T10:59:40Z"
        ],
        [
         3419,
         "Aaron Jenkins",
         47,
         "2017-04-26T03:26:23Z"
        ],
        [
         1268,
         "Donna Campbell",
         32,
         "2016-06-08T22:10:13Z"
        ],
        [
         6566,
         "Alexander Perez",
         31,
         "2017-08-04T14:30:22Z"
        ],
        [
         1555,
         "Alexis Bennett",
         54,
         "2016-05-15T04:22:01Z"
        ],
        [
         3729,
         "Richard Edwards",
         52,
         "2016-02-07T20:00:25Z"
        ],
        [
         6398,
         "Christina Davenport",
         39,
         "2016-06-29T20:43:59Z"
        ],
        [
         46,
         "Erik Kelley",
         30,
         "2016-01-06T09:58:56Z"
        ],
        [
         4988,
         "Rhonda Durham",
         25,
         "2017-07-20T05:51:23Z"
        ],
        [
         427,
         "Jon Burke",
         25,
         "2015-11-26T17:42:37Z"
        ],
        [
         3800,
         "Adam Armstrong",
         20,
         "2015-12-17T08:43:40Z"
        ],
        [
         159,
         "Alison Bell",
         21,
         "2016-01-07T08:11:35Z"
        ],
        [
         3599,
         "Alexandria Alvarado",
         20,
         "2015-10-23T04:13:23Z"
        ],
        [
         10552,
         "Michael Hunter",
         40,
         "2017-05-16T07:09:21Z"
        ],
        [
         1422,
         "Aaron Abbott",
         20,
         "2015-10-31T18:51:07Z"
        ],
        [
         5309,
         "Daniel Roy",
         31,
         "2016-03-07T01:01:24Z"
        ],
        [
         552,
         "Regina Morales",
         20,
         "2017-01-17T01:49:27Z"
        ],
        [
         1371,
         "Amanda Brown",
         20,
         "2015-11-12T03:23:49Z"
        ],
        [
         10119,
         "Chelsea Gonzalez",
         43,
         "2016-07-21T15:25:08Z"
        ],
        [
         9074,
         "Aaron Alexander",
         21,
         "2015-10-25T07:36:08Z"
        ],
        [
         2604,
         "Ashley Evans",
         30,
         "2016-02-21T12:54:01Z"
        ],
        [
         223,
         "Melanie Hill",
         51,
         "2016-10-09T14:47:51Z"
        ],
        [
         8312,
         "Daniel Brooks",
         25,
         "2015-11-19T21:24:33Z"
        ],
        [
         2858,
         "Anne Bond",
         21,
         "2015-12-27T23:43:42Z"
        ],
        [
         6261,
         "Nicholas Hart",
         38,
         "2015-10-26T09:45:45Z"
        ],
        [
         3201,
         "Elizabeth Terry",
         28,
         "2016-01-29T20:32:05Z"
        ],
        [
         2637,
         "Shawn Jones",
         32,
         "2016-08-23T20:36:12Z"
        ],
        [
         1198,
         "Ariana Gross",
         59,
         "2016-12-17T11:10:48Z"
        ],
        [
         10370,
         "Derrick Kim",
         30,
         "2016-12-21T13:39:14Z"
        ],
        [
         7167,
         "Dawn Bradley",
         20,
         "2016-08-26T16:09:52Z"
        ],
        [
         10673,
         "Alexander Cervantes",
         59,
         "2017-05-12T21:22:17Z"
        ],
        [
         2060,
         "Joshua Long",
         27,
         "2016-12-18T10:11:23Z"
        ],
        [
         9487,
         "Jose Bailey",
         21,
         "2016-01-10T09:41:14Z"
        ],
        [
         772,
         "Glenn Hammond",
         25,
         "2016-04-27T02:59:27Z"
        ],
        [
         7510,
         "Debra Becker",
         20,
         "2016-07-27T06:20:48Z"
        ],
        [
         5758,
         "Amanda Arnold",
         20,
         "2015-10-26T23:04:52Z"
        ],
        [
         1137,
         "Virginia Vega",
         38,
         "2017-05-03T03:08:33Z"
        ],
        [
         7234,
         "Angela Allen",
         20,
         "2015-10-26T04:12:32Z"
        ],
        [
         327,
         "Jill Taylor",
         39,
         "2015-12-04T03:15:28Z"
        ],
        [
         7874,
         "Aaron Abbott",
         20,
         "2015-10-23T16:08:41Z"
        ],
        [
         1450,
         "Aaron Abbott",
         20,
         "2015-10-31T18:51:07Z"
        ],
        [
         10245,
         "Julie Cook",
         34,
         "2016-05-08T16:27:01Z"
        ],
        [
         9093,
         "Albert Adams",
         21,
         "2015-11-05T22:07:56Z"
        ],
        [
         2301,
         "Karina Morton",
         31,
         "2016-01-21T12:53:34Z"
        ],
        [
         2788,
         "Jesus Arellano",
         43,
         "2016-03-22T15:45:21Z"
        ],
        [
         9268,
         "Alexander Bailey",
         20,
         "2015-10-30T11:37:32Z"
        ],
        [
         1706,
         "Amy Adams",
         20,
         "2015-10-24T05:05:28Z"
        ],
        [
         5293,
         "David Taylor",
         36,
         "2016-06-03T23:53:50Z"
        ],
        [
         7733,
         "Aaron Abbott",
         20,
         "2015-10-23T16:08:41Z"
        ],
        [
         3716,
         "Catherine Ferrell",
         21,
         "2017-01-02T03:01:09Z"
        ],
        [
         3750,
         "Gary Barker",
         28,
         "2015-11-26T11:23:50Z"
        ],
        [
         232,
         "Sarah Buchanan",
         33,
         "2017-04-19T08:49:40Z"
        ],
        [
         8300,
         "Nathan Stanton",
         51,
         "2017-08-14T08:26:30Z"
        ],
        [
         8978,
         "Mark Jones",
         34,
         "2017-08-22T00:01:29Z"
        ],
        [
         2048,
         "Ann Chung",
         22,
         "2015-11-18T23:11:15Z"
        ],
        [
         10337,
         "Carrie Parker",
         46,
         "2016-09-11T22:32:50Z"
        ],
        [
         7832,
         "Samuel Hawkins",
         39,
         "2016-06-30T02:56:06Z"
        ],
        [
         8366,
         "Justin Ewing",
         56,
         "2016-02-04T23:27:36Z"
        ],
        [
         3334,
         "Amber Casey",
         23,
         "2016-01-06T12:22:08Z"
        ],
        [
         778,
         "Christine Adams",
         31,
         "2016-02-06T10:22:53Z"
        ],
        [
         480,
         "Timothy Sullivan",
         40,
         "2017-01-12T08:37:12Z"
        ],
        [
         3011,
         "Justin Singleton",
         20,
         "2017-03-10T19:53:44Z"
        ],
        [
         9475,
         "Jessica Mejia",
         40,
         "2016-01-03T12:03:05Z"
        ],
        [
         7586,
         "Aaron Alexander",
         21,
         "2015-10-25T07:36:08Z"
        ],
        [
         1864,
         "Alexander Adams",
         32,
         "2015-10-28T15:48:24Z"
        ],
        [
         6014,
         "Mary Luna",
         22,
         "2016-01-02T01:40:52Z"
        ],
        [
         1967,
         "Jay Flynn",
         24,
         "2016-05-12T16:28:27Z"
        ],
        [
         1699,
         "Brandon Cummings",
         22,
         "2016-05-11T01:36:00Z"
        ],
        [
         4996,
         "John Anderson",
         27,
         "2016-03-03T07:28:39Z"
        ],
        [
         10168,
         "Nicole Gray",
         53,
         "2016-02-20T13:03:00Z"
        ],
        [
         5333,
         "Aaron Clark",
         35,
         "2016-11-19T22:36:49Z"
        ],
        [
         2565,
         "Anthony Adkins",
         21,
         "2015-10-28T03:59:42Z"
        ],
        [
         9778,
         "Holly Campbell",
         30,
         "2016-07-08T19:10:37Z"
        ],
        [
         3145,
         "Crystal Schmidt",
         22,
         "2017-04-14T13:57:52Z"
        ],
        [
         1341,
         "Abigail Ali",
         20,
         "2015-10-24T11:23:51Z"
        ],
        [
         5162,
         "James Jacobson",
         28,
         "2017-04-30T16:41:26Z"
        ],
        [
         5151,
         "Mary Jordan",
         26,
         "2017-06-12T16:02:59Z"
        ],
        [
         2498,
         "Jeremy Chase",
         50,
         "2017-07-31T16:56:52Z"
        ],
        [
         7268,
         "Alejandra Acevedo",
         20,
         "2015-11-24T21:01:23Z"
        ],
        [
         3351,
         "Eric Taylor",
         39,
         "2017-04-04T06:05:03Z"
        ],
        [
         7738,
         "Alexis George",
         34,
         "2016-02-26T00:38:01Z"
        ],
        [
         8886,
         "Abigail Bates",
         20,
         "2015-11-07T20:59:32Z"
        ],
        [
         5742,
         "Barbara Edwards",
         24,
         "2016-01-09T19:37:29Z"
        ],
        [
         1362,
         "Nancy Case",
         23,
         "2016-02-18T08:44:33Z"
        ],
        [
         995,
         "Jason Horne",
         27,
         "2016-02-06T15:31:57Z"
        ],
        [
         6250,
         "Lydia Nelson",
         59,
         "2016-09-06T06:21:57Z"
        ],
        [
         3184,
         "Allison Dawson",
         35,
         "2016-02-04T14:45:39Z"
        ],
        [
         2955,
         "Kevin Young",
         58,
         "2016-09-18T07:28:19Z"
        ],
        [
         4357,
         "Allison Adams",
         22,
         "2015-11-30T10:51:59Z"
        ],
        [
         3563,
         "Gerald Davis",
         55,
         "2017-08-11T14:24:41Z"
        ],
        [
         6558,
         "Gary Tanner",
         43,
         "2016-11-29T22:22:47Z"
        ],
        [
         4256,
         "Alexandria Alvarado",
         20,
         "2015-10-23T04:13:23Z"
        ],
        [
         450,
         "Amanda Benitez",
         21,
         "2015-11-01T09:16:18Z"
        ],
        [
         3945,
         "Beth Johnson",
         30,
         "2015-11-29T15:45:13Z"
        ],
        [
         859,
         "Scott Page",
         44,
         "2015-10-31T14:35:30Z"
        ],
        [
         1521,
         "Mindy Garrison",
         29,
         "2016-02-18T23:18:39Z"
        ],
        [
         1961,
         "Adrienne Barrett",
         22,
         "2015-11-04T15:48:14Z"
        ],
        [
         10099,
         "Amanda Carlson",
         21,
         "2015-11-23T09:01:37Z"
        ],
        [
         6066,
         "Angela Flores",
         28,
         "2015-10-29T08:51:34Z"
        ],
        [
         10837,
         "Mark Richardson",
         55,
         "2015-11-18T05:46:35Z"
        ],
        [
         6615,
         "Barry West",
         44,
         "2016-08-13T21:13:14Z"
        ],
        [
         7641,
         "Aaron Anderson",
         21,
         "2015-10-24T05:35:27Z"
        ],
        [
         640,
         "Aaron Anderson",
         21,
         "2015-10-24T05:35:27Z"
        ],
        [
         8174,
         "Andrew Brown",
         25,
         "2016-03-26T04:30:23Z"
        ],
        [
         1216,
         "Juan Cortez",
         20,
         "2016-04-07T13:02:08Z"
        ],
        [
         680,
         "Diana Ballard",
         23,
         "2017-01-12T11:17:31Z"
        ],
        [
         9527,
         "Vernon Brown",
         55,
         "2017-08-04T01:04:25Z"
        ],
        [
         9426,
         "Nicholas Mcdaniel",
         45,
         "2017-05-24T01:41:26Z"
        ],
        [
         8745,
         "Grant Villanueva",
         53,
         "2016-02-14T19:17:10Z"
        ],
        [
         5959,
         "Jason Brooks",
         28,
         "2015-12-21T00:33:51Z"
        ],
        [
         2577,
         "Amy Adams",
         20,
         "2015-10-24T05:05:28Z"
        ],
        [
         3008,
         "Scott Houston",
         58,
         "2016-10-22T16:08:50Z"
        ],
        [
         8081,
         "Carmen Taylor",
         40,
         "2016-08-02T19:06:12Z"
        ],
        [
         10120,
         "Jacob Baird",
         24,
         "2016-02-25T08:52:45Z"
        ],
        [
         4045,
         "Amanda Allen",
         21,
         "2015-11-16T23:15:00Z"
        ],
        [
         1599,
         "Linda Rojas",
         42,
         "2017-01-31T05:08:14Z"
        ],
        [
         2893,
         "Nancy Choi",
         50,
         "2016-07-27T16:22:59Z"
        ],
        [
         4024,
         "Adam Armstrong",
         20,
         "2015-12-17T08:43:40Z"
        ],
        [
         310,
         "Amanda Benitez",
         21,
         "2015-11-01T09:16:18Z"
        ],
        [
         7905,
         "Anthony Duncan",
         47,
         "2016-01-01T03:57:19Z"
        ],
        [
         5488,
         "Heather Edwards",
         33,
         "2016-01-16T18:25:10Z"
        ],
        [
         744,
         "Brian Lloyd",
         38,
         "2016-12-15T07:06:03Z"
        ],
        [
         7801,
         "Nancy Clay",
         36,
         "2016-01-12T18:33:12Z"
        ],
        [
         5620,
         "Daniel Anderson",
         20,
         "2017-02-10T13:39:15Z"
        ],
        [
         8341,
         "Amber Robinson",
         31,
         "2016-09-05T14:41:44Z"
        ],
        [
         10022,
         "Alyssa Greene",
         50,
         "2017-05-03T07:29:04Z"
        ],
        [
         6134,
         "Jacob Baker",
         33,
         "2015-11-29T07:33:20Z"
        ],
        [
         3824,
         "Aaron Berry",
         28,
         "2016-04-12T03:40:13Z"
        ],
        [
         7116,
         "Michael Mcconnell",
         59,
         "2017-06-01T10:55:10Z"
        ],
        [
         74,
         "Amanda Benitez",
         21,
         "2015-11-01T09:16:18Z"
        ],
        [
         1335,
         "Benjamin Campbell",
         20,
         "2015-11-16T13:25:08Z"
        ],
        [
         4513,
         "Charlotte Pitts",
         60,
         "2017-07-18T11:50:18Z"
        ],
        [
         7850,
         "Joseph Kelly",
         44,
         "2017-09-28T16:41:00Z"
        ],
        [
         10248,
         "Elizabeth English",
         25,
         "2016-08-19T02:29:26Z"
        ],
        [
         8123,
         "Courtney Chung",
         46,
         "2016-05-11T23:09:30Z"
        ],
        [
         2987,
         "Charles Robinson",
         41,
         "2015-12-22T01:36:15Z"
        ],
        [
         1487,
         "Jonathan Rodriguez",
         30,
         "2016-09-05T12:31:44Z"
        ],
        [
         10052,
         "Jamie Bryant",
         20,
         "2017-06-17T20:00:37Z"
        ],
        [
         8677,
         "Amy Brown",
         21,
         "2015-11-08T16:14:16Z"
        ],
        [
         5551,
         "Christina Haas",
         25,
         "2016-02-14T18:52:16Z"
        ],
        [
         6652,
         "Heather Arellano",
         23,
         "2016-01-02T03:36:30Z"
        ],
        [
         6479,
         "Debra Morse",
         48,
         "2016-09-12T23:54:34Z"
        ],
        [
         6660,
         "Maria Davidson",
         28,
         "2016-04-22T05:55:48Z"
        ],
        [
         9218,
         "April Barr",
         26,
         "2016-02-06T19:00:11Z"
        ],
        [
         4055,
         "Grant George",
         27,
         "2015-11-11T01:45:05Z"
        ],
        [
         7370,
         "James Keith",
         42,
         "2017-07-02T17:25:18Z"
        ],
        [
         25,
         "Amber Gray",
         24,
         "2017-07-01T07:56:15Z"
        ],
        [
         6939,
         "Erin Thompson",
         35,
         "2016-10-21T03:38:15Z"
        ],
        [
         7383,
         "Dawn Bradley",
         20,
         "2016-08-26T16:09:52Z"
        ],
        [
         3240,
         "April Brown",
         20,
         "2016-04-10T02:39:57Z"
        ],
        [
         8015,
         "Danielle Klein",
         38,
         "2016-04-11T08:54:04Z"
        ],
        [
         7745,
         "Aaron Abbott",
         20,
         "2015-10-23T16:08:41Z"
        ],
        [
         3360,
         "Amber Casey",
         23,
         "2016-01-06T12:22:08Z"
        ],
        [
         6380,
         "Matthew Newman",
         41,
         "2016-04-03T05:17:47Z"
        ],
        [
         409,
         "Alfred Chen",
         24,
         "2016-07-01T16:11:59Z"
        ],
        [
         1814,
         "Brian Hansen",
         31,
         "2016-01-30T13:25:52Z"
        ],
        [
         2343,
         "James Graves",
         43,
         "2016-01-21T09:41:10Z"
        ],
        [
         7759,
         "Aaron Alexander",
         21,
         "2015-10-25T07:36:08Z"
        ],
        [
         6717,
         "Elizabeth Green",
         20,
         "2016-06-21T10:08:09Z"
        ],
        [
         4862,
         "Jacob Castro",
         23,
         "2016-10-03T21:44:53Z"
        ],
        [
         6299,
         "Jeffrey Gordon",
         57,
         "2017-01-06T20:27:48Z"
        ],
        [
         9425,
         "Katrina Fischer",
         47,
         "2017-05-10T22:51:14Z"
        ],
        [
         1901,
         "Michelle Richardson",
         44,
         "2016-12-18T16:05:39Z"
        ],
        [
         527,
         "Carlos Dixon",
         24,
         "2015-11-09T03:47:45Z"
        ],
        [
         334,
         "Cindy Morales",
         43,
         "2016-09-01T18:15:56Z"
        ],
        [
         6348,
         "Mark Brown",
         23,
         "2016-07-24T20:27:24Z"
        ],
        [
         3626,
         "Amanda Allen",
         21,
         "2015-11-16T23:15:00Z"
        ],
        [
         1857,
         "Christopher Hamilton",
         48,
         "2016-02-27T16:57:44Z"
        ],
        [
         3660,
         "Adrian Jackson",
         28,
         "2016-04-30T10:03:19Z"
        ],
        [
         4377,
         "Samuel Thompson",
         24,
         "2017-04-08T10:18:26Z"
        ],
        [
         8505,
         "Sandra Humphrey",
         41,
         "2017-04-16T22:40:56Z"
        ],
        [
         10087,
         "Danny Ramsey",
         22,
         "2016-07-03T13:53:31Z"
        ],
        [
         10050,
         "Carla Arnold",
         34,
         "2015-12-20T18:05:14Z"
        ],
        [
         10917,
         "Valerie Rodriguez",
         31,
         "2016-07-30T01:45:47Z"
        ],
        [
         5737,
         "Alexis Bell",
         20,
         "2015-11-23T06:34:47Z"
        ],
        [
         4561,
         "Madeline Brown",
         43,
         "2016-11-11T15:53:15Z"
        ],
        [
         6916,
         "Steven Dixon",
         44,
         "2016-10-17T08:09:28Z"
        ],
        [
         6341,
         "Barbara Duran",
         22,
         "2016-11-07T11:01:26Z"
        ],
        [
         4765,
         "Danielle Gonzalez",
         36,
         "2017-02-16T16:01:34Z"
        ],
        [
         10425,
         "Andrea Carroll",
         20,
         "2016-01-21T03:54:20Z"
        ],
        [
         10783,
         "Jane Aguilar",
         32,
         "2016-03-02T01:25:48Z"
        ],
        [
         6747,
         "Matthew Simon",
         58,
         "2017-06-17T04:42:14Z"
        ],
        [
         7180,
         "Shannon Melton",
         26,
         "2017-06-07T23:07:30Z"
        ],
        [
         8100,
         "Aaron Abbott",
         20,
         "2015-10-23T16:08:41Z"
        ],
        [
         4781,
         "Cynthia Guerra",
         29,
         "2016-12-25T23:51:01Z"
        ],
        [
         1254,
         "Patricia Harvey",
         41,
         "2017-09-25T07:22:09Z"
        ],
        [
         2011,
         "Adam Anderson",
         34,
         "2016-03-14T20:42:08Z"
        ],
        [
         3436,
         "Charles Johnson",
         25,
         "2015-12-07T02:19:50Z"
        ],
        [
         4424,
         "Aaron Buchanan",
         23,
         "2016-01-17T21:06:05Z"
        ],
        [
         649,
         "Jill Gilmore",
         29,
         "2017-01-13T08:26:21Z"
        ],
        [
         8645,
         "Alexander Clark",
         21,
         "2016-02-16T17:03:44Z"
        ],
        [
         5647,
         "Calvin Atkins",
         27,
         "2016-08-31T20:20:25Z"
        ],
        [
         5704,
         "David Craig",
         30,
         "2016-01-30T06:09:57Z"
        ],
        [
         10734,
         "Jennifer Arellano",
         28,
         "2015-12-18T10:50:10Z"
        ],
        [
         4027,
         "Alexander Bailey",
         20,
         "2015-12-05T21:04:46Z"
        ],
        [
         8488,
         "Andrew Anderson",
         23,
         "2015-11-28T11:52:37Z"
        ],
        [
         5166,
         "Amy Caldwell",
         33,
         "2015-11-12T14:10:39Z"
        ],
        [
         5130,
         "Linda Blackwell",
         20,
         "2015-12-11T03:23:37Z"
        ],
        [
         1675,
         "Barbara Ford",
         50,
         "2015-12-30T08:56:15Z"
        ],
        [
         10931,
         "Aaron Bailey",
         20,
         "2015-11-02T04:40:42Z"
        ],
        [
         7240,
         "Abigail Ali",
         20,
         "2015-10-24T11:23:51Z"
        ],
        [
         3831,
         "Alexandria Alvarado",
         20,
         "2015-10-23T04:13:23Z"
        ],
        [
         5527,
         "Brian Herman",
         32,
         "2016-02-19T01:20:00Z"
        ],
        [
         6496,
         "Cindy Bennett",
         26,
         "2016-01-03T06:10:45Z"
        ],
        [
         7670,
         "Aaron Abbott",
         20,
         "2015-10-23T16:08:41Z"
        ],
        [
         6602,
         "Alexandria Anderson",
         23,
         "2015-10-31T19:20:09Z"
        ],
        [
         10804,
         "Stacy May",
         58,
         "2016-06-21T11:33:31Z"
        ],
        [
         10371,
         "Lori Campos",
         48,
         "2016-04-26T11:49:56Z"
        ],
        [
         10160,
         "Cameron Medina",
         20,
         "2016-06-02T03:51:43Z"
        ],
        [
         4654,
         "Nathan Howard",
         37,
         "2016-03-06T21:35:04Z"
        ],
        [
         7940,
         "Andrew Arnold",
         21,
         "2015-12-02T08:29:10Z"
        ],
        [
         9198,
         "Amber Chen",
         22,
         "2015-12-30T05:21:14Z"
        ],
        [
         9475,
         "Jessica Mejia",
         40,
         "2016-01-03T12:03:05Z"
        ],
        [
         501,
         "Adam Acosta",
         20,
         "2015-10-21T21:26:45Z"
        ],
        [
         10204,
         "Heather Gonzalez",
         41,
         "2016-06-14T11:16:18Z"
        ],
        [
         9185,
         "Scott Copeland",
         25,
         "2017-10-18T06:45:02Z"
        ],
        [
         7896,
         "Andrew Alvarez",
         21,
         "2015-11-10T12:55:13Z"
        ],
        [
         8448,
         "Joseph Church",
         31,
         "2017-04-29T03:22:38Z"
        ],
        [
         456,
         "Amber Cervantes",
         25,
         "2016-05-09T16:38:08Z"
        ],
        [
         2315,
         "Ashley Briggs",
         38,
         "2015-11-15T16:53:09Z"
        ],
        [
         9734,
         "Jennifer Kaiser",
         30,
         "2015-11-24T03:29:52Z"
        ],
        [
         5724,
         "Matthew Walker",
         57,
         "2015-12-07T08:51:53Z"
        ],
        [
         6976,
         "Andrea Beasley",
         23,
         "2015-11-10T10:26:14Z"
        ],
        [
         9502,
         "Brian Barnes",
         29,
         "2015-11-01T23:09:37Z"
        ],
        [
         2048,
         "Ann Chung",
         22,
         "2015-11-18T23:11:15Z"
        ],
        [
         1341,
         "Abigail Ali",
         20,
         "2015-10-24T11:23:51Z"
        ],
        [
         2553,
         "Bonnie Estrada",
         30,
         "2015-10-21T07:31:00Z"
        ],
        [
         2810,
         "Brandi Cervantes",
         35,
         "2016-05-31T01:40:44Z"
        ],
        [
         9155,
         "Aaron Alexander",
         21,
         "2015-10-25T07:36:08Z"
        ],
        [
         7448,
         "Brenda Gonzalez",
         56,
         "2015-12-07T11:53:35Z"
        ],
        [
         1173,
         "Dana Jackson",
         57,
         "2016-06-05T21:37:09Z"
        ],
        [
         1631,
         "Lauren Powell",
         30,
         "2016-05-22T08:40:37Z"
        ],
        [
         8090,
         "Aaron Abbott",
         20,
         "2015-10-23T16:08:41Z"
        ],
        [
         7511,
         "Sarah Valenzuela",
         54,
         "2016-12-08T15:53:57Z"
        ],
        [
         8996,
         "Aaron Alexander",
         21,
         "2015-10-25T07:36:08Z"
        ],
        [
         9335,
         "Amanda Adams",
         20,
         "2015-10-21T08:27:36Z"
        ],
        [
         1139,
         "Jeffrey Smith",
         30,
         "2016-10-26T06:53:14Z"
        ],
        [
         7437,
         "Alvin Adams",
         20,
         "2016-01-01T13:50:40Z"
        ],
        [
         5198,
         "James Sharp",
         23,
         "2016-10-21T08:22:24Z"
        ],
        [
         9407,
         "Amy Andrews",
         23,
         "2015-10-29T19:12:55Z"
        ],
        [
         8926,
         "Tyler Davis",
         27,
         "2016-06-14T18:48:59Z"
        ],
        [
         8592,
         "Alicia Benjamin",
         27,
         "2015-12-10T18:40:42Z"
        ],
        [
         1503,
         "Anthony Bryan",
         22,
         "2015-10-24T15:35:59Z"
        ],
        [
         7162,
         "Alan Davis",
         34,
         "2016-04-25T01:45:51Z"
        ],
        [
         4780,
         "Kristina King",
         34,
         "2015-12-17T06:10:31Z"
        ],
        [
         10020,
         "Christopher Hawkins",
         45,
         "2016-09-15T06:02:53Z"
        ],
        [
         365,
         "Kevin Torres",
         51,
         "2016-08-07T18:45:21Z"
        ],
        [
         2975,
         "Debbie Crawford",
         23,
         "2016-04-04T04:03:32Z"
        ],
        [
         6865,
         "Monica Hernandez",
         33,
         "2016-04-01T13:54:42Z"
        ],
        [
         10538,
         "Jordan Grant",
         42,
         "2016-07-29T00:56:59Z"
        ],
        [
         4249,
         "Alexandria Alvarado",
         20,
         "2015-10-23T04:13:23Z"
        ],
        [
         1514,
         "Michael Perkins",
         40,
         "2017-06-28T16:17:39Z"
        ],
        [
         7467,
         "Donna Carroll",
         21,
         "2016-02-02T12:25:05Z"
        ],
        [
         10029,
         "Anthony Baker",
         20,
         "2015-11-14T19:24:56Z"
        ],
        [
         3813,
         "James Green",
         47,
         "2016-04-27T16:02:10Z"
        ],
        [
         637,
         "Alexis Carrillo",
         24,
         "2016-01-03T01:10:04Z"
        ],
        [
         9270,
         "Amy Brown",
         21,
         "2015-11-08T16:14:16Z"
        ],
        [
         1667,
         "Bernard Arnold",
         21,
         "2015-12-12T01:39:29Z"
        ],
        [
         3032,
         "Anthony Chen",
         24,
         "2016-06-15T12:49:30Z"
        ],
        [
         4,
         "Adam Acosta",
         20,
         "2015-10-21T21:26:45Z"
        ],
        [
         6809,
         "Andrea Carroll",
         20,
         "2016-01-21T03:54:20Z"
        ],
        [
         10883,
         "Carl Hampton",
         25,
         "2015-11-26T03:43:03Z"
        ]
       ],
       "datasetInfos": [],
       "dbfsResultPath": null,
       "isJsonSchema": true,
       "metadata": {},
       "overflow": true,
       "plotOptions": {
        "customPlotOptions": {},
        "displayType": "table",
        "pivotAggregation": null,
        "pivotColumns": null,
        "xColumns": null,
        "yColumns": null
       },
       "removedWidgets": [],
       "schema": [
        {
         "metadata": "{}",
         "name": "ind",
         "type": "\"long\""
        },
        {
         "metadata": "{}",
         "name": "user_name",
         "type": "\"string\""
        },
        {
         "metadata": "{}",
         "name": "age",
         "type": "\"long\""
        },
        {
         "metadata": "{}",
         "name": "date_joined",
         "type": "\"timestamp\""
        }
       ],
       "type": "table"
      }
     },
     "output_type": "display_data"
    },
    {
     "output_type": "display_data",
     "data": {
      "text/plain": [
       "\u001B[0;31m---------------------------------------------------------------------------\u001B[0m\n",
       "\u001B[0;31mPy4JJavaError\u001B[0m                             Traceback (most recent call last)\n",
       "File \u001B[0;32m<command-294045431771656>, line 31\u001B[0m\n",
       "\u001B[1;32m     25\u001B[0m cleaned_user_df \u001B[38;5;241m=\u001B[39m clean_user_df(user_df)\n",
       "\u001B[1;32m     26\u001B[0m display(cleaned_user_df)\n",
       "\u001B[1;32m     27\u001B[0m cleaned_user_df\u001B[38;5;241m.\u001B[39mwriteStream \\\n",
       "\u001B[1;32m     28\u001B[0m   \u001B[38;5;241m.\u001B[39mformat(\u001B[38;5;124m\"\u001B[39m\u001B[38;5;124mdelta\u001B[39m\u001B[38;5;124m\"\u001B[39m) \\\n",
       "\u001B[1;32m     29\u001B[0m   \u001B[38;5;241m.\u001B[39moutputMode(\u001B[38;5;124m\"\u001B[39m\u001B[38;5;124mappend\u001B[39m\u001B[38;5;124m\"\u001B[39m) \\\n",
       "\u001B[1;32m     30\u001B[0m   \u001B[38;5;241m.\u001B[39moption(\u001B[38;5;124m\"\u001B[39m\u001B[38;5;124mcheckpointLocation\u001B[39m\u001B[38;5;124m\"\u001B[39m, \u001B[38;5;124m\"\u001B[39m\u001B[38;5;124m/tmp/kinesis/_checkpoints/\u001B[39m\u001B[38;5;124m\"\u001B[39m) \\\n",
       "\u001B[0;32m---> 31\u001B[0m   \u001B[38;5;241m.\u001B[39mtable(\u001B[38;5;124m\"\u001B[39m\u001B[38;5;124m12885f560a0b_user_table\u001B[39m\u001B[38;5;124m\"\u001B[39m)\n",
       "\n",
       "File \u001B[0;32m/databricks/spark/python/pyspark/sql/streaming/readwriter.py:1643\u001B[0m, in \u001B[0;36mDataStreamWriter.table\u001B[0;34m(self, tableName)\u001B[0m\n",
       "\u001B[1;32m   1641\u001B[0m \u001B[38;5;28;01mdef\u001B[39;00m \u001B[38;5;21mtable\u001B[39m(\u001B[38;5;28mself\u001B[39m, tableName: \u001B[38;5;28mstr\u001B[39m) \u001B[38;5;241m-\u001B[39m\u001B[38;5;241m>\u001B[39m StreamingQuery:\n",
       "\u001B[1;32m   1642\u001B[0m     \u001B[38;5;124;03m\"\"\"Alias for the toTable API\"\"\"\u001B[39;00m\n",
       "\u001B[0;32m-> 1643\u001B[0m     \u001B[38;5;28;01mreturn\u001B[39;00m \u001B[38;5;28;43mself\u001B[39;49m\u001B[38;5;241;43m.\u001B[39;49m\u001B[43mtoTable\u001B[49m\u001B[43m(\u001B[49m\u001B[43mtableName\u001B[49m\u001B[43m)\u001B[49m\n",
       "\n",
       "File \u001B[0;32m/databricks/spark/python/pyspark/sql/streaming/readwriter.py:1736\u001B[0m, in \u001B[0;36mDataStreamWriter.toTable\u001B[0;34m(self, tableName, format, outputMode, partitionBy, queryName, **options)\u001B[0m\n",
       "\u001B[1;32m   1734\u001B[0m \u001B[38;5;28;01mif\u001B[39;00m queryName \u001B[38;5;129;01mis\u001B[39;00m \u001B[38;5;129;01mnot\u001B[39;00m \u001B[38;5;28;01mNone\u001B[39;00m:\n",
       "\u001B[1;32m   1735\u001B[0m     \u001B[38;5;28mself\u001B[39m\u001B[38;5;241m.\u001B[39mqueryName(queryName)\n",
       "\u001B[0;32m-> 1736\u001B[0m \u001B[38;5;28;01mreturn\u001B[39;00m \u001B[38;5;28mself\u001B[39m\u001B[38;5;241m.\u001B[39m_sq(\u001B[38;5;28;43mself\u001B[39;49m\u001B[38;5;241;43m.\u001B[39;49m\u001B[43m_jwrite\u001B[49m\u001B[38;5;241;43m.\u001B[39;49m\u001B[43mtoTable\u001B[49m\u001B[43m(\u001B[49m\u001B[43mtableName\u001B[49m\u001B[43m)\u001B[49m)\n",
       "\n",
       "File \u001B[0;32m/databricks/spark/python/lib/py4j-0.10.9.7-src.zip/py4j/java_gateway.py:1355\u001B[0m, in \u001B[0;36mJavaMember.__call__\u001B[0;34m(self, *args)\u001B[0m\n",
       "\u001B[1;32m   1349\u001B[0m command \u001B[38;5;241m=\u001B[39m proto\u001B[38;5;241m.\u001B[39mCALL_COMMAND_NAME \u001B[38;5;241m+\u001B[39m\\\n",
       "\u001B[1;32m   1350\u001B[0m     \u001B[38;5;28mself\u001B[39m\u001B[38;5;241m.\u001B[39mcommand_header \u001B[38;5;241m+\u001B[39m\\\n",
       "\u001B[1;32m   1351\u001B[0m     args_command \u001B[38;5;241m+\u001B[39m\\\n",
       "\u001B[1;32m   1352\u001B[0m     proto\u001B[38;5;241m.\u001B[39mEND_COMMAND_PART\n",
       "\u001B[1;32m   1354\u001B[0m answer \u001B[38;5;241m=\u001B[39m \u001B[38;5;28mself\u001B[39m\u001B[38;5;241m.\u001B[39mgateway_client\u001B[38;5;241m.\u001B[39msend_command(command)\n",
       "\u001B[0;32m-> 1355\u001B[0m return_value \u001B[38;5;241m=\u001B[39m \u001B[43mget_return_value\u001B[49m\u001B[43m(\u001B[49m\n",
       "\u001B[1;32m   1356\u001B[0m \u001B[43m    \u001B[49m\u001B[43manswer\u001B[49m\u001B[43m,\u001B[49m\u001B[43m \u001B[49m\u001B[38;5;28;43mself\u001B[39;49m\u001B[38;5;241;43m.\u001B[39;49m\u001B[43mgateway_client\u001B[49m\u001B[43m,\u001B[49m\u001B[43m \u001B[49m\u001B[38;5;28;43mself\u001B[39;49m\u001B[38;5;241;43m.\u001B[39;49m\u001B[43mtarget_id\u001B[49m\u001B[43m,\u001B[49m\u001B[43m \u001B[49m\u001B[38;5;28;43mself\u001B[39;49m\u001B[38;5;241;43m.\u001B[39;49m\u001B[43mname\u001B[49m\u001B[43m)\u001B[49m\n",
       "\u001B[1;32m   1358\u001B[0m \u001B[38;5;28;01mfor\u001B[39;00m temp_arg \u001B[38;5;129;01min\u001B[39;00m temp_args:\n",
       "\u001B[1;32m   1359\u001B[0m     \u001B[38;5;28;01mif\u001B[39;00m \u001B[38;5;28mhasattr\u001B[39m(temp_arg, \u001B[38;5;124m\"\u001B[39m\u001B[38;5;124m_detach\u001B[39m\u001B[38;5;124m\"\u001B[39m):\n",
       "\n",
       "File \u001B[0;32m/databricks/spark/python/pyspark/errors/exceptions/captured.py:224\u001B[0m, in \u001B[0;36mcapture_sql_exception.<locals>.deco\u001B[0;34m(*a, **kw)\u001B[0m\n",
       "\u001B[1;32m    222\u001B[0m \u001B[38;5;28;01mdef\u001B[39;00m \u001B[38;5;21mdeco\u001B[39m(\u001B[38;5;241m*\u001B[39ma: Any, \u001B[38;5;241m*\u001B[39m\u001B[38;5;241m*\u001B[39mkw: Any) \u001B[38;5;241m-\u001B[39m\u001B[38;5;241m>\u001B[39m Any:\n",
       "\u001B[1;32m    223\u001B[0m     \u001B[38;5;28;01mtry\u001B[39;00m:\n",
       "\u001B[0;32m--> 224\u001B[0m         \u001B[38;5;28;01mreturn\u001B[39;00m \u001B[43mf\u001B[49m\u001B[43m(\u001B[49m\u001B[38;5;241;43m*\u001B[39;49m\u001B[43ma\u001B[49m\u001B[43m,\u001B[49m\u001B[43m \u001B[49m\u001B[38;5;241;43m*\u001B[39;49m\u001B[38;5;241;43m*\u001B[39;49m\u001B[43mkw\u001B[49m\u001B[43m)\u001B[49m\n",
       "\u001B[1;32m    225\u001B[0m     \u001B[38;5;28;01mexcept\u001B[39;00m Py4JJavaError \u001B[38;5;28;01mas\u001B[39;00m e:\n",
       "\u001B[1;32m    226\u001B[0m         converted \u001B[38;5;241m=\u001B[39m convert_exception(e\u001B[38;5;241m.\u001B[39mjava_exception)\n",
       "\n",
       "File \u001B[0;32m/databricks/spark/python/lib/py4j-0.10.9.7-src.zip/py4j/protocol.py:326\u001B[0m, in \u001B[0;36mget_return_value\u001B[0;34m(answer, gateway_client, target_id, name)\u001B[0m\n",
       "\u001B[1;32m    324\u001B[0m value \u001B[38;5;241m=\u001B[39m OUTPUT_CONVERTER[\u001B[38;5;28mtype\u001B[39m](answer[\u001B[38;5;241m2\u001B[39m:], gateway_client)\n",
       "\u001B[1;32m    325\u001B[0m \u001B[38;5;28;01mif\u001B[39;00m answer[\u001B[38;5;241m1\u001B[39m] \u001B[38;5;241m==\u001B[39m REFERENCE_TYPE:\n",
       "\u001B[0;32m--> 326\u001B[0m     \u001B[38;5;28;01mraise\u001B[39;00m Py4JJavaError(\n",
       "\u001B[1;32m    327\u001B[0m         \u001B[38;5;124m\"\u001B[39m\u001B[38;5;124mAn error occurred while calling \u001B[39m\u001B[38;5;132;01m{0}\u001B[39;00m\u001B[38;5;132;01m{1}\u001B[39;00m\u001B[38;5;132;01m{2}\u001B[39;00m\u001B[38;5;124m.\u001B[39m\u001B[38;5;130;01m\\n\u001B[39;00m\u001B[38;5;124m\"\u001B[39m\u001B[38;5;241m.\u001B[39m\n",
       "\u001B[1;32m    328\u001B[0m         \u001B[38;5;28mformat\u001B[39m(target_id, \u001B[38;5;124m\"\u001B[39m\u001B[38;5;124m.\u001B[39m\u001B[38;5;124m\"\u001B[39m, name), value)\n",
       "\u001B[1;32m    329\u001B[0m \u001B[38;5;28;01melse\u001B[39;00m:\n",
       "\u001B[1;32m    330\u001B[0m     \u001B[38;5;28;01mraise\u001B[39;00m Py4JError(\n",
       "\u001B[1;32m    331\u001B[0m         \u001B[38;5;124m\"\u001B[39m\u001B[38;5;124mAn error occurred while calling \u001B[39m\u001B[38;5;132;01m{0}\u001B[39;00m\u001B[38;5;132;01m{1}\u001B[39;00m\u001B[38;5;132;01m{2}\u001B[39;00m\u001B[38;5;124m. Trace:\u001B[39m\u001B[38;5;130;01m\\n\u001B[39;00m\u001B[38;5;132;01m{3}\u001B[39;00m\u001B[38;5;130;01m\\n\u001B[39;00m\u001B[38;5;124m\"\u001B[39m\u001B[38;5;241m.\u001B[39m\n",
       "\u001B[1;32m    332\u001B[0m         \u001B[38;5;28mformat\u001B[39m(target_id, \u001B[38;5;124m\"\u001B[39m\u001B[38;5;124m.\u001B[39m\u001B[38;5;124m\"\u001B[39m, name, value))\n",
       "\n",
       "\u001B[0;31mPy4JJavaError\u001B[0m: An error occurred while calling o16145.toTable.\n",
       ": java.util.concurrent.TimeoutException: Stream Execution thread for stream [id = 426bcb02-c90a-42f7-8666-7baacfbd143d, runId = 614c4c3b-33bc-4194-8cf9-92059a918580] failed to stop within 15000 milliseconds (specified by spark.sql.streaming.stopTimeout). See the cause on what was being executed in the streaming query thread.\n",
       "\tat org.apache.spark.sql.execution.streaming.StreamExecution.interruptAndAwaitExecutionThreadTermination(StreamExecution.scala:712)\n",
       "\tat org.apache.spark.sql.execution.streaming.MicroBatchExecution.stop(MicroBatchExecution.scala:409)\n",
       "\tat org.apache.spark.sql.streaming.StreamingQueryManager.$anonfun$startQuery$7(StreamingQueryManager.scala:486)\n",
       "\tat org.apache.spark.sql.streaming.StreamingQueryManager.$anonfun$startQuery$7$adapted(StreamingQueryManager.scala:484)\n",
       "\tat scala.Option.foreach(Option.scala:407)\n",
       "\tat org.apache.spark.sql.streaming.StreamingQueryManager.startQuery(StreamingQueryManager.scala:484)\n",
       "\tat org.apache.spark.sql.streaming.DataStreamWriter.startQuery(DataStreamWriter.scala:530)\n",
       "\tat org.apache.spark.sql.streaming.DataStreamWriter.startInternal(DataStreamWriter.scala:507)\n",
       "\tat org.apache.spark.sql.streaming.DataStreamWriter.writeToV1Table$1(DataStreamWriter.scala:386)\n",
       "\tat org.apache.spark.sql.streaming.DataStreamWriter.toTable(DataStreamWriter.scala:399)\n",
       "\tat sun.reflect.GeneratedMethodAccessor2823.invoke(Unknown Source)\n",
       "\tat sun.reflect.DelegatingMethodAccessorImpl.invoke(DelegatingMethodAccessorImpl.java:43)\n",
       "\tat java.lang.reflect.Method.invoke(Method.java:498)\n",
       "\tat py4j.reflection.MethodInvoker.invoke(MethodInvoker.java:244)\n",
       "\tat py4j.reflection.ReflectionEngine.invoke(ReflectionEngine.java:397)\n",
       "\tat py4j.Gateway.invoke(Gateway.java:306)\n",
       "\tat py4j.commands.AbstractCommand.invokeMethod(AbstractCommand.java:132)\n",
       "\tat py4j.commands.CallCommand.execute(CallCommand.java:79)\n",
       "\tat py4j.ClientServerConnection.waitForCommands(ClientServerConnection.java:199)\n",
       "\tat py4j.ClientServerConnection.run(ClientServerConnection.java:119)\n",
       "\tat java.lang.Thread.run(Thread.java:750)\n",
       "Caused by: org.apache.spark.SparkException: The stream thread was last executing:\n",
       "\tat java.lang.Object.wait(Native Method)\n",
       "\tat java.lang.Thread.join(Thread.java:1257)\n",
       "\tat java.lang.Thread.join(Thread.java:1331)\n",
       "\tat com.databricks.sql.kinesis.KinesisMicroBatchStream.stop(KinesisMicroBatchStream.scala:390)\n",
       "\tat org.apache.spark.sql.execution.streaming.StreamExecution.$anonfun$stopSources$1(StreamExecution.scala:627)\n",
       "\tat org.apache.spark.sql.execution.streaming.StreamExecution.$anonfun$stopSources$1$adapted(StreamExecution.scala:625)\n",
       "\tat org.apache.spark.sql.execution.streaming.StreamExecution$$Lambda$14214/1913354007.apply(Unknown Source)\n",
       "\tat scala.collection.immutable.Map$Map1.foreach(Map.scala:193)\n",
       "\tat org.apache.spark.sql.execution.streaming.StreamExecution.stopSources(StreamExecution.scala:625)\n",
       "\tat org.apache.spark.sql.execution.streaming.StreamExecution.$anonfun$runStream$5(StreamExecution.scala:521)\n",
       "\tat org.apache.spark.sql.execution.streaming.StreamExecution$$Lambda$14213/813574694.apply$mcV$sp(Unknown Source)\n",
       "\tat scala.runtime.java8.JFunction0$mcV$sp.apply(JFunction0$mcV$sp.java:23)\n",
       "\tat org.apache.spark.util.UninterruptibleThread.runUninterruptibly(UninterruptibleThread.scala:77)\n",
       "\tat org.apache.spark.sql.execution.streaming.StreamExecution.$anonfun$runStream$1(StreamExecution.scala:510)\n",
       "\tat org.apache.spark.sql.execution.streaming.StreamExecution$$Lambda$12815/1754065877.apply$mcV$sp(Unknown Source)\n",
       "\tat scala.runtime.java8.JFunction0$mcV$sp.apply(JFunction0$mcV$sp.java:23)\n",
       "\tat com.databricks.logging.UsageLogging.$anonfun$withAttributionContext$1(UsageLogging.scala:426)\n",
       "\tat com.databricks.logging.UsageLogging$$Lambda$465/132338135.apply(Unknown Source)\n",
       "\tat scala.util.DynamicVariable.withValue(DynamicVariable.scala:62)\n",
       "\tat com.databricks.logging.AttributionContext$.withValue(AttributionContext.scala:216)\n",
       "\tat com.databricks.logging.UsageLogging.withAttributionContext(UsageLogging.scala:424)\n",
       "\tat com.databricks.logging.UsageLogging.withAttributionContext$(UsageLogging.scala:418)\n",
       "\tat com.databricks.spark.util.PublicDBLogging.withAttributionContext(DatabricksSparkUsageLogger.scala:27)\n",
       "\tat com.databricks.logging.UsageLogging.withAttributionTags(UsageLogging.scala:472)\n",
       "\tat com.databricks.logging.UsageLogging.withAttributionTags$(UsageLogging.scala:455)\n",
       "\tat com.databricks.spark.util.PublicDBLogging.withAttributionTags(DatabricksSparkUsageLogger.scala:27)\n",
       "\tat com.databricks.spark.util.PublicDBLogging.withAttributionTags0(DatabricksSparkUsageLogger.scala:72)\n",
       "\tat com.databricks.spark.util.DatabricksSparkUsageLogger.withAttributionTags(DatabricksSparkUsageLogger.scala:172)\n",
       "\tat com.databricks.spark.util.UsageLogging.$anonfun$withAttributionTags$1(UsageLogger.scala:491)\n",
       "\tat com.databricks.spark.util.UsageLogging$$Lambda$12816/2142650431.apply(Unknown Source)\n",
       "\tat com.databricks.spark.util.UsageLogging$.withAttributionTags(UsageLogger.scala:603)\n",
       "\tat com.databricks.spark.util.UsageLogging$.withAttributionTags(UsageLogger.scala:612)\n",
       "\tat com.databricks.spark.util.UsageLogging.withAttributionTags(UsageLogger.scala:491)\n",
       "\tat com.databricks.spark.util.UsageLogging.withAttributionTags$(UsageLogger.scala:489)\n",
       "\tat org.apache.spark.sql.execution.streaming.StreamExecution.withAttributionTags(StreamExecution.scala:84)\n",
       "\tat org.apache.spark.sql.execution.streaming.StreamExecution.org$apache$spark$sql$execution$streaming$StreamExecution$$runStream(StreamExecution.scala:378)\n",
       "\tat org.apache.spark.sql.execution.streaming.StreamExecution$$anon$1.$anonfun$run$3(StreamExecution.scala:282)\n",
       "\tat org.apache.spark.sql.execution.streaming.StreamExecution$$anon$1$$Lambda$12814/764305408.apply$mcV$sp(Unknown Source)\n",
       "\tat scala.runtime.java8.JFunction0$mcV$sp.apply(JFunction0$mcV$sp.java:23)\n",
       "\tat org.apache.spark.JobArtifactSet$.withActiveJobArtifactState(JobArtifactSet.scala:97)\n",
       "\tat org.apache.spark.sql.execution.streaming.StreamExecution$$anon$1.$anonfun$run$2(StreamExecution.scala:282)\n",
       "\tat org.apache.spark.sql.execution.streaming.StreamExecution$$anon$1$$Lambda$12813/699523566.apply$mcV$sp(Unknown Source)\n",
       "\tat scala.runtime.java8.JFunction0$mcV$sp.apply(JFunction0$mcV$sp.java:23)\n",
       "\tat com.databricks.unity.EmptyHandle$.runWithAndClose(UCSHandle.scala:134)\n",
       "\tat org.apache.spark.sql.execution.streaming.StreamExecution$$anon$1.run(StreamExecution.scala:281)\n"
      ]
     },
     "metadata": {
      "application/vnd.databricks.v1+output": {
       "addedWidgets": {},
       "arguments": {},
       "datasetInfos": [],
       "jupyterProps": {
        "ename": "Py4JJavaError",
        "evalue": "An error occurred while calling o16145.toTable.\n: java.util.concurrent.TimeoutException: Stream Execution thread for stream [id = 426bcb02-c90a-42f7-8666-7baacfbd143d, runId = 614c4c3b-33bc-4194-8cf9-92059a918580] failed to stop within 15000 milliseconds (specified by spark.sql.streaming.stopTimeout). See the cause on what was being executed in the streaming query thread.\n\tat org.apache.spark.sql.execution.streaming.StreamExecution.interruptAndAwaitExecutionThreadTermination(StreamExecution.scala:712)\n\tat org.apache.spark.sql.execution.streaming.MicroBatchExecution.stop(MicroBatchExecution.scala:409)\n\tat org.apache.spark.sql.streaming.StreamingQueryManager.$anonfun$startQuery$7(StreamingQueryManager.scala:486)\n\tat org.apache.spark.sql.streaming.StreamingQueryManager.$anonfun$startQuery$7$adapted(StreamingQueryManager.scala:484)\n\tat scala.Option.foreach(Option.scala:407)\n\tat org.apache.spark.sql.streaming.StreamingQueryManager.startQuery(StreamingQueryManager.scala:484)\n\tat org.apache.spark.sql.streaming.DataStreamWriter.startQuery(DataStreamWriter.scala:530)\n\tat org.apache.spark.sql.streaming.DataStreamWriter.startInternal(DataStreamWriter.scala:507)\n\tat org.apache.spark.sql.streaming.DataStreamWriter.writeToV1Table$1(DataStreamWriter.scala:386)\n\tat org.apache.spark.sql.streaming.DataStreamWriter.toTable(DataStreamWriter.scala:399)\n\tat sun.reflect.GeneratedMethodAccessor2823.invoke(Unknown Source)\n\tat sun.reflect.DelegatingMethodAccessorImpl.invoke(DelegatingMethodAccessorImpl.java:43)\n\tat java.lang.reflect.Method.invoke(Method.java:498)\n\tat py4j.reflection.MethodInvoker.invoke(MethodInvoker.java:244)\n\tat py4j.reflection.ReflectionEngine.invoke(ReflectionEngine.java:397)\n\tat py4j.Gateway.invoke(Gateway.java:306)\n\tat py4j.commands.AbstractCommand.invokeMethod(AbstractCommand.java:132)\n\tat py4j.commands.CallCommand.execute(CallCommand.java:79)\n\tat py4j.ClientServerConnection.waitForCommands(ClientServerConnection.java:199)\n\tat py4j.ClientServerConnection.run(ClientServerConnection.java:119)\n\tat java.lang.Thread.run(Thread.java:750)\nCaused by: org.apache.spark.SparkException: The stream thread was last executing:\n\tat java.lang.Object.wait(Native Method)\n\tat java.lang.Thread.join(Thread.java:1257)\n\tat java.lang.Thread.join(Thread.java:1331)\n\tat com.databricks.sql.kinesis.KinesisMicroBatchStream.stop(KinesisMicroBatchStream.scala:390)\n\tat org.apache.spark.sql.execution.streaming.StreamExecution.$anonfun$stopSources$1(StreamExecution.scala:627)\n\tat org.apache.spark.sql.execution.streaming.StreamExecution.$anonfun$stopSources$1$adapted(StreamExecution.scala:625)\n\tat org.apache.spark.sql.execution.streaming.StreamExecution$$Lambda$14214/1913354007.apply(Unknown Source)\n\tat scala.collection.immutable.Map$Map1.foreach(Map.scala:193)\n\tat org.apache.spark.sql.execution.streaming.StreamExecution.stopSources(StreamExecution.scala:625)\n\tat org.apache.spark.sql.execution.streaming.StreamExecution.$anonfun$runStream$5(StreamExecution.scala:521)\n\tat org.apache.spark.sql.execution.streaming.StreamExecution$$Lambda$14213/813574694.apply$mcV$sp(Unknown Source)\n\tat scala.runtime.java8.JFunction0$mcV$sp.apply(JFunction0$mcV$sp.java:23)\n\tat org.apache.spark.util.UninterruptibleThread.runUninterruptibly(UninterruptibleThread.scala:77)\n\tat org.apache.spark.sql.execution.streaming.StreamExecution.$anonfun$runStream$1(StreamExecution.scala:510)\n\tat org.apache.spark.sql.execution.streaming.StreamExecution$$Lambda$12815/1754065877.apply$mcV$sp(Unknown Source)\n\tat scala.runtime.java8.JFunction0$mcV$sp.apply(JFunction0$mcV$sp.java:23)\n\tat com.databricks.logging.UsageLogging.$anonfun$withAttributionContext$1(UsageLogging.scala:426)\n\tat com.databricks.logging.UsageLogging$$Lambda$465/132338135.apply(Unknown Source)\n\tat scala.util.DynamicVariable.withValue(DynamicVariable.scala:62)\n\tat com.databricks.logging.AttributionContext$.withValue(AttributionContext.scala:216)\n\tat com.databricks.logging.UsageLogging.withAttributionContext(UsageLogging.scala:424)\n\tat com.databricks.logging.UsageLogging.withAttributionContext$(UsageLogging.scala:418)\n\tat com.databricks.spark.util.PublicDBLogging.withAttributionContext(DatabricksSparkUsageLogger.scala:27)\n\tat com.databricks.logging.UsageLogging.withAttributionTags(UsageLogging.scala:472)\n\tat com.databricks.logging.UsageLogging.withAttributionTags$(UsageLogging.scala:455)\n\tat com.databricks.spark.util.PublicDBLogging.withAttributionTags(DatabricksSparkUsageLogger.scala:27)\n\tat com.databricks.spark.util.PublicDBLogging.withAttributionTags0(DatabricksSparkUsageLogger.scala:72)\n\tat com.databricks.spark.util.DatabricksSparkUsageLogger.withAttributionTags(DatabricksSparkUsageLogger.scala:172)\n\tat com.databricks.spark.util.UsageLogging.$anonfun$withAttributionTags$1(UsageLogger.scala:491)\n\tat com.databricks.spark.util.UsageLogging$$Lambda$12816/2142650431.apply(Unknown Source)\n\tat com.databricks.spark.util.UsageLogging$.withAttributionTags(UsageLogger.scala:603)\n\tat com.databricks.spark.util.UsageLogging$.withAttributionTags(UsageLogger.scala:612)\n\tat com.databricks.spark.util.UsageLogging.withAttributionTags(UsageLogger.scala:491)\n\tat com.databricks.spark.util.UsageLogging.withAttributionTags$(UsageLogger.scala:489)\n\tat org.apache.spark.sql.execution.streaming.StreamExecution.withAttributionTags(StreamExecution.scala:84)\n\tat org.apache.spark.sql.execution.streaming.StreamExecution.org$apache$spark$sql$execution$streaming$StreamExecution$$runStream(StreamExecution.scala:378)\n\tat org.apache.spark.sql.execution.streaming.StreamExecution$$anon$1.$anonfun$run$3(StreamExecution.scala:282)\n\tat org.apache.spark.sql.execution.streaming.StreamExecution$$anon$1$$Lambda$12814/764305408.apply$mcV$sp(Unknown Source)\n\tat scala.runtime.java8.JFunction0$mcV$sp.apply(JFunction0$mcV$sp.java:23)\n\tat org.apache.spark.JobArtifactSet$.withActiveJobArtifactState(JobArtifactSet.scala:97)\n\tat org.apache.spark.sql.execution.streaming.StreamExecution$$anon$1.$anonfun$run$2(StreamExecution.scala:282)\n\tat org.apache.spark.sql.execution.streaming.StreamExecution$$anon$1$$Lambda$12813/699523566.apply$mcV$sp(Unknown Source)\n\tat scala.runtime.java8.JFunction0$mcV$sp.apply(JFunction0$mcV$sp.java:23)\n\tat com.databricks.unity.EmptyHandle$.runWithAndClose(UCSHandle.scala:134)\n\tat org.apache.spark.sql.execution.streaming.StreamExecution$$anon$1.run(StreamExecution.scala:281)\n"
       },
       "metadata": {
        "errorSummary": ""
       },
       "removedWidgets": [],
       "sqlProps": null,
       "stackFrames": [
        "\u001B[0;31m---------------------------------------------------------------------------\u001B[0m",
        "\u001B[0;31mPy4JJavaError\u001B[0m                             Traceback (most recent call last)",
        "File \u001B[0;32m<command-294045431771656>, line 31\u001B[0m\n\u001B[1;32m     25\u001B[0m cleaned_user_df \u001B[38;5;241m=\u001B[39m clean_user_df(user_df)\n\u001B[1;32m     26\u001B[0m display(cleaned_user_df)\n\u001B[1;32m     27\u001B[0m cleaned_user_df\u001B[38;5;241m.\u001B[39mwriteStream \\\n\u001B[1;32m     28\u001B[0m   \u001B[38;5;241m.\u001B[39mformat(\u001B[38;5;124m\"\u001B[39m\u001B[38;5;124mdelta\u001B[39m\u001B[38;5;124m\"\u001B[39m) \\\n\u001B[1;32m     29\u001B[0m   \u001B[38;5;241m.\u001B[39moutputMode(\u001B[38;5;124m\"\u001B[39m\u001B[38;5;124mappend\u001B[39m\u001B[38;5;124m\"\u001B[39m) \\\n\u001B[1;32m     30\u001B[0m   \u001B[38;5;241m.\u001B[39moption(\u001B[38;5;124m\"\u001B[39m\u001B[38;5;124mcheckpointLocation\u001B[39m\u001B[38;5;124m\"\u001B[39m, \u001B[38;5;124m\"\u001B[39m\u001B[38;5;124m/tmp/kinesis/_checkpoints/\u001B[39m\u001B[38;5;124m\"\u001B[39m) \\\n\u001B[0;32m---> 31\u001B[0m   \u001B[38;5;241m.\u001B[39mtable(\u001B[38;5;124m\"\u001B[39m\u001B[38;5;124m12885f560a0b_user_table\u001B[39m\u001B[38;5;124m\"\u001B[39m)\n",
        "File \u001B[0;32m/databricks/spark/python/pyspark/sql/streaming/readwriter.py:1643\u001B[0m, in \u001B[0;36mDataStreamWriter.table\u001B[0;34m(self, tableName)\u001B[0m\n\u001B[1;32m   1641\u001B[0m \u001B[38;5;28;01mdef\u001B[39;00m \u001B[38;5;21mtable\u001B[39m(\u001B[38;5;28mself\u001B[39m, tableName: \u001B[38;5;28mstr\u001B[39m) \u001B[38;5;241m-\u001B[39m\u001B[38;5;241m>\u001B[39m StreamingQuery:\n\u001B[1;32m   1642\u001B[0m     \u001B[38;5;124;03m\"\"\"Alias for the toTable API\"\"\"\u001B[39;00m\n\u001B[0;32m-> 1643\u001B[0m     \u001B[38;5;28;01mreturn\u001B[39;00m \u001B[38;5;28;43mself\u001B[39;49m\u001B[38;5;241;43m.\u001B[39;49m\u001B[43mtoTable\u001B[49m\u001B[43m(\u001B[49m\u001B[43mtableName\u001B[49m\u001B[43m)\u001B[49m\n",
        "File \u001B[0;32m/databricks/spark/python/pyspark/sql/streaming/readwriter.py:1736\u001B[0m, in \u001B[0;36mDataStreamWriter.toTable\u001B[0;34m(self, tableName, format, outputMode, partitionBy, queryName, **options)\u001B[0m\n\u001B[1;32m   1734\u001B[0m \u001B[38;5;28;01mif\u001B[39;00m queryName \u001B[38;5;129;01mis\u001B[39;00m \u001B[38;5;129;01mnot\u001B[39;00m \u001B[38;5;28;01mNone\u001B[39;00m:\n\u001B[1;32m   1735\u001B[0m     \u001B[38;5;28mself\u001B[39m\u001B[38;5;241m.\u001B[39mqueryName(queryName)\n\u001B[0;32m-> 1736\u001B[0m \u001B[38;5;28;01mreturn\u001B[39;00m \u001B[38;5;28mself\u001B[39m\u001B[38;5;241m.\u001B[39m_sq(\u001B[38;5;28;43mself\u001B[39;49m\u001B[38;5;241;43m.\u001B[39;49m\u001B[43m_jwrite\u001B[49m\u001B[38;5;241;43m.\u001B[39;49m\u001B[43mtoTable\u001B[49m\u001B[43m(\u001B[49m\u001B[43mtableName\u001B[49m\u001B[43m)\u001B[49m)\n",
        "File \u001B[0;32m/databricks/spark/python/lib/py4j-0.10.9.7-src.zip/py4j/java_gateway.py:1355\u001B[0m, in \u001B[0;36mJavaMember.__call__\u001B[0;34m(self, *args)\u001B[0m\n\u001B[1;32m   1349\u001B[0m command \u001B[38;5;241m=\u001B[39m proto\u001B[38;5;241m.\u001B[39mCALL_COMMAND_NAME \u001B[38;5;241m+\u001B[39m\\\n\u001B[1;32m   1350\u001B[0m     \u001B[38;5;28mself\u001B[39m\u001B[38;5;241m.\u001B[39mcommand_header \u001B[38;5;241m+\u001B[39m\\\n\u001B[1;32m   1351\u001B[0m     args_command \u001B[38;5;241m+\u001B[39m\\\n\u001B[1;32m   1352\u001B[0m     proto\u001B[38;5;241m.\u001B[39mEND_COMMAND_PART\n\u001B[1;32m   1354\u001B[0m answer \u001B[38;5;241m=\u001B[39m \u001B[38;5;28mself\u001B[39m\u001B[38;5;241m.\u001B[39mgateway_client\u001B[38;5;241m.\u001B[39msend_command(command)\n\u001B[0;32m-> 1355\u001B[0m return_value \u001B[38;5;241m=\u001B[39m \u001B[43mget_return_value\u001B[49m\u001B[43m(\u001B[49m\n\u001B[1;32m   1356\u001B[0m \u001B[43m    \u001B[49m\u001B[43manswer\u001B[49m\u001B[43m,\u001B[49m\u001B[43m \u001B[49m\u001B[38;5;28;43mself\u001B[39;49m\u001B[38;5;241;43m.\u001B[39;49m\u001B[43mgateway_client\u001B[49m\u001B[43m,\u001B[49m\u001B[43m \u001B[49m\u001B[38;5;28;43mself\u001B[39;49m\u001B[38;5;241;43m.\u001B[39;49m\u001B[43mtarget_id\u001B[49m\u001B[43m,\u001B[49m\u001B[43m \u001B[49m\u001B[38;5;28;43mself\u001B[39;49m\u001B[38;5;241;43m.\u001B[39;49m\u001B[43mname\u001B[49m\u001B[43m)\u001B[49m\n\u001B[1;32m   1358\u001B[0m \u001B[38;5;28;01mfor\u001B[39;00m temp_arg \u001B[38;5;129;01min\u001B[39;00m temp_args:\n\u001B[1;32m   1359\u001B[0m     \u001B[38;5;28;01mif\u001B[39;00m \u001B[38;5;28mhasattr\u001B[39m(temp_arg, \u001B[38;5;124m\"\u001B[39m\u001B[38;5;124m_detach\u001B[39m\u001B[38;5;124m\"\u001B[39m):\n",
        "File \u001B[0;32m/databricks/spark/python/pyspark/errors/exceptions/captured.py:224\u001B[0m, in \u001B[0;36mcapture_sql_exception.<locals>.deco\u001B[0;34m(*a, **kw)\u001B[0m\n\u001B[1;32m    222\u001B[0m \u001B[38;5;28;01mdef\u001B[39;00m \u001B[38;5;21mdeco\u001B[39m(\u001B[38;5;241m*\u001B[39ma: Any, \u001B[38;5;241m*\u001B[39m\u001B[38;5;241m*\u001B[39mkw: Any) \u001B[38;5;241m-\u001B[39m\u001B[38;5;241m>\u001B[39m Any:\n\u001B[1;32m    223\u001B[0m     \u001B[38;5;28;01mtry\u001B[39;00m:\n\u001B[0;32m--> 224\u001B[0m         \u001B[38;5;28;01mreturn\u001B[39;00m \u001B[43mf\u001B[49m\u001B[43m(\u001B[49m\u001B[38;5;241;43m*\u001B[39;49m\u001B[43ma\u001B[49m\u001B[43m,\u001B[49m\u001B[43m \u001B[49m\u001B[38;5;241;43m*\u001B[39;49m\u001B[38;5;241;43m*\u001B[39;49m\u001B[43mkw\u001B[49m\u001B[43m)\u001B[49m\n\u001B[1;32m    225\u001B[0m     \u001B[38;5;28;01mexcept\u001B[39;00m Py4JJavaError \u001B[38;5;28;01mas\u001B[39;00m e:\n\u001B[1;32m    226\u001B[0m         converted \u001B[38;5;241m=\u001B[39m convert_exception(e\u001B[38;5;241m.\u001B[39mjava_exception)\n",
        "File \u001B[0;32m/databricks/spark/python/lib/py4j-0.10.9.7-src.zip/py4j/protocol.py:326\u001B[0m, in \u001B[0;36mget_return_value\u001B[0;34m(answer, gateway_client, target_id, name)\u001B[0m\n\u001B[1;32m    324\u001B[0m value \u001B[38;5;241m=\u001B[39m OUTPUT_CONVERTER[\u001B[38;5;28mtype\u001B[39m](answer[\u001B[38;5;241m2\u001B[39m:], gateway_client)\n\u001B[1;32m    325\u001B[0m \u001B[38;5;28;01mif\u001B[39;00m answer[\u001B[38;5;241m1\u001B[39m] \u001B[38;5;241m==\u001B[39m REFERENCE_TYPE:\n\u001B[0;32m--> 326\u001B[0m     \u001B[38;5;28;01mraise\u001B[39;00m Py4JJavaError(\n\u001B[1;32m    327\u001B[0m         \u001B[38;5;124m\"\u001B[39m\u001B[38;5;124mAn error occurred while calling \u001B[39m\u001B[38;5;132;01m{0}\u001B[39;00m\u001B[38;5;132;01m{1}\u001B[39;00m\u001B[38;5;132;01m{2}\u001B[39;00m\u001B[38;5;124m.\u001B[39m\u001B[38;5;130;01m\\n\u001B[39;00m\u001B[38;5;124m\"\u001B[39m\u001B[38;5;241m.\u001B[39m\n\u001B[1;32m    328\u001B[0m         \u001B[38;5;28mformat\u001B[39m(target_id, \u001B[38;5;124m\"\u001B[39m\u001B[38;5;124m.\u001B[39m\u001B[38;5;124m\"\u001B[39m, name), value)\n\u001B[1;32m    329\u001B[0m \u001B[38;5;28;01melse\u001B[39;00m:\n\u001B[1;32m    330\u001B[0m     \u001B[38;5;28;01mraise\u001B[39;00m Py4JError(\n\u001B[1;32m    331\u001B[0m         \u001B[38;5;124m\"\u001B[39m\u001B[38;5;124mAn error occurred while calling \u001B[39m\u001B[38;5;132;01m{0}\u001B[39;00m\u001B[38;5;132;01m{1}\u001B[39;00m\u001B[38;5;132;01m{2}\u001B[39;00m\u001B[38;5;124m. Trace:\u001B[39m\u001B[38;5;130;01m\\n\u001B[39;00m\u001B[38;5;132;01m{3}\u001B[39;00m\u001B[38;5;130;01m\\n\u001B[39;00m\u001B[38;5;124m\"\u001B[39m\u001B[38;5;241m.\u001B[39m\n\u001B[1;32m    332\u001B[0m         \u001B[38;5;28mformat\u001B[39m(target_id, \u001B[38;5;124m\"\u001B[39m\u001B[38;5;124m.\u001B[39m\u001B[38;5;124m\"\u001B[39m, name, value))\n",
        "\u001B[0;31mPy4JJavaError\u001B[0m: An error occurred while calling o16145.toTable.\n: java.util.concurrent.TimeoutException: Stream Execution thread for stream [id = 426bcb02-c90a-42f7-8666-7baacfbd143d, runId = 614c4c3b-33bc-4194-8cf9-92059a918580] failed to stop within 15000 milliseconds (specified by spark.sql.streaming.stopTimeout). See the cause on what was being executed in the streaming query thread.\n\tat org.apache.spark.sql.execution.streaming.StreamExecution.interruptAndAwaitExecutionThreadTermination(StreamExecution.scala:712)\n\tat org.apache.spark.sql.execution.streaming.MicroBatchExecution.stop(MicroBatchExecution.scala:409)\n\tat org.apache.spark.sql.streaming.StreamingQueryManager.$anonfun$startQuery$7(StreamingQueryManager.scala:486)\n\tat org.apache.spark.sql.streaming.StreamingQueryManager.$anonfun$startQuery$7$adapted(StreamingQueryManager.scala:484)\n\tat scala.Option.foreach(Option.scala:407)\n\tat org.apache.spark.sql.streaming.StreamingQueryManager.startQuery(StreamingQueryManager.scala:484)\n\tat org.apache.spark.sql.streaming.DataStreamWriter.startQuery(DataStreamWriter.scala:530)\n\tat org.apache.spark.sql.streaming.DataStreamWriter.startInternal(DataStreamWriter.scala:507)\n\tat org.apache.spark.sql.streaming.DataStreamWriter.writeToV1Table$1(DataStreamWriter.scala:386)\n\tat org.apache.spark.sql.streaming.DataStreamWriter.toTable(DataStreamWriter.scala:399)\n\tat sun.reflect.GeneratedMethodAccessor2823.invoke(Unknown Source)\n\tat sun.reflect.DelegatingMethodAccessorImpl.invoke(DelegatingMethodAccessorImpl.java:43)\n\tat java.lang.reflect.Method.invoke(Method.java:498)\n\tat py4j.reflection.MethodInvoker.invoke(MethodInvoker.java:244)\n\tat py4j.reflection.ReflectionEngine.invoke(ReflectionEngine.java:397)\n\tat py4j.Gateway.invoke(Gateway.java:306)\n\tat py4j.commands.AbstractCommand.invokeMethod(AbstractCommand.java:132)\n\tat py4j.commands.CallCommand.execute(CallCommand.java:79)\n\tat py4j.ClientServerConnection.waitForCommands(ClientServerConnection.java:199)\n\tat py4j.ClientServerConnection.run(ClientServerConnection.java:119)\n\tat java.lang.Thread.run(Thread.java:750)\nCaused by: org.apache.spark.SparkException: The stream thread was last executing:\n\tat java.lang.Object.wait(Native Method)\n\tat java.lang.Thread.join(Thread.java:1257)\n\tat java.lang.Thread.join(Thread.java:1331)\n\tat com.databricks.sql.kinesis.KinesisMicroBatchStream.stop(KinesisMicroBatchStream.scala:390)\n\tat org.apache.spark.sql.execution.streaming.StreamExecution.$anonfun$stopSources$1(StreamExecution.scala:627)\n\tat org.apache.spark.sql.execution.streaming.StreamExecution.$anonfun$stopSources$1$adapted(StreamExecution.scala:625)\n\tat org.apache.spark.sql.execution.streaming.StreamExecution$$Lambda$14214/1913354007.apply(Unknown Source)\n\tat scala.collection.immutable.Map$Map1.foreach(Map.scala:193)\n\tat org.apache.spark.sql.execution.streaming.StreamExecution.stopSources(StreamExecution.scala:625)\n\tat org.apache.spark.sql.execution.streaming.StreamExecution.$anonfun$runStream$5(StreamExecution.scala:521)\n\tat org.apache.spark.sql.execution.streaming.StreamExecution$$Lambda$14213/813574694.apply$mcV$sp(Unknown Source)\n\tat scala.runtime.java8.JFunction0$mcV$sp.apply(JFunction0$mcV$sp.java:23)\n\tat org.apache.spark.util.UninterruptibleThread.runUninterruptibly(UninterruptibleThread.scala:77)\n\tat org.apache.spark.sql.execution.streaming.StreamExecution.$anonfun$runStream$1(StreamExecution.scala:510)\n\tat org.apache.spark.sql.execution.streaming.StreamExecution$$Lambda$12815/1754065877.apply$mcV$sp(Unknown Source)\n\tat scala.runtime.java8.JFunction0$mcV$sp.apply(JFunction0$mcV$sp.java:23)\n\tat com.databricks.logging.UsageLogging.$anonfun$withAttributionContext$1(UsageLogging.scala:426)\n\tat com.databricks.logging.UsageLogging$$Lambda$465/132338135.apply(Unknown Source)\n\tat scala.util.DynamicVariable.withValue(DynamicVariable.scala:62)\n\tat com.databricks.logging.AttributionContext$.withValue(AttributionContext.scala:216)\n\tat com.databricks.logging.UsageLogging.withAttributionContext(UsageLogging.scala:424)\n\tat com.databricks.logging.UsageLogging.withAttributionContext$(UsageLogging.scala:418)\n\tat com.databricks.spark.util.PublicDBLogging.withAttributionContext(DatabricksSparkUsageLogger.scala:27)\n\tat com.databricks.logging.UsageLogging.withAttributionTags(UsageLogging.scala:472)\n\tat com.databricks.logging.UsageLogging.withAttributionTags$(UsageLogging.scala:455)\n\tat com.databricks.spark.util.PublicDBLogging.withAttributionTags(DatabricksSparkUsageLogger.scala:27)\n\tat com.databricks.spark.util.PublicDBLogging.withAttributionTags0(DatabricksSparkUsageLogger.scala:72)\n\tat com.databricks.spark.util.DatabricksSparkUsageLogger.withAttributionTags(DatabricksSparkUsageLogger.scala:172)\n\tat com.databricks.spark.util.UsageLogging.$anonfun$withAttributionTags$1(UsageLogger.scala:491)\n\tat com.databricks.spark.util.UsageLogging$$Lambda$12816/2142650431.apply(Unknown Source)\n\tat com.databricks.spark.util.UsageLogging$.withAttributionTags(UsageLogger.scala:603)\n\tat com.databricks.spark.util.UsageLogging$.withAttributionTags(UsageLogger.scala:612)\n\tat com.databricks.spark.util.UsageLogging.withAttributionTags(UsageLogger.scala:491)\n\tat com.databricks.spark.util.UsageLogging.withAttributionTags$(UsageLogger.scala:489)\n\tat org.apache.spark.sql.execution.streaming.StreamExecution.withAttributionTags(StreamExecution.scala:84)\n\tat org.apache.spark.sql.execution.streaming.StreamExecution.org$apache$spark$sql$execution$streaming$StreamExecution$$runStream(StreamExecution.scala:378)\n\tat org.apache.spark.sql.execution.streaming.StreamExecution$$anon$1.$anonfun$run$3(StreamExecution.scala:282)\n\tat org.apache.spark.sql.execution.streaming.StreamExecution$$anon$1$$Lambda$12814/764305408.apply$mcV$sp(Unknown Source)\n\tat scala.runtime.java8.JFunction0$mcV$sp.apply(JFunction0$mcV$sp.java:23)\n\tat org.apache.spark.JobArtifactSet$.withActiveJobArtifactState(JobArtifactSet.scala:97)\n\tat org.apache.spark.sql.execution.streaming.StreamExecution$$anon$1.$anonfun$run$2(StreamExecution.scala:282)\n\tat org.apache.spark.sql.execution.streaming.StreamExecution$$anon$1$$Lambda$12813/699523566.apply$mcV$sp(Unknown Source)\n\tat scala.runtime.java8.JFunction0$mcV$sp.apply(JFunction0$mcV$sp.java:23)\n\tat com.databricks.unity.EmptyHandle$.runWithAndClose(UCSHandle.scala:134)\n\tat org.apache.spark.sql.execution.streaming.StreamExecution$$anon$1.run(StreamExecution.scala:281)\n"
       ],
       "type": "baseError"
      }
     },
     "output_type": "display_data"
    }
   ],
   "source": [
    "user_streaming_schema = StructType([\n",
    "  StructField(\"age\", LongType(), True),\n",
    "  StructField(\"date_joined\", StringType(), True),\n",
    "  StructField(\"first_name\", StringType(), True),\n",
    "  StructField(\"ind\", LongType(), True),\n",
    "  StructField(\"last_name\", StringType(), True)]  \n",
    "  )\n",
    "\n",
    "user_df = (\n",
    "    spark\n",
    "    .readStream\n",
    "    .format(\"kinesis\") \\\n",
    "    .option(\"streamName\", \"streaming-12885f560a0b-user\") \\\n",
    "    .option(\"region\", \"us-east-1\") \\\n",
    "    .option(\"initialPosition\", \"earliest\") \\\n",
    "    .option('awsAccessKey', ACCESS_KEY) \\\n",
    "    .option('awsSecretKey', SECRET_KEY) \\\n",
    "    .load()\n",
    "    )\n",
    "user_df = user_df.selectExpr(\"CAST(data as STRING)\")\n",
    "user_df = user_df.withColumn(\"data\", from_json(col(\"data\"), schema=user_streaming_schema))\n",
    "user_df = user_df.select(\"data.*\")\n",
    "\n",
    "cleaned_user_df = clean_user_df(user_df)\n",
    "\n",
    "cleaned_user_df.writeStream \\\n",
    "  .format(\"delta\") \\\n",
    "  .outputMode(\"append\") \\\n",
    "  .option(\"checkpointLocation\", \"/tmp/kinesis/_checkpoints/user\") \\\n",
    "  .table(\"12885f560a0b_user_table\")\n"
   ]
  },
  {
   "cell_type": "code",
   "execution_count": 0,
   "metadata": {
    "application/vnd.databricks.v1+cell": {
     "cellMetadata": {
      "byteLimit": 2048000,
      "rowLimit": 10000
     },
     "inputWidgets": {},
     "nuid": "b8562cea-0491-4485-be2e-56ff8042803b",
     "showTitle": false,
     "tableResultSettingsMap": {},
     "title": ""
    }
   },
   "outputs": [
    {
     "output_type": "execute_result",
     "data": {
      "text/plain": [
       "True"
      ]
     },
     "execution_count": 432,
     "metadata": {},
     "output_type": "execute_result"
    }
   ],
   "source": [
    "dbutils.fs.rm(f\"/tmp/kinesis/_checkpoints/pin\", True)\n",
    "dbutils.fs.rm(f\"/tmp/kinesis/_checkpoints/geo\", True)\n",
    "dbutils.fs.rm(f\"/tmp/kinesis/_checkpoints/user\", True)"
   ]
  },
  {
   "cell_type": "code",
   "execution_count": 0,
   "metadata": {
    "application/vnd.databricks.v1+cell": {
     "cellMetadata": {
      "byteLimit": 2048000,
      "rowLimit": 10000
     },
     "inputWidgets": {},
     "nuid": "44d33079-14d3-44d4-829b-a17089e4103f",
     "showTitle": false,
     "tableResultSettingsMap": {},
     "title": ""
    }
   },
   "outputs": [],
   "source": []
  }
 ],
 "metadata": {
  "application/vnd.databricks.v1+notebook": {
   "dashboards": [],
   "environmentMetadata": {
    "base_environment": "",
    "client": "1"
   },
   "language": "python",
   "notebookMetadata": {
    "mostRecentlyExecutedCommandWithImplicitDF": {
     "commandId": 1721684535882720,
     "dataframes": [
      "_sqldf"
     ]
    },
    "pythonIndentUnit": 2
   },
   "notebookName": "Pinterest Streaming Notebook",
   "widgets": {}
  },
  "language_info": {
   "name": "python"
  }
 },
 "nbformat": 4,
 "nbformat_minor": 0
}
